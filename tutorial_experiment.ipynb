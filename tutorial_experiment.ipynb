{
  "cells": [
    {
      "cell_type": "markdown",
      "metadata": {
        "colab_type": "text",
        "id": "view-in-github"
      },
      "source": [
        "<a href=\"https://colab.research.google.com/github/kircherlab/MPRAsnakeflow_tutorial/blob/development/tutorial_association.ipynb\" target=\"_parent\"><img src=\"https://colab.research.google.com/assets/colab-badge.svg\" alt=\"Open In Colab\"/></a>"
      ]
    },
    {
      "cell_type": "code",
      "execution_count": 19,
      "metadata": {
        "colab": {
          "base_uri": "https://localhost:8080/"
        },
        "id": "NsBG7lOCPnnE",
        "outputId": "6da1caeb-905a-42f8-843a-54409a379c0f"
      },
      "outputs": [],
      "source": [
        "import matplotlib.pyplot as plt\n",
        "import os\n",
        "import cv2"
      ]
    },
    {
      "cell_type": "markdown",
      "metadata": {
        "id": "BOSJecyQPnnC"
      },
      "source": [
        "# MPRAsnakeflow experiment tutorial\n",
        "\n",
        "First we will cover the config file and afterwards we will look at interesting results like the correlation of the DNA and RNA counts among the replicates. This is useful in practice to check if the data preparation went well, because if the resulting data is not correlating between replicates, problems during the experiment will introduce a bias in the results of our analysis that we would like to know about."
      ]
    },
    {
      "cell_type": "markdown",
      "metadata": {
        "id": "uAAYJQqv9zIk"
      },
      "source": [
        "## Pre-requirements"
      ]
    },
    {
      "cell_type": "markdown",
      "metadata": {
        "id": "dOsEkOFu-MbM"
      },
      "source": [
        "### Docker/uDocker/apptainer\n",
        "\n",
        "When running locally you need to install `docker` or `apptainer`. For running it remotly on google colab `udocker` in colab from github.com/drengskapur/docker-in-colab works nicely.\n",
        "\n",
        "We try to atomatically find out what you need:"
      ]
    },
    {
      "cell_type": "code",
      "execution_count": 20,
      "metadata": {},
      "outputs": [
        {
          "name": "stdout",
          "output_type": "stream",
          "text": [
            "Apptainer is installed! We will use Apptainer to run MPRAsnakeflow\n"
          ]
        }
      ],
      "source": [
        "tutorial_container = \"visze/mprasnakeflow_tutorial:0.1.0\"\n",
        "docker= False\n",
        "apptainer = False\n",
        "\n",
        "docker = !docker --help &>/dev/null; if [ $? -eq 0 ]; then echo 1; else echo 0; fi\n",
        "docker = bool(int(docker[0]))\n",
        "apptainer = !apptainer --help &>/dev/null; if [ $? -eq 0 ]; then echo 1; else echo 0; fi\n",
        "apptainer = bool(int(apptainer[0]))\n",
        "\n",
        "if docker:\n",
        "    print(\"Docker is installed! We will use Docker to run MPRAsnakeflow\")\n",
        "elif apptainer:\n",
        "    print(\"Apptainer is installed! We will use Apptainer to run MPRAsnakeflow\")\n",
        "else:\n",
        "    print(\"Neither Docker nor Apptainer is installed. We assume you run the tutorial on colab and we will install uDocker for colab\")"
      ]
    },
    {
      "cell_type": "markdown",
      "metadata": {},
      "source": [
        "When neither Docker nor Apptainer is installed we will install udocjer for colab now."
      ]
    },
    {
      "cell_type": "code",
      "execution_count": 21,
      "metadata": {
        "colab": {
          "base_uri": "https://localhost:8080/"
        },
        "id": "NSTDSHTN4JJk",
        "outputId": "5c2ad4b0-cc4b-4ced-9bfe-a75960cc36bd"
      },
      "outputs": [],
      "source": [
        "def udocker_init():\n",
        "    import os\n",
        "    if not os.path.exists(\"/home/user\"):\n",
        "        !pip install udocker > /dev/null\n",
        "        !udocker --allow-root install > /dev/null\n",
        "        !useradd -m user > /dev/null\n",
        "    print(f'Docker-in-Colab 1.1.0\\n')\n",
        "    print(f'Usage:     udocker(\"--help\")')\n",
        "    print(f'Examples:  https://github.com/indigo-dc/udocker?tab=readme-ov-file#examples')\n",
        "\n",
        "    def execute(command: str):\n",
        "        user_prompt = \"\\033[1;32muser@pc\\033[0m\"\n",
        "        print(f\"{user_prompt}$ udocker {command}\")\n",
        "        !su - user -c \"udocker $command\"\n",
        "\n",
        "    return execute\n",
        "\n",
        "if not docker and not apptainer:\n",
        "    udocker = udocker_init()"
      ]
    },
    {
      "cell_type": "markdown",
      "metadata": {},
      "source": [
        "We define a general function to run our MPRAsnakeflow tutorial container that will check if docker, apptainer or uDocker has to be run. It will also bind your data directory `${{PWD}}/MPRAsnakeflow_tutorial` (will be dowloaded later) to `/data/run` within the container and defines this as working directory."
      ]
    },
    {
      "cell_type": "code",
      "execution_count": 22,
      "metadata": {},
      "outputs": [],
      "source": [
        "def runContainer(command):\n",
        "    user_prompt = \"\\033[1;32muser@pc\\033[0m\"\n",
        "    if docker:\n",
        "        print(f\"{user_prompt}$ docker run -v=${{PWD}}/MPRAsnakeflow_tutorial:/data/run --workdir /data/run {tutorial_container} {command}\")\n",
        "        !docker run -v=${{PWD}}/MPRAsnakeflow_tutorial:/data/run --workdir /data/run {tutorial_container} {command}\n",
        "    elif apptainer:\n",
        "        print(f\"apptainer run -B=${{PWD}}/MPRAsnakeflow_tutorial:/data/run --cwd /data/run mprasnakeflow_tutorial.sif {command}\")\n",
        "        !apptainer run -B=${{PWD}}/MPRAsnakeflow_tutorial:/data/run --cwd /data/run mprasnakeflow_tutorial.sif {command}\n",
        "    else:\n",
        "        udocker(f\"run -v=${{PWD}}/MPRAsnakeflow_tutorial:/data/run --workdir /data/run mprasnakeflow_tutorial {command}\")"
      ]
    },
    {
      "cell_type": "markdown",
      "metadata": {
        "id": "Mb0rhjfo8dbA"
      },
      "source": [
        "### Test data\n",
        "\n",
        "The data used in this tutorial is present in the github repository. We will dowload it using git so that it is also present within a colab environment."
      ]
    },
    {
      "cell_type": "code",
      "execution_count": 23,
      "metadata": {
        "id": "BGLsBxpyst9V"
      },
      "outputs": [
        {
          "name": "stderr",
          "output_type": "stream",
          "text": [
            "Cloning into 'MPRAsnakeflow_tutorial'...\n",
            "Switched to a new branch 'development'\n"
          ]
        },
        {
          "name": "stdout",
          "output_type": "stream",
          "text": [
            "Branch 'development' set up to track remote branch 'development' from 'origin'.\n"
          ]
        }
      ],
      "source": [
        "%%bash\n",
        "git clone https://github.com/kircherlab/MPRAsnakeflow_tutorial.git\n",
        "cd MPRAsnakeflow_tutorial\n",
        "git checkout development"
      ]
    },
    {
      "cell_type": "markdown",
      "metadata": {
        "id": "4WYuqwGr-fEp"
      },
      "source": [
        "### snakemake\n",
        "\n",
        "MPRAsnakeflow and its software dependencies is packed in the official snakemake v8.16.0 container and you can find it on dockerhub wih thetag [`visze/mprasnakeflow_tutorial:0.1.0`](https://hub.docker.com/layers/visze/mprasnakeflow_tutorial/0.1.0/images/sha256-f4f75aae0ceba517d363307f176a83b1414c74086d99cbd5e90196b7e2ace179?context=explore)."
      ]
    },
    {
      "cell_type": "code",
      "execution_count": 24,
      "metadata": {
        "colab": {
          "base_uri": "https://localhost:8080/"
        },
        "id": "ZZv9f_eu4bB9",
        "outputId": "67fa0e9c-386e-454a-c88d-11ce125ee5c3"
      },
      "outputs": [
        {
          "name": "stdout",
          "output_type": "stream",
          "text": [
            "apptainer pull mprasnakeflow_tutorial.sif docker://visze/mprasnakeflow_tutorial:0.1.0\n",
            "\u001b[31mFATAL:  \u001b[0m Image file already exists: \"mprasnakeflow_tutorial.sif\" - will not overwrite\n"
          ]
        }
      ],
      "source": [
        "if docker:\n",
        "    print(f\"docker pull {tutorial_container}\")\n",
        "    !docker pull \"{tutorial_container}\"\n",
        "    print(f\"docker create --name=mprasnakeflow_tutorial {tutorial_container}\")\n",
        "    !docker create --name=mprasnakeflow_tutorial \"{tutorial_container}\"\n",
        "elif apptainer:\n",
        "    print(f\"apptainer pull mprasnakeflow_tutorial.sif docker://{tutorial_container}\")\n",
        "    !apptainer pull mprasnakeflow_tutorial.sif docker://{tutorial_container}\n",
        "else:\n",
        "    udocker(f\"pull {tutorial_container}\")\n",
        "    udocker(f\"create --name=mprasnakeflow_tutorial {tutorial_container}\")"
      ]
    },
    {
      "cell_type": "markdown",
      "metadata": {
        "id": "zYhKnwlV-orz"
      },
      "source": [
        "Try to run `snakemake --version` in docker:"
      ]
    },
    {
      "cell_type": "code",
      "execution_count": 25,
      "metadata": {
        "colab": {
          "base_uri": "https://localhost:8080/"
        },
        "collapsed": true,
        "id": "jQi5e3634sDP",
        "outputId": "844eb31f-20d4-463a-ef20-6c6c3b013e7a"
      },
      "outputs": [
        {
          "name": "stdout",
          "output_type": "stream",
          "text": [
            "apptainer run -B=${PWD}/MPRAsnakeflow_tutorial:/data/run --cwd /data/run mprasnakeflow_tutorial.sif snakemake --version\n",
            "8.16.0+0.g838b2fce.dirty\n"
          ]
        }
      ],
      "source": [
        "runContainer(\"snakemake --version\")"
      ]
    },
    {
      "cell_type": "markdown",
      "metadata": {},
      "source": [
        "## Experiment Workflow\n",
        "\n",
        "For the experiment step, where the counts per oligo are calculated, we need all the files in the `example_data/counts` folder, as well as the config file and the barcode assignment file, which is the output of the assignment step (but also stored under `example_data/counts`).\n",
        "\n",
        "We investigated the assignment file in the association tutorial. This table is now used to count the number of observed barcodes for each target sequence."
      ]
    },
    {
      "cell_type": "markdown",
      "metadata": {},
      "source": [
        "We can take a look at the input files, to understand what we later have to gve the MPRAsnbakeflow pipeline via a config file. Each count experiment, in our case, is described using three files (the paths of which are in the `experiment.csv` file): forward reads, reverse reads, and UMIs. Note that the UMIs are optional, and serve to deduplicate barcodes with overdispersed counts due to preferential amplification related to GC content or library preparation steps. From one of the UMI read files, we can see that indeed our UMI length is 16:"
      ]
    },
    {
      "cell_type": "code",
      "execution_count": 26,
      "metadata": {},
      "outputs": [
        {
          "name": "stdout",
          "output_type": "stream",
          "text": [
            "\n",
            "Average length of a UMI:\n",
            "16\n"
          ]
        }
      ],
      "source": [
        "print(\"\\nAverage length of a UMI:\")\n",
        "!zcat \"MPRAsnakeflow_tutorial/example_data/counts/dna-1_S1_R2_001.fastq.gz\" | awk 'NR % 4 == 2 {{sum += length($$0)}} END {{print sum*4/NR}}'"
      ]
    },
    {
      "cell_type": "markdown",
      "metadata": {},
      "source": [
        "We can lso check the length of the barcode, which should be 15:"
      ]
    },
    {
      "cell_type": "code",
      "execution_count": 27,
      "metadata": {},
      "outputs": [
        {
          "name": "stdout",
          "output_type": "stream",
          "text": [
            "\n",
            "Average length of a barcode:\n",
            "15\n"
          ]
        }
      ],
      "source": [
        "print(\"\\nAverage length of a barcode:\")\n",
        "!zcat \"MPRAsnakeflow_tutorial/example_data/counts/dna-1_S1_R1_001.fastq.gz\" | awk 'NR % 4 == 2 {{sum += length($$0)}} END {{print sum*4/NR}}'"
      ]
    },
    {
      "cell_type": "markdown",
      "metadata": {
        "id": "0KqdtmOb_gHg"
      },
      "source": [
        "## Run MPRAsnakeflow\n",
        "\n",
        "\n"
      ]
    },
    {
      "cell_type": "markdown",
      "metadata": {},
      "source": [
        "### Snakemake\n",
        "\n",
        "Before we come to more MPRAsnakeflow pipeline specific things we quickly want to introduce the snakemake workflow management system. A workflow management system, also like nextflow or cwl, is a tool to create reproducible and scalable data analyses. Snakemake workflows are described via a human readable, Python based language. They can be seamlessly scaled to server, cluster, grid and cloud environments, without the need to modify the workflow definition. Finally, Snakemake workflows can entail a description of required software, which will be automatically deployed to any execution environment.\n",
        "\n",
        "Each step in snakemake is defined as a `rule`. Which has a `input`, `output` and a mostly `shell` command. The `input` and `output` are files that are used as input and output for the rule. The `shell` command is the command that is executed to create the output file from the input file. There are other commands like `conda`, `params`, `log`, `threads`, `resources` that can be used to define the rule.\n",
        "\n",
        "E.g. here is an example rule `assigned_counts_combine_replicates` of MPRAsnakeflow, which combines counts of replicates into one final count. In short: merging counts of replicates. The ruzle takes as ainput a tab separated file with all counts in it per condition. And the python script that will merge it `combine_replicates.py`. Path names in curly brackets like  `{project}` or `{assignment}` is a wildcard and the name will be the project, assignment name etc that is configured in the config files.  Finally the `shell` command takes the python script, the inputs and runs it creating the output and logs.\n",
        "\n",
        "```python\n",
        "rrule assigned_counts_combine_replicates:\n",
        "    \"\"\"\n",
        "    Combine replicates of master table by summing counts up and using also the average.\n",
        "    \"\"\"\n",
        "    conda:\n",
        "        \"../envs/python3.yaml\"\n",
        "    input:\n",
        "        master_table=\"results/experiments/{project}/assigned_counts/{assignment}/{config}/{condition}_{allreps_or_threshold}_merged.tsv.gz\",\n",
        "        script=getScript(\"count/combine_replicates.py\"),\n",
        "    output:\n",
        "        \"results/experiments/{project}/assigned_counts/{assignment}/{config}/{condition}_{allreps_or_threshold}_merged.combined.tsv.gz\",\n",
        "    params:\n",
        "        label_file=lambda wc: (\n",
        "            \"--labels %s\" % config[\"experiments\"][wc.project][\"label_file\"]\n",
        "            if \"label_file\" in config[\"experiments\"][wc.project]\n",
        "            else \"\"\n",
        "        ),\n",
        "    log:\n",
        "        temp(\n",
        "            \"results/logs/assigned_counts/combine_replicates.{project}.{condition}.{config}.{assignment}.{allreps_or_threshold}.log\"\n",
        "        ),\n",
        "    shell:\n",
        "        \"\"\"\n",
        "        python {input.script} \\\n",
        "        --input {input.master_table} \\\n",
        "        {params.label_file} \\\n",
        "        --output {output}  &> {log}\n",
        "        \"\"\"\n",
        "```\n"
      ]
    },
    {
      "cell_type": "markdown",
      "metadata": {},
      "source": [
        "When running snakemake you need to specify where your worflow is, basically the main `Snakefile` of it. By default, Snakemake will search for ‘Snakefile’, ‘snakefile’, ‘workflow/Snakefile’, ‘workflow/snakefile’ beneath the current working directory, in this order. Then you do not have to use this command. But practically your workflow, here MPRAsnakeflow, might live somewhere else and you want to run the workflow in a different directory where you want to produce results. Then you need to specify the `--snakefile` parameter to the MPRAsnakeflow file in `workflow/Snakefile`. Otherwise you ahve to check/copy the workflow in every \"run\" rirectory which is not practically. Usually you start snakemake in the directory where you want to produce results."
      ]
    },
    {
      "cell_type": "markdown",
      "metadata": {},
      "source": [
        "### The config file\n",
        "\n",
        "The heart of your workflow run is the config file. You can specify it via `--configfile`. It is in `yaml` or `json` format. It contains all the parameters and input files that are used in the workflow.\n",
        "\n",
        "The config file has many parameters. But most of them have a default well, based on best practice and you don't have to specify them. But you can overwrite them if you want. Config files are first validated using json schema. If your config file is not correct MPRAsnakeflow will tell you what is missing or wrong and stop. Naming, parameters etc. might change from MPRAsnakeflow version and you might have to update your config file if you run a new version of MPRAsnakeflow. An extensive documentation of the config file can be found in the [MPRAsnakeflow documentation](https://mprasnakeflow.readthedocs.io/en/development/config.html).\n",
        "\n",
        "Here is the config file that we will use for running the experiment tutorial.\n",
        "\n"
      ]
    },
    {
      "cell_type": "markdown",
      "metadata": {},
      "source": [
        "```yaml\n",
        "---\n",
        "experiments:\n",
        "  experimentMPRAworkshop:\n",
        "    bc_length: 15\n",
        "    umi_length: 16\n",
        "    data_folder: example_data/counts\n",
        "    experiment_file: example_data/experiment.csv\n",
        "    assignments:\n",
        "      MPRAworkshop:\n",
        "        type: file\n",
        "        assignment_file: example_data/assignment/assignment_barcodes.default.tsv.gz\n",
        "    label_file: example_data/design/workshop_labels.tsv\n",
        "    configs:\n",
        "      default: {}\n",
        "      tutorialConfig:\n",
        "        filter:\n",
        "          bc_threshold: 5\n",
        "          DNA:\n",
        "            min_counts: 1\n",
        "          RNA:\n",
        "            min_counts: 1\n",
        "```"
      ]
    },
    {
      "cell_type": "markdown",
      "metadata": {},
      "source": [
        "The following block shows the part of the config file that concerns the experiment part. Since assignment and experiment part can be run independently the `bc_length` needs to be set again.\n",
        "\n",
        "The `experiment_file` holds the path to the file of the experiment table (i.e. condition, replicate and name of read files given)."
      ]
    },
    {
      "cell_type": "code",
      "execution_count": 28,
      "metadata": {},
      "outputs": [
        {
          "name": "stdout",
          "output_type": "stream",
          "text": [
            "sed: can't read {data_dir}/workshop_config.yaml: No such file or directory\n"
          ]
        }
      ],
      "source": [
        "!sed -n '/experiments:/,$p' \"{data_dir}/workshop_config.yaml\""
      ]
    },
    {
      "cell_type": "markdown",
      "metadata": {},
      "source": [
        "Because we run the experiment workflow we start with `experiments`. Then a list with possible names of experiments will follow. Here we have just one: `experimentMPRAworkshop`. The whole config file has the minimal information, which is needed by MPRAsnakeflow (except for `configs`, see later). This is the barcode length `bc_length` and the UMI length `umi_length` which we calculated previously. Then a link to folder `data_folder` where all fastqs of the experiment are. What conditions, replicates and belonging fastq files we have is stored in the the `experiment_file`.\n"
      ]
    },
    {
      "cell_type": "markdown",
      "metadata": {},
      "source": [
        "As a sanity check and to understand where these values come from, we will take a look at if the information matches our input files. We used 15 bp adapters for this MPRA experiment, which were added at both ends of each designed oligo. The ``alignment_start`` configuration refers to these adapters as our actual target sequences only starts after the 15 bp of adapter sequence."
      ]
    },
    {
      "cell_type": "code",
      "execution_count": 29,
      "metadata": {},
      "outputs": [
        {
          "name": "stdout",
          "output_type": "stream",
          "text": [
            "\n",
            "Average length of a barcode:\n",
            "15\n",
            "\n",
            "Average length of a target sequence (oligo length - 2 x adapter):\n",
            "200\n"
          ]
        }
      ],
      "source": [
        "adapter_length=15\n",
        "\n",
        "print(\"\\nAverage length of a barcode:\")\n",
        "!zcat \"MPRAsnakeflow_tutorial/example_data/assignment/assoc_bc.fastq.gz\" | awk 'NR % 4 == 2 {{sum += length($$0)}} END {{print sum*4/NR}}'\n",
        "\n",
        "print(\"\\nAverage length of a target sequence (oligo length - 2 x adapter):\")\n",
        "seq_length_with_bc = !cat \"MPRAsnakeflow_tutorial/example_data/design/workshop_design.fa\" | awk 'NR % 4 == 2 {{sum +=length($$0)}} END {{print sum*4/NR}}'\n",
        "seq_length_with_bc = int(seq_length_with_bc[0])\n",
        "seq_length = seq_length_with_bc - 2*adapter_length\n",
        "print(seq_length)"
      ]
    },
    {
      "cell_type": "markdown",
      "metadata": {},
      "source": [
        "### MPRAsnakeflow tutorial profile\n",
        "\n",
        "Snakemake can make use of profiles to pre-configure command-line-interfaces as well as ressources and number of threads as default or per rule. A profile has to be stored (on Linux) in the folder `$HOME/.config/snakemake` or `/etc/xdg/snakemake`. It can be activated by using the `--profile` option in the snakemake command. In addition you can set an environment variable `SNAKEMAKE_PROFILE`, e.g. by specifying export `SNAKEMAKE_PROFILE=myprofile` in your `~/.bashrc` to use the profile by default. In addition a specific workflow profile can be set using `--workflow-profile path_to_your_profile`. E.g. we pre-defined a [workflow profile for MPRAsnakeflow](https://github.com/kircherlab/MPRAsnakeflow/blob/development/profiles/default/config.yaml) adding ressources to each rule with some additional commands for the [snakemake excecutor plugin slum](https://snakemake.github.io/snakemake-plugin-catalog/plugins/executor/slurm.html).\n",
        "\n",
        "For more information on snakemake using profiles please have a look [snakemke profile documentation](https://snakemake.readthedocs.io/en/stable/executing/cli.html#profiles)\n",
        "\n",
        "For the MPRAsnakeflow tutorial we will use the profile `mprasnakeflow` which is stored in the folder `/etc/xdg/snakemake` within the container and the `SNAKEMAKE_PROFILE=mprasnakeflow` is already set. Have a look at the variable and the profile:"
      ]
    },
    {
      "cell_type": "code",
      "execution_count": 30,
      "metadata": {},
      "outputs": [
        {
          "name": "stdout",
          "output_type": "stream",
          "text": [
            "apptainer run -B=${PWD}/MPRAsnakeflow_tutorial:/data/run --cwd /data/run mprasnakeflow_tutorial.sif cat /etc/xdg/snakemake/mprasnakeflow/config.yaml\n",
            "---\n",
            "snakefile: /data/MPRAsnakeflow/workflow/Snakefile\n",
            "software-deployment-method: conda\n",
            "conda-prefix: /data/conda_envs\n",
            "cores: 1\n",
            "set-threads:\n",
            "  assignment_mapping_bwa: 10\n"
          ]
        }
      ],
      "source": [
        "runContainer(\"cat /etc/xdg/snakemake/mprasnakeflow/config.yaml\")"
      ]
    },
    {
      "cell_type": "markdown",
      "metadata": {},
      "source": [
        "You see that we already defined where the MPRASsnkeflow `Snakefile` is and `--snakefile` is not necessary. Also all software packages are installed alrady in the container using conda and we enable this software deployment method and tell snakemake where the conda environments live (the default will be your exceuction folder under `.snamemake/conda`). Also the `--cores/-c` option is not necessary anymore and snakemake just needs your configuration file of the workflow using the command `--configfile`"
      ]
    },
    {
      "cell_type": "markdown",
      "metadata": {},
      "source": [
        "### Run the workflow\n",
        "\n",
        "First we run a dry-run to see what will be executed using `-n` and `--quiet rules` to see only the overview of excecuted rules and not each rule command individually. The most important part is setting the config file via `-configfile assignment_config.yaml`"
      ]
    },
    {
      "cell_type": "code",
      "execution_count": 31,
      "metadata": {
        "colab": {
          "base_uri": "https://localhost:8080/"
        },
        "id": "TXlOomWL5Am2",
        "outputId": "5c32a998-eaef-426e-ccc8-8102d2487950"
      },
      "outputs": [
        {
          "name": "stdout",
          "output_type": "stream",
          "text": [
            "apptainer run -B=${PWD}/MPRAsnakeflow_tutorial:/data/run --cwd /data/run mprasnakeflow_tutorial.sif snakemake --configfile config_experiment.yaml -n --quiet rules\n",
            "Using profile mprasnakeflow for setting default command line arguments.\n",
            "\u001b[33mBuilding DAG of jobs...\u001b[0m\n",
            "\u001b[33mJob stats:\n",
            "job                                                             count\n",
            "------------------------------------------------------------  -------\n",
            "all                                                                 1\n",
            "assigned_counts_assignBarcodes                                     12\n",
            "assigned_counts_combine_replicates                                  4\n",
            "assigned_counts_combine_replicates_barcode_output                   2\n",
            "assigned_counts_dna_rna_merge                                       6\n",
            "assigned_counts_filterAssignment                                    1\n",
            "assigned_counts_make_master_tables                                  2\n",
            "counts_dna_rna_merge_counts                                        12\n",
            "counts_filter_counts                                                6\n",
            "counts_final_counts                                                 6\n",
            "counts_umi_create_BAM                                               6\n",
            "counts_umi_raw_counts                                               6\n",
            "statistic_assigned_counts_combine_BC_assignment_stats               2\n",
            "statistic_assigned_counts_combine_BC_assignment_stats_helper        2\n",
            "statistic_assigned_counts_combine_stats_dna_rna_merge               2\n",
            "statistic_assigned_counts_combine_stats_dna_rna_merge_all           2\n",
            "statistic_bc_overlap_combine_assigned_counts                        2\n",
            "statistic_bc_overlap_combine_counts                                 2\n",
            "statistic_bc_overlap_run                                            8\n",
            "statistic_correlation_bc_counts                                     4\n",
            "statistic_correlation_bc_counts_hist                                4\n",
            "statistic_correlation_calculate                                     2\n",
            "statistic_correlation_combine_bc_assigned                           2\n",
            "statistic_correlation_combine_bc_raw                                2\n",
            "statistic_correlation_combine_oligo                                 2\n",
            "statistic_correlation_hist_box_plots                                2\n",
            "statistic_counts_BC_in_RNA_DNA                                      6\n",
            "statistic_counts_BC_in_RNA_DNA_merge                                2\n",
            "statistic_counts_barcode_base_composition                           6\n",
            "statistic_counts_final                                              2\n",
            "statistic_counts_frequent_umis                                      6\n",
            "statistic_counts_stats_merge                                        2\n",
            "statistic_counts_table                                             12\n",
            "total                                                             138\n",
            "\u001b[0m\n"
          ]
        }
      ],
      "source": [
        "# MPRAsnakeflow_tutorial must be accessable and writable for all (and docker)\n",
        "!chmod ugo+rwx MPRAsnakeflow_tutorial\n",
        "# Run MPRAsnakeflow\n",
        "runContainer(\"snakemake --configfile config_experiment.yaml -n --quiet rules\")"
      ]
    },
    {
      "cell_type": "markdown",
      "metadata": {},
      "source": [
        "You see a list of rules and how often this rule is executed debending on the input file. E.g. it is possible to you input fastq file into `n` via the rule `assignment_fastq_split` using the option `split_number` in the config file (it is commented out right now). Then rules afterwards, like `assignment_getBCs` will be executed `n` times. Tis behaviour is nice for parallelisation especially on a HPC system where you have multiple nodes available. \n",
        "\n",
        "A short summary of each rule is in the [MPRAsnakeflow documentation](https://mprasnakeflow.readthedocs.io/en/latest/assignment.html#rules).\n",
        "\n",
        "Now let's run snakemake using 10 cores (BWA can be parallized). When you add the `-p` flag you will see the exact code that is executed in each rule. But we ommit this here beacuse it is a lot of output."
      ]
    },
    {
      "cell_type": "code",
      "execution_count": 32,
      "metadata": {
        "id": "gNESKLR_UkLV"
      },
      "outputs": [
        {
          "name": "stdout",
          "output_type": "stream",
          "text": [
            "apptainer run -B=${PWD}/MPRAsnakeflow_tutorial:/data/run --cwd /data/run mprasnakeflow_tutorial.sif snakemake --configfile config_experiment.yaml -c 10\n",
            "Using profile mprasnakeflow for setting default command line arguments.\n",
            "\u001b[33mAssuming unrestricted shared filesystem usage.\u001b[0m\n",
            "\u001b[33mBuilding DAG of jobs...\u001b[0m\n",
            "\u001b[33mUsing shell: /usr/bin/bash\u001b[0m\n",
            "\u001b[33mProvided cores: 10\u001b[0m\n",
            "\u001b[33mRules claiming more threads will be scaled down.\u001b[0m\n",
            "\u001b[33mSingularity containers: ignored\u001b[0m\n",
            "\u001b[33mJob stats:\n",
            "job                                                             count\n",
            "------------------------------------------------------------  -------\n",
            "all                                                                 1\n",
            "assigned_counts_assignBarcodes                                     12\n",
            "assigned_counts_combine_replicates                                  4\n",
            "assigned_counts_combine_replicates_barcode_output                   2\n",
            "assigned_counts_dna_rna_merge                                       6\n",
            "assigned_counts_filterAssignment                                    1\n",
            "assigned_counts_make_master_tables                                  2\n",
            "counts_dna_rna_merge_counts                                        12\n",
            "counts_filter_counts                                                6\n",
            "counts_final_counts                                                 6\n",
            "counts_umi_create_BAM                                               6\n",
            "counts_umi_raw_counts                                               6\n",
            "statistic_assigned_counts_combine_BC_assignment_stats               2\n",
            "statistic_assigned_counts_combine_BC_assignment_stats_helper        2\n",
            "statistic_assigned_counts_combine_stats_dna_rna_merge               2\n",
            "statistic_assigned_counts_combine_stats_dna_rna_merge_all           2\n",
            "statistic_bc_overlap_combine_assigned_counts                        2\n",
            "statistic_bc_overlap_combine_counts                                 2\n",
            "statistic_bc_overlap_run                                            8\n",
            "statistic_correlation_bc_counts                                     4\n",
            "statistic_correlation_bc_counts_hist                                4\n",
            "statistic_correlation_calculate                                     2\n",
            "statistic_correlation_combine_bc_assigned                           2\n",
            "statistic_correlation_combine_bc_raw                                2\n",
            "statistic_correlation_combine_oligo                                 2\n",
            "statistic_correlation_hist_box_plots                                2\n",
            "statistic_counts_BC_in_RNA_DNA                                      6\n",
            "statistic_counts_BC_in_RNA_DNA_merge                                2\n",
            "statistic_counts_barcode_base_composition                           6\n",
            "statistic_counts_final                                              2\n",
            "statistic_counts_frequent_umis                                      6\n",
            "statistic_counts_stats_merge                                        2\n",
            "statistic_counts_table                                             12\n",
            "total                                                             138\n",
            "\u001b[0m\n",
            "\u001b[33mSelect jobs to execute...\u001b[0m\n",
            "\u001b[33mExecute 7 jobs...\u001b[0m\n",
            "\u001b[32m\u001b[0m\n",
            "\u001b[32m[Mon Aug  5 11:19:24 2024]\u001b[0m\n",
            "\u001b[32mlocalrule counts_umi_create_BAM:\n",
            "    input: example_data/counts/dna-3_S3_R1_001.fastq.gz, example_data/counts/dna-3_S3_R3_001.fastq.gz, example_data/counts/dna-3_S3_R2_001.fastq.gz, /data/MPRAsnakeflow/workflow/rules/../scripts/count/FastQ2doubleIndexBAM_python3.py (cached), /data/MPRAsnakeflow/workflow/rules/../scripts/count/library_python3.py (cached), /data/MPRAsnakeflow/workflow/rules/../scripts/count/MergeTrimReadsBAM_python3.py (cached), /data/MPRAsnakeflow/workflow/rules/../scripts/count/MergeTrimReads_python3.py (cached)\n",
            "    output: results/experiments/experimentMPRAworkshop/counts/useUMI.HepG2_3_DNA.bam\n",
            "    log: results/logs/counts/umi/create_BAM.experimentMPRAworkshop.HepG2.3.DNA.log\n",
            "    jobid: 30\n",
            "    reason: Missing output files: results/experiments/experimentMPRAworkshop/counts/useUMI.HepG2_3_DNA.bam\n",
            "    wildcards: project=experimentMPRAworkshop, condition=HepG2, replicate=3, type=DNA\n",
            "    resources: tmpdir=/tmp\u001b[0m\n",
            "\u001b[32m\u001b[0m\n",
            "\u001b[33mActivating conda environment: ../conda_envs/653b2f2da62f9e29538eeaf42dc2a489_\u001b[0m\n",
            "\u001b[32m\u001b[0m\n",
            "\u001b[32m[Mon Aug  5 11:19:24 2024]\u001b[0m\n",
            "\u001b[32mlocalrule counts_umi_create_BAM:\n",
            "    input: example_data/counts/rna-2_S5_R1_001.fastq.gz, example_data/counts/rna-2_S5_R3_001.fastq.gz, example_data/counts/rna-2_S5_R2_001.fastq.gz, /data/MPRAsnakeflow/workflow/rules/../scripts/count/FastQ2doubleIndexBAM_python3.py (cached), /data/MPRAsnakeflow/workflow/rules/../scripts/count/library_python3.py (cached), /data/MPRAsnakeflow/workflow/rules/../scripts/count/MergeTrimReadsBAM_python3.py (cached), /data/MPRAsnakeflow/workflow/rules/../scripts/count/MergeTrimReads_python3.py (cached)\n",
            "    output: results/experiments/experimentMPRAworkshop/counts/useUMI.HepG2_2_RNA.bam\n",
            "    log: results/logs/counts/umi/create_BAM.experimentMPRAworkshop.HepG2.2.RNA.log\n",
            "    jobid: 15\n",
            "    reason: Missing output files: results/experiments/experimentMPRAworkshop/counts/useUMI.HepG2_2_RNA.bam\n",
            "    wildcards: project=experimentMPRAworkshop, condition=HepG2, replicate=2, type=RNA\n",
            "    resources: tmpdir=/tmp\u001b[0m\n",
            "\u001b[32m\u001b[0m\n",
            "\u001b[33mActivating conda environment: ../conda_envs/653b2f2da62f9e29538eeaf42dc2a489_\u001b[0m\n",
            "\u001b[32m\u001b[0m\n",
            "\u001b[32m[Mon Aug  5 11:19:24 2024]\u001b[0m\n",
            "\u001b[32mlocalrule counts_umi_create_BAM:\n",
            "    input: example_data/counts/rna-3_S6_R1_001.fastq.gz, example_data/counts/rna-3_S6_R3_001.fastq.gz, example_data/counts/rna-3_S6_R2_001.fastq.gz, /data/MPRAsnakeflow/workflow/rules/../scripts/count/FastQ2doubleIndexBAM_python3.py (cached), /data/MPRAsnakeflow/workflow/rules/../scripts/count/library_python3.py (cached), /data/MPRAsnakeflow/workflow/rules/../scripts/count/MergeTrimReadsBAM_python3.py (cached), /data/MPRAsnakeflow/workflow/rules/../scripts/count/MergeTrimReads_python3.py (cached)\n",
            "    output: results/experiments/experimentMPRAworkshop/counts/useUMI.HepG2_3_RNA.bam\n",
            "    log: results/logs/counts/umi/create_BAM.experimentMPRAworkshop.HepG2.3.RNA.log\n",
            "    jobid: 25\n",
            "    reason: Missing output files: results/experiments/experimentMPRAworkshop/counts/useUMI.HepG2_3_RNA.bam\n",
            "    wildcards: project=experimentMPRAworkshop, condition=HepG2, replicate=3, type=RNA\n",
            "    resources: tmpdir=/tmp\u001b[0m\n",
            "\u001b[32m\u001b[0m\n",
            "\u001b[33mActivating conda environment: ../conda_envs/653b2f2da62f9e29538eeaf42dc2a489_\u001b[0m\n",
            "\u001b[32m\u001b[0m\n",
            "\u001b[32m[Mon Aug  5 11:19:24 2024]\u001b[0m\n",
            "\u001b[32mlocalrule counts_umi_create_BAM:\n",
            "    input: example_data/counts/dna-2_S2_R1_001.fastq.gz, example_data/counts/dna-2_S2_R3_001.fastq.gz, example_data/counts/dna-2_S2_R2_001.fastq.gz, /data/MPRAsnakeflow/workflow/rules/../scripts/count/FastQ2doubleIndexBAM_python3.py (cached), /data/MPRAsnakeflow/workflow/rules/../scripts/count/library_python3.py (cached), /data/MPRAsnakeflow/workflow/rules/../scripts/count/MergeTrimReadsBAM_python3.py (cached), /data/MPRAsnakeflow/workflow/rules/../scripts/count/MergeTrimReads_python3.py (cached)\n",
            "    output: results/experiments/experimentMPRAworkshop/counts/useUMI.HepG2_2_DNA.bam\n",
            "    log: results/logs/counts/umi/create_BAM.experimentMPRAworkshop.HepG2.2.DNA.log\n",
            "    jobid: 20\n",
            "    reason: Missing output files: results/experiments/experimentMPRAworkshop/counts/useUMI.HepG2_2_DNA.bam\n",
            "    wildcards: project=experimentMPRAworkshop, condition=HepG2, replicate=2, type=DNA\n",
            "    resources: tmpdir=/tmp\u001b[0m\n",
            "\u001b[32m\u001b[0m\n",
            "\u001b[33mActivating conda environment: ../conda_envs/653b2f2da62f9e29538eeaf42dc2a489_\u001b[0m\n",
            "\u001b[32m\u001b[0m\n",
            "\u001b[32m[Mon Aug  5 11:19:24 2024]\u001b[0m\n",
            "\u001b[32mlocalrule counts_umi_create_BAM:\n",
            "    input: example_data/counts/rna-1_S4_R1_001.fastq.gz, example_data/counts/rna-1_S4_R3_001.fastq.gz, example_data/counts/rna-1_S4_R2_001.fastq.gz, /data/MPRAsnakeflow/workflow/rules/../scripts/count/FastQ2doubleIndexBAM_python3.py (cached), /data/MPRAsnakeflow/workflow/rules/../scripts/count/library_python3.py (cached), /data/MPRAsnakeflow/workflow/rules/../scripts/count/MergeTrimReadsBAM_python3.py (cached), /data/MPRAsnakeflow/workflow/rules/../scripts/count/MergeTrimReads_python3.py (cached)\n",
            "    output: results/experiments/experimentMPRAworkshop/counts/useUMI.HepG2_1_RNA.bam\n",
            "    log: results/logs/counts/umi/create_BAM.experimentMPRAworkshop.HepG2.1.RNA.log\n",
            "    jobid: 5\n",
            "    reason: Missing output files: results/experiments/experimentMPRAworkshop/counts/useUMI.HepG2_1_RNA.bam\n",
            "    wildcards: project=experimentMPRAworkshop, condition=HepG2, replicate=1, type=RNA\n",
            "    resources: tmpdir=/tmp\u001b[0m\n",
            "\u001b[32m\u001b[0m\n",
            "\u001b[33mActivating conda environment: ../conda_envs/653b2f2da62f9e29538eeaf42dc2a489_\u001b[0m\n",
            "\u001b[32m\u001b[0m\n",
            "\u001b[32m[Mon Aug  5 11:19:24 2024]\u001b[0m\n",
            "\u001b[32mlocalrule counts_umi_create_BAM:\n",
            "    input: example_data/counts/dna-1_S1_R1_001.fastq.gz, example_data/counts/dna-1_S1_R3_001.fastq.gz, example_data/counts/dna-1_S1_R2_001.fastq.gz, /data/MPRAsnakeflow/workflow/rules/../scripts/count/FastQ2doubleIndexBAM_python3.py (cached), /data/MPRAsnakeflow/workflow/rules/../scripts/count/library_python3.py (cached), /data/MPRAsnakeflow/workflow/rules/../scripts/count/MergeTrimReadsBAM_python3.py (cached), /data/MPRAsnakeflow/workflow/rules/../scripts/count/MergeTrimReads_python3.py (cached)\n",
            "    output: results/experiments/experimentMPRAworkshop/counts/useUMI.HepG2_1_DNA.bam\n",
            "    log: results/logs/counts/umi/create_BAM.experimentMPRAworkshop.HepG2.1.DNA.log\n",
            "    jobid: 10\n",
            "    reason: Missing output files: results/experiments/experimentMPRAworkshop/counts/useUMI.HepG2_1_DNA.bam\n",
            "    wildcards: project=experimentMPRAworkshop, condition=HepG2, replicate=1, type=DNA\n",
            "    resources: tmpdir=/tmp\u001b[0m\n",
            "\u001b[32m\u001b[0m\n",
            "\u001b[33mActivating conda environment: ../conda_envs/653b2f2da62f9e29538eeaf42dc2a489_\u001b[0m\n",
            "\u001b[32m\u001b[0m\n",
            "\u001b[32m[Mon Aug  5 11:19:24 2024]\u001b[0m\n",
            "\u001b[32mlocalrule assigned_counts_filterAssignment:\n",
            "    input: example_data/assignment/assignment_barcodes.default.tsv.gz, /data/MPRAsnakeflow/workflow/rules/../scripts/count/samplerer_assignment.py (cached)\n",
            "    output: results/experiments/experimentMPRAworkshop/assignment/MPRAworkshop.tsv.gz\n",
            "    log: results/logs/assigned_counts/filterAssignment.experimentMPRAworkshop.MPRAworkshop.log\n",
            "    jobid: 76\n",
            "    reason: Missing output files: results/experiments/experimentMPRAworkshop/assignment/MPRAworkshop.tsv.gz\n",
            "    wildcards: project=experimentMPRAworkshop, assignment=MPRAworkshop\n",
            "    resources: tmpdir=/tmp\u001b[0m\n",
            "\u001b[32m\u001b[0m\n",
            "\u001b[33mActivating conda environment: ../conda_envs/653b2f2da62f9e29538eeaf42dc2a489_\u001b[0m\n",
            "\u001b[32m[Mon Aug  5 11:19:32 2024]\u001b[0m\n",
            "\u001b[32mFinished job 76.\u001b[0m\n",
            "\u001b[32m1 of 138 steps (1%) done\u001b[0m\n",
            "\u001b[32m[Mon Aug  5 11:23:03 2024]\u001b[0m\n",
            "\u001b[32mFinished job 30.\u001b[0m\n",
            "\u001b[32m2 of 138 steps (1%) done\u001b[0m\n",
            "\u001b[33mSelect jobs to execute...\u001b[0m\n",
            "\u001b[33mExecute 1 jobs...\u001b[0m\n",
            "\u001b[32m\u001b[0m\n",
            "\u001b[32m[Mon Aug  5 11:23:03 2024]\u001b[0m\n",
            "\u001b[32mlocalrule counts_umi_raw_counts:\n",
            "    input: results/experiments/experimentMPRAworkshop/counts/useUMI.HepG2_3_DNA.bam\n",
            "    output: results/experiments/experimentMPRAworkshop/counts/useUMI.HepG2_3_DNA_raw_counts.tsv.gz\n",
            "    log: results/logs/counts/umi/raw_counts.experimentMPRAworkshop.HepG2.3.DNA.log\n",
            "    jobid: 29\n",
            "    reason: Missing output files: results/experiments/experimentMPRAworkshop/counts/useUMI.HepG2_3_DNA_raw_counts.tsv.gz; Input files updated by another job: results/experiments/experimentMPRAworkshop/counts/useUMI.HepG2_3_DNA.bam\n",
            "    wildcards: project=experimentMPRAworkshop, condition=HepG2, replicate=3, type=DNA\n",
            "    resources: tmpdir=/tmp\u001b[0m\n",
            "\u001b[32m\u001b[0m\n",
            "\u001b[33mActivating conda environment: ../conda_envs/50b61aef61c0c65fd933378d537fa1ad_\u001b[0m\n",
            "\u001b[32m[Mon Aug  5 11:23:03 2024]\u001b[0m\n",
            "\u001b[32mFinished job 20.\u001b[0m\n",
            "\u001b[32m3 of 138 steps (2%) done\u001b[0m\n",
            "\u001b[33mSelect jobs to execute...\u001b[0m\n",
            "\u001b[33mExecute 1 jobs...\u001b[0m\n",
            "\u001b[32m\u001b[0m\n",
            "\u001b[32m[Mon Aug  5 11:23:03 2024]\u001b[0m\n",
            "\u001b[32mlocalrule counts_umi_raw_counts:\n",
            "    input: results/experiments/experimentMPRAworkshop/counts/useUMI.HepG2_2_DNA.bam\n",
            "    output: results/experiments/experimentMPRAworkshop/counts/useUMI.HepG2_2_DNA_raw_counts.tsv.gz\n",
            "    log: results/logs/counts/umi/raw_counts.experimentMPRAworkshop.HepG2.2.DNA.log\n",
            "    jobid: 19\n",
            "    reason: Missing output files: results/experiments/experimentMPRAworkshop/counts/useUMI.HepG2_2_DNA_raw_counts.tsv.gz; Input files updated by another job: results/experiments/experimentMPRAworkshop/counts/useUMI.HepG2_2_DNA.bam\n",
            "    wildcards: project=experimentMPRAworkshop, condition=HepG2, replicate=2, type=DNA\n",
            "    resources: tmpdir=/tmp\u001b[0m\n",
            "\u001b[32m\u001b[0m\n",
            "\u001b[33mActivating conda environment: ../conda_envs/50b61aef61c0c65fd933378d537fa1ad_\u001b[0m\n",
            "\u001b[32m[Mon Aug  5 11:23:14 2024]\u001b[0m\n",
            "\u001b[32mFinished job 10.\u001b[0m\n",
            "\u001b[32m4 of 138 steps (3%) done\u001b[0m\n",
            "\u001b[33mSelect jobs to execute...\u001b[0m\n",
            "\u001b[33mExecute 1 jobs...\u001b[0m\n",
            "\u001b[32m\u001b[0m\n",
            "\u001b[32m[Mon Aug  5 11:23:14 2024]\u001b[0m\n",
            "\u001b[32mlocalrule counts_umi_raw_counts:\n",
            "    input: results/experiments/experimentMPRAworkshop/counts/useUMI.HepG2_1_DNA.bam\n",
            "    output: results/experiments/experimentMPRAworkshop/counts/useUMI.HepG2_1_DNA_raw_counts.tsv.gz\n",
            "    log: results/logs/counts/umi/raw_counts.experimentMPRAworkshop.HepG2.1.DNA.log\n",
            "    jobid: 9\n",
            "    reason: Missing output files: results/experiments/experimentMPRAworkshop/counts/useUMI.HepG2_1_DNA_raw_counts.tsv.gz; Input files updated by another job: results/experiments/experimentMPRAworkshop/counts/useUMI.HepG2_1_DNA.bam\n",
            "    wildcards: project=experimentMPRAworkshop, condition=HepG2, replicate=1, type=DNA\n",
            "    resources: tmpdir=/tmp\u001b[0m\n",
            "\u001b[32m\u001b[0m\n",
            "\u001b[33mActivating conda environment: ../conda_envs/50b61aef61c0c65fd933378d537fa1ad_\u001b[0m\n",
            "\u001b[32m[Mon Aug  5 11:23:17 2024]\u001b[0m\n",
            "\u001b[32mFinished job 29.\u001b[0m\n",
            "\u001b[32m5 of 138 steps (4%) done\u001b[0m\n",
            "\u001b[33mSelect jobs to execute...\u001b[0m\n",
            "\u001b[33mExecute 2 jobs...\u001b[0m\n",
            "\u001b[32m\u001b[0m\n",
            "\u001b[32m[Mon Aug  5 11:23:17 2024]\u001b[0m\n",
            "\u001b[32mlocalrule statistic_counts_table:\n",
            "    input: results/experiments/experimentMPRAworkshop/counts/useUMI.HepG2_3_DNA_raw_counts.tsv.gz\n",
            "    output: results/experiments/experimentMPRAworkshop/statistic/counts/HepG2_3_DNA_raw_counts.tsv.gz\n",
            "    log: results/logs/statistic/counts/table.experimentMPRAworkshop.HepG2_3_DNA_raw.log\n",
            "    jobid: 37\n",
            "    reason: Missing output files: results/experiments/experimentMPRAworkshop/statistic/counts/HepG2_3_DNA_raw_counts.tsv.gz; Input files updated by another job: results/experiments/experimentMPRAworkshop/counts/useUMI.HepG2_3_DNA_raw_counts.tsv.gz\n",
            "    wildcards: project=experimentMPRAworkshop, condition=HepG2, replicate=3, type=DNA, countType=raw\n",
            "    resources: tmpdir=/tmp\u001b[0m\n",
            "\u001b[32m\u001b[0m\n",
            "\u001b[33mActivating conda environment: ../conda_envs/ec92106e14f6232977fd0918d24cb216_\u001b[0m\n",
            "\u001b[32m\u001b[0m\n",
            "\u001b[32m[Mon Aug  5 11:23:17 2024]\u001b[0m\n",
            "\u001b[32mlocalrule counts_filter_counts:\n",
            "    input: results/experiments/experimentMPRAworkshop/counts/useUMI.HepG2_3_DNA_raw_counts.tsv.gz\n",
            "    output: results/experiments/experimentMPRAworkshop/counts/HepG2_3_DNA_filtered_counts.tsv.gz\n",
            "    log: results/logs/counts/filter_counts.experimentMPRAworkshop.HepG2.3.DNA.log\n",
            "    jobid: 28\n",
            "    reason: Missing output files: results/experiments/experimentMPRAworkshop/counts/HepG2_3_DNA_filtered_counts.tsv.gz; Input files updated by another job: results/experiments/experimentMPRAworkshop/counts/useUMI.HepG2_3_DNA_raw_counts.tsv.gz\n",
            "    wildcards: project=experimentMPRAworkshop, condition=HepG2, replicate=3, type=DNA\n",
            "    resources: tmpdir=/tmp\u001b[0m\n",
            "\u001b[32m\u001b[0m\n",
            "\u001b[33mActivating conda environment: ../conda_envs/ec92106e14f6232977fd0918d24cb216_\u001b[0m\n",
            "\u001b[32m[Mon Aug  5 11:23:17 2024]\u001b[0m\n",
            "\u001b[32mFinished job 19.\u001b[0m\n",
            "\u001b[32m6 of 138 steps (4%) done\u001b[0m\n",
            "\u001b[33mSelect jobs to execute...\u001b[0m\n",
            "\u001b[33mExecute 2 jobs...\u001b[0m\n",
            "\u001b[32m\u001b[0m\n",
            "\u001b[32m[Mon Aug  5 11:23:17 2024]\u001b[0m\n",
            "\u001b[32mlocalrule statistic_counts_table:\n",
            "    input: results/experiments/experimentMPRAworkshop/counts/useUMI.HepG2_2_DNA_raw_counts.tsv.gz\n",
            "    output: results/experiments/experimentMPRAworkshop/statistic/counts/HepG2_2_DNA_raw_counts.tsv.gz\n",
            "    log: results/logs/statistic/counts/table.experimentMPRAworkshop.HepG2_2_DNA_raw.log\n",
            "    jobid: 35\n",
            "    reason: Missing output files: results/experiments/experimentMPRAworkshop/statistic/counts/HepG2_2_DNA_raw_counts.tsv.gz; Input files updated by another job: results/experiments/experimentMPRAworkshop/counts/useUMI.HepG2_2_DNA_raw_counts.tsv.gz\n",
            "    wildcards: project=experimentMPRAworkshop, condition=HepG2, replicate=2, type=DNA, countType=raw\n",
            "    resources: tmpdir=/tmp\u001b[0m\n",
            "\u001b[32m\u001b[0m\n",
            "\u001b[33mActivating conda environment: ../conda_envs/ec92106e14f6232977fd0918d24cb216_\u001b[0m\n",
            "\u001b[32m\u001b[0m\n",
            "\u001b[32m[Mon Aug  5 11:23:17 2024]\u001b[0m\n",
            "\u001b[32mlocalrule counts_filter_counts:\n",
            "    input: results/experiments/experimentMPRAworkshop/counts/useUMI.HepG2_2_DNA_raw_counts.tsv.gz\n",
            "    output: results/experiments/experimentMPRAworkshop/counts/HepG2_2_DNA_filtered_counts.tsv.gz\n",
            "    log: results/logs/counts/filter_counts.experimentMPRAworkshop.HepG2.2.DNA.log\n",
            "    jobid: 18\n",
            "    reason: Missing output files: results/experiments/experimentMPRAworkshop/counts/HepG2_2_DNA_filtered_counts.tsv.gz; Input files updated by another job: results/experiments/experimentMPRAworkshop/counts/useUMI.HepG2_2_DNA_raw_counts.tsv.gz\n",
            "    wildcards: project=experimentMPRAworkshop, condition=HepG2, replicate=2, type=DNA\n",
            "    resources: tmpdir=/tmp\u001b[0m\n",
            "\u001b[32m\u001b[0m\n",
            "\u001b[33mActivating conda environment: ../conda_envs/ec92106e14f6232977fd0918d24cb216_\u001b[0m\n",
            "15\n",
            "15\n",
            "\u001b[32m[Mon Aug  5 11:23:19 2024]\u001b[0m\n",
            "\u001b[32mFinished job 37.\u001b[0m\n",
            "\u001b[32m7 of 138 steps (5%) done\u001b[0m\n",
            "\u001b[32m[Mon Aug  5 11:23:19 2024]\u001b[0m\n",
            "\u001b[32mFinished job 35.\u001b[0m\n",
            "\u001b[32m8 of 138 steps (6%) done\u001b[0m\n",
            "\u001b[32m[Mon Aug  5 11:23:22 2024]\u001b[0m\n",
            "\u001b[32mFinished job 28.\u001b[0m\n",
            "\u001b[32m9 of 138 steps (7%) done\u001b[0m\n",
            "\u001b[33mSelect jobs to execute...\u001b[0m\n",
            "\u001b[33mExecute 3 jobs...\u001b[0m\n",
            "\u001b[32m\u001b[0m\n",
            "\u001b[32m[Mon Aug  5 11:23:22 2024]\u001b[0m\n",
            "\u001b[32mlocalrule statistic_counts_frequent_umis:\n",
            "    input: results/experiments/experimentMPRAworkshop/counts/HepG2_3_DNA_filtered_counts.tsv.gz\n",
            "    output: results/experiments/experimentMPRAworkshop/statistic/counts.freqUMIs.HepG2_3_DNA.txt\n",
            "    log: results/logs/statistic/counts/frequent_umis.experimentMPRAworkshop.HepG2.3.DNA.log\n",
            "    jobid: 60\n",
            "    reason: Missing output files: results/experiments/experimentMPRAworkshop/statistic/counts.freqUMIs.HepG2_3_DNA.txt; Input files updated by another job: results/experiments/experimentMPRAworkshop/counts/HepG2_3_DNA_filtered_counts.tsv.gz\n",
            "    wildcards: project=experimentMPRAworkshop, condition=HepG2, replicate=3, type=DNA\n",
            "    resources: tmpdir=/tmp\u001b[0m\n",
            "\u001b[32m\u001b[0m\n",
            "\u001b[33mActivating conda environment: ../conda_envs/ec92106e14f6232977fd0918d24cb216_\u001b[0m\n",
            "\u001b[32m\u001b[0m\n",
            "\u001b[32m[Mon Aug  5 11:23:22 2024]\u001b[0m\n",
            "\u001b[32mlocalrule counts_final_counts:\n",
            "    input: results/experiments/experimentMPRAworkshop/counts/HepG2_3_DNA_filtered_counts.tsv.gz\n",
            "    output: results/experiments/experimentMPRAworkshop/counts/HepG2_3_DNA_final_counts.tsv.gz\n",
            "    log: results/logs/counts/final_counts_umi.experimentMPRAworkshop.HepG2.3.DNA.log\n",
            "    jobid: 27\n",
            "    reason: Missing output files: results/experiments/experimentMPRAworkshop/counts/HepG2_3_DNA_final_counts.tsv.gz; Input files updated by another job: results/experiments/experimentMPRAworkshop/counts/HepG2_3_DNA_filtered_counts.tsv.gz\n",
            "    wildcards: project=experimentMPRAworkshop, condition=HepG2, replicate=3, type=DNA\n",
            "    resources: tmpdir=/tmp\u001b[0m\n",
            "\u001b[32m\u001b[0m\n",
            "\u001b[33mActivating conda environment: ../conda_envs/ec92106e14f6232977fd0918d24cb216_\u001b[0m\n",
            "\u001b[32m\u001b[0m\n",
            "\u001b[32m[Mon Aug  5 11:23:22 2024]\u001b[0m\n",
            "\u001b[32mlocalrule statistic_counts_table:\n",
            "    input: results/experiments/experimentMPRAworkshop/counts/HepG2_3_DNA_filtered_counts.tsv.gz\n",
            "    output: results/experiments/experimentMPRAworkshop/statistic/counts/HepG2_3_DNA_filtered_counts.tsv.gz\n",
            "    log: results/logs/statistic/counts/table.experimentMPRAworkshop.HepG2_3_DNA_filtered.log\n",
            "    jobid: 49\n",
            "    reason: Missing output files: results/experiments/experimentMPRAworkshop/statistic/counts/HepG2_3_DNA_filtered_counts.tsv.gz; Input files updated by another job: results/experiments/experimentMPRAworkshop/counts/HepG2_3_DNA_filtered_counts.tsv.gz\n",
            "    wildcards: project=experimentMPRAworkshop, condition=HepG2, replicate=3, type=DNA, countType=filtered\n",
            "    resources: tmpdir=/tmp\u001b[0m\n",
            "\u001b[32m\u001b[0m\n",
            "\u001b[33mActivating conda environment: ../conda_envs/ec92106e14f6232977fd0918d24cb216_\u001b[0m\n",
            "\u001b[32m[Mon Aug  5 11:23:22 2024]\u001b[0m\n",
            "\u001b[32mFinished job 18.\u001b[0m\n",
            "\u001b[32m10 of 138 steps (7%) done\u001b[0m\n",
            "\u001b[33mSelect jobs to execute...\u001b[0m\n",
            "\u001b[33mExecute 3 jobs...\u001b[0m\n",
            "\u001b[32m\u001b[0m\n",
            "\u001b[32m[Mon Aug  5 11:23:22 2024]\u001b[0m\n",
            "\u001b[32mlocalrule statistic_counts_table:\n",
            "    input: results/experiments/experimentMPRAworkshop/counts/HepG2_2_DNA_filtered_counts.tsv.gz\n",
            "    output: results/experiments/experimentMPRAworkshop/statistic/counts/HepG2_2_DNA_filtered_counts.tsv.gz\n",
            "    log: results/logs/statistic/counts/table.experimentMPRAworkshop.HepG2_2_DNA_filtered.log\n",
            "    jobid: 47\n",
            "    reason: Missing output files: results/experiments/experimentMPRAworkshop/statistic/counts/HepG2_2_DNA_filtered_counts.tsv.gz; Input files updated by another job: results/experiments/experimentMPRAworkshop/counts/HepG2_2_DNA_filtered_counts.tsv.gz\n",
            "    wildcards: project=experimentMPRAworkshop, condition=HepG2, replicate=2, type=DNA, countType=filtered\n",
            "    resources: tmpdir=/tmp\u001b[0m\n",
            "\u001b[32m\u001b[0m\n",
            "\u001b[33mActivating conda environment: ../conda_envs/ec92106e14f6232977fd0918d24cb216_\u001b[0m\n",
            "\u001b[32m\u001b[0m\n",
            "\u001b[32m[Mon Aug  5 11:23:22 2024]\u001b[0m\n",
            "\u001b[32mlocalrule counts_final_counts:\n",
            "    input: results/experiments/experimentMPRAworkshop/counts/HepG2_2_DNA_filtered_counts.tsv.gz\n",
            "    output: results/experiments/experimentMPRAworkshop/counts/HepG2_2_DNA_final_counts.tsv.gz\n",
            "    log: results/logs/counts/final_counts_umi.experimentMPRAworkshop.HepG2.2.DNA.log\n",
            "    jobid: 17\n",
            "    reason: Missing output files: results/experiments/experimentMPRAworkshop/counts/HepG2_2_DNA_final_counts.tsv.gz; Input files updated by another job: results/experiments/experimentMPRAworkshop/counts/HepG2_2_DNA_filtered_counts.tsv.gz\n",
            "    wildcards: project=experimentMPRAworkshop, condition=HepG2, replicate=2, type=DNA\n",
            "    resources: tmpdir=/tmp\u001b[0m\n",
            "\u001b[32m\u001b[0m\n",
            "\u001b[33mActivating conda environment: ../conda_envs/ec92106e14f6232977fd0918d24cb216_\u001b[0m\n",
            "\u001b[32m\u001b[0m\n",
            "\u001b[32m[Mon Aug  5 11:23:22 2024]\u001b[0m\n",
            "\u001b[32mlocalrule statistic_counts_frequent_umis:\n",
            "    input: results/experiments/experimentMPRAworkshop/counts/HepG2_2_DNA_filtered_counts.tsv.gz\n",
            "    output: results/experiments/experimentMPRAworkshop/statistic/counts.freqUMIs.HepG2_2_DNA.txt\n",
            "    log: results/logs/statistic/counts/frequent_umis.experimentMPRAworkshop.HepG2.2.DNA.log\n",
            "    jobid: 58\n",
            "    reason: Missing output files: results/experiments/experimentMPRAworkshop/statistic/counts.freqUMIs.HepG2_2_DNA.txt; Input files updated by another job: results/experiments/experimentMPRAworkshop/counts/HepG2_2_DNA_filtered_counts.tsv.gz\n",
            "    wildcards: project=experimentMPRAworkshop, condition=HepG2, replicate=2, type=DNA\n",
            "    resources: tmpdir=/tmp\u001b[0m\n",
            "\u001b[32m\u001b[0m\n",
            "\u001b[33mActivating conda environment: ../conda_envs/ec92106e14f6232977fd0918d24cb216_\u001b[0m\n",
            "\u001b[32m[Mon Aug  5 11:23:24 2024]\u001b[0m\n",
            "\u001b[32mFinished job 49.\u001b[0m\n",
            "\u001b[32m11 of 138 steps (8%) done\u001b[0m\n",
            "\u001b[32m[Mon Aug  5 11:23:24 2024]\u001b[0m\n",
            "\u001b[32mFinished job 47.\u001b[0m\n",
            "\u001b[32m12 of 138 steps (9%) done\u001b[0m\n",
            "\u001b[32m[Mon Aug  5 11:23:24 2024]\u001b[0m\n",
            "\u001b[32mFinished job 60.\u001b[0m\n",
            "\u001b[32m13 of 138 steps (9%) done\u001b[0m\n",
            "\u001b[32m[Mon Aug  5 11:23:24 2024]\u001b[0m\n",
            "\u001b[32mFinished job 27.\u001b[0m\n",
            "\u001b[32m14 of 138 steps (10%) done\u001b[0m\n",
            "\u001b[33mSelect jobs to execute...\u001b[0m\n",
            "\u001b[33mExecute 3 jobs...\u001b[0m\n",
            "\u001b[32m\u001b[0m\n",
            "\u001b[32m[Mon Aug  5 11:23:24 2024]\u001b[0m\n",
            "\u001b[32mlocalrule assigned_counts_assignBarcodes:\n",
            "    input: results/experiments/experimentMPRAworkshop/counts/HepG2_3_DNA_final_counts.tsv.gz, results/experiments/experimentMPRAworkshop/assignment/MPRAworkshop.tsv.gz, /data/MPRAsnakeflow/workflow/rules/../scripts/count/merge_BC_and_assignment.py (cached)\n",
            "    output: results/experiments/experimentMPRAworkshop/assigned_counts/MPRAworkshop/HepG2_3_DNA_final_counts.config.tutorialConfig.tsv.gz, results/experiments/experimentMPRAworkshop/statistic/assigned_counts/MPRAworkshop/HepG2_3_DNA_tutorialConfig.statistic.tsv.gz\n",
            "    log: results/logs/assigned_counts/assignBarcodes.experimentMPRAworkshop.HepG2.3.DNA.tutorialConfig.MPRAworkshop.log\n",
            "    jobid: 92\n",
            "    reason: Missing output files: results/experiments/experimentMPRAworkshop/assigned_counts/MPRAworkshop/HepG2_3_DNA_final_counts.config.tutorialConfig.tsv.gz, results/experiments/experimentMPRAworkshop/statistic/assigned_counts/MPRAworkshop/HepG2_3_DNA_tutorialConfig.statistic.tsv.gz; Input files updated by another job: results/experiments/experimentMPRAworkshop/assignment/MPRAworkshop.tsv.gz, results/experiments/experimentMPRAworkshop/counts/HepG2_3_DNA_final_counts.tsv.gz\n",
            "    wildcards: project=experimentMPRAworkshop, assignment=MPRAworkshop, condition=HepG2, replicate=3, type=DNA, config=tutorialConfig\n",
            "    resources: tmpdir=/tmp\u001b[0m\n",
            "\u001b[32m\u001b[0m\n",
            "\u001b[33mActivating conda environment: ../conda_envs/653b2f2da62f9e29538eeaf42dc2a489_\u001b[0m\n",
            "\u001b[32m\u001b[0m\n",
            "\u001b[32m[Mon Aug  5 11:23:24 2024]\u001b[0m\n",
            "\u001b[32mlocalrule assigned_counts_assignBarcodes:\n",
            "    input: results/experiments/experimentMPRAworkshop/counts/HepG2_3_DNA_final_counts.tsv.gz, results/experiments/experimentMPRAworkshop/assignment/MPRAworkshop.tsv.gz, /data/MPRAsnakeflow/workflow/rules/../scripts/count/merge_BC_and_assignment.py (cached)\n",
            "    output: results/experiments/experimentMPRAworkshop/assigned_counts/MPRAworkshop/HepG2_3_DNA_final_counts.config.default.tsv.gz, results/experiments/experimentMPRAworkshop/statistic/assigned_counts/MPRAworkshop/HepG2_3_DNA_default.statistic.tsv.gz\n",
            "    log: results/logs/assigned_counts/assignBarcodes.experimentMPRAworkshop.HepG2.3.DNA.default.MPRAworkshop.log\n",
            "    jobid: 82\n",
            "    reason: Missing output files: results/experiments/experimentMPRAworkshop/assigned_counts/MPRAworkshop/HepG2_3_DNA_final_counts.config.default.tsv.gz, results/experiments/experimentMPRAworkshop/statistic/assigned_counts/MPRAworkshop/HepG2_3_DNA_default.statistic.tsv.gz; Input files updated by another job: results/experiments/experimentMPRAworkshop/assignment/MPRAworkshop.tsv.gz, results/experiments/experimentMPRAworkshop/counts/HepG2_3_DNA_final_counts.tsv.gz\n",
            "    wildcards: project=experimentMPRAworkshop, assignment=MPRAworkshop, condition=HepG2, replicate=3, type=DNA, config=default\n",
            "    resources: tmpdir=/tmp\u001b[0m\n",
            "\u001b[32m\u001b[0m\n",
            "\u001b[33mActivating conda environment: ../conda_envs/653b2f2da62f9e29538eeaf42dc2a489_\u001b[0m\n",
            "\u001b[32m\u001b[0m\n",
            "\u001b[32m[Mon Aug  5 11:23:24 2024]\u001b[0m\n",
            "\u001b[32mlocalrule statistic_counts_barcode_base_composition:\n",
            "    input: results/experiments/experimentMPRAworkshop/counts/HepG2_3_DNA_final_counts.tsv.gz, /data/MPRAsnakeflow/workflow/rules/../scripts/count/nucleotideCountPerPosition.py (cached)\n",
            "    output: results/experiments/experimentMPRAworkshop/counts/HepG2_3_DNA_final.BC.tsv.gz, results/experiments/experimentMPRAworkshop/statistic/counts/BCNucleotideComposition.HepG2_3_DNA.tsv.gz\n",
            "    log: results/logs/statistic/counts/barcode_base_composition.experimentMPRAworkshop.HepG2_3_DNA.log\n",
            "    jobid: 26\n",
            "    reason: Missing output files: results/experiments/experimentMPRAworkshop/statistic/counts/BCNucleotideComposition.HepG2_3_DNA.tsv.gz; Input files updated by another job: results/experiments/experimentMPRAworkshop/counts/HepG2_3_DNA_final_counts.tsv.gz\n",
            "    wildcards: project=experimentMPRAworkshop, condition=HepG2, replicate=3, type=DNA\n",
            "    resources: tmpdir=/tmp\u001b[0m\n",
            "\u001b[32m\u001b[0m\n",
            "\u001b[33mActivating conda environment: ../conda_envs/653b2f2da62f9e29538eeaf42dc2a489_\u001b[0m\n",
            "\u001b[32m[Mon Aug  5 11:23:24 2024]\u001b[0m\n",
            "\u001b[32mFinished job 58.\u001b[0m\n",
            "\u001b[32m15 of 138 steps (11%) done\u001b[0m\n",
            "\u001b[32m[Mon Aug  5 11:23:24 2024]\u001b[0m\n",
            "\u001b[32mFinished job 17.\u001b[0m\n",
            "\u001b[32m16 of 138 steps (12%) done\u001b[0m\n",
            "\u001b[33mSelect jobs to execute...\u001b[0m\n",
            "\u001b[33mExecute 3 jobs...\u001b[0m\n",
            "\u001b[32m\u001b[0m\n",
            "\u001b[32m[Mon Aug  5 11:23:24 2024]\u001b[0m\n",
            "\u001b[32mlocalrule assigned_counts_assignBarcodes:\n",
            "    input: results/experiments/experimentMPRAworkshop/counts/HepG2_2_DNA_final_counts.tsv.gz, results/experiments/experimentMPRAworkshop/assignment/MPRAworkshop.tsv.gz, /data/MPRAsnakeflow/workflow/rules/../scripts/count/merge_BC_and_assignment.py (cached)\n",
            "    output: results/experiments/experimentMPRAworkshop/assigned_counts/MPRAworkshop/HepG2_2_DNA_final_counts.config.default.tsv.gz, results/experiments/experimentMPRAworkshop/statistic/assigned_counts/MPRAworkshop/HepG2_2_DNA_default.statistic.tsv.gz\n",
            "    log: results/logs/assigned_counts/assignBarcodes.experimentMPRAworkshop.HepG2.2.DNA.default.MPRAworkshop.log\n",
            "    jobid: 79\n",
            "    reason: Missing output files: results/experiments/experimentMPRAworkshop/assigned_counts/MPRAworkshop/HepG2_2_DNA_final_counts.config.default.tsv.gz, results/experiments/experimentMPRAworkshop/statistic/assigned_counts/MPRAworkshop/HepG2_2_DNA_default.statistic.tsv.gz; Input files updated by another job: results/experiments/experimentMPRAworkshop/assignment/MPRAworkshop.tsv.gz, results/experiments/experimentMPRAworkshop/counts/HepG2_2_DNA_final_counts.tsv.gz\n",
            "    wildcards: project=experimentMPRAworkshop, assignment=MPRAworkshop, condition=HepG2, replicate=2, type=DNA, config=default\n",
            "    resources: tmpdir=/tmp\u001b[0m\n",
            "\u001b[32m\u001b[0m\n",
            "\u001b[33mActivating conda environment: ../conda_envs/653b2f2da62f9e29538eeaf42dc2a489_\u001b[0m\n",
            "\u001b[32m\u001b[0m\n",
            "\u001b[32m[Mon Aug  5 11:23:24 2024]\u001b[0m\n",
            "\u001b[32mlocalrule statistic_counts_barcode_base_composition:\n",
            "    input: results/experiments/experimentMPRAworkshop/counts/HepG2_2_DNA_final_counts.tsv.gz, /data/MPRAsnakeflow/workflow/rules/../scripts/count/nucleotideCountPerPosition.py (cached)\n",
            "    output: results/experiments/experimentMPRAworkshop/counts/HepG2_2_DNA_final.BC.tsv.gz, results/experiments/experimentMPRAworkshop/statistic/counts/BCNucleotideComposition.HepG2_2_DNA.tsv.gz\n",
            "    log: results/logs/statistic/counts/barcode_base_composition.experimentMPRAworkshop.HepG2_2_DNA.log\n",
            "    jobid: 16\n",
            "    reason: Missing output files: results/experiments/experimentMPRAworkshop/statistic/counts/BCNucleotideComposition.HepG2_2_DNA.tsv.gz; Input files updated by another job: results/experiments/experimentMPRAworkshop/counts/HepG2_2_DNA_final_counts.tsv.gz\n",
            "    wildcards: project=experimentMPRAworkshop, condition=HepG2, replicate=2, type=DNA\n",
            "    resources: tmpdir=/tmp\u001b[0m\n",
            "\u001b[32m\u001b[0m\n",
            "\u001b[33mActivating conda environment: ../conda_envs/653b2f2da62f9e29538eeaf42dc2a489_\u001b[0m\n",
            "\u001b[32m\u001b[0m\n",
            "\u001b[32m[Mon Aug  5 11:23:24 2024]\u001b[0m\n",
            "\u001b[32mlocalrule assigned_counts_assignBarcodes:\n",
            "    input: results/experiments/experimentMPRAworkshop/counts/HepG2_2_DNA_final_counts.tsv.gz, results/experiments/experimentMPRAworkshop/assignment/MPRAworkshop.tsv.gz, /data/MPRAsnakeflow/workflow/rules/../scripts/count/merge_BC_and_assignment.py (cached)\n",
            "    output: results/experiments/experimentMPRAworkshop/assigned_counts/MPRAworkshop/HepG2_2_DNA_final_counts.config.tutorialConfig.tsv.gz, results/experiments/experimentMPRAworkshop/statistic/assigned_counts/MPRAworkshop/HepG2_2_DNA_tutorialConfig.statistic.tsv.gz\n",
            "    log: results/logs/assigned_counts/assignBarcodes.experimentMPRAworkshop.HepG2.2.DNA.tutorialConfig.MPRAworkshop.log\n",
            "    jobid: 89\n",
            "    reason: Missing output files: results/experiments/experimentMPRAworkshop/statistic/assigned_counts/MPRAworkshop/HepG2_2_DNA_tutorialConfig.statistic.tsv.gz, results/experiments/experimentMPRAworkshop/assigned_counts/MPRAworkshop/HepG2_2_DNA_final_counts.config.tutorialConfig.tsv.gz; Input files updated by another job: results/experiments/experimentMPRAworkshop/assignment/MPRAworkshop.tsv.gz, results/experiments/experimentMPRAworkshop/counts/HepG2_2_DNA_final_counts.tsv.gz\n",
            "    wildcards: project=experimentMPRAworkshop, assignment=MPRAworkshop, condition=HepG2, replicate=2, type=DNA, config=tutorialConfig\n",
            "    resources: tmpdir=/tmp\u001b[0m\n",
            "\u001b[32m\u001b[0m\n",
            "\u001b[33mActivating conda environment: ../conda_envs/653b2f2da62f9e29538eeaf42dc2a489_\u001b[0m\n",
            "\u001b[32m[Mon Aug  5 11:23:26 2024]\u001b[0m\n",
            "\u001b[32mFinished job 9.\u001b[0m\n",
            "\u001b[32m17 of 138 steps (12%) done\u001b[0m\n",
            "\u001b[33mSelect jobs to execute...\u001b[0m\n",
            "\u001b[33mExecute 1 jobs...\u001b[0m\n",
            "\u001b[32m\u001b[0m\n",
            "\u001b[32m[Mon Aug  5 11:23:26 2024]\u001b[0m\n",
            "\u001b[32mlocalrule counts_filter_counts:\n",
            "    input: results/experiments/experimentMPRAworkshop/counts/useUMI.HepG2_1_DNA_raw_counts.tsv.gz\n",
            "    output: results/experiments/experimentMPRAworkshop/counts/HepG2_1_DNA_filtered_counts.tsv.gz\n",
            "    log: results/logs/counts/filter_counts.experimentMPRAworkshop.HepG2.1.DNA.log\n",
            "    jobid: 8\n",
            "    reason: Missing output files: results/experiments/experimentMPRAworkshop/counts/HepG2_1_DNA_filtered_counts.tsv.gz; Input files updated by another job: results/experiments/experimentMPRAworkshop/counts/useUMI.HepG2_1_DNA_raw_counts.tsv.gz\n",
            "    wildcards: project=experimentMPRAworkshop, condition=HepG2, replicate=1, type=DNA\n",
            "    resources: tmpdir=/tmp\u001b[0m\n",
            "\u001b[32m\u001b[0m\n",
            "\u001b[33mActivating conda environment: ../conda_envs/ec92106e14f6232977fd0918d24cb216_\u001b[0m\n",
            "15\n",
            "\u001b[32m[Mon Aug  5 11:23:33 2024]\u001b[0m\n",
            "\u001b[32mFinished job 8.\u001b[0m\n",
            "\u001b[32m18 of 138 steps (13%) done\u001b[0m\n",
            "\u001b[33mSelect jobs to execute...\u001b[0m\n",
            "\u001b[33mExecute 1 jobs...\u001b[0m\n",
            "\u001b[32m\u001b[0m\n",
            "\u001b[32m[Mon Aug  5 11:23:33 2024]\u001b[0m\n",
            "\u001b[32mlocalrule statistic_counts_frequent_umis:\n",
            "    input: results/experiments/experimentMPRAworkshop/counts/HepG2_1_DNA_filtered_counts.tsv.gz\n",
            "    output: results/experiments/experimentMPRAworkshop/statistic/counts.freqUMIs.HepG2_1_DNA.txt\n",
            "    log: results/logs/statistic/counts/frequent_umis.experimentMPRAworkshop.HepG2.1.DNA.log\n",
            "    jobid: 56\n",
            "    reason: Missing output files: results/experiments/experimentMPRAworkshop/statistic/counts.freqUMIs.HepG2_1_DNA.txt; Input files updated by another job: results/experiments/experimentMPRAworkshop/counts/HepG2_1_DNA_filtered_counts.tsv.gz\n",
            "    wildcards: project=experimentMPRAworkshop, condition=HepG2, replicate=1, type=DNA\n",
            "    resources: tmpdir=/tmp\u001b[0m\n",
            "\u001b[32m\u001b[0m\n",
            "\u001b[33mActivating conda environment: ../conda_envs/ec92106e14f6232977fd0918d24cb216_\u001b[0m\n",
            "\u001b[32m[Mon Aug  5 11:23:35 2024]\u001b[0m\n",
            "\u001b[32mFinished job 56.\u001b[0m\n",
            "\u001b[32m19 of 138 steps (14%) done\u001b[0m\n",
            "\u001b[33mSelect jobs to execute...\u001b[0m\n",
            "\u001b[33mExecute 1 jobs...\u001b[0m\n",
            "\u001b[32m\u001b[0m\n",
            "\u001b[32m[Mon Aug  5 11:23:35 2024]\u001b[0m\n",
            "\u001b[32mlocalrule counts_final_counts:\n",
            "    input: results/experiments/experimentMPRAworkshop/counts/HepG2_1_DNA_filtered_counts.tsv.gz\n",
            "    output: results/experiments/experimentMPRAworkshop/counts/HepG2_1_DNA_final_counts.tsv.gz\n",
            "    log: results/logs/counts/final_counts_umi.experimentMPRAworkshop.HepG2.1.DNA.log\n",
            "    jobid: 7\n",
            "    reason: Missing output files: results/experiments/experimentMPRAworkshop/counts/HepG2_1_DNA_final_counts.tsv.gz; Input files updated by another job: results/experiments/experimentMPRAworkshop/counts/HepG2_1_DNA_filtered_counts.tsv.gz\n",
            "    wildcards: project=experimentMPRAworkshop, condition=HepG2, replicate=1, type=DNA\n",
            "    resources: tmpdir=/tmp\u001b[0m\n",
            "\u001b[32m\u001b[0m\n",
            "\u001b[33mActivating conda environment: ../conda_envs/ec92106e14f6232977fd0918d24cb216_\u001b[0m\n",
            "\u001b[32m[Mon Aug  5 11:23:37 2024]\u001b[0m\n",
            "\u001b[32mFinished job 7.\u001b[0m\n",
            "\u001b[32m20 of 138 steps (14%) done\u001b[0m\n",
            "\u001b[33mSelect jobs to execute...\u001b[0m\n",
            "\u001b[33mExecute 1 jobs...\u001b[0m\n",
            "\u001b[32m\u001b[0m\n",
            "\u001b[32m[Mon Aug  5 11:23:37 2024]\u001b[0m\n",
            "\u001b[32mlocalrule statistic_bc_overlap_run:\n",
            "    input: results/experiments/experimentMPRAworkshop/counts/HepG2_1_DNA_final_counts.tsv.gz, results/experiments/experimentMPRAworkshop/counts/HepG2_2_DNA_final_counts.tsv.gz, results/experiments/experimentMPRAworkshop/counts/HepG2_3_DNA_final_counts.tsv.gz, /data/MPRAsnakeflow/workflow/rules/../scripts/count/BCCounts_betweenReplicates.R (cached)\n",
            "    output: results/experiments/experimentMPRAworkshop/statistic/bc_overlap/counts/overlapBCandCounts.HepG2_DNA.default.tsv\n",
            "    log: results/logs/statistic/bc_overlap/run.experimentMPRAworkshop.HepG2.DNA.default.counts.log\n",
            "    jobid: 95\n",
            "    reason: Missing output files: results/experiments/experimentMPRAworkshop/statistic/bc_overlap/counts/overlapBCandCounts.HepG2_DNA.default.tsv; Input files updated by another job: results/experiments/experimentMPRAworkshop/counts/HepG2_3_DNA_final_counts.tsv.gz, results/experiments/experimentMPRAworkshop/counts/HepG2_2_DNA_final_counts.tsv.gz, results/experiments/experimentMPRAworkshop/counts/HepG2_1_DNA_final_counts.tsv.gz\n",
            "    wildcards: project=experimentMPRAworkshop, raw_or_assigned=counts, condition=HepG2, type=DNA, config=default\n",
            "    resources: tmpdir=/tmp\u001b[0m\n",
            "\u001b[32m\u001b[0m\n",
            "\u001b[33mActivating conda environment: ../conda_envs/a97672b6846360f00f0e85ee53a46950_\u001b[0m\n",
            "\u001b[32m[Mon Aug  5 11:23:50 2024]\u001b[0m\n",
            "\u001b[32mFinished job 95.\u001b[0m\n",
            "\u001b[32m21 of 138 steps (15%) done\u001b[0m\n",
            "\u001b[33mSelect jobs to execute...\u001b[0m\n",
            "\u001b[33mExecute 1 jobs...\u001b[0m\n",
            "\u001b[32m\u001b[0m\n",
            "\u001b[32m[Mon Aug  5 11:23:51 2024]\u001b[0m\n",
            "\u001b[32mlocalrule assigned_counts_assignBarcodes:\n",
            "    input: results/experiments/experimentMPRAworkshop/counts/HepG2_1_DNA_final_counts.tsv.gz, results/experiments/experimentMPRAworkshop/assignment/MPRAworkshop.tsv.gz, /data/MPRAsnakeflow/workflow/rules/../scripts/count/merge_BC_and_assignment.py (cached)\n",
            "    output: results/experiments/experimentMPRAworkshop/assigned_counts/MPRAworkshop/HepG2_1_DNA_final_counts.config.tutorialConfig.tsv.gz, results/experiments/experimentMPRAworkshop/statistic/assigned_counts/MPRAworkshop/HepG2_1_DNA_tutorialConfig.statistic.tsv.gz\n",
            "    log: results/logs/assigned_counts/assignBarcodes.experimentMPRAworkshop.HepG2.1.DNA.tutorialConfig.MPRAworkshop.log\n",
            "    jobid: 86\n",
            "    reason: Missing output files: results/experiments/experimentMPRAworkshop/assigned_counts/MPRAworkshop/HepG2_1_DNA_final_counts.config.tutorialConfig.tsv.gz, results/experiments/experimentMPRAworkshop/statistic/assigned_counts/MPRAworkshop/HepG2_1_DNA_tutorialConfig.statistic.tsv.gz; Input files updated by another job: results/experiments/experimentMPRAworkshop/assignment/MPRAworkshop.tsv.gz, results/experiments/experimentMPRAworkshop/counts/HepG2_1_DNA_final_counts.tsv.gz\n",
            "    wildcards: project=experimentMPRAworkshop, assignment=MPRAworkshop, condition=HepG2, replicate=1, type=DNA, config=tutorialConfig\n",
            "    resources: tmpdir=/tmp\u001b[0m\n",
            "\u001b[32m\u001b[0m\n",
            "\u001b[33mActivating conda environment: ../conda_envs/653b2f2da62f9e29538eeaf42dc2a489_\u001b[0m\n",
            "\u001b[32m[Mon Aug  5 11:23:51 2024]\u001b[0m\n",
            "\u001b[32mFinished job 92.\u001b[0m\n",
            "\u001b[32m22 of 138 steps (16%) done\u001b[0m\n",
            "\u001b[33mSelect jobs to execute...\u001b[0m\n",
            "\u001b[33mExecute 1 jobs...\u001b[0m\n",
            "\u001b[32m\u001b[0m\n",
            "\u001b[32m[Mon Aug  5 11:23:51 2024]\u001b[0m\n",
            "\u001b[32mlocalrule statistic_counts_table:\n",
            "    input: results/experiments/experimentMPRAworkshop/counts/useUMI.HepG2_1_DNA_raw_counts.tsv.gz\n",
            "    output: results/experiments/experimentMPRAworkshop/statistic/counts/HepG2_1_DNA_raw_counts.tsv.gz\n",
            "    log: results/logs/statistic/counts/table.experimentMPRAworkshop.HepG2_1_DNA_raw.log\n",
            "    jobid: 33\n",
            "    reason: Missing output files: results/experiments/experimentMPRAworkshop/statistic/counts/HepG2_1_DNA_raw_counts.tsv.gz; Input files updated by another job: results/experiments/experimentMPRAworkshop/counts/useUMI.HepG2_1_DNA_raw_counts.tsv.gz\n",
            "    wildcards: project=experimentMPRAworkshop, condition=HepG2, replicate=1, type=DNA, countType=raw\n",
            "    resources: tmpdir=/tmp\u001b[0m\n",
            "\u001b[32m\u001b[0m\n",
            "\u001b[33mActivating conda environment: ../conda_envs/ec92106e14f6232977fd0918d24cb216_\u001b[0m\n",
            "\u001b[32m[Mon Aug  5 11:23:53 2024]\u001b[0m\n",
            "\u001b[32mFinished job 33.\u001b[0m\n",
            "\u001b[32m23 of 138 steps (17%) done\u001b[0m\n",
            "\u001b[33mSelect jobs to execute...\u001b[0m\n",
            "\u001b[33mExecute 1 jobs...\u001b[0m\n",
            "\u001b[32m\u001b[0m\n",
            "\u001b[32m[Mon Aug  5 11:23:53 2024]\u001b[0m\n",
            "\u001b[32mlocalrule statistic_counts_table:\n",
            "    input: results/experiments/experimentMPRAworkshop/counts/HepG2_1_DNA_filtered_counts.tsv.gz\n",
            "    output: results/experiments/experimentMPRAworkshop/statistic/counts/HepG2_1_DNA_filtered_counts.tsv.gz\n",
            "    log: results/logs/statistic/counts/table.experimentMPRAworkshop.HepG2_1_DNA_filtered.log\n",
            "    jobid: 45\n",
            "    reason: Missing output files: results/experiments/experimentMPRAworkshop/statistic/counts/HepG2_1_DNA_filtered_counts.tsv.gz; Input files updated by another job: results/experiments/experimentMPRAworkshop/counts/HepG2_1_DNA_filtered_counts.tsv.gz\n",
            "    wildcards: project=experimentMPRAworkshop, condition=HepG2, replicate=1, type=DNA, countType=filtered\n",
            "    resources: tmpdir=/tmp\u001b[0m\n",
            "\u001b[32m\u001b[0m\n",
            "\u001b[33mActivating conda environment: ../conda_envs/ec92106e14f6232977fd0918d24cb216_\u001b[0m\n",
            "\u001b[32m[Mon Aug  5 11:23:53 2024]\u001b[0m\n",
            "\u001b[32mFinished job 82.\u001b[0m\n",
            "\u001b[32m24 of 138 steps (17%) done\u001b[0m\n",
            "\u001b[33mSelect jobs to execute...\u001b[0m\n",
            "\u001b[33mExecute 1 jobs...\u001b[0m\n",
            "\u001b[32m\u001b[0m\n",
            "\u001b[32m[Mon Aug  5 11:23:53 2024]\u001b[0m\n",
            "\u001b[32mlocalrule statistic_counts_barcode_base_composition:\n",
            "    input: results/experiments/experimentMPRAworkshop/counts/HepG2_1_DNA_final_counts.tsv.gz, /data/MPRAsnakeflow/workflow/rules/../scripts/count/nucleotideCountPerPosition.py (cached)\n",
            "    output: results/experiments/experimentMPRAworkshop/counts/HepG2_1_DNA_final.BC.tsv.gz, results/experiments/experimentMPRAworkshop/statistic/counts/BCNucleotideComposition.HepG2_1_DNA.tsv.gz\n",
            "    log: results/logs/statistic/counts/barcode_base_composition.experimentMPRAworkshop.HepG2_1_DNA.log\n",
            "    jobid: 6\n",
            "    reason: Missing output files: results/experiments/experimentMPRAworkshop/statistic/counts/BCNucleotideComposition.HepG2_1_DNA.tsv.gz; Input files updated by another job: results/experiments/experimentMPRAworkshop/counts/HepG2_1_DNA_final_counts.tsv.gz\n",
            "    wildcards: project=experimentMPRAworkshop, condition=HepG2, replicate=1, type=DNA\n",
            "    resources: tmpdir=/tmp\u001b[0m\n",
            "\u001b[32m\u001b[0m\n",
            "\u001b[33mActivating conda environment: ../conda_envs/653b2f2da62f9e29538eeaf42dc2a489_\u001b[0m\n",
            "\u001b[32m[Mon Aug  5 11:23:53 2024]\u001b[0m\n",
            "\u001b[32mFinished job 89.\u001b[0m\n",
            "\u001b[32m25 of 138 steps (18%) done\u001b[0m\n",
            "\u001b[33mSelect jobs to execute...\u001b[0m\n",
            "\u001b[33mExecute 1 jobs...\u001b[0m\n",
            "\u001b[32m\u001b[0m\n",
            "\u001b[32m[Mon Aug  5 11:23:53 2024]\u001b[0m\n",
            "\u001b[32mlocalrule assigned_counts_assignBarcodes:\n",
            "    input: results/experiments/experimentMPRAworkshop/counts/HepG2_1_DNA_final_counts.tsv.gz, results/experiments/experimentMPRAworkshop/assignment/MPRAworkshop.tsv.gz, /data/MPRAsnakeflow/workflow/rules/../scripts/count/merge_BC_and_assignment.py (cached)\n",
            "    output: results/experiments/experimentMPRAworkshop/assigned_counts/MPRAworkshop/HepG2_1_DNA_final_counts.config.default.tsv.gz, results/experiments/experimentMPRAworkshop/statistic/assigned_counts/MPRAworkshop/HepG2_1_DNA_default.statistic.tsv.gz\n",
            "    log: results/logs/assigned_counts/assignBarcodes.experimentMPRAworkshop.HepG2.1.DNA.default.MPRAworkshop.log\n",
            "    jobid: 75\n",
            "    reason: Missing output files: results/experiments/experimentMPRAworkshop/assigned_counts/MPRAworkshop/HepG2_1_DNA_final_counts.config.default.tsv.gz, results/experiments/experimentMPRAworkshop/statistic/assigned_counts/MPRAworkshop/HepG2_1_DNA_default.statistic.tsv.gz; Input files updated by another job: results/experiments/experimentMPRAworkshop/assignment/MPRAworkshop.tsv.gz, results/experiments/experimentMPRAworkshop/counts/HepG2_1_DNA_final_counts.tsv.gz\n",
            "    wildcards: project=experimentMPRAworkshop, assignment=MPRAworkshop, condition=HepG2, replicate=1, type=DNA, config=default\n",
            "    resources: tmpdir=/tmp\u001b[0m\n",
            "\u001b[32m\u001b[0m\n",
            "\u001b[33mActivating conda environment: ../conda_envs/653b2f2da62f9e29538eeaf42dc2a489_\u001b[0m\n",
            "\u001b[32m[Mon Aug  5 11:23:54 2024]\u001b[0m\n",
            "\u001b[32mFinished job 79.\u001b[0m\n",
            "\u001b[32m26 of 138 steps (19%) done\u001b[0m\n",
            "\u001b[33mSelect jobs to execute...\u001b[0m\n",
            "\u001b[33mExecute 1 jobs...\u001b[0m\n",
            "\u001b[32m\u001b[0m\n",
            "\u001b[32m[Mon Aug  5 11:23:54 2024]\u001b[0m\n",
            "\u001b[32mlocalrule statistic_bc_overlap_run:\n",
            "    input: results/experiments/experimentMPRAworkshop/counts/HepG2_1_DNA_final_counts.tsv.gz, results/experiments/experimentMPRAworkshop/counts/HepG2_2_DNA_final_counts.tsv.gz, results/experiments/experimentMPRAworkshop/counts/HepG2_3_DNA_final_counts.tsv.gz, /data/MPRAsnakeflow/workflow/rules/../scripts/count/BCCounts_betweenReplicates.R (cached)\n",
            "    output: results/experiments/experimentMPRAworkshop/statistic/bc_overlap/counts/overlapBCandCounts.HepG2_DNA.tutorialConfig.tsv\n",
            "    log: results/logs/statistic/bc_overlap/run.experimentMPRAworkshop.HepG2.DNA.tutorialConfig.counts.log\n",
            "    jobid: 98\n",
            "    reason: Missing output files: results/experiments/experimentMPRAworkshop/statistic/bc_overlap/counts/overlapBCandCounts.HepG2_DNA.tutorialConfig.tsv; Input files updated by another job: results/experiments/experimentMPRAworkshop/counts/HepG2_3_DNA_final_counts.tsv.gz, results/experiments/experimentMPRAworkshop/counts/HepG2_2_DNA_final_counts.tsv.gz, results/experiments/experimentMPRAworkshop/counts/HepG2_1_DNA_final_counts.tsv.gz\n",
            "    wildcards: project=experimentMPRAworkshop, raw_or_assigned=counts, condition=HepG2, type=DNA, config=tutorialConfig\n",
            "    resources: tmpdir=/tmp\u001b[0m\n",
            "\u001b[32m\u001b[0m\n",
            "\u001b[33mActivating conda environment: ../conda_envs/a97672b6846360f00f0e85ee53a46950_\u001b[0m\n",
            "\u001b[32m[Mon Aug  5 11:23:55 2024]\u001b[0m\n",
            "\u001b[32mFinished job 45.\u001b[0m\n",
            "\u001b[32m27 of 138 steps (20%) done\u001b[0m\n",
            "\u001b[32m[Mon Aug  5 11:24:04 2024]\u001b[0m\n",
            "\u001b[32mFinished job 98.\u001b[0m\n",
            "\u001b[32m28 of 138 steps (20%) done\u001b[0m\n",
            "\u001b[32m[Mon Aug  5 11:24:09 2024]\u001b[0m\n",
            "\u001b[32mFinished job 26.\u001b[0m\n",
            "\u001b[32m29 of 138 steps (21%) done\u001b[0m\n",
            "\u001b[33mRemoving temporary output results/experiments/experimentMPRAworkshop/counts/HepG2_3_DNA_final.BC.tsv.gz.\u001b[0m\n",
            "\u001b[32m[Mon Aug  5 11:24:09 2024]\u001b[0m\n",
            "\u001b[32mFinished job 16.\u001b[0m\n",
            "\u001b[32m30 of 138 steps (22%) done\u001b[0m\n",
            "\u001b[33mRemoving temporary output results/experiments/experimentMPRAworkshop/counts/HepG2_2_DNA_final.BC.tsv.gz.\u001b[0m\n",
            "\u001b[32m[Mon Aug  5 11:24:15 2024]\u001b[0m\n",
            "\u001b[32mFinished job 86.\u001b[0m\n",
            "\u001b[32m31 of 138 steps (22%) done\u001b[0m\n",
            "\u001b[33mSelect jobs to execute...\u001b[0m\n",
            "\u001b[33mExecute 1 jobs...\u001b[0m\n",
            "\u001b[32m\u001b[0m\n",
            "\u001b[32m[Mon Aug  5 11:24:15 2024]\u001b[0m\n",
            "\u001b[32mlocalrule statistic_bc_overlap_run:\n",
            "    input: results/experiments/experimentMPRAworkshop/assigned_counts/MPRAworkshop/HepG2_1_DNA_final_counts.config.tutorialConfig.tsv.gz, results/experiments/experimentMPRAworkshop/assigned_counts/MPRAworkshop/HepG2_2_DNA_final_counts.config.tutorialConfig.tsv.gz, results/experiments/experimentMPRAworkshop/assigned_counts/MPRAworkshop/HepG2_3_DNA_final_counts.config.tutorialConfig.tsv.gz, /data/MPRAsnakeflow/workflow/rules/../scripts/count/BCCounts_betweenReplicates.R (cached)\n",
            "    output: results/experiments/experimentMPRAworkshop/statistic/bc_overlap/assigned_counts/MPRAworkshop/overlapBCandCounts.HepG2_DNA.tutorialConfig.tsv\n",
            "    log: results/logs/statistic/bc_overlap/run.experimentMPRAworkshop.HepG2.DNA.tutorialConfig.assigned_counts/MPRAworkshop.log\n",
            "    jobid: 108\n",
            "    reason: Missing output files: results/experiments/experimentMPRAworkshop/statistic/bc_overlap/assigned_counts/MPRAworkshop/overlapBCandCounts.HepG2_DNA.tutorialConfig.tsv; Input files updated by another job: results/experiments/experimentMPRAworkshop/assigned_counts/MPRAworkshop/HepG2_3_DNA_final_counts.config.tutorialConfig.tsv.gz, results/experiments/experimentMPRAworkshop/assigned_counts/MPRAworkshop/HepG2_1_DNA_final_counts.config.tutorialConfig.tsv.gz, results/experiments/experimentMPRAworkshop/assigned_counts/MPRAworkshop/HepG2_2_DNA_final_counts.config.tutorialConfig.tsv.gz\n",
            "    wildcards: project=experimentMPRAworkshop, raw_or_assigned=assigned_counts/MPRAworkshop, condition=HepG2, type=DNA, config=tutorialConfig\n",
            "    resources: tmpdir=/tmp\u001b[0m\n",
            "\u001b[32m\u001b[0m\n",
            "\u001b[33mActivating conda environment: ../conda_envs/a97672b6846360f00f0e85ee53a46950_\u001b[0m\n",
            "\u001b[32m[Mon Aug  5 11:24:16 2024]\u001b[0m\n",
            "\u001b[32mFinished job 75.\u001b[0m\n",
            "\u001b[32m32 of 138 steps (23%) done\u001b[0m\n",
            "\u001b[33mSelect jobs to execute...\u001b[0m\n",
            "\u001b[33mExecute 1 jobs...\u001b[0m\n",
            "\u001b[32m\u001b[0m\n",
            "\u001b[32m[Mon Aug  5 11:24:16 2024]\u001b[0m\n",
            "\u001b[32mlocalrule statistic_bc_overlap_run:\n",
            "    input: results/experiments/experimentMPRAworkshop/assigned_counts/MPRAworkshop/HepG2_1_DNA_final_counts.config.default.tsv.gz, results/experiments/experimentMPRAworkshop/assigned_counts/MPRAworkshop/HepG2_2_DNA_final_counts.config.default.tsv.gz, results/experiments/experimentMPRAworkshop/assigned_counts/MPRAworkshop/HepG2_3_DNA_final_counts.config.default.tsv.gz, /data/MPRAsnakeflow/workflow/rules/../scripts/count/BCCounts_betweenReplicates.R (cached)\n",
            "    output: results/experiments/experimentMPRAworkshop/statistic/bc_overlap/assigned_counts/MPRAworkshop/overlapBCandCounts.HepG2_DNA.default.tsv\n",
            "    log: results/logs/statistic/bc_overlap/run.experimentMPRAworkshop.HepG2.DNA.default.assigned_counts/MPRAworkshop.log\n",
            "    jobid: 105\n",
            "    reason: Missing output files: results/experiments/experimentMPRAworkshop/statistic/bc_overlap/assigned_counts/MPRAworkshop/overlapBCandCounts.HepG2_DNA.default.tsv; Input files updated by another job: results/experiments/experimentMPRAworkshop/assigned_counts/MPRAworkshop/HepG2_3_DNA_final_counts.config.default.tsv.gz, results/experiments/experimentMPRAworkshop/assigned_counts/MPRAworkshop/HepG2_1_DNA_final_counts.config.default.tsv.gz, results/experiments/experimentMPRAworkshop/assigned_counts/MPRAworkshop/HepG2_2_DNA_final_counts.config.default.tsv.gz\n",
            "    wildcards: project=experimentMPRAworkshop, raw_or_assigned=assigned_counts/MPRAworkshop, condition=HepG2, type=DNA, config=default\n",
            "    resources: tmpdir=/tmp\u001b[0m\n",
            "\u001b[32m\u001b[0m\n",
            "\u001b[33mActivating conda environment: ../conda_envs/a97672b6846360f00f0e85ee53a46950_\u001b[0m\n",
            "\u001b[32m[Mon Aug  5 11:24:20 2024]\u001b[0m\n",
            "\u001b[32mFinished job 108.\u001b[0m\n",
            "\u001b[32m33 of 138 steps (24%) done\u001b[0m\n",
            "\u001b[32m[Mon Aug  5 11:24:21 2024]\u001b[0m\n",
            "\u001b[32mFinished job 105.\u001b[0m\n",
            "\u001b[32m34 of 138 steps (25%) done\u001b[0m\n",
            "\u001b[32m[Mon Aug  5 11:24:27 2024]\u001b[0m\n",
            "\u001b[32mFinished job 6.\u001b[0m\n",
            "\u001b[32m35 of 138 steps (25%) done\u001b[0m\n",
            "\u001b[33mRemoving temporary output results/experiments/experimentMPRAworkshop/counts/HepG2_1_DNA_final.BC.tsv.gz.\u001b[0m\n"
          ]
        }
      ],
      "source": [
        "runContainer(\"snakemake --configfile config_experiment.yaml -c 10\")"
      ]
    },
    {
      "cell_type": "markdown",
      "metadata": {},
      "source": [
        "## Experiment results\n",
        "\n",
        "Let's take a look at the files in the experiment results folder!"
      ]
    },
    {
      "cell_type": "code",
      "execution_count": null,
      "metadata": {},
      "outputs": [
        {
          "name": "stdout",
          "output_type": "stream",
          "text": [
            "MPRAsnakeflow_tutorial/results/experiments:\n",
            "experimentMPRAworkshop\n",
            "\n",
            "MPRAsnakeflow_tutorial/results/experiments/experimentMPRAworkshop:\n",
            "assignment  counts\n",
            "\n",
            "MPRAsnakeflow_tutorial/results/experiments/experimentMPRAworkshop/assignment:\n",
            "MPRAworkshop.tsv.gz\n",
            "\n",
            "MPRAsnakeflow_tutorial/results/experiments/experimentMPRAworkshop/counts:\n",
            "useUMI.HepG2_1_DNA.bam\tuseUMI.HepG2_2_DNA.bam\tuseUMI.HepG2_3_DNA.bam\n",
            "useUMI.HepG2_1_RNA.bam\tuseUMI.HepG2_2_RNA.bam\tuseUMI.HepG2_3_RNA.bam\n"
          ]
        }
      ],
      "source": [
        "results_dir = \"MPRAsnakeflow_tutorial/results/experiments\"\n",
        "!ls -R \"{results_dir}\""
      ]
    },
    {
      "cell_type": "markdown",
      "metadata": {},
      "source": [
        "We can take a look at the amount of barcodes that have been removed due to UMI collision, by checking how many unique BC x UMI combinations we have in our data. (We are now checking the RNA counts in replicate 1, but we should look at both DNA and RNA counts in all three replicates.)"
      ]
    },
    {
      "cell_type": "code",
      "execution_count": null,
      "metadata": {},
      "outputs": [
        {
          "name": "stdout",
          "output_type": "stream",
          "text": [
            "First few lines of a count file, where column 1 contains the barcode, 2 the UMI and 3 the count.\n",
            "gzip: MPRAsnakeflow_tutorial/results/experiments/experimentMPRAworkshop/counts/HepG2_1_RNA_filtered_counts.tsv.gz: No such file or directory\n",
            "\n",
            "Amount of total BC x UMI combinations:\n",
            "gzip: MPRAsnakeflow_tutorial/results/experiments/experimentMPRAworkshop/counts/HepG2_1_RNA_filtered_counts.tsv.gz: No such file or directory\n",
            "0\n",
            "\n",
            "Amount of duplicate BC x UMI combinations (the file is sorted):\n",
            "gzip: MPRAsnakeflow_tutorial/results/experiments/experimentMPRAworkshop/counts/HepG2_1_RNA_filtered_counts.tsv.gz: No such file or directory\n",
            "0\n"
          ]
        }
      ],
      "source": [
        "print(\"First few lines of a count file, where column 1 contains the barcode, 2 the UMI and 3 the count.\")\n",
        "!zcat \"{results_dir}\"/experimentMPRAworkshop/counts/HepG2_1_RNA_filtered_counts.tsv.gz | awk 'NR <= 10 {{print}}'\n",
        "\n",
        "print(\"\\nAmount of total BC x UMI combinations:\")\n",
        "!zcat \"{results_dir}\"/experimentMPRAworkshop/counts/HepG2_1_RNA_filtered_counts.tsv.gz | wc -l\n",
        "\n",
        "print(\"\\nAmount of duplicate BC x UMI combinations (the file is sorted):\")\n",
        "!zcat \"{results_dir}\"/experimentMPRAworkshop/counts/HepG2_1_RNA_filtered_counts.tsv.gz | uniq -d | wc -l"
      ]
    },
    {
      "cell_type": "markdown",
      "metadata": {},
      "source": [
        "There are no collisions, indicating that this subset of the data is of high quality. Great!"
      ]
    },
    {
      "cell_type": "markdown",
      "metadata": {},
      "source": [
        "The count files are then joined with the assignment file (the output of the assignment step) to assign counts to oligos. The barcode counts are then aggregated over the oligos. This is done within MPRAsnakeflow with additional filter steps, but to give you a feeling of what's happening we give you some simplified code below:"
      ]
    },
    {
      "cell_type": "code",
      "execution_count": null,
      "metadata": {},
      "outputs": [
        {
          "name": "stdout",
          "output_type": "stream",
          "text": [
            "Joining the assignment and the counts of replicate 1:\n",
            "\n",
            "Barcode\toligo\tDNA\tRNA\n",
            "gzip: MPRAsnakeflow_tutorial/results/experiments/experimentMPRAworkshop/assigned_counts/MPRAworkshop/HepG2_1.merged.config.tutorialConfig.tsv.gz: No such file or directory\n",
            "\n",
            "Aggregating the barcodes over oligos and the counts of replicate 1:\n",
            "\n",
            "oligo\tDNA\tRNA\n",
            "gzip: MPRAsnakeflow_tutorial/results/experiments/experimentMPRAworkshop/assigned_counts/MPRAworkshop/HepG2_1.merged.config.tutorialConfig.tsv.gz: No such file or directory\n"
          ]
        }
      ],
      "source": [
        "counts_rep1 = os.path.join(results_dir, \"experimentMPRAworkshop/assigned_counts/MPRAworkshop/HepG2_1.merged.config.tutorialConfig.tsv.gz\")\n",
        "assignment = \"MPRAsnakeflow_tutorial/example_data/assignment/assignment_barcodes.default.tsv.gz\"\n",
        "\n",
        "print(\"Joining the assignment and the counts of replicate 1:\\n\\nBarcode\\toligo\\tDNA\\tRNA\")\n",
        "!join <(zcat {assignment}) <(zcat {counts_rep1}) -t $'\\t' | cut -f 1,2,5-6 | awk 'NR <= 10 {{print}}'\n",
        "\n",
        "print(\"\\nAggregating the barcodes over oligos and the counts of replicate 1:\\n\\noligo\\tDNA\\tRNA\")\n",
        "!join <(zcat {assignment}) <(zcat {counts_rep1}) -t $'\\t' | cut -f 1,2,5-6 | sort -k2,2 | \\\n",
        " awk -v OFS=\"\\t\" '{{if ($$2 == prev) {{dna += $$3; rna += $$4}} else {{ if (NR > 1) print prev,dna,rna; prev=$$2; dna=$$3;rna=$$4}}}}' | awk 'NR <= 10 {{print}}'"
      ]
    },
    {
      "cell_type": "markdown",
      "metadata": {},
      "source": [
        "In the next steps, barcodes are already aggregated to their oligos/targets.  \n",
        "  \n",
        "We will have a look at the correlation plots between the replicates for DNA and RNA now. Typically, we will sequence RNA counts deeper than DNA -- because of the larger dynamic range of RNA. We therefore expect that the correlation of RNA counts is higher than that of the DNA. Our example data shows this trend as well.\n",
        "\n",
        "We have a correlation of DNA counts per insert between the replicates of 0.27 and 0.31. This correlation is for a subset of the complete MPRA experiment. The shown output uses the user set minThreshold for removing barcodes with too few counts. In order to see the influence of the parameter another plot is generated without this threshold."
      ]
    },
    {
      "cell_type": "markdown",
      "metadata": {},
      "source": [
        "With the threshold of 5 barcodes per oligo and at least one DNA and RNA count\n",
        "- DNA correlation: 0.28 - 0.31\n",
        "- RNA correlation: 0.68 - 0.70"
      ]
    },
    {
      "cell_type": "code",
      "execution_count": null,
      "metadata": {},
      "outputs": [
        {
          "name": "stdout",
          "output_type": "stream",
          "text": [
            "4.10.0\n"
          ]
        },
        {
          "name": "stderr",
          "output_type": "stream",
          "text": [
            "[ WARN:0@11.299] global loadsave.cpp:241 findDecoder imread_('MPRAsnakeflow_tutorial/results/experiments/experimentMPRAworkshop/statistic/assigned_counts/MPRAworkshop/tutorialConfig/HepG2_DNA_pairwise_minThreshold.png'): can't open/read file: check file path/integrity\n"
          ]
        },
        {
          "ename": "error",
          "evalue": "OpenCV(4.10.0) /io/opencv/modules/imgproc/src/resize.cpp:4152: error: (-215:Assertion failed) !ssize.empty() in function 'resize'\n",
          "output_type": "error",
          "traceback": [
            "\u001b[0;31m---------------------------------------------------------------------------\u001b[0m",
            "\u001b[0;31merror\u001b[0m                                     Traceback (most recent call last)",
            "Cell \u001b[0;32mIn[18], line 4\u001b[0m\n\u001b[1;32m      1\u001b[0m \u001b[38;5;28mprint\u001b[39m(cv2\u001b[38;5;241m.\u001b[39m__version__)\n\u001b[1;32m      2\u001b[0m dna_pairwise \u001b[38;5;241m=\u001b[39m cv2\u001b[38;5;241m.\u001b[39mimread(\u001b[38;5;124mf\u001b[39m\u001b[38;5;124m'\u001b[39m\u001b[38;5;132;01m{\u001b[39;00mresults_dir\u001b[38;5;132;01m}\u001b[39;00m\u001b[38;5;124m/experimentMPRAworkshop/statistic/assigned_counts/MPRAworkshop/tutorialConfig/HepG2_DNA_pairwise_minThreshold.png\u001b[39m\u001b[38;5;124m'\u001b[39m)\n\u001b[0;32m----> 4\u001b[0m dna_pairwise_resize \u001b[38;5;241m=\u001b[39m \u001b[43mcv2\u001b[49m\u001b[38;5;241;43m.\u001b[39;49m\u001b[43mresize\u001b[49m\u001b[43m(\u001b[49m\u001b[43mdna_pairwise\u001b[49m\u001b[43m,\u001b[49m\u001b[43m \u001b[49m\u001b[43m(\u001b[49m\u001b[38;5;241;43m600\u001b[39;49m\u001b[43m,\u001b[49m\u001b[43m \u001b[49m\u001b[38;5;241;43m1000\u001b[39;49m\u001b[43m)\u001b[49m\u001b[43m)\u001b[49m\n\u001b[1;32m      6\u001b[0m plt\u001b[38;5;241m.\u001b[39mimshow(dna_pairwise_resize)\n\u001b[1;32m      7\u001b[0m plt\u001b[38;5;241m.\u001b[39mshow()\n",
            "\u001b[0;31merror\u001b[0m: OpenCV(4.10.0) /io/opencv/modules/imgproc/src/resize.cpp:4152: error: (-215:Assertion failed) !ssize.empty() in function 'resize'\n"
          ]
        }
      ],
      "source": [
        "print(cv2.__version__)\n",
        "dna_pairwise = cv2.imread(f'{results_dir}/experimentMPRAworkshop/statistic/assigned_counts/MPRAworkshop/tutorialConfig/HepG2_DNA_pairwise_minThreshold.png')\n",
        "\n",
        "dna_pairwise_resize = cv2.resize(dna_pairwise, (600, 1000))\n",
        "\n",
        "plt.imshow(dna_pairwise_resize)\n",
        "plt.show()"
      ]
    },
    {
      "cell_type": "code",
      "execution_count": null,
      "metadata": {},
      "outputs": [],
      "source": [
        "rna_pairwise_no_thresh = cv2.imread(f'{results_dir}/experimentMPRAworkshop/statistic/assigned_counts/MPRAworkshop/tutorialConfig/HepG2_RNA_pairwise.png')\n",
        "\n",
        "rna_pairwise_no_thresh_resize = cv2.resize(rna_pairwise_no_thresh, (600, 1000))\n",
        "\n",
        "plt.imshow(rna_pairwise_no_thresh_resize)\n",
        "plt.show()"
      ]
    },
    {
      "cell_type": "markdown",
      "metadata": {},
      "source": [
        "In the following two figures you can see that this trend is continues for a threshold of 10 barcodes per insert.\n",
        "- DNA correlation: 0.31 - 0.39\n",
        "- RNA correlation: 0.79 - 0.80"
      ]
    },
    {
      "cell_type": "code",
      "execution_count": null,
      "metadata": {},
      "outputs": [],
      "source": [
        "dna_pairwise_no_thresh = cv2.imread(f'{results_dir}/experimentMPRAworkshop/statistic/assigned_counts/MPRAworkshop/default/HepG2_DNA_pairwise_minThreshold.png')\n",
        "\n",
        "dna_pairwise_no_thresh_resize = cv2.resize(dna_pairwise_no_thresh, (600, 1000))\n",
        "\n",
        "plt.imshow(dna_pairwise_no_thresh_resize)\n",
        "plt.show()"
      ]
    },
    {
      "cell_type": "code",
      "execution_count": null,
      "metadata": {},
      "outputs": [],
      "source": [
        "rna_pairwise_no_thresh = cv2.imread(f'{results_dir}/experimentMPRAworkshop/statistic/assigned_counts/MPRAworkshop/default/HepG2_RNA_pairwise_minThreshold.png')\n",
        "\n",
        "rna_pairwise_no_thresh_resize = cv2.resize(rna_pairwise_no_thresh, (600, 1000))\n",
        "\n",
        "plt.imshow(rna_pairwise_no_thresh_resize)\n",
        "plt.show()"
      ]
    },
    {
      "cell_type": "markdown",
      "metadata": {},
      "source": [
        "Even though it is a small example, the minimal barcode count threshold shows a clear effect on correlation. However, we also note that we are losing a proprotion of oligos with these strict filters and thereby limit the conclusions that we can draw from the data."
      ]
    },
    {
      "cell_type": "markdown",
      "metadata": {},
      "source": [
        "Now we want go through the final output of MPRAsnakeflow: the count table of sequences and barcodes together with their aggregated log2 values. Note that there are no statistics calculated at this step yet, the table doesn't say anything about certainty/variance of the activity. The log2 value refers to the log2 ratio of RNA counts over DNA counts for each oligo, which is a measurement of the activity of the target sequence. More on this in the statistical analysis tutorial."
      ]
    },
    {
      "cell_type": "code",
      "execution_count": null,
      "metadata": {},
      "outputs": [],
      "source": [
        " !zcat {results_dir}/experimentMPRAworkshop/assigned_counts/MPRAworkshop/tutorialConfig/HepG2_allreps_merged.tsv.gz | awk 'NR <= 10 {{print}}'"
      ]
    }
  ],
  "metadata": {
    "colab": {
      "collapsed_sections": [
        "32PHp-vU99x0",
        "6GilAsqZ4t9r"
      ],
      "include_colab_link": true,
      "provenance": []
    },
    "kernelspec": {
      "display_name": "Python 3",
      "name": "python3"
    },
    "language_info": {
      "codemirror_mode": {
        "name": "ipython",
        "version": 3
      },
      "file_extension": ".py",
      "mimetype": "text/x-python",
      "name": "python",
      "nbconvert_exporter": "python",
      "pygments_lexer": "ipython3",
      "version": "3.12.4"
    }
  },
  "nbformat": 4,
  "nbformat_minor": 0
}
