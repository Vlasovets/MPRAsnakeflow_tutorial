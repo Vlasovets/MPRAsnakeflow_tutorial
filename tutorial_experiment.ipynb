{
  "cells": [
    {
      "cell_type": "markdown",
      "metadata": {
        "colab_type": "text",
        "id": "view-in-github"
      },
      "source": [
        "<a href=\"https://colab.research.google.com/github/kircherlab/MPRAsnakeflow_tutorial/blob/development/tutorial_association.ipynb\" target=\"_parent\"><img src=\"https://colab.research.google.com/assets/colab-badge.svg\" alt=\"Open In Colab\"/></a>"
      ]
    },
    {
      "cell_type": "code",
      "execution_count": 36,
      "metadata": {
        "colab": {
          "base_uri": "https://localhost:8080/"
        },
        "id": "NsBG7lOCPnnE",
        "outputId": "6da1caeb-905a-42f8-843a-54409a379c0f"
      },
      "outputs": [],
      "source": [
        "import matplotlib.pyplot as plt\n",
        "import os\n",
        "import cv2"
      ]
    },
    {
      "cell_type": "markdown",
      "metadata": {
        "id": "BOSJecyQPnnC"
      },
      "source": [
        "# MPRAsnakeflow experiment tutorial\n",
        "\n",
        "First we will cover the config file and afterwards we will look at interesting results like the correlation of the DNA and RNA counts among the replicates. This is useful in practice to check if the data preparation went well, because if the resulting data is not correlating between replicates, problems during the experiment will introduce a bias in the results of our analysis that we would like to know about."
      ]
    },
    {
      "cell_type": "markdown",
      "metadata": {
        "id": "uAAYJQqv9zIk"
      },
      "source": [
        "## Pre-requirements"
      ]
    },
    {
      "cell_type": "markdown",
      "metadata": {
        "id": "dOsEkOFu-MbM"
      },
      "source": [
        "### Docker/uDocker/apptainer\n",
        "\n",
        "When running locally you need to install `docker` or `apptainer`. For running it remotly on google colab `udocker` in colab from github.com/drengskapur/docker-in-colab works nicely.\n",
        "\n",
        "We try to atomatically find out what you need:"
      ]
    },
    {
      "cell_type": "code",
      "execution_count": 2,
      "metadata": {},
      "outputs": [
        {
          "name": "stdout",
          "output_type": "stream",
          "text": [
            "Docker is installed! We will use Docker to run MPRAsnakeflow\n"
          ]
        }
      ],
      "source": [
        "tutorial_container = \"visze/mprasnakeflow_tutorial:0.1.0\"\n",
        "docker= False\n",
        "apptainer = False\n",
        "\n",
        "docker = !docker --help &>/dev/null; if [ $? -eq 0 ]; then echo 1; else echo 0; fi\n",
        "docker = bool(int(docker[0]))\n",
        "apptainer = !apptainer --help &>/dev/null; if [ $? -eq 0 ]; then echo 1; else echo 0; fi\n",
        "apptainer = bool(int(apptainer[0]))\n",
        "\n",
        "if docker:\n",
        "    print(\"Docker is installed! We will use Docker to run MPRAsnakeflow\")\n",
        "elif apptainer:\n",
        "    print(\"Apptainer is installed! We will use Apptainer to run MPRAsnakeflow\")\n",
        "else:\n",
        "    print(\"Neither Docker nor Apptainer is installed. We assume you run the tutorial on colab and we will install uDocker for colab\")"
      ]
    },
    {
      "cell_type": "markdown",
      "metadata": {},
      "source": [
        "When neither Docker nor Apptainer is installed we will install udocjer for colab now."
      ]
    },
    {
      "cell_type": "code",
      "execution_count": 3,
      "metadata": {
        "colab": {
          "base_uri": "https://localhost:8080/"
        },
        "id": "NSTDSHTN4JJk",
        "outputId": "5c2ad4b0-cc4b-4ced-9bfe-a75960cc36bd"
      },
      "outputs": [],
      "source": [
        "def udocker_init():\n",
        "    import os\n",
        "    if not os.path.exists(\"/home/user\"):\n",
        "        !pip install udocker > /dev/null\n",
        "        !udocker --allow-root install > /dev/null\n",
        "        !useradd -m user > /dev/null\n",
        "    print(f'Docker-in-Colab 1.1.0\\n')\n",
        "    print(f'Usage:     udocker(\"--help\")')\n",
        "    print(f'Examples:  https://github.com/indigo-dc/udocker?tab=readme-ov-file#examples')\n",
        "\n",
        "    def execute(command: str):\n",
        "        user_prompt = \"\\033[1;32muser@pc\\033[0m\"\n",
        "        print(f\"{user_prompt}$ udocker {command}\")\n",
        "        !su - user -c \"udocker $command\"\n",
        "\n",
        "    return execute\n",
        "\n",
        "if not docker and not apptainer:\n",
        "    udocker = udocker_init()"
      ]
    },
    {
      "cell_type": "markdown",
      "metadata": {},
      "source": [
        "We define a general function to run our MPRAsnakeflow tutorial container that will check if docker, apptainer or uDocker has to be run. It will also bind your data directory `${{PWD}}/MPRAsnakeflow_tutorial` (will be dowloaded later) to `/data/run` within the container and defines this as working directory."
      ]
    },
    {
      "cell_type": "code",
      "execution_count": 4,
      "metadata": {},
      "outputs": [],
      "source": [
        "def runContainer(command):\n",
        "    user_prompt = \"\\033[1;32muser@pc\\033[0m\"\n",
        "    if docker:\n",
        "        print(f\"{user_prompt}$ docker run -v=${{PWD}}/MPRAsnakeflow_tutorial:/data/run --workdir /data/run {tutorial_container} {command}\")\n",
        "        !docker run -v=${{PWD}}/MPRAsnakeflow_tutorial:/data/run --workdir /data/run {tutorial_container} {command}\n",
        "    elif apptainer:\n",
        "        print(f\"apptainer run -B=${{PWD}}/MPRAsnakeflow_tutorial:/data/run --cwd /data/run mprasnakeflow_tutorial.sif {command}\")\n",
        "        !apptainer run -B=${{PWD}}/MPRAsnakeflow_tutorial:/data/run --cwd /data/run mprasnakeflow_tutorial.sif {command}\n",
        "    else:\n",
        "        udocker(f\"run -v=${{PWD}}/MPRAsnakeflow_tutorial:/data/run --workdir /data/run mprasnakeflow_tutorial {command}\")"
      ]
    },
    {
      "cell_type": "markdown",
      "metadata": {
        "id": "4WYuqwGr-fEp"
      },
      "source": [
        "### snakemake\n",
        "\n",
        "MPRAsnakeflow and its software dependencies is packed in the official snakemake v8.16.0 container and you can find it on dockerhub wih thetag [`visze/mprasnakeflow_tutorial:0.1.0`](https://hub.docker.com/layers/visze/mprasnakeflow_tutorial/0.1.0/images/sha256-f4f75aae0ceba517d363307f176a83b1414c74086d99cbd5e90196b7e2ace179?context=explore)."
      ]
    },
    {
      "cell_type": "code",
      "execution_count": 5,
      "metadata": {
        "colab": {
          "base_uri": "https://localhost:8080/"
        },
        "id": "ZZv9f_eu4bB9",
        "outputId": "67fa0e9c-386e-454a-c88d-11ce125ee5c3"
      },
      "outputs": [
        {
          "name": "stdout",
          "output_type": "stream",
          "text": [
            "docker pull visze/mprasnakeflow_tutorial:0.1.0\n",
            "0.1.0: Pulling from visze/mprasnakeflow_tutorial\n",
            "Digest: sha256:f4f75aae0ceba517d363307f176a83b1414c74086d99cbd5e90196b7e2ace179\n",
            "Status: Image is up to date for visze/mprasnakeflow_tutorial:0.1.0\n",
            "docker.io/visze/mprasnakeflow_tutorial:0.1.0\n",
            "docker create --name=mprasnakeflow_tutorial visze/mprasnakeflow_tutorial:0.1.0\n",
            "Error response from daemon: Conflict. The container name \"/mprasnakeflow_tutorial\" is already in use by container \"09cc11b83e3301b01ff150ef98afd5300dec9f43f37d1e8ace9644cce3b416bc\". You have to remove (or rename) that container to be able to reuse that name.\n"
          ]
        }
      ],
      "source": [
        "if docker:\n",
        "    print(f\"docker pull {tutorial_container}\")\n",
        "    !docker pull \"{tutorial_container}\"\n",
        "    print(f\"docker create --name=mprasnakeflow_tutorial {tutorial_container}\")\n",
        "    !docker create --name=mprasnakeflow_tutorial \"{tutorial_container}\"\n",
        "elif apptainer:\n",
        "    print(f\"apptainer pull mprasnakeflow_tutorial.sif docker://{tutorial_container}\")\n",
        "    !apptainer pull mprasnakeflow_tutorial.sif docker://{tutorial_container}\n",
        "else:\n",
        "    udocker(f\"pull {tutorial_container}\")\n",
        "    udocker(f\"create --name=mprasnakeflow_tutorial {tutorial_container}\")"
      ]
    },
    {
      "cell_type": "markdown",
      "metadata": {
        "id": "zYhKnwlV-orz"
      },
      "source": [
        "Try to run `snakemake --version` in docker:"
      ]
    },
    {
      "cell_type": "code",
      "execution_count": 6,
      "metadata": {
        "colab": {
          "base_uri": "https://localhost:8080/"
        },
        "collapsed": true,
        "id": "jQi5e3634sDP",
        "outputId": "844eb31f-20d4-463a-ef20-6c6c3b013e7a"
      },
      "outputs": [
        {
          "name": "stdout",
          "output_type": "stream",
          "text": [
            "\u001b[1;32muser@pc\u001b[0m$ docker run -v=${PWD}/MPRAsnakeflow_tutorial:/data/run --workdir /data/run visze/mprasnakeflow_tutorial:0.1.0 snakemake --version\n",
            "8.16.0+0.g838b2fce.dirty\n"
          ]
        }
      ],
      "source": [
        "runContainer(\"snakemake --version\")"
      ]
    },
    {
      "cell_type": "markdown",
      "metadata": {
        "id": "Mb0rhjfo8dbA"
      },
      "source": [
        "### Test data\n",
        "\n",
        "The data used in this tutorial is present in the github repository. We will dowload it using git so that it is also present within a colab environment."
      ]
    },
    {
      "cell_type": "code",
      "execution_count": 7,
      "metadata": {
        "id": "BGLsBxpyst9V"
      },
      "outputs": [
        {
          "name": "stderr",
          "output_type": "stream",
          "text": [
            "fatal: destination path 'MPRAsnakeflow_tutorial' already exists and is not an empty directory.\n",
            "Already on 'development'\n"
          ]
        },
        {
          "name": "stdout",
          "output_type": "stream",
          "text": [
            "Your branch is up to date with 'origin/development'.\n"
          ]
        }
      ],
      "source": [
        "%%bash\n",
        "git clone https://github.com/kircherlab/MPRAsnakeflow_tutorial.git\n",
        "cd MPRAsnakeflow_tutorial\n",
        "git checkout development"
      ]
    },
    {
      "cell_type": "markdown",
      "metadata": {},
      "source": [
        "## Experiment Workflow\n",
        "\n",
        "For the experiment step, where the counts per oligo are calculated, we need all the files in the `example_data/counts` folder, as well as the config file and the barcode assignment file, which is the output of the assignment step (but also stored under `example_data/counts`).\n",
        "\n",
        "We investigated the assignment file in the association tutorial. This table is now used to count the number of observed barcodes for each target sequence."
      ]
    },
    {
      "cell_type": "markdown",
      "metadata": {},
      "source": [
        "We can take a look at the input files, to understand what we later have to gve the MPRAsnbakeflow pipeline via a config file. Each count experiment, in our case, is described using three files (the paths of which are in the `experiment.csv` file): forward reads, reverse reads, and UMIs. Note that the UMIs are optional, and serve to deduplicate barcodes with overdispersed counts due to preferential amplification related to GC content or library preparation steps. From one of the UMI read files, we can see that indeed our UMI length is 16:"
      ]
    },
    {
      "cell_type": "code",
      "execution_count": 8,
      "metadata": {},
      "outputs": [
        {
          "name": "stdout",
          "output_type": "stream",
          "text": [
            "\n",
            "Average length of a UMI:\n",
            "16\n"
          ]
        }
      ],
      "source": [
        "print(\"\\nAverage length of a UMI:\")\n",
        "!zcat \"MPRAsnakeflow_tutorial/example_data/counts/dna-1_S1_R2_001.fastq.gz\" | awk 'NR % 4 == 2 {{sum += length($$0)}} END {{print sum*4/NR}}'"
      ]
    },
    {
      "cell_type": "markdown",
      "metadata": {},
      "source": [
        "We can lso check the length of the barcode, which should be 15:"
      ]
    },
    {
      "cell_type": "code",
      "execution_count": 9,
      "metadata": {},
      "outputs": [
        {
          "name": "stdout",
          "output_type": "stream",
          "text": [
            "\n",
            "Average length of a barcode:\n",
            "15\n"
          ]
        }
      ],
      "source": [
        "print(\"\\nAverage length of a barcode:\")\n",
        "!zcat \"MPRAsnakeflow_tutorial/example_data/counts/dna-1_S1_R1_001.fastq.gz\" | awk 'NR % 4 == 2 {{sum += length($$0)}} END {{print sum*4/NR}}'"
      ]
    },
    {
      "cell_type": "markdown",
      "metadata": {
        "id": "0KqdtmOb_gHg"
      },
      "source": [
        "## Run MPRAsnakeflow\n",
        "\n",
        "\n"
      ]
    },
    {
      "cell_type": "markdown",
      "metadata": {},
      "source": [
        "### Snakemake\n",
        "\n",
        "Before we come to more MPRAsnakeflow pipeline specific things we quickly want to introduce the snakemake workflow management system. A workflow management system, also like nextflow or cwl, is a tool to create reproducible and scalable data analyses. Snakemake workflows are described via a human readable, Python based language. They can be seamlessly scaled to server, cluster, grid and cloud environments, without the need to modify the workflow definition. Finally, Snakemake workflows can entail a description of required software, which will be automatically deployed to any execution environment.\n",
        "\n",
        "Each step in snakemake is defined as a `rule`. Which has a `input`, `output` and a mostly `shell` command. The `input` and `output` are files that are used as input and output for the rule. The `shell` command is the command that is executed to create the output file from the input file. There are other commands like `conda`, `params`, `log`, `threads`, `resources` that can be used to define the rule.\n",
        "\n",
        "E.g. here is an example rule `assigned_counts_combine_replicates` of MPRAsnakeflow, which combines counts of replicates into one final count. In short: merging counts of replicates. The ruzle takes as ainput a tab separated file with all counts in it per condition. And the python script that will merge it `combine_replicates.py`. Path names in curly brackets like  `{project}` or `{assignment}` is a wildcard and the name will be the project, assignment name etc that is configured in the config files.  Finally the `shell` command takes the python script, the inputs and runs it creating the output and logs.\n",
        "\n",
        "```python\n",
        "rrule assigned_counts_combine_replicates:\n",
        "    \"\"\"\n",
        "    Combine replicates of master table by summing counts up and using also the average.\n",
        "    \"\"\"\n",
        "    conda:\n",
        "        \"../envs/python3.yaml\"\n",
        "    input:\n",
        "        master_table=\"results/experiments/{project}/assigned_counts/{assignment}/{config}/{condition}_{allreps_or_threshold}_merged.tsv.gz\",\n",
        "        script=getScript(\"count/combine_replicates.py\"),\n",
        "    output:\n",
        "        \"results/experiments/{project}/assigned_counts/{assignment}/{config}/{condition}_{allreps_or_threshold}_merged.combined.tsv.gz\",\n",
        "    params:\n",
        "        label_file=lambda wc: (\n",
        "            \"--labels %s\" % config[\"experiments\"][wc.project][\"label_file\"]\n",
        "            if \"label_file\" in config[\"experiments\"][wc.project]\n",
        "            else \"\"\n",
        "        ),\n",
        "    log:\n",
        "        temp(\n",
        "            \"results/logs/assigned_counts/combine_replicates.{project}.{condition}.{config}.{assignment}.{allreps_or_threshold}.log\"\n",
        "        ),\n",
        "    shell:\n",
        "        \"\"\"\n",
        "        python {input.script} \\\n",
        "        --input {input.master_table} \\\n",
        "        {params.label_file} \\\n",
        "        --output {output}  &> {log}\n",
        "        \"\"\"\n",
        "```\n"
      ]
    },
    {
      "cell_type": "markdown",
      "metadata": {},
      "source": [
        "When running snakemake you need to specify where your worflow is, basically the main `Snakefile` of it. By default, Snakemake will search for ‘Snakefile’, ‘snakefile’, ‘workflow/Snakefile’, ‘workflow/snakefile’ beneath the current working directory, in this order. Then you do not have to use this command. But practically your workflow, here MPRAsnakeflow, might live somewhere else and you want to run the workflow in a different directory where you want to produce results. Then you need to specify the `--snakefile` parameter to the MPRAsnakeflow file in `workflow/Snakefile`. Otherwise you ahve to check/copy the workflow in every \"run\" rirectory which is not practically. Usually you start snakemake in the directory where you want to produce results."
      ]
    },
    {
      "cell_type": "markdown",
      "metadata": {},
      "source": [
        "### The config file\n",
        "\n",
        "The heart of your workflow run is the config file. You can specify it via `--configfile`. It is in `yaml` or `json` format. It contains all the parameters and input files that are used in the workflow.\n",
        "\n",
        "The config file has many parameters. But most of them have a default well, based on best practice and you don't have to specify them. But you can overwrite them if you want. Config files are first validated using json schema. If your config file is not correct MPRAsnakeflow will tell you what is missing or wrong and stop. Naming, parameters etc. might change from MPRAsnakeflow version and you might have to update your config file if you run a new version of MPRAsnakeflow. An extensive documentation of the config file can be found in the [MPRAsnakeflow documentation](https://mprasnakeflow.readthedocs.io/en/development/config.html).\n",
        "\n",
        "Here is the config file that we will use for running the experiment tutorial.\n",
        "\n"
      ]
    },
    {
      "cell_type": "markdown",
      "metadata": {},
      "source": [
        "```yaml\n",
        "---\n",
        "experiments:\n",
        "  experimentMPRAworkshop:\n",
        "    bc_length: 15\n",
        "    umi_length: 16\n",
        "    data_folder: example_data/counts\n",
        "    experiment_file: example_data/experiment.csv\n",
        "    assignments:\n",
        "      MPRAworkshop:\n",
        "        type: file\n",
        "        assignment_file: example_data/assignment/assignment_barcodes.default.tsv.gz\n",
        "    label_file: example_data/design/workshop_labels.tsv\n",
        "    configs:\n",
        "      default: {}\n",
        "      tutorialConfig:\n",
        "        filter:\n",
        "          bc_threshold: 5\n",
        "          DNA:\n",
        "            min_counts: 1\n",
        "          RNA:\n",
        "            min_counts: 1\n",
        "```"
      ]
    },
    {
      "cell_type": "markdown",
      "metadata": {},
      "source": [
        "The following block shows the part of the config file that concerns the experiment part. Since assignment and experiment part can be run independently the `bc_length` needs to be set again.\n",
        "\n",
        "The `experiment_file` holds the path to the file of the experiment table (i.e. condition, replicate and name of read files given)."
      ]
    },
    {
      "cell_type": "code",
      "execution_count": 10,
      "metadata": {},
      "outputs": [
        {
          "name": "stdout",
          "output_type": "stream",
          "text": [
            "sed: can't read {data_dir}/workshop_config.yaml: No such file or directory\n"
          ]
        }
      ],
      "source": [
        "!sed -n '/experiments:/,$p' \"{data_dir}/workshop_config.yaml\""
      ]
    },
    {
      "cell_type": "markdown",
      "metadata": {},
      "source": [
        "Because we run the experiment workflow we start with `experiments`. Then a list with possible names of experiments will follow. Here we have just one: `experimentMPRAworkshop`. The whole config file has the minimal information, which is needed by MPRAsnakeflow (except for `configs`, see later). This is the barcode length `bc_length` and the UMI length `umi_length` which we calculated previously. Then a link to folder `data_folder` where all fastqs of the experiment are. What conditions, replicates and belonging fastq files we have is stored in the the `experiment_file`.\n"
      ]
    },
    {
      "cell_type": "markdown",
      "metadata": {},
      "source": [
        "As a sanity check and to understand where these values come from, we will take a look at if the information matches our input files. We used 15 bp adapters for this MPRA experiment, which were added at both ends of each designed oligo. The ``alignment_start`` configuration refers to these adapters as our actual target sequences only starts after the 15 bp of adapter sequence."
      ]
    },
    {
      "cell_type": "code",
      "execution_count": 11,
      "metadata": {},
      "outputs": [
        {
          "name": "stdout",
          "output_type": "stream",
          "text": [
            "\n",
            "Average length of a barcode:\n",
            "15\n",
            "\n",
            "Average length of a target sequence (oligo length - 2 x adapter):\n",
            "200\n"
          ]
        }
      ],
      "source": [
        "adapter_length=15\n",
        "\n",
        "print(\"\\nAverage length of a barcode:\")\n",
        "!zcat \"MPRAsnakeflow_tutorial/example_data/assignment/assoc_bc.fastq.gz\" | awk 'NR % 4 == 2 {{sum += length($$0)}} END {{print sum*4/NR}}'\n",
        "\n",
        "print(\"\\nAverage length of a target sequence (oligo length - 2 x adapter):\")\n",
        "seq_length_with_bc = !cat \"MPRAsnakeflow_tutorial/example_data/design/workshop_design.fa\" | awk 'NR % 4 == 2 {{sum +=length($$0)}} END {{print sum*4/NR}}'\n",
        "seq_length_with_bc = int(seq_length_with_bc[0])\n",
        "seq_length = seq_length_with_bc - 2*adapter_length\n",
        "print(seq_length)"
      ]
    },
    {
      "cell_type": "markdown",
      "metadata": {},
      "source": [
        "### MPRAsnakeflow tutorial profile\n",
        "\n",
        "Snakemake can make use of profiles to pre-configure command-line-interfaces as well as ressources and number of threads as default or per rule. A profile has to be stored (on Linux) in the folder `$HOME/.config/snakemake` or `/etc/xdg/snakemake`. It can be activated by using the `--profile` option in the snakemake command. In addition you can set an environment variable `SNAKEMAKE_PROFILE`, e.g. by specifying export `SNAKEMAKE_PROFILE=myprofile` in your `~/.bashrc` to use the profile by default. In addition a specific workflow profile can be set using `--workflow-profile path_to_your_profile`. E.g. we pre-defined a [workflow profile for MPRAsnakeflow](https://github.com/kircherlab/MPRAsnakeflow/blob/development/profiles/default/config.yaml) adding ressources to each rule with some additional commands for the [snakemake excecutor plugin slum](https://snakemake.github.io/snakemake-plugin-catalog/plugins/executor/slurm.html).\n",
        "\n",
        "For more information on snakemake using profiles please have a look [snakemke profile documentation](https://snakemake.readthedocs.io/en/stable/executing/cli.html#profiles)\n",
        "\n",
        "For the MPRAsnakeflow tutorial we will use the profile `mprasnakeflow` which is stored in the folder `/etc/xdg/snakemake` within the container and the `SNAKEMAKE_PROFILE=mprasnakeflow` is already set. Have a look at the variable and the profile:"
      ]
    },
    {
      "cell_type": "code",
      "execution_count": 12,
      "metadata": {},
      "outputs": [
        {
          "name": "stdout",
          "output_type": "stream",
          "text": [
            "\u001b[1;32muser@pc\u001b[0m$ docker run -v=${PWD}/MPRAsnakeflow_tutorial:/data/run --workdir /data/run visze/mprasnakeflow_tutorial:0.1.0 cat /etc/xdg/snakemake/mprasnakeflow/config.yaml\n",
            "---\n",
            "snakefile: /data/MPRAsnakeflow/workflow/Snakefile\n",
            "software-deployment-method: conda\n",
            "conda-prefix: /data/conda_envs\n",
            "cores: 1\n",
            "set-threads:\n",
            "  assignment_mapping_bwa: 10\n"
          ]
        }
      ],
      "source": [
        "runContainer(\"cat /etc/xdg/snakemake/mprasnakeflow/config.yaml\")"
      ]
    },
    {
      "cell_type": "markdown",
      "metadata": {},
      "source": [
        "You see that we already defined where the MPRASsnkeflow `Snakefile` is and `--snakefile` is not necessary. Also all software packages are installed alrady in the container using conda and we enable this software deployment method and tell snakemake where the conda environments live (the default will be your exceuction folder under `.snamemake/conda`). Also the `--cores/-c` option is not necessary anymore and snakemake just needs your configuration file of the workflow using the command `--configfile`"
      ]
    },
    {
      "cell_type": "markdown",
      "metadata": {},
      "source": [
        "### Run the workflow\n",
        "\n",
        "First we run a dry-run to see what will be executed using `-n` and `--quiet rules` to see only the overview of excecuted rules and not each rule command individually. The most important part is setting the config file via `-configfile assignment_config.yaml`"
      ]
    },
    {
      "cell_type": "code",
      "execution_count": 13,
      "metadata": {
        "colab": {
          "base_uri": "https://localhost:8080/"
        },
        "id": "TXlOomWL5Am2",
        "outputId": "5c32a998-eaef-426e-ccc8-8102d2487950"
      },
      "outputs": [
        {
          "name": "stdout",
          "output_type": "stream",
          "text": [
            "\u001b[1;32muser@pc\u001b[0m$ docker run -v=${PWD}/MPRAsnakeflow_tutorial:/data/run --workdir /data/run visze/mprasnakeflow_tutorial:0.1.0 snakemake --configfile config_experiment.yaml -n --quiet rules\n",
            "Using profile mprasnakeflow for setting default command line arguments.\n",
            "Building DAG of jobs...\n",
            "Job stats:\n",
            "job                                                             count\n",
            "------------------------------------------------------------  -------\n",
            "all                                                                 1\n",
            "assigned_counts_assignBarcodes                                      6\n",
            "assigned_counts_combine_replicates                                  2\n",
            "assigned_counts_combine_replicates_barcode_output                   1\n",
            "assigned_counts_dna_rna_merge                                       3\n",
            "assigned_counts_filterAssignment                                    1\n",
            "assigned_counts_make_master_tables                                  1\n",
            "counts_dna_rna_merge_counts                                         6\n",
            "counts_filter_counts                                                6\n",
            "counts_final_counts                                                 6\n",
            "counts_umi_create_BAM                                               6\n",
            "counts_umi_raw_counts                                               6\n",
            "statistic_assigned_counts_combine_BC_assignment_stats               1\n",
            "statistic_assigned_counts_combine_BC_assignment_stats_helper        1\n",
            "statistic_assigned_counts_combine_stats_dna_rna_merge               1\n",
            "statistic_assigned_counts_combine_stats_dna_rna_merge_all           1\n",
            "statistic_bc_overlap_combine_assigned_counts                        1\n",
            "statistic_bc_overlap_combine_counts                                 1\n",
            "statistic_bc_overlap_run                                            4\n",
            "statistic_correlation_bc_counts                                     2\n",
            "statistic_correlation_bc_counts_hist                                2\n",
            "statistic_correlation_calculate                                     1\n",
            "statistic_correlation_combine_bc_assigned                           1\n",
            "statistic_correlation_combine_bc_raw                                1\n",
            "statistic_correlation_combine_oligo                                 1\n",
            "statistic_correlation_hist_box_plots                                1\n",
            "statistic_counts_BC_in_RNA_DNA                                      6\n",
            "statistic_counts_BC_in_RNA_DNA_merge                                2\n",
            "statistic_counts_barcode_base_composition                           6\n",
            "statistic_counts_final                                              2\n",
            "statistic_counts_frequent_umis                                      6\n",
            "statistic_counts_stats_merge                                        2\n",
            "statistic_counts_table                                             12\n",
            "total                                                             100\n",
            "\n"
          ]
        }
      ],
      "source": [
        "# MPRAsnakeflow_tutorial must be accessable and writable for all (and docker)\n",
        "!chmod ugo+rwx MPRAsnakeflow_tutorial\n",
        "# Run MPRAsnakeflow\n",
        "runContainer(\"snakemake --configfile config_experiment.yaml -n --quiet rules\")"
      ]
    },
    {
      "cell_type": "markdown",
      "metadata": {},
      "source": [
        "You see a list of rules and how often this rule is executed debending on the input file. E.g. it is possible to you input fastq file into `n` via the rule `assignment_fastq_split` using the option `split_number` in the config file (it is commented out right now). Then rules afterwards, like `assignment_getBCs` will be executed `n` times. Tis behaviour is nice for parallelisation especially on a HPC system where you have multiple nodes available. \n",
        "\n",
        "A short summary of each rule is in the [MPRAsnakeflow documentation](https://mprasnakeflow.readthedocs.io/en/latest/assignment.html#rules).\n",
        "\n",
        "Now let's run snakemake using 10 cores (BWA can be parallized). When you add the `-p` flag you will see the exact code that is executed in each rule. But we ommit this here beacuse it is a lot of output."
      ]
    },
    {
      "cell_type": "code",
      "execution_count": 56,
      "metadata": {
        "id": "gNESKLR_UkLV"
      },
      "outputs": [
        {
          "name": "stdout",
          "output_type": "stream",
          "text": [
            "\u001b[1;32muser@pc\u001b[0m$ docker run -v=${PWD}/MPRAsnakeflow_tutorial:/data/run --workdir /data/run visze/mprasnakeflow_tutorial:0.1.0 snakemake --configfile config_experiment.yaml -c 10\n",
            "Using profile mprasnakeflow for setting default command line arguments.\n",
            "Assuming unrestricted shared filesystem usage.\n",
            "Building DAG of jobs...\n",
            "Using shell: /usr/bin/bash\n",
            "Provided cores: 10\n",
            "Rules claiming more threads will be scaled down.\n",
            "Singularity containers: ignored\n",
            "Job stats:\n",
            "job                                                             count\n",
            "------------------------------------------------------------  -------\n",
            "all                                                                 1\n",
            "assigned_counts_assignBarcodes                                      6\n",
            "assigned_counts_combine_replicates                                  2\n",
            "assigned_counts_combine_replicates_barcode_output                   1\n",
            "assigned_counts_dna_rna_merge                                       3\n",
            "assigned_counts_make_master_tables                                  1\n",
            "counts_dna_rna_merge_counts                                         6\n",
            "statistic_assigned_counts_combine_BC_assignment_stats               1\n",
            "statistic_assigned_counts_combine_BC_assignment_stats_helper        1\n",
            "statistic_assigned_counts_combine_stats_dna_rna_merge               1\n",
            "statistic_assigned_counts_combine_stats_dna_rna_merge_all           1\n",
            "statistic_bc_overlap_combine_assigned_counts                        1\n",
            "statistic_bc_overlap_combine_counts                                 1\n",
            "statistic_bc_overlap_run                                            4\n",
            "statistic_correlation_bc_counts                                     2\n",
            "statistic_correlation_bc_counts_hist                                2\n",
            "statistic_correlation_calculate                                     1\n",
            "statistic_correlation_combine_bc_assigned                           1\n",
            "statistic_correlation_combine_bc_raw                                1\n",
            "statistic_correlation_combine_oligo                                 1\n",
            "statistic_correlation_hist_box_plots                                1\n",
            "total                                                              39\n",
            "\n",
            "Select jobs to execute...\n",
            "Execute 10 jobs...\n",
            "\n",
            "[Fri Aug  2 12:47:34 2024]\n",
            "localrule assigned_counts_assignBarcodes:\n",
            "    input: results/experiments/experimentMPRAworkshop/counts/HepG2_2_RNA_final_counts.tsv.gz, results/experiments/experimentMPRAworkshop/assignment/MPRAworkshop.tsv.gz, /data/MPRAsnakeflow/workflow/rules/../scripts/count/merge_BC_and_assignment.py (cached)\n",
            "    output: results/experiments/experimentMPRAworkshop/assigned_counts/MPRAworkshop/HepG2_2_RNA_final_counts.config.default.tsv.gz, results/experiments/experimentMPRAworkshop/statistic/assigned_counts/MPRAworkshop/HepG2_2_RNA_default.statistic.tsv.gz\n",
            "    log: results/logs/assigned_counts/assignBarcodes.experimentMPRAworkshop.HepG2.2.RNA.default.MPRAworkshop.log\n",
            "    jobid: 80\n",
            "    reason: Missing output files: results/experiments/experimentMPRAworkshop/assigned_counts/MPRAworkshop/HepG2_2_RNA_final_counts.config.default.tsv.gz, results/experiments/experimentMPRAworkshop/statistic/assigned_counts/MPRAworkshop/HepG2_2_RNA_default.statistic.tsv.gz\n",
            "    wildcards: project=experimentMPRAworkshop, assignment=MPRAworkshop, condition=HepG2, replicate=2, type=RNA, config=default\n",
            "    resources: tmpdir=/tmp\n",
            "\n",
            "Activating conda environment: ../conda_envs/653b2f2da62f9e29538eeaf42dc2a489_\n",
            "\n",
            "[Fri Aug  2 12:47:34 2024]\n",
            "localrule assigned_counts_assignBarcodes:\n",
            "    input: results/experiments/experimentMPRAworkshop/counts/HepG2_1_DNA_final_counts.tsv.gz, results/experiments/experimentMPRAworkshop/assignment/MPRAworkshop.tsv.gz, /data/MPRAsnakeflow/workflow/rules/../scripts/count/merge_BC_and_assignment.py (cached)\n",
            "    output: results/experiments/experimentMPRAworkshop/assigned_counts/MPRAworkshop/HepG2_1_DNA_final_counts.config.default.tsv.gz, results/experiments/experimentMPRAworkshop/statistic/assigned_counts/MPRAworkshop/HepG2_1_DNA_default.statistic.tsv.gz\n",
            "    log: results/logs/assigned_counts/assignBarcodes.experimentMPRAworkshop.HepG2.1.DNA.default.MPRAworkshop.log\n",
            "    jobid: 75\n",
            "    reason: Missing output files: results/experiments/experimentMPRAworkshop/statistic/assigned_counts/MPRAworkshop/HepG2_1_DNA_default.statistic.tsv.gz, results/experiments/experimentMPRAworkshop/assigned_counts/MPRAworkshop/HepG2_1_DNA_final_counts.config.default.tsv.gz\n",
            "    wildcards: project=experimentMPRAworkshop, assignment=MPRAworkshop, condition=HepG2, replicate=1, type=DNA, config=default\n",
            "    resources: tmpdir=/tmp\n",
            "\n",
            "Activating conda environment: ../conda_envs/653b2f2da62f9e29538eeaf42dc2a489_\n",
            "\n",
            "[Fri Aug  2 12:47:34 2024]\n",
            "localrule assigned_counts_assignBarcodes:\n",
            "    input: results/experiments/experimentMPRAworkshop/counts/HepG2_3_DNA_final_counts.tsv.gz, results/experiments/experimentMPRAworkshop/assignment/MPRAworkshop.tsv.gz, /data/MPRAsnakeflow/workflow/rules/../scripts/count/merge_BC_and_assignment.py (cached)\n",
            "    output: results/experiments/experimentMPRAworkshop/assigned_counts/MPRAworkshop/HepG2_3_DNA_final_counts.config.default.tsv.gz, results/experiments/experimentMPRAworkshop/statistic/assigned_counts/MPRAworkshop/HepG2_3_DNA_default.statistic.tsv.gz\n",
            "    log: results/logs/assigned_counts/assignBarcodes.experimentMPRAworkshop.HepG2.3.DNA.default.MPRAworkshop.log\n",
            "    jobid: 82\n",
            "    reason: Missing output files: results/experiments/experimentMPRAworkshop/assigned_counts/MPRAworkshop/HepG2_3_DNA_final_counts.config.default.tsv.gz, results/experiments/experimentMPRAworkshop/statistic/assigned_counts/MPRAworkshop/HepG2_3_DNA_default.statistic.tsv.gz\n",
            "    wildcards: project=experimentMPRAworkshop, assignment=MPRAworkshop, condition=HepG2, replicate=3, type=DNA, config=default\n",
            "    resources: tmpdir=/tmp\n",
            "\n",
            "Activating conda environment: ../conda_envs/653b2f2da62f9e29538eeaf42dc2a489_\n",
            "\n",
            "[Fri Aug  2 12:47:34 2024]\n",
            "localrule counts_dna_rna_merge_counts:\n",
            "    input: results/experiments/experimentMPRAworkshop/counts/HepG2_1_DNA_final_counts.tsv.gz, results/experiments/experimentMPRAworkshop/counts/HepG2_1_RNA_final_counts.tsv.gz\n",
            "    output: results/experiments/experimentMPRAworkshop/counts/HepG2_1.merged.config.default.tsv.gz\n",
            "    log: results/logs/counts/dna_rna_merge_counts.experimentMPRAworkshop.HepG2.1.default.log\n",
            "    jobid: 63\n",
            "    reason: Missing output files: results/experiments/experimentMPRAworkshop/counts/HepG2_1.merged.config.default.tsv.gz\n",
            "    wildcards: project=experimentMPRAworkshop, raw_or_assigned=counts, condition=HepG2, replicate=1, config=default\n",
            "    resources: tmpdir=/tmp\n",
            "\n",
            "Activating conda environment: ../conda_envs/ec92106e14f6232977fd0918d24cb216_\n",
            "\n",
            "[Fri Aug  2 12:47:34 2024]\n",
            "localrule assigned_counts_assignBarcodes:\n",
            "    input: results/experiments/experimentMPRAworkshop/counts/HepG2_1_RNA_final_counts.tsv.gz, results/experiments/experimentMPRAworkshop/assignment/MPRAworkshop.tsv.gz, /data/MPRAsnakeflow/workflow/rules/../scripts/count/merge_BC_and_assignment.py (cached)\n",
            "    output: results/experiments/experimentMPRAworkshop/assigned_counts/MPRAworkshop/HepG2_1_RNA_final_counts.config.default.tsv.gz, results/experiments/experimentMPRAworkshop/statistic/assigned_counts/MPRAworkshop/HepG2_1_RNA_default.statistic.tsv.gz\n",
            "    log: results/logs/assigned_counts/assignBarcodes.experimentMPRAworkshop.HepG2.1.RNA.default.MPRAworkshop.log\n",
            "    jobid: 77\n",
            "    reason: Missing output files: results/experiments/experimentMPRAworkshop/assigned_counts/MPRAworkshop/HepG2_1_RNA_final_counts.config.default.tsv.gz, results/experiments/experimentMPRAworkshop/statistic/assigned_counts/MPRAworkshop/HepG2_1_RNA_default.statistic.tsv.gz\n",
            "    wildcards: project=experimentMPRAworkshop, assignment=MPRAworkshop, condition=HepG2, replicate=1, type=RNA, config=default\n",
            "    resources: tmpdir=/tmp\n",
            "\n",
            "Activating conda environment: ../conda_envs/653b2f2da62f9e29538eeaf42dc2a489_\n",
            "\n",
            "[Fri Aug  2 12:47:34 2024]\n",
            "localrule counts_dna_rna_merge_counts:\n",
            "    input: results/experiments/experimentMPRAworkshop/counts/HepG2_2_DNA_final_counts.tsv.gz, results/experiments/experimentMPRAworkshop/counts/HepG2_2_RNA_final_counts.tsv.gz\n",
            "    output: results/experiments/experimentMPRAworkshop/counts/HepG2_2.merged.config.default.tsv.gz\n",
            "    log: results/logs/counts/dna_rna_merge_counts.experimentMPRAworkshop.HepG2.2.default.log\n",
            "    jobid: 64\n",
            "    reason: Missing output files: results/experiments/experimentMPRAworkshop/counts/HepG2_2.merged.config.default.tsv.gz\n",
            "    wildcards: project=experimentMPRAworkshop, raw_or_assigned=counts, condition=HepG2, replicate=2, config=default\n",
            "    resources: tmpdir=/tmp\n",
            "\n",
            "Activating conda environment: ../conda_envs/ec92106e14f6232977fd0918d24cb216_\n",
            "\n",
            "[Fri Aug  2 12:47:34 2024]\n",
            "localrule statistic_bc_overlap_run:\n",
            "    input: results/experiments/experimentMPRAworkshop/counts/HepG2_1_RNA_final_counts.tsv.gz, results/experiments/experimentMPRAworkshop/counts/HepG2_2_RNA_final_counts.tsv.gz, results/experiments/experimentMPRAworkshop/counts/HepG2_3_RNA_final_counts.tsv.gz, /data/MPRAsnakeflow/workflow/rules/../scripts/count/BCCounts_betweenReplicates.R (cached)\n",
            "    output: results/experiments/experimentMPRAworkshop/statistic/bc_overlap/counts/overlapBCandCounts.HepG2_RNA.default.tsv\n",
            "    log: results/logs/statistic/bc_overlap/run.experimentMPRAworkshop.HepG2.RNA.default.counts.log\n",
            "    jobid: 96\n",
            "    reason: Missing output files: results/experiments/experimentMPRAworkshop/statistic/bc_overlap/counts/overlapBCandCounts.HepG2_RNA.default.tsv\n",
            "    wildcards: project=experimentMPRAworkshop, raw_or_assigned=counts, condition=HepG2, type=RNA, config=default\n",
            "    resources: tmpdir=/tmp\n",
            "\n",
            "Activating conda environment: ../conda_envs/a97672b6846360f00f0e85ee53a46950_\n",
            "\n",
            "[Fri Aug  2 12:47:34 2024]\n",
            "localrule assigned_counts_assignBarcodes:\n",
            "    input: results/experiments/experimentMPRAworkshop/counts/HepG2_2_DNA_final_counts.tsv.gz, results/experiments/experimentMPRAworkshop/assignment/MPRAworkshop.tsv.gz, /data/MPRAsnakeflow/workflow/rules/../scripts/count/merge_BC_and_assignment.py (cached)\n",
            "    output: results/experiments/experimentMPRAworkshop/assigned_counts/MPRAworkshop/HepG2_2_DNA_final_counts.config.default.tsv.gz, results/experiments/experimentMPRAworkshop/statistic/assigned_counts/MPRAworkshop/HepG2_2_DNA_default.statistic.tsv.gz\n",
            "    log: results/logs/assigned_counts/assignBarcodes.experimentMPRAworkshop.HepG2.2.DNA.default.MPRAworkshop.log\n",
            "    jobid: 79\n",
            "    reason: Missing output files: results/experiments/experimentMPRAworkshop/assigned_counts/MPRAworkshop/HepG2_2_DNA_final_counts.config.default.tsv.gz, results/experiments/experimentMPRAworkshop/statistic/assigned_counts/MPRAworkshop/HepG2_2_DNA_default.statistic.tsv.gz\n",
            "    wildcards: project=experimentMPRAworkshop, assignment=MPRAworkshop, condition=HepG2, replicate=2, type=DNA, config=default\n",
            "    resources: tmpdir=/tmp\n",
            "\n",
            "Activating conda environment: ../conda_envs/653b2f2da62f9e29538eeaf42dc2a489_\n",
            "\n",
            "[Fri Aug  2 12:47:34 2024]\n",
            "localrule assigned_counts_assignBarcodes:\n",
            "    input: results/experiments/experimentMPRAworkshop/counts/HepG2_3_RNA_final_counts.tsv.gz, results/experiments/experimentMPRAworkshop/assignment/MPRAworkshop.tsv.gz, /data/MPRAsnakeflow/workflow/rules/../scripts/count/merge_BC_and_assignment.py (cached)\n",
            "    output: results/experiments/experimentMPRAworkshop/assigned_counts/MPRAworkshop/HepG2_3_RNA_final_counts.config.default.tsv.gz, results/experiments/experimentMPRAworkshop/statistic/assigned_counts/MPRAworkshop/HepG2_3_RNA_default.statistic.tsv.gz\n",
            "    log: results/logs/assigned_counts/assignBarcodes.experimentMPRAworkshop.HepG2.3.RNA.default.MPRAworkshop.log\n",
            "    jobid: 83\n",
            "    reason: Missing output files: results/experiments/experimentMPRAworkshop/assigned_counts/MPRAworkshop/HepG2_3_RNA_final_counts.config.default.tsv.gz, results/experiments/experimentMPRAworkshop/statistic/assigned_counts/MPRAworkshop/HepG2_3_RNA_default.statistic.tsv.gz\n",
            "    wildcards: project=experimentMPRAworkshop, assignment=MPRAworkshop, condition=HepG2, replicate=3, type=RNA, config=default\n",
            "    resources: tmpdir=/tmp\n",
            "\n",
            "Activating conda environment: ../conda_envs/653b2f2da62f9e29538eeaf42dc2a489_\n",
            "\n",
            "[Fri Aug  2 12:47:34 2024]\n",
            "localrule counts_dna_rna_merge_counts:\n",
            "    input: results/experiments/experimentMPRAworkshop/counts/HepG2_3_DNA_final_counts.tsv.gz, results/experiments/experimentMPRAworkshop/counts/HepG2_3_RNA_final_counts.tsv.gz\n",
            "    output: results/experiments/experimentMPRAworkshop/counts/HepG2_3.merged.config.default.tsv.gz\n",
            "    log: results/logs/counts/dna_rna_merge_counts.experimentMPRAworkshop.HepG2.3.default.log\n",
            "    jobid: 65\n",
            "    reason: Missing output files: results/experiments/experimentMPRAworkshop/counts/HepG2_3.merged.config.default.tsv.gz\n",
            "    wildcards: project=experimentMPRAworkshop, raw_or_assigned=counts, condition=HepG2, replicate=3, config=default\n",
            "    resources: tmpdir=/tmp\n",
            "\n",
            "Activating conda environment: ../conda_envs/ec92106e14f6232977fd0918d24cb216_\n",
            "[Fri Aug  2 12:47:34 2024]\n",
            "Finished job 64.\n",
            "1 of 39 steps (3%) done\n",
            "Select jobs to execute...\n",
            "Execute 1 jobs...\n",
            "\n",
            "[Fri Aug  2 12:47:34 2024]\n",
            "localrule assigned_counts_dna_rna_merge:\n",
            "    input: results/experiments/experimentMPRAworkshop/counts/HepG2_2.merged.config.default.tsv.gz, results/experiments/experimentMPRAworkshop/assignment/MPRAworkshop.tsv.gz, /data/MPRAsnakeflow/workflow/rules/../scripts/count/merge_label.py (cached)\n",
            "    output: results/experiments/experimentMPRAworkshop/assigned_counts/MPRAworkshop/default/HepG2_2_merged_assigned_counts.tsv.gz, results/experiments/experimentMPRAworkshop/assigned_counts/MPRAworkshop/default/HepG2_2_barcode_assigned_counts.tsv.gz, results/experiments/experimentMPRAworkshop/statistic/assigned_counts/MPRAworkshop/default/HepG2_2_merged_assigned_counts.statistic.tsv.gz\n",
            "    log: results/logs/assigned_counts/MPRAworkshop/dna_rna_merge.experimentMPRAworkshop.HepG2.2.default.log\n",
            "    jobid: 112\n",
            "    reason: Missing output files: results/experiments/experimentMPRAworkshop/statistic/assigned_counts/MPRAworkshop/default/HepG2_2_merged_assigned_counts.statistic.tsv.gz, results/experiments/experimentMPRAworkshop/assigned_counts/MPRAworkshop/default/HepG2_2_barcode_assigned_counts.tsv.gz, results/experiments/experimentMPRAworkshop/assigned_counts/MPRAworkshop/default/HepG2_2_merged_assigned_counts.tsv.gz; Input files updated by another job: results/experiments/experimentMPRAworkshop/counts/HepG2_2.merged.config.default.tsv.gz\n",
            "    wildcards: project=experimentMPRAworkshop, assignment=MPRAworkshop, config=default, condition=HepG2, replicate=2\n",
            "    resources: tmpdir=/tmp\n",
            "\n",
            "Activating conda environment: ../conda_envs/653b2f2da62f9e29538eeaf42dc2a489_\n",
            "[Fri Aug  2 12:47:34 2024]\n",
            "Finished job 63.\n",
            "2 of 39 steps (5%) done\n",
            "[Fri Aug  2 12:47:34 2024]\n",
            "Finished job 65.\n",
            "3 of 39 steps (8%) done\n",
            "Select jobs to execute...\n",
            "Execute 2 jobs...\n",
            "\n",
            "[Fri Aug  2 12:47:34 2024]\n",
            "localrule assigned_counts_dna_rna_merge:\n",
            "    input: results/experiments/experimentMPRAworkshop/counts/HepG2_1.merged.config.default.tsv.gz, results/experiments/experimentMPRAworkshop/assignment/MPRAworkshop.tsv.gz, /data/MPRAsnakeflow/workflow/rules/../scripts/count/merge_label.py (cached)\n",
            "    output: results/experiments/experimentMPRAworkshop/assigned_counts/MPRAworkshop/default/HepG2_1_merged_assigned_counts.tsv.gz, results/experiments/experimentMPRAworkshop/assigned_counts/MPRAworkshop/default/HepG2_1_barcode_assigned_counts.tsv.gz, results/experiments/experimentMPRAworkshop/statistic/assigned_counts/MPRAworkshop/default/HepG2_1_merged_assigned_counts.statistic.tsv.gz\n",
            "    log: results/logs/assigned_counts/MPRAworkshop/dna_rna_merge.experimentMPRAworkshop.HepG2.1.default.log\n",
            "    jobid: 111\n",
            "    reason: Missing output files: results/experiments/experimentMPRAworkshop/assigned_counts/MPRAworkshop/default/HepG2_1_merged_assigned_counts.tsv.gz, results/experiments/experimentMPRAworkshop/statistic/assigned_counts/MPRAworkshop/default/HepG2_1_merged_assigned_counts.statistic.tsv.gz, results/experiments/experimentMPRAworkshop/assigned_counts/MPRAworkshop/default/HepG2_1_barcode_assigned_counts.tsv.gz; Input files updated by another job: results/experiments/experimentMPRAworkshop/counts/HepG2_1.merged.config.default.tsv.gz\n",
            "    wildcards: project=experimentMPRAworkshop, assignment=MPRAworkshop, config=default, condition=HepG2, replicate=1\n",
            "    resources: tmpdir=/tmp\n",
            "\n",
            "Activating conda environment: ../conda_envs/653b2f2da62f9e29538eeaf42dc2a489_\n",
            "\n",
            "[Fri Aug  2 12:47:34 2024]\n",
            "localrule assigned_counts_dna_rna_merge:\n",
            "    input: results/experiments/experimentMPRAworkshop/counts/HepG2_3.merged.config.default.tsv.gz, results/experiments/experimentMPRAworkshop/assignment/MPRAworkshop.tsv.gz, /data/MPRAsnakeflow/workflow/rules/../scripts/count/merge_label.py (cached)\n",
            "    output: results/experiments/experimentMPRAworkshop/assigned_counts/MPRAworkshop/default/HepG2_3_merged_assigned_counts.tsv.gz, results/experiments/experimentMPRAworkshop/assigned_counts/MPRAworkshop/default/HepG2_3_barcode_assigned_counts.tsv.gz, results/experiments/experimentMPRAworkshop/statistic/assigned_counts/MPRAworkshop/default/HepG2_3_merged_assigned_counts.statistic.tsv.gz\n",
            "    log: results/logs/assigned_counts/MPRAworkshop/dna_rna_merge.experimentMPRAworkshop.HepG2.3.default.log\n",
            "    jobid: 113\n",
            "    reason: Missing output files: results/experiments/experimentMPRAworkshop/assigned_counts/MPRAworkshop/default/HepG2_3_barcode_assigned_counts.tsv.gz, results/experiments/experimentMPRAworkshop/statistic/assigned_counts/MPRAworkshop/default/HepG2_3_merged_assigned_counts.statistic.tsv.gz, results/experiments/experimentMPRAworkshop/assigned_counts/MPRAworkshop/default/HepG2_3_merged_assigned_counts.tsv.gz; Input files updated by another job: results/experiments/experimentMPRAworkshop/counts/HepG2_3.merged.config.default.tsv.gz\n",
            "    wildcards: project=experimentMPRAworkshop, assignment=MPRAworkshop, config=default, condition=HepG2, replicate=3\n",
            "    resources: tmpdir=/tmp\n",
            "\n",
            "Activating conda environment: ../conda_envs/653b2f2da62f9e29538eeaf42dc2a489_\n",
            "Select jobs to execute...\n",
            "[Fri Aug  2 12:47:39 2024]\n",
            "Finished job 111.\n",
            "4 of 39 steps (10%) done\n",
            "Execute 1 jobs...\n",
            "\n",
            "[Fri Aug  2 12:47:39 2024]\n",
            "localrule statistic_correlation_bc_counts:\n",
            "    input: results/experiments/experimentMPRAworkshop/counts/HepG2_1.merged.config.default.tsv.gz, results/experiments/experimentMPRAworkshop/counts/HepG2_2.merged.config.default.tsv.gz, results/experiments/experimentMPRAworkshop/counts/HepG2_3.merged.config.default.tsv.gz, /data/MPRAsnakeflow/workflow/rules/../scripts/count/plot_perBCCounts_correlation.R (cached)\n",
            "    output: results/experiments/experimentMPRAworkshop/statistic/barcode/counts/HepG2_default_barcode_DNA_pairwise.png, results/experiments/experimentMPRAworkshop/statistic/barcode/counts/HepG2_default_barcode_RNA_pairwise.png, results/experiments/experimentMPRAworkshop/statistic/barcode/counts/HepG2_default_barcode_Ratio_pairwise.png, results/experiments/experimentMPRAworkshop/statistic/barcode/counts/HepG2_default_barcode_correlation.tsv\n",
            "    log: results/logs/statistic/correlation/correlate_bc_counts.experimentMPRAworkshop.HepG2.default.counts.log\n",
            "    jobid: 62\n",
            "    reason: Missing output files: results/experiments/experimentMPRAworkshop/statistic/barcode/counts/HepG2_default_barcode_correlation.tsv; Input files updated by another job: results/experiments/experimentMPRAworkshop/counts/HepG2_3.merged.config.default.tsv.gz, results/experiments/experimentMPRAworkshop/counts/HepG2_2.merged.config.default.tsv.gz, results/experiments/experimentMPRAworkshop/counts/HepG2_1.merged.config.default.tsv.gz\n",
            "    wildcards: project=experimentMPRAworkshop, raw_or_assigned=counts, condition=HepG2, config=default\n",
            "    resources: tmpdir=/tmp\n",
            "\n",
            "Activating conda environment: ../conda_envs/a97672b6846360f00f0e85ee53a46950_\n",
            "[Fri Aug  2 12:47:39 2024]\n",
            "Finished job 112.\n",
            "5 of 39 steps (13%) done\n",
            "Select jobs to execute...\n",
            "Execute 1 jobs...\n",
            "\n",
            "[Fri Aug  2 12:47:39 2024]\n",
            "localrule statistic_correlation_bc_counts_hist:\n",
            "    input: results/experiments/experimentMPRAworkshop/counts/HepG2_1.merged.config.default.tsv.gz, results/experiments/experimentMPRAworkshop/counts/HepG2_2.merged.config.default.tsv.gz, results/experiments/experimentMPRAworkshop/counts/HepG2_3.merged.config.default.tsv.gz, /data/MPRAsnakeflow/workflow/rules/../scripts/count/plot_perBCCounts_stats.R (cached)\n",
            "    output: results/experiments/experimentMPRAworkshop/statistic/barcode/counts/HepG2_default_DNA_perBarcode.png, results/experiments/experimentMPRAworkshop/statistic/barcode/counts/HepG2_default_RNA_perBarcode.png\n",
            "    log: results/logs/statistic/correlation/correlate_bc_counts_hist.experimentMPRAworkshop.HepG2.default.counts.log\n",
            "    jobid: 71\n",
            "    reason: Missing output files: results/experiments/experimentMPRAworkshop/statistic/barcode/counts/HepG2_default_DNA_perBarcode.png, results/experiments/experimentMPRAworkshop/statistic/barcode/counts/HepG2_default_RNA_perBarcode.png; Input files updated by another job: results/experiments/experimentMPRAworkshop/counts/HepG2_3.merged.config.default.tsv.gz, results/experiments/experimentMPRAworkshop/counts/HepG2_2.merged.config.default.tsv.gz, results/experiments/experimentMPRAworkshop/counts/HepG2_1.merged.config.default.tsv.gz\n",
            "    wildcards: project=experimentMPRAworkshop, raw_or_assigned=counts, condition=HepG2, config=default\n",
            "    resources: tmpdir=/tmp\n",
            "\n",
            "Activating conda environment: ../conda_envs/a97672b6846360f00f0e85ee53a46950_\n",
            "[Fri Aug  2 12:47:39 2024]\n",
            "Finished job 113.\n",
            "6 of 39 steps (15%) done\n",
            "Select jobs to execute...\n",
            "Execute 1 jobs...\n",
            "\n",
            "[Fri Aug  2 12:47:39 2024]\n",
            "localrule statistic_assigned_counts_combine_stats_dna_rna_merge:\n",
            "    input: results/experiments/experimentMPRAworkshop/statistic/assigned_counts/MPRAworkshop/default/HepG2_1_merged_assigned_counts.statistic.tsv.gz, results/experiments/experimentMPRAworkshop/statistic/assigned_counts/MPRAworkshop/default/HepG2_2_merged_assigned_counts.statistic.tsv.gz, results/experiments/experimentMPRAworkshop/statistic/assigned_counts/MPRAworkshop/default/HepG2_3_merged_assigned_counts.statistic.tsv.gz, /data/MPRAsnakeflow/workflow/rules/../scripts/count/merge_statistic_tables.py (cached)\n",
            "    output: results/experiments/experimentMPRAworkshop/statistic/assigned_counts/MPRAworkshop/default/combined/HepG2_merged_assigned_counts.statistic.tsv.gz\n",
            "    log: results/logs/statistic/assigned_counts/combine_stats_dna_rna_merge.experimentMPRAworkshop.HepG2.default.MPRAworkshop.log\n",
            "    jobid: 127\n",
            "    reason: Missing output files: results/experiments/experimentMPRAworkshop/statistic/assigned_counts/MPRAworkshop/default/combined/HepG2_merged_assigned_counts.statistic.tsv.gz; Input files updated by another job: results/experiments/experimentMPRAworkshop/statistic/assigned_counts/MPRAworkshop/default/HepG2_2_merged_assigned_counts.statistic.tsv.gz, results/experiments/experimentMPRAworkshop/statistic/assigned_counts/MPRAworkshop/default/HepG2_3_merged_assigned_counts.statistic.tsv.gz, results/experiments/experimentMPRAworkshop/statistic/assigned_counts/MPRAworkshop/default/HepG2_1_merged_assigned_counts.statistic.tsv.gz\n",
            "    wildcards: project=experimentMPRAworkshop, assignment=MPRAworkshop, config=default, condition=HepG2\n",
            "    resources: tmpdir=/tmp\n",
            "\n",
            "Activating conda environment: ../conda_envs/653b2f2da62f9e29538eeaf42dc2a489_\n",
            "[Fri Aug  2 12:47:39 2024]\n",
            "Finished job 96.\n",
            "7 of 39 steps (18%) done\n",
            "Select jobs to execute...\n",
            "Execute 1 jobs...\n",
            "\n",
            "[Fri Aug  2 12:47:39 2024]\n",
            "localrule statistic_bc_overlap_run:\n",
            "    input: results/experiments/experimentMPRAworkshop/counts/HepG2_1_DNA_final_counts.tsv.gz, results/experiments/experimentMPRAworkshop/counts/HepG2_2_DNA_final_counts.tsv.gz, results/experiments/experimentMPRAworkshop/counts/HepG2_3_DNA_final_counts.tsv.gz, /data/MPRAsnakeflow/workflow/rules/../scripts/count/BCCounts_betweenReplicates.R (cached)\n",
            "    output: results/experiments/experimentMPRAworkshop/statistic/bc_overlap/counts/overlapBCandCounts.HepG2_DNA.default.tsv\n",
            "    log: results/logs/statistic/bc_overlap/run.experimentMPRAworkshop.HepG2.DNA.default.counts.log\n",
            "    jobid: 95\n",
            "    reason: Missing output files: results/experiments/experimentMPRAworkshop/statistic/bc_overlap/counts/overlapBCandCounts.HepG2_DNA.default.tsv\n",
            "    wildcards: project=experimentMPRAworkshop, raw_or_assigned=counts, condition=HepG2, type=DNA, config=default\n",
            "    resources: tmpdir=/tmp\n",
            "\n",
            "Activating conda environment: ../conda_envs/a97672b6846360f00f0e85ee53a46950_\n",
            "[Fri Aug  2 12:47:40 2024]\n",
            "Finished job 127.\n",
            "8 of 39 steps (21%) done\n",
            "Select jobs to execute...\n",
            "Execute 1 jobs...\n",
            "\n",
            "[Fri Aug  2 12:47:40 2024]\n",
            "localrule statistic_assigned_counts_combine_stats_dna_rna_merge_all:\n",
            "    input: results/experiments/experimentMPRAworkshop/statistic/assigned_counts/MPRAworkshop/default/combined/HepG2_merged_assigned_counts.statistic.tsv.gz\n",
            "    output: results/experiments/experimentMPRAworkshop/statistic/statistic_assigned_counts_merged_MPRAworkshop_default.tsv\n",
            "    log: results/logs/statistic/assigned_counts/combine_stats_dna_rna_merge_all.experimentMPRAworkshop.default.MPRAworkshop.log\n",
            "    jobid: 126\n",
            "    reason: Missing output files: results/experiments/experimentMPRAworkshop/statistic/statistic_assigned_counts_merged_MPRAworkshop_default.tsv; Input files updated by another job: results/experiments/experimentMPRAworkshop/statistic/assigned_counts/MPRAworkshop/default/combined/HepG2_merged_assigned_counts.statistic.tsv.gz\n",
            "    wildcards: project=experimentMPRAworkshop, assignment=MPRAworkshop, config=default\n",
            "    resources: tmpdir=/tmp\n",
            "\n",
            "Activating conda environment: ../conda_envs/ec92106e14f6232977fd0918d24cb216_\n",
            "[Fri Aug  2 12:47:40 2024]\n",
            "Finished job 126.\n",
            "9 of 39 steps (23%) done\n",
            "Select jobs to execute...\n",
            "Execute 1 jobs...\n",
            "\n",
            "[Fri Aug  2 12:47:40 2024]\n",
            "localrule assigned_counts_make_master_tables:\n",
            "    input: results/experiments/experimentMPRAworkshop/assigned_counts/MPRAworkshop/default/HepG2_1_merged_assigned_counts.tsv.gz, results/experiments/experimentMPRAworkshop/assigned_counts/MPRAworkshop/default/HepG2_2_merged_assigned_counts.tsv.gz, results/experiments/experimentMPRAworkshop/assigned_counts/MPRAworkshop/default/HepG2_3_merged_assigned_counts.tsv.gz, /data/MPRAsnakeflow/workflow/rules/../scripts/count/make_master_tables.R (cached)\n",
            "    output: results/experiments/experimentMPRAworkshop/statistic/assigned_counts/MPRAworkshop/default/HepG2_average_allreps_merged.tsv.gz, results/experiments/experimentMPRAworkshop/assigned_counts/MPRAworkshop/default/HepG2_allreps_merged.tsv.gz, results/experiments/experimentMPRAworkshop/assigned_counts/MPRAworkshop/default/HepG2_allreps_minThreshold_merged.tsv.gz\n",
            "    log: results/logs/assigned_counts/make_master_tables.experimentMPRAworkshop.HepG2.default.MPRAworkshop.log\n",
            "    jobid: 110\n",
            "    reason: Missing output files: results/experiments/experimentMPRAworkshop/assigned_counts/MPRAworkshop/default/HepG2_allreps_merged.tsv.gz, results/experiments/experimentMPRAworkshop/assigned_counts/MPRAworkshop/default/HepG2_allreps_minThreshold_merged.tsv.gz; Input files updated by another job: results/experiments/experimentMPRAworkshop/assigned_counts/MPRAworkshop/default/HepG2_1_merged_assigned_counts.tsv.gz, results/experiments/experimentMPRAworkshop/assigned_counts/MPRAworkshop/default/HepG2_3_merged_assigned_counts.tsv.gz, results/experiments/experimentMPRAworkshop/assigned_counts/MPRAworkshop/default/HepG2_2_merged_assigned_counts.tsv.gz\n",
            "    wildcards: project=experimentMPRAworkshop, assignment=MPRAworkshop, config=default, condition=HepG2\n",
            "    resources: tmpdir=/tmp\n",
            "\n",
            "Activating conda environment: ../conda_envs/a97672b6846360f00f0e85ee53a46950_\n",
            "[Fri Aug  2 12:47:42 2024]\n",
            "Finished job 110.\n",
            "10 of 39 steps (26%) done\n",
            "Select jobs to execute...\n",
            "Execute 1 jobs...\n",
            "\n",
            "[Fri Aug  2 12:47:42 2024]\n",
            "localrule statistic_correlation_hist_box_plots:\n",
            "    input: results/experiments/experimentMPRAworkshop/assigned_counts/MPRAworkshop/default/HepG2_1_merged_assigned_counts.tsv.gz, results/experiments/experimentMPRAworkshop/assigned_counts/MPRAworkshop/default/HepG2_2_merged_assigned_counts.tsv.gz, results/experiments/experimentMPRAworkshop/assigned_counts/MPRAworkshop/default/HepG2_3_merged_assigned_counts.tsv.gz, example_data/design/workshop_labels.tsv, /data/MPRAsnakeflow/workflow/rules/../scripts/count/plot_perInsertCounts_stats.R (cached)\n",
            "    output: results/experiments/experimentMPRAworkshop/statistic/assigned_counts/MPRAworkshop/default/HepG2_all_barcodesPerInsert_box.png, results/experiments/experimentMPRAworkshop/statistic/assigned_counts/MPRAworkshop/default/HepG2_all_barcodesPerInsert_box_minThreshold.png, results/experiments/experimentMPRAworkshop/statistic/assigned_counts/MPRAworkshop/default/HepG2_group_barcodesPerInsert_box.png, results/experiments/experimentMPRAworkshop/statistic/assigned_counts/MPRAworkshop/default/HepG2_group_barcodesPerInsert_box_minThreshold.png\n",
            "    log: results/logs/statistic/correlation/hist_box_plots.experimentMPRAworkshop.HepG2.default.MPRAworkshop.log\n",
            "    jobid: 124\n",
            "    reason: Missing output files: results/experiments/experimentMPRAworkshop/statistic/assigned_counts/MPRAworkshop/default/HepG2_group_barcodesPerInsert_box_minThreshold.png, results/experiments/experimentMPRAworkshop/statistic/assigned_counts/MPRAworkshop/default/HepG2_all_barcodesPerInsert_box_minThreshold.png, results/experiments/experimentMPRAworkshop/statistic/assigned_counts/MPRAworkshop/default/HepG2_group_barcodesPerInsert_box.png, results/experiments/experimentMPRAworkshop/statistic/assigned_counts/MPRAworkshop/default/HepG2_all_barcodesPerInsert_box.png; Input files updated by another job: results/experiments/experimentMPRAworkshop/assigned_counts/MPRAworkshop/default/HepG2_1_merged_assigned_counts.tsv.gz, results/experiments/experimentMPRAworkshop/assigned_counts/MPRAworkshop/default/HepG2_3_merged_assigned_counts.tsv.gz, results/experiments/experimentMPRAworkshop/assigned_counts/MPRAworkshop/default/HepG2_2_merged_assigned_counts.tsv.gz\n",
            "    wildcards: project=experimentMPRAworkshop, assignment=MPRAworkshop, config=default, condition=HepG2\n",
            "    resources: tmpdir=/tmp\n",
            "\n",
            "Activating conda environment: ../conda_envs/a97672b6846360f00f0e85ee53a46950_\n",
            "[Fri Aug  2 12:47:43 2024]\n",
            "Finished job 95.\n",
            "11 of 39 steps (28%) done\n",
            "Select jobs to execute...\n",
            "Execute 1 jobs...\n",
            "\n",
            "[Fri Aug  2 12:47:43 2024]\n",
            "localrule statistic_bc_overlap_combine_counts:\n",
            "    input: results/experiments/experimentMPRAworkshop/statistic/bc_overlap/counts/overlapBCandCounts.HepG2_DNA.default.tsv, results/experiments/experimentMPRAworkshop/statistic/bc_overlap/counts/overlapBCandCounts.HepG2_RNA.default.tsv\n",
            "    output: results/experiments/experimentMPRAworkshop/statistic/bc_overlap.counts.default.tsv\n",
            "    log: results/logs/statistic/bc_overlap/combine_counts.experimentMPRAworkshop.default.log\n",
            "    jobid: 94\n",
            "    reason: Missing output files: results/experiments/experimentMPRAworkshop/statistic/bc_overlap.counts.default.tsv; Input files updated by another job: results/experiments/experimentMPRAworkshop/statistic/bc_overlap/counts/overlapBCandCounts.HepG2_DNA.default.tsv, results/experiments/experimentMPRAworkshop/statistic/bc_overlap/counts/overlapBCandCounts.HepG2_RNA.default.tsv\n",
            "    wildcards: project=experimentMPRAworkshop, config=default\n",
            "    resources: tmpdir=/tmp\n",
            "\n",
            "Activating conda environment: ../conda_envs/ec92106e14f6232977fd0918d24cb216_\n",
            "[Fri Aug  2 12:47:43 2024]\n",
            "Finished job 94.\n",
            "12 of 39 steps (31%) done\n",
            "Removing temporary output results/experiments/experimentMPRAworkshop/statistic/bc_overlap/counts/overlapBCandCounts.HepG2_DNA.default.tsv.\n",
            "Removing temporary output results/experiments/experimentMPRAworkshop/statistic/bc_overlap/counts/overlapBCandCounts.HepG2_RNA.default.tsv.\n",
            "Select jobs to execute...\n",
            "Execute 1 jobs...\n",
            "\n",
            "[Fri Aug  2 12:47:43 2024]\n",
            "localrule assigned_counts_combine_replicates_barcode_output:\n",
            "    input: results/experiments/experimentMPRAworkshop/assigned_counts/MPRAworkshop/default/HepG2_1_barcode_assigned_counts.tsv.gz, results/experiments/experimentMPRAworkshop/assigned_counts/MPRAworkshop/default/HepG2_2_barcode_assigned_counts.tsv.gz, results/experiments/experimentMPRAworkshop/assigned_counts/MPRAworkshop/default/HepG2_3_barcode_assigned_counts.tsv.gz, /data/MPRAsnakeflow/workflow/rules/../scripts/count/merge_replicates_barcode_counts.py (cached)\n",
            "    output: results/experiments/experimentMPRAworkshop/assigned_counts/MPRAworkshop/default/HepG2_allreps_merged_barcode_assigned_counts.tsv.gz\n",
            "    log: results/logs/assigned_counts/combine_replicates_barcode_output.experimentMPRAworkshop.HepG2.default.MPRAworkshop.log\n",
            "    jobid: 122\n",
            "    reason: Missing output files: results/experiments/experimentMPRAworkshop/assigned_counts/MPRAworkshop/default/HepG2_allreps_merged_barcode_assigned_counts.tsv.gz; Input files updated by another job: results/experiments/experimentMPRAworkshop/assigned_counts/MPRAworkshop/default/HepG2_3_barcode_assigned_counts.tsv.gz, results/experiments/experimentMPRAworkshop/assigned_counts/MPRAworkshop/default/HepG2_2_barcode_assigned_counts.tsv.gz, results/experiments/experimentMPRAworkshop/assigned_counts/MPRAworkshop/default/HepG2_1_barcode_assigned_counts.tsv.gz\n",
            "    wildcards: project=experimentMPRAworkshop, assignment=MPRAworkshop, config=default, condition=HepG2\n",
            "    resources: tmpdir=/tmp\n",
            "\n",
            "Activating conda environment: ../conda_envs/653b2f2da62f9e29538eeaf42dc2a489_\n",
            "[Fri Aug  2 12:47:45 2024]\n",
            "Finished job 71.\n",
            "13 of 39 steps (33%) done\n",
            "Select jobs to execute...\n",
            "Execute 1 jobs...\n",
            "\n",
            "[Fri Aug  2 12:47:45 2024]\n",
            "localrule assigned_counts_combine_replicates:\n",
            "    input: results/experiments/experimentMPRAworkshop/assigned_counts/MPRAworkshop/default/HepG2_allreps_merged.tsv.gz, /data/MPRAsnakeflow/workflow/rules/../scripts/count/combine_replicates.py (cached)\n",
            "    output: results/experiments/experimentMPRAworkshop/assigned_counts/MPRAworkshop/default/HepG2_allreps_merged.combined.tsv.gz\n",
            "    log: results/logs/assigned_counts/combine_replicates.experimentMPRAworkshop.HepG2.default.MPRAworkshop.allreps.log\n",
            "    jobid: 118\n",
            "    reason: Missing output files: results/experiments/experimentMPRAworkshop/assigned_counts/MPRAworkshop/default/HepG2_allreps_merged.combined.tsv.gz; Input files updated by another job: results/experiments/experimentMPRAworkshop/assigned_counts/MPRAworkshop/default/HepG2_allreps_merged.tsv.gz\n",
            "    wildcards: project=experimentMPRAworkshop, assignment=MPRAworkshop, config=default, condition=HepG2, allreps_or_threshold=allreps\n",
            "    resources: tmpdir=/tmp\n",
            "\n",
            "Activating conda environment: ../conda_envs/653b2f2da62f9e29538eeaf42dc2a489_\n",
            "[Fri Aug  2 12:47:45 2024]\n",
            "Finished job 122.\n",
            "14 of 39 steps (36%) done\n",
            "Select jobs to execute...\n",
            "Execute 1 jobs...\n",
            "\n",
            "[Fri Aug  2 12:47:45 2024]\n",
            "localrule statistic_correlation_calculate:\n",
            "    input: results/experiments/experimentMPRAworkshop/assigned_counts/MPRAworkshop/default/HepG2_1_merged_assigned_counts.tsv.gz, results/experiments/experimentMPRAworkshop/assigned_counts/MPRAworkshop/default/HepG2_2_merged_assigned_counts.tsv.gz, results/experiments/experimentMPRAworkshop/assigned_counts/MPRAworkshop/default/HepG2_3_merged_assigned_counts.tsv.gz, example_data/design/workshop_labels.tsv, /data/MPRAsnakeflow/workflow/rules/../scripts/count/plot_perInsertCounts_correlation.R (cached)\n",
            "    output: results/experiments/experimentMPRAworkshop/statistic/assigned_counts/MPRAworkshop/default/HepG2_DNA_pairwise.png, results/experiments/experimentMPRAworkshop/statistic/assigned_counts/MPRAworkshop/default/HepG2_RNA_pairwise.png, results/experiments/experimentMPRAworkshop/statistic/assigned_counts/MPRAworkshop/default/HepG2_Ratio_pairwise.png, results/experiments/experimentMPRAworkshop/statistic/assigned_counts/MPRAworkshop/default/HepG2_DNA_pairwise_minThreshold.png, results/experiments/experimentMPRAworkshop/statistic/assigned_counts/MPRAworkshop/default/HepG2_RNA_pairwise_minThreshold.png, results/experiments/experimentMPRAworkshop/statistic/assigned_counts/MPRAworkshop/default/HepG2_Ratio_pairwise_minThreshold.png, results/experiments/experimentMPRAworkshop/statistic/assigned_counts/MPRAworkshop/default/HepG2_correlation.tsv, results/experiments/experimentMPRAworkshop/statistic/assigned_counts/MPRAworkshop/default/HepG2_correlation_minThreshold.tsv\n",
            "    log: results/logs/statistic/correlation/calculate.experimentMPRAworkshop.HepG2.default.MPRAworkshop.log\n",
            "    jobid: 131\n",
            "    reason: Missing output files: results/experiments/experimentMPRAworkshop/statistic/assigned_counts/MPRAworkshop/default/HepG2_correlation_minThreshold.tsv, results/experiments/experimentMPRAworkshop/statistic/assigned_counts/MPRAworkshop/default/HepG2_correlation.tsv; Input files updated by another job: results/experiments/experimentMPRAworkshop/assigned_counts/MPRAworkshop/default/HepG2_1_merged_assigned_counts.tsv.gz, results/experiments/experimentMPRAworkshop/assigned_counts/MPRAworkshop/default/HepG2_3_merged_assigned_counts.tsv.gz, results/experiments/experimentMPRAworkshop/assigned_counts/MPRAworkshop/default/HepG2_2_merged_assigned_counts.tsv.gz\n",
            "    wildcards: project=experimentMPRAworkshop, assignment=MPRAworkshop, config=default, condition=HepG2\n",
            "    resources: tmpdir=/tmp\n",
            "\n",
            "Activating conda environment: ../conda_envs/a97672b6846360f00f0e85ee53a46950_\n",
            "[Fri Aug  2 12:47:46 2024]\n",
            "Finished job 75.\n",
            "15 of 39 steps (38%) done\n",
            "Select jobs to execute...\n",
            "Execute 1 jobs...\n",
            "\n",
            "[Fri Aug  2 12:47:46 2024]\n",
            "localrule assigned_counts_combine_replicates:\n",
            "    input: results/experiments/experimentMPRAworkshop/assigned_counts/MPRAworkshop/default/HepG2_allreps_minThreshold_merged.tsv.gz, /data/MPRAsnakeflow/workflow/rules/../scripts/count/combine_replicates.py (cached)\n",
            "    output: results/experiments/experimentMPRAworkshop/assigned_counts/MPRAworkshop/default/HepG2_allreps_minThreshold_merged.combined.tsv.gz\n",
            "    log: results/logs/assigned_counts/combine_replicates.experimentMPRAworkshop.HepG2.default.MPRAworkshop.allreps_minThreshold.log\n",
            "    jobid: 120\n",
            "    reason: Missing output files: results/experiments/experimentMPRAworkshop/assigned_counts/MPRAworkshop/default/HepG2_allreps_minThreshold_merged.combined.tsv.gz; Input files updated by another job: results/experiments/experimentMPRAworkshop/assigned_counts/MPRAworkshop/default/HepG2_allreps_minThreshold_merged.tsv.gz\n",
            "    wildcards: project=experimentMPRAworkshop, assignment=MPRAworkshop, config=default, condition=HepG2, allreps_or_threshold=allreps_minThreshold\n",
            "    resources: tmpdir=/tmp\n",
            "\n",
            "Activating conda environment: ../conda_envs/653b2f2da62f9e29538eeaf42dc2a489_\n",
            "[Fri Aug  2 12:47:46 2024]\n",
            "Finished job 79.\n",
            "16 of 39 steps (41%) done\n",
            "[Fri Aug  2 12:47:46 2024]\n",
            "Finished job 82.\n",
            "17 of 39 steps (44%) done\n",
            "Select jobs to execute...\n",
            "Execute 1 jobs...\n",
            "\n",
            "[Fri Aug  2 12:47:46 2024]\n",
            "localrule statistic_bc_overlap_run:\n",
            "    input: results/experiments/experimentMPRAworkshop/assigned_counts/MPRAworkshop/HepG2_1_DNA_final_counts.config.default.tsv.gz, results/experiments/experimentMPRAworkshop/assigned_counts/MPRAworkshop/HepG2_2_DNA_final_counts.config.default.tsv.gz, results/experiments/experimentMPRAworkshop/assigned_counts/MPRAworkshop/HepG2_3_DNA_final_counts.config.default.tsv.gz, /data/MPRAsnakeflow/workflow/rules/../scripts/count/BCCounts_betweenReplicates.R (cached)\n",
            "    output: results/experiments/experimentMPRAworkshop/statistic/bc_overlap/assigned_counts/MPRAworkshop/overlapBCandCounts.HepG2_DNA.default.tsv\n",
            "    log: results/logs/statistic/bc_overlap/run.experimentMPRAworkshop.HepG2.DNA.default.assigned_counts/MPRAworkshop.log\n",
            "    jobid: 105\n",
            "    reason: Missing output files: results/experiments/experimentMPRAworkshop/statistic/bc_overlap/assigned_counts/MPRAworkshop/overlapBCandCounts.HepG2_DNA.default.tsv; Input files updated by another job: results/experiments/experimentMPRAworkshop/assigned_counts/MPRAworkshop/HepG2_3_DNA_final_counts.config.default.tsv.gz, results/experiments/experimentMPRAworkshop/assigned_counts/MPRAworkshop/HepG2_1_DNA_final_counts.config.default.tsv.gz, results/experiments/experimentMPRAworkshop/assigned_counts/MPRAworkshop/HepG2_2_DNA_final_counts.config.default.tsv.gz\n",
            "    wildcards: project=experimentMPRAworkshop, raw_or_assigned=assigned_counts/MPRAworkshop, condition=HepG2, type=DNA, config=default\n",
            "    resources: tmpdir=/tmp\n",
            "\n",
            "Activating conda environment: ../conda_envs/a97672b6846360f00f0e85ee53a46950_\n",
            "[Fri Aug  2 12:47:46 2024]\n",
            "Finished job 118.\n",
            "18 of 39 steps (46%) done\n",
            "[Fri Aug  2 12:47:47 2024]\n",
            "Finished job 120.\n",
            "19 of 39 steps (49%) done\n",
            "[Fri Aug  2 12:47:49 2024]\n",
            "Finished job 77.\n",
            "20 of 39 steps (51%) done\n",
            "Select jobs to execute...\n",
            "Execute 1 jobs...\n",
            "\n",
            "[Fri Aug  2 12:47:49 2024]\n",
            "localrule counts_dna_rna_merge_counts:\n",
            "    input: results/experiments/experimentMPRAworkshop/assigned_counts/MPRAworkshop/HepG2_1_DNA_final_counts.config.default.tsv.gz, results/experiments/experimentMPRAworkshop/assigned_counts/MPRAworkshop/HepG2_1_RNA_final_counts.config.default.tsv.gz\n",
            "    output: results/experiments/experimentMPRAworkshop/assigned_counts/MPRAworkshop/HepG2_1.merged.config.default.tsv.gz\n",
            "    log: results/logs/assigned_counts/MPRAworkshop/dna_rna_merge_counts.experimentMPRAworkshop.HepG2.1.default.log\n",
            "    jobid: 74\n",
            "    reason: Missing output files: results/experiments/experimentMPRAworkshop/assigned_counts/MPRAworkshop/HepG2_1.merged.config.default.tsv.gz; Input files updated by another job: results/experiments/experimentMPRAworkshop/assigned_counts/MPRAworkshop/HepG2_1_RNA_final_counts.config.default.tsv.gz, results/experiments/experimentMPRAworkshop/assigned_counts/MPRAworkshop/HepG2_1_DNA_final_counts.config.default.tsv.gz\n",
            "    wildcards: project=experimentMPRAworkshop, raw_or_assigned=assigned_counts/MPRAworkshop, condition=HepG2, replicate=1, config=default\n",
            "    resources: tmpdir=/tmp\n",
            "\n",
            "Activating conda environment: ../conda_envs/ec92106e14f6232977fd0918d24cb216_\n",
            "[Fri Aug  2 12:47:49 2024]\n",
            "Finished job 105.\n",
            "21 of 39 steps (54%) done\n",
            "[Fri Aug  2 12:47:49 2024]\n",
            "Finished job 74.\n",
            "22 of 39 steps (56%) done\n",
            "[Fri Aug  2 12:47:49 2024]\n",
            "Finished job 80.\n",
            "23 of 39 steps (59%) done\n",
            "Select jobs to execute...\n",
            "Execute 1 jobs...\n",
            "\n",
            "[Fri Aug  2 12:47:49 2024]\n",
            "localrule counts_dna_rna_merge_counts:\n",
            "    input: results/experiments/experimentMPRAworkshop/assigned_counts/MPRAworkshop/HepG2_2_DNA_final_counts.config.default.tsv.gz, results/experiments/experimentMPRAworkshop/assigned_counts/MPRAworkshop/HepG2_2_RNA_final_counts.config.default.tsv.gz\n",
            "    output: results/experiments/experimentMPRAworkshop/assigned_counts/MPRAworkshop/HepG2_2.merged.config.default.tsv.gz\n",
            "    log: results/logs/assigned_counts/MPRAworkshop/dna_rna_merge_counts.experimentMPRAworkshop.HepG2.2.default.log\n",
            "    jobid: 78\n",
            "    reason: Missing output files: results/experiments/experimentMPRAworkshop/assigned_counts/MPRAworkshop/HepG2_2.merged.config.default.tsv.gz; Input files updated by another job: results/experiments/experimentMPRAworkshop/assigned_counts/MPRAworkshop/HepG2_2_RNA_final_counts.config.default.tsv.gz, results/experiments/experimentMPRAworkshop/assigned_counts/MPRAworkshop/HepG2_2_DNA_final_counts.config.default.tsv.gz\n",
            "    wildcards: project=experimentMPRAworkshop, raw_or_assigned=assigned_counts/MPRAworkshop, condition=HepG2, replicate=2, config=default\n",
            "    resources: tmpdir=/tmp\n",
            "\n",
            "Activating conda environment: ../conda_envs/ec92106e14f6232977fd0918d24cb216_\n",
            "[Fri Aug  2 12:47:50 2024]\n",
            "Finished job 78.\n",
            "24 of 39 steps (62%) done\n",
            "[Fri Aug  2 12:47:50 2024]\n",
            "Finished job 83.\n",
            "25 of 39 steps (64%) done\n",
            "Select jobs to execute...\n",
            "Execute 3 jobs...\n",
            "\n",
            "[Fri Aug  2 12:47:50 2024]\n",
            "localrule statistic_bc_overlap_run:\n",
            "    input: results/experiments/experimentMPRAworkshop/assigned_counts/MPRAworkshop/HepG2_1_RNA_final_counts.config.default.tsv.gz, results/experiments/experimentMPRAworkshop/assigned_counts/MPRAworkshop/HepG2_2_RNA_final_counts.config.default.tsv.gz, results/experiments/experimentMPRAworkshop/assigned_counts/MPRAworkshop/HepG2_3_RNA_final_counts.config.default.tsv.gz, /data/MPRAsnakeflow/workflow/rules/../scripts/count/BCCounts_betweenReplicates.R (cached)\n",
            "    output: results/experiments/experimentMPRAworkshop/statistic/bc_overlap/assigned_counts/MPRAworkshop/overlapBCandCounts.HepG2_RNA.default.tsv\n",
            "    log: results/logs/statistic/bc_overlap/run.experimentMPRAworkshop.HepG2.RNA.default.assigned_counts/MPRAworkshop.log\n",
            "    jobid: 106\n",
            "    reason: Missing output files: results/experiments/experimentMPRAworkshop/statistic/bc_overlap/assigned_counts/MPRAworkshop/overlapBCandCounts.HepG2_RNA.default.tsv; Input files updated by another job: results/experiments/experimentMPRAworkshop/assigned_counts/MPRAworkshop/HepG2_1_RNA_final_counts.config.default.tsv.gz, results/experiments/experimentMPRAworkshop/assigned_counts/MPRAworkshop/HepG2_2_RNA_final_counts.config.default.tsv.gz, results/experiments/experimentMPRAworkshop/assigned_counts/MPRAworkshop/HepG2_3_RNA_final_counts.config.default.tsv.gz\n",
            "    wildcards: project=experimentMPRAworkshop, raw_or_assigned=assigned_counts/MPRAworkshop, condition=HepG2, type=RNA, config=default\n",
            "    resources: tmpdir=/tmp\n",
            "\n",
            "Activating conda environment: ../conda_envs/a97672b6846360f00f0e85ee53a46950_\n",
            "\n",
            "[Fri Aug  2 12:47:50 2024]\n",
            "localrule statistic_assigned_counts_combine_BC_assignment_stats_helper:\n",
            "    input: results/experiments/experimentMPRAworkshop/statistic/assigned_counts/MPRAworkshop/HepG2_1_DNA_default.statistic.tsv.gz, results/experiments/experimentMPRAworkshop/statistic/assigned_counts/MPRAworkshop/HepG2_2_DNA_default.statistic.tsv.gz, results/experiments/experimentMPRAworkshop/statistic/assigned_counts/MPRAworkshop/HepG2_3_DNA_default.statistic.tsv.gz, results/experiments/experimentMPRAworkshop/statistic/assigned_counts/MPRAworkshop/HepG2_1_RNA_default.statistic.tsv.gz, results/experiments/experimentMPRAworkshop/statistic/assigned_counts/MPRAworkshop/HepG2_2_RNA_default.statistic.tsv.gz, results/experiments/experimentMPRAworkshop/statistic/assigned_counts/MPRAworkshop/HepG2_3_RNA_default.statistic.tsv.gz\n",
            "    output: results/experiments/experimentMPRAworkshop/statistic/assigned_counts/MPRAworkshop/helper.HepG2.default.statistic.tsv.gz\n",
            "    log: results/logs/statistic/assigned_counts/combine_BC_assignment_stats_helper.experimentMPRAworkshop.HepG2.default.MPRAworkshop.log\n",
            "    jobid: 135\n",
            "    reason: Missing output files: results/experiments/experimentMPRAworkshop/statistic/assigned_counts/MPRAworkshop/helper.HepG2.default.statistic.tsv.gz; Input files updated by another job: results/experiments/experimentMPRAworkshop/statistic/assigned_counts/MPRAworkshop/HepG2_3_DNA_default.statistic.tsv.gz, results/experiments/experimentMPRAworkshop/statistic/assigned_counts/MPRAworkshop/HepG2_1_RNA_default.statistic.tsv.gz, results/experiments/experimentMPRAworkshop/statistic/assigned_counts/MPRAworkshop/HepG2_2_RNA_default.statistic.tsv.gz, results/experiments/experimentMPRAworkshop/statistic/assigned_counts/MPRAworkshop/HepG2_1_DNA_default.statistic.tsv.gz, results/experiments/experimentMPRAworkshop/statistic/assigned_counts/MPRAworkshop/HepG2_2_DNA_default.statistic.tsv.gz, results/experiments/experimentMPRAworkshop/statistic/assigned_counts/MPRAworkshop/HepG2_3_RNA_default.statistic.tsv.gz\n",
            "    wildcards: project=experimentMPRAworkshop, assignment=MPRAworkshop, condition=HepG2, config=default\n",
            "    resources: tmpdir=/tmp\n",
            "\n",
            "Activating conda environment: ../conda_envs/ec92106e14f6232977fd0918d24cb216_\n",
            "\n",
            "[Fri Aug  2 12:47:50 2024]\n",
            "localrule counts_dna_rna_merge_counts:\n",
            "    input: results/experiments/experimentMPRAworkshop/assigned_counts/MPRAworkshop/HepG2_3_DNA_final_counts.config.default.tsv.gz, results/experiments/experimentMPRAworkshop/assigned_counts/MPRAworkshop/HepG2_3_RNA_final_counts.config.default.tsv.gz\n",
            "    output: results/experiments/experimentMPRAworkshop/assigned_counts/MPRAworkshop/HepG2_3.merged.config.default.tsv.gz\n",
            "    log: results/logs/assigned_counts/MPRAworkshop/dna_rna_merge_counts.experimentMPRAworkshop.HepG2.3.default.log\n",
            "    jobid: 81\n",
            "    reason: Missing output files: results/experiments/experimentMPRAworkshop/assigned_counts/MPRAworkshop/HepG2_3.merged.config.default.tsv.gz; Input files updated by another job: results/experiments/experimentMPRAworkshop/assigned_counts/MPRAworkshop/HepG2_3_DNA_final_counts.config.default.tsv.gz, results/experiments/experimentMPRAworkshop/assigned_counts/MPRAworkshop/HepG2_3_RNA_final_counts.config.default.tsv.gz\n",
            "    wildcards: project=experimentMPRAworkshop, raw_or_assigned=assigned_counts/MPRAworkshop, condition=HepG2, replicate=3, config=default\n",
            "    resources: tmpdir=/tmp\n",
            "\n",
            "Activating conda environment: ../conda_envs/ec92106e14f6232977fd0918d24cb216_\n",
            "[Fri Aug  2 12:47:50 2024]\n",
            "Finished job 135.\n",
            "26 of 39 steps (67%) done\n",
            "Select jobs to execute...\n",
            "Execute 1 jobs...\n",
            "\n",
            "[Fri Aug  2 12:47:50 2024]\n",
            "localrule statistic_assigned_counts_combine_BC_assignment_stats:\n",
            "    input: results/experiments/experimentMPRAworkshop/statistic/assigned_counts/MPRAworkshop/helper.HepG2.default.statistic.tsv.gz\n",
            "    output: results/experiments/experimentMPRAworkshop/statistic/statistic_assigned_counts_single_MPRAworkshop_default.tsv\n",
            "    log: results/logs/statistic/assigned_counts/combine_BC_assignment_stats.experimentMPRAworkshop.MPRAworkshop_default.log\n",
            "    jobid: 134\n",
            "    reason: Missing output files: results/experiments/experimentMPRAworkshop/statistic/statistic_assigned_counts_single_MPRAworkshop_default.tsv; Input files updated by another job: results/experiments/experimentMPRAworkshop/statistic/assigned_counts/MPRAworkshop/helper.HepG2.default.statistic.tsv.gz\n",
            "    wildcards: project=experimentMPRAworkshop, assignment=MPRAworkshop, config=default\n",
            "    resources: tmpdir=/tmp\n",
            "\n",
            "Activating conda environment: ../conda_envs/ec92106e14f6232977fd0918d24cb216_\n",
            "[Fri Aug  2 12:47:50 2024]\n",
            "Finished job 81.\n",
            "27 of 39 steps (69%) done\n",
            "Select jobs to execute...\n",
            "Execute 2 jobs...\n",
            "\n",
            "[Fri Aug  2 12:47:50 2024]\n",
            "localrule statistic_correlation_bc_counts:\n",
            "    input: results/experiments/experimentMPRAworkshop/assigned_counts/MPRAworkshop/HepG2_1.merged.config.default.tsv.gz, results/experiments/experimentMPRAworkshop/assigned_counts/MPRAworkshop/HepG2_2.merged.config.default.tsv.gz, results/experiments/experimentMPRAworkshop/assigned_counts/MPRAworkshop/HepG2_3.merged.config.default.tsv.gz, /data/MPRAsnakeflow/workflow/rules/../scripts/count/plot_perBCCounts_correlation.R (cached)\n",
            "    output: results/experiments/experimentMPRAworkshop/statistic/barcode/assigned_counts/MPRAworkshop/HepG2_default_barcode_DNA_pairwise.png, results/experiments/experimentMPRAworkshop/statistic/barcode/assigned_counts/MPRAworkshop/HepG2_default_barcode_RNA_pairwise.png, results/experiments/experimentMPRAworkshop/statistic/barcode/assigned_counts/MPRAworkshop/HepG2_default_barcode_Ratio_pairwise.png, results/experiments/experimentMPRAworkshop/statistic/barcode/assigned_counts/MPRAworkshop/HepG2_default_barcode_correlation.tsv\n",
            "    log: results/logs/statistic/correlation/correlate_bc_counts.experimentMPRAworkshop.HepG2.default.assigned_counts/MPRAworkshop.log\n",
            "    jobid: 101\n",
            "    reason: Missing output files: results/experiments/experimentMPRAworkshop/statistic/barcode/assigned_counts/MPRAworkshop/HepG2_default_barcode_correlation.tsv; Input files updated by another job: results/experiments/experimentMPRAworkshop/assigned_counts/MPRAworkshop/HepG2_2.merged.config.default.tsv.gz, results/experiments/experimentMPRAworkshop/assigned_counts/MPRAworkshop/HepG2_3.merged.config.default.tsv.gz, results/experiments/experimentMPRAworkshop/assigned_counts/MPRAworkshop/HepG2_1.merged.config.default.tsv.gz\n",
            "    wildcards: project=experimentMPRAworkshop, raw_or_assigned=assigned_counts/MPRAworkshop, condition=HepG2, config=default\n",
            "    resources: tmpdir=/tmp\n",
            "\n",
            "Activating conda environment: ../conda_envs/a97672b6846360f00f0e85ee53a46950_\n",
            "\n",
            "[Fri Aug  2 12:47:50 2024]\n",
            "localrule statistic_correlation_bc_counts_hist:\n",
            "    input: results/experiments/experimentMPRAworkshop/assigned_counts/MPRAworkshop/HepG2_1.merged.config.default.tsv.gz, results/experiments/experimentMPRAworkshop/assigned_counts/MPRAworkshop/HepG2_2.merged.config.default.tsv.gz, results/experiments/experimentMPRAworkshop/assigned_counts/MPRAworkshop/HepG2_3.merged.config.default.tsv.gz, /data/MPRAsnakeflow/workflow/rules/../scripts/count/plot_perBCCounts_stats.R (cached)\n",
            "    output: results/experiments/experimentMPRAworkshop/statistic/barcode/assigned_counts/MPRAworkshop/HepG2_default_DNA_perBarcode.png, results/experiments/experimentMPRAworkshop/statistic/barcode/assigned_counts/MPRAworkshop/HepG2_default_RNA_perBarcode.png\n",
            "    log: results/logs/statistic/correlation/correlate_bc_counts_hist.experimentMPRAworkshop.HepG2.default.assigned_counts/MPRAworkshop.log\n",
            "    jobid: 73\n",
            "    reason: Missing output files: results/experiments/experimentMPRAworkshop/statistic/barcode/assigned_counts/MPRAworkshop/HepG2_default_DNA_perBarcode.png, results/experiments/experimentMPRAworkshop/statistic/barcode/assigned_counts/MPRAworkshop/HepG2_default_RNA_perBarcode.png; Input files updated by another job: results/experiments/experimentMPRAworkshop/assigned_counts/MPRAworkshop/HepG2_2.merged.config.default.tsv.gz, results/experiments/experimentMPRAworkshop/assigned_counts/MPRAworkshop/HepG2_3.merged.config.default.tsv.gz, results/experiments/experimentMPRAworkshop/assigned_counts/MPRAworkshop/HepG2_1.merged.config.default.tsv.gz\n",
            "    wildcards: project=experimentMPRAworkshop, raw_or_assigned=assigned_counts/MPRAworkshop, condition=HepG2, config=default\n",
            "    resources: tmpdir=/tmp\n",
            "\n",
            "Activating conda environment: ../conda_envs/a97672b6846360f00f0e85ee53a46950_\n",
            "[Fri Aug  2 12:47:50 2024]\n",
            "Finished job 134.\n",
            "28 of 39 steps (72%) done\n",
            "Removing temporary output results/experiments/experimentMPRAworkshop/statistic/assigned_counts/MPRAworkshop/helper.HepG2.default.statistic.tsv.gz.\n",
            "[Fri Aug  2 12:47:53 2024]\n",
            "Finished job 106.\n",
            "29 of 39 steps (74%) done\n",
            "Select jobs to execute...\n",
            "Execute 1 jobs...\n",
            "\n",
            "[Fri Aug  2 12:47:53 2024]\n",
            "localrule statistic_bc_overlap_combine_assigned_counts:\n",
            "    input: results/experiments/experimentMPRAworkshop/statistic/bc_overlap/assigned_counts/MPRAworkshop/overlapBCandCounts.HepG2_DNA.default.tsv, results/experiments/experimentMPRAworkshop/statistic/bc_overlap/assigned_counts/MPRAworkshop/overlapBCandCounts.HepG2_RNA.default.tsv\n",
            "    output: results/experiments/experimentMPRAworkshop/statistic/bc_overlap.assigned_counts.default.MPRAworkshop.tsv\n",
            "    log: results/logs/statistic/bc_overlap/combine_assigned_counts.experimentMPRAworkshop.default.MPRAworkshop.log\n",
            "    jobid: 104\n",
            "    reason: Missing output files: results/experiments/experimentMPRAworkshop/statistic/bc_overlap.assigned_counts.default.MPRAworkshop.tsv; Input files updated by another job: results/experiments/experimentMPRAworkshop/statistic/bc_overlap/assigned_counts/MPRAworkshop/overlapBCandCounts.HepG2_DNA.default.tsv, results/experiments/experimentMPRAworkshop/statistic/bc_overlap/assigned_counts/MPRAworkshop/overlapBCandCounts.HepG2_RNA.default.tsv\n",
            "    wildcards: project=experimentMPRAworkshop, config=default, assignment=MPRAworkshop\n",
            "    resources: tmpdir=/tmp\n",
            "\n",
            "Activating conda environment: ../conda_envs/ec92106e14f6232977fd0918d24cb216_\n",
            "[Fri Aug  2 12:47:53 2024]\n",
            "Finished job 104.\n",
            "30 of 39 steps (77%) done\n",
            "Removing temporary output results/experiments/experimentMPRAworkshop/statistic/bc_overlap/assigned_counts/MPRAworkshop/overlapBCandCounts.HepG2_DNA.default.tsv.\n",
            "Removing temporary output results/experiments/experimentMPRAworkshop/statistic/bc_overlap/assigned_counts/MPRAworkshop/overlapBCandCounts.HepG2_RNA.default.tsv.\n",
            "[Fri Aug  2 12:47:55 2024]\n",
            "Finished job 73.\n",
            "31 of 39 steps (79%) done\n",
            "[Fri Aug  2 12:48:13 2024]\n",
            "Finished job 101.\n",
            "32 of 39 steps (82%) done\n",
            "Select jobs to execute...\n",
            "Execute 1 jobs...\n",
            "\n",
            "[Fri Aug  2 12:48:13 2024]\n",
            "localrule statistic_correlation_combine_bc_assigned:\n",
            "    input: results/experiments/experimentMPRAworkshop/statistic/barcode/assigned_counts/MPRAworkshop/HepG2_default_barcode_correlation.tsv\n",
            "    output: results/experiments/experimentMPRAworkshop/statistic/statistic_assigned_bc_correlation_merged_MPRAworkshop_default.tsv\n",
            "    log: results/logs/statistic/correlation/combine_bc_assigned.experimentMPRAworkshop.MPRAworkshop_default.log\n",
            "    jobid: 100\n",
            "    reason: Missing output files: results/experiments/experimentMPRAworkshop/statistic/statistic_assigned_bc_correlation_merged_MPRAworkshop_default.tsv; Input files updated by another job: results/experiments/experimentMPRAworkshop/statistic/barcode/assigned_counts/MPRAworkshop/HepG2_default_barcode_correlation.tsv\n",
            "    wildcards: project=experimentMPRAworkshop, assignment=MPRAworkshop, config=default\n",
            "    resources: tmpdir=/tmp\n",
            "\n",
            "Activating conda environment: ../conda_envs/ec92106e14f6232977fd0918d24cb216_\n",
            "[Fri Aug  2 12:48:13 2024]\n",
            "Finished job 100.\n",
            "33 of 39 steps (85%) done\n",
            "[Fri Aug  2 12:48:16 2024]\n",
            "Finished job 131.\n",
            "34 of 39 steps (87%) done\n",
            "Select jobs to execute...\n",
            "Execute 1 jobs...\n",
            "\n",
            "[Fri Aug  2 12:48:16 2024]\n",
            "localrule statistic_correlation_combine_oligo:\n",
            "    input: results/experiments/experimentMPRAworkshop/statistic/assigned_counts/MPRAworkshop/default/HepG2_correlation.tsv, results/experiments/experimentMPRAworkshop/statistic/assigned_counts/MPRAworkshop/default/HepG2_correlation_minThreshold.tsv\n",
            "    output: results/experiments/experimentMPRAworkshop/statistic/statistic_oligo_correlation_merged_MPRAworkshop_default.tsv\n",
            "    log: results/logs/statistic/correlation/combine_oligo.experimentMPRAworkshop.default.MPRAworkshop.log\n",
            "    jobid: 130\n",
            "    reason: Missing output files: results/experiments/experimentMPRAworkshop/statistic/statistic_oligo_correlation_merged_MPRAworkshop_default.tsv; Input files updated by another job: results/experiments/experimentMPRAworkshop/statistic/assigned_counts/MPRAworkshop/default/HepG2_correlation_minThreshold.tsv, results/experiments/experimentMPRAworkshop/statistic/assigned_counts/MPRAworkshop/default/HepG2_correlation.tsv\n",
            "    wildcards: project=experimentMPRAworkshop, assignment=MPRAworkshop, config=default\n",
            "    resources: tmpdir=/tmp\n",
            "\n",
            "Activating conda environment: ../conda_envs/ec92106e14f6232977fd0918d24cb216_\n",
            "[Fri Aug  2 12:48:16 2024]\n",
            "Finished job 130.\n",
            "35 of 39 steps (90%) done\n",
            "[Fri Aug  2 12:48:34 2024]\n",
            "Finished job 62.\n",
            "36 of 39 steps (92%) done\n",
            "Select jobs to execute...\n",
            "Execute 1 jobs...\n",
            "\n",
            "[Fri Aug  2 12:48:34 2024]\n",
            "localrule statistic_correlation_combine_bc_raw:\n",
            "    input: results/experiments/experimentMPRAworkshop/statistic/barcode/counts/HepG2_default_barcode_correlation.tsv\n",
            "    output: results/experiments/experimentMPRAworkshop/statistic/statistic_bc_correlation_merged_default.tsv\n",
            "    log: results/logs/statistic/correlation/combine_bc_raw.experimentMPRAworkshop.default.log\n",
            "    jobid: 61\n",
            "    reason: Missing output files: results/experiments/experimentMPRAworkshop/statistic/statistic_bc_correlation_merged_default.tsv; Input files updated by another job: results/experiments/experimentMPRAworkshop/statistic/barcode/counts/HepG2_default_barcode_correlation.tsv\n",
            "    wildcards: project=experimentMPRAworkshop, config=default\n",
            "    resources: tmpdir=/tmp\n",
            "\n",
            "Activating conda environment: ../conda_envs/ec92106e14f6232977fd0918d24cb216_\n",
            "[Fri Aug  2 12:48:34 2024]\n",
            "Finished job 61.\n",
            "37 of 39 steps (95%) done\n",
            "[Fri Aug  2 12:49:27 2024]\n",
            "Finished job 124.\n",
            "38 of 39 steps (97%) done\n",
            "Select jobs to execute...\n",
            "Execute 1 jobs...\n",
            "\n",
            "[Fri Aug  2 12:49:27 2024]\n",
            "localrule all:\n",
            "    input: results/experiments/experimentMPRAworkshop/statistic/counts/BCNucleotideComposition.HepG2_1_RNA.tsv.gz, results/experiments/experimentMPRAworkshop/statistic/counts/BCNucleotideComposition.HepG2_1_DNA.tsv.gz, results/experiments/experimentMPRAworkshop/statistic/counts/BCNucleotideComposition.HepG2_2_RNA.tsv.gz, results/experiments/experimentMPRAworkshop/statistic/counts/BCNucleotideComposition.HepG2_2_DNA.tsv.gz, results/experiments/experimentMPRAworkshop/statistic/counts/BCNucleotideComposition.HepG2_3_RNA.tsv.gz, results/experiments/experimentMPRAworkshop/statistic/counts/BCNucleotideComposition.HepG2_3_DNA.tsv.gz, results/experiments/experimentMPRAworkshop/statistic/counts.raw.tsv, results/experiments/experimentMPRAworkshop/statistic/counts.filtered.tsv, results/experiments/experimentMPRAworkshop/statistic/counts.freqUMIs.HepG2_1_RNA.txt, results/experiments/experimentMPRAworkshop/statistic/counts.freqUMIs.HepG2_1_DNA.txt, results/experiments/experimentMPRAworkshop/statistic/counts.freqUMIs.HepG2_2_RNA.txt, results/experiments/experimentMPRAworkshop/statistic/counts.freqUMIs.HepG2_2_DNA.txt, results/experiments/experimentMPRAworkshop/statistic/counts.freqUMIs.HepG2_3_RNA.txt, results/experiments/experimentMPRAworkshop/statistic/counts.freqUMIs.HepG2_3_DNA.txt, results/experiments/experimentMPRAworkshop/statistic/statistic_bc_correlation_merged_default.tsv, results/experiments/experimentMPRAworkshop/statistic/statistic_bc_correlation_merged_tutorialConfig.tsv, results/experiments/experimentMPRAworkshop/statistic/barcode/counts/HepG2_default_DNA_perBarcode.png, results/experiments/experimentMPRAworkshop/statistic/barcode/counts/HepG2_default_RNA_perBarcode.png, results/experiments/experimentMPRAworkshop/statistic/barcode/counts/HepG2_tutorialConfig_DNA_perBarcode.png, results/experiments/experimentMPRAworkshop/statistic/barcode/counts/HepG2_tutorialConfig_RNA_perBarcode.png, results/experiments/experimentMPRAworkshop/statistic/barcode/assigned_counts/MPRAworkshop/HepG2_default_DNA_perBarcode.png, results/experiments/experimentMPRAworkshop/statistic/barcode/assigned_counts/MPRAworkshop/HepG2_default_RNA_perBarcode.png, results/experiments/experimentMPRAworkshop/statistic/barcode/assigned_counts/MPRAworkshop/HepG2_tutorialConfig_DNA_perBarcode.png, results/experiments/experimentMPRAworkshop/statistic/barcode/assigned_counts/MPRAworkshop/HepG2_tutorialConfig_RNA_perBarcode.png, results/experiments/experimentMPRAworkshop/statistic/bc_overlap.counts.default.tsv, results/experiments/experimentMPRAworkshop/statistic/bc_overlap.counts.tutorialConfig.tsv, results/experiments/experimentMPRAworkshop/statistic/statistic_assigned_bc_correlation_merged_MPRAworkshop_default.tsv, results/experiments/experimentMPRAworkshop/statistic/statistic_assigned_bc_correlation_merged_MPRAworkshop_tutorialConfig.tsv, results/experiments/experimentMPRAworkshop/statistic/bc_overlap.assigned_counts.default.MPRAworkshop.tsv, results/experiments/experimentMPRAworkshop/statistic/bc_overlap.assigned_counts.tutorialConfig.MPRAworkshop.tsv, results/experiments/experimentMPRAworkshop/assigned_counts/MPRAworkshop/default/HepG2_allreps_merged.tsv.gz, results/experiments/experimentMPRAworkshop/assigned_counts/MPRAworkshop/tutorialConfig/HepG2_allreps_merged.tsv.gz, results/experiments/experimentMPRAworkshop/assigned_counts/MPRAworkshop/default/HepG2_allreps_merged.combined.tsv.gz, results/experiments/experimentMPRAworkshop/assigned_counts/MPRAworkshop/tutorialConfig/HepG2_allreps_merged.combined.tsv.gz, results/experiments/experimentMPRAworkshop/assigned_counts/MPRAworkshop/default/HepG2_allreps_minThreshold_merged.combined.tsv.gz, results/experiments/experimentMPRAworkshop/assigned_counts/MPRAworkshop/tutorialConfig/HepG2_allreps_minThreshold_merged.combined.tsv.gz, results/experiments/experimentMPRAworkshop/assigned_counts/MPRAworkshop/default/HepG2_allreps_merged_barcode_assigned_counts.tsv.gz, results/experiments/experimentMPRAworkshop/assigned_counts/MPRAworkshop/tutorialConfig/HepG2_allreps_merged_barcode_assigned_counts.tsv.gz, results/experiments/experimentMPRAworkshop/statistic/assigned_counts/MPRAworkshop/default/HepG2_all_barcodesPerInsert_box.png, results/experiments/experimentMPRAworkshop/statistic/assigned_counts/MPRAworkshop/tutorialConfig/HepG2_all_barcodesPerInsert_box.png, results/experiments/experimentMPRAworkshop/statistic/assigned_counts/MPRAworkshop/default/HepG2_all_barcodesPerInsert_box_minThreshold.png, results/experiments/experimentMPRAworkshop/statistic/assigned_counts/MPRAworkshop/tutorialConfig/HepG2_all_barcodesPerInsert_box_minThreshold.png, results/experiments/experimentMPRAworkshop/statistic/assigned_counts/MPRAworkshop/default/HepG2_group_barcodesPerInsert_box.png, results/experiments/experimentMPRAworkshop/statistic/assigned_counts/MPRAworkshop/tutorialConfig/HepG2_group_barcodesPerInsert_box.png, results/experiments/experimentMPRAworkshop/statistic/assigned_counts/MPRAworkshop/default/HepG2_group_barcodesPerInsert_box_minThreshold.png, results/experiments/experimentMPRAworkshop/statistic/assigned_counts/MPRAworkshop/tutorialConfig/HepG2_group_barcodesPerInsert_box_minThreshold.png, results/experiments/experimentMPRAworkshop/statistic/statistic_assigned_counts_merged_MPRAworkshop_default.tsv, results/experiments/experimentMPRAworkshop/statistic/statistic_assigned_counts_merged_MPRAworkshop_tutorialConfig.tsv, results/experiments/experimentMPRAworkshop/statistic/statistic_oligo_correlation_merged_MPRAworkshop_default.tsv, results/experiments/experimentMPRAworkshop/statistic/statistic_oligo_correlation_merged_MPRAworkshop_tutorialConfig.tsv, results/experiments/experimentMPRAworkshop/statistic/statistic_assigned_counts_single_MPRAworkshop_default.tsv, results/experiments/experimentMPRAworkshop/statistic/statistic_assigned_counts_single_MPRAworkshop_tutorialConfig.tsv\n",
            "    jobid: 0\n",
            "    reason: Input files updated by another job: results/experiments/experimentMPRAworkshop/assigned_counts/MPRAworkshop/default/HepG2_allreps_merged_barcode_assigned_counts.tsv.gz, results/experiments/experimentMPRAworkshop/statistic/statistic_bc_correlation_merged_default.tsv, results/experiments/experimentMPRAworkshop/assigned_counts/MPRAworkshop/default/HepG2_allreps_minThreshold_merged.combined.tsv.gz, results/experiments/experimentMPRAworkshop/assigned_counts/MPRAworkshop/default/HepG2_allreps_merged.combined.tsv.gz, results/experiments/experimentMPRAworkshop/statistic/bc_overlap.assigned_counts.default.MPRAworkshop.tsv, results/experiments/experimentMPRAworkshop/statistic/barcode/counts/HepG2_default_DNA_perBarcode.png, results/experiments/experimentMPRAworkshop/statistic/assigned_counts/MPRAworkshop/default/HepG2_group_barcodesPerInsert_box.png, results/experiments/experimentMPRAworkshop/statistic/assigned_counts/MPRAworkshop/default/HepG2_group_barcodesPerInsert_box_minThreshold.png, results/experiments/experimentMPRAworkshop/statistic/statistic_assigned_counts_single_MPRAworkshop_default.tsv, results/experiments/experimentMPRAworkshop/statistic/assigned_counts/MPRAworkshop/default/HepG2_all_barcodesPerInsert_box_minThreshold.png, results/experiments/experimentMPRAworkshop/assigned_counts/MPRAworkshop/default/HepG2_allreps_merged.tsv.gz, results/experiments/experimentMPRAworkshop/statistic/statistic_oligo_correlation_merged_MPRAworkshop_default.tsv, results/experiments/experimentMPRAworkshop/statistic/statistic_assigned_counts_merged_MPRAworkshop_default.tsv, results/experiments/experimentMPRAworkshop/statistic/barcode/assigned_counts/MPRAworkshop/HepG2_default_DNA_perBarcode.png, results/experiments/experimentMPRAworkshop/statistic/statistic_assigned_bc_correlation_merged_MPRAworkshop_default.tsv, results/experiments/experimentMPRAworkshop/statistic/barcode/counts/HepG2_default_RNA_perBarcode.png, results/experiments/experimentMPRAworkshop/statistic/bc_overlap.counts.default.tsv, results/experiments/experimentMPRAworkshop/statistic/barcode/assigned_counts/MPRAworkshop/HepG2_default_RNA_perBarcode.png, results/experiments/experimentMPRAworkshop/statistic/assigned_counts/MPRAworkshop/default/HepG2_all_barcodesPerInsert_box.png\n",
            "    resources: tmpdir=/tmp\n",
            "\n",
            "[Fri Aug  2 12:49:27 2024]\n",
            "Finished job 0.\n",
            "39 of 39 steps (100%) done\n",
            "Complete log: .snakemake/log/2024-08-02T124732.773262.snakemake.log\n"
          ]
        }
      ],
      "source": [
        "runContainer(\"snakemake --configfile config_experiment.yaml -c 10\")"
      ]
    },
    {
      "cell_type": "markdown",
      "metadata": {},
      "source": [
        "## Experiment results\n",
        "\n",
        "Let's take a look at the files in the experiment results folder!"
      ]
    },
    {
      "cell_type": "code",
      "execution_count": 17,
      "metadata": {},
      "outputs": [
        {
          "name": "stdout",
          "output_type": "stream",
          "text": [
            "MPRAsnakeflow_tutorial/results/experiments:\n",
            "experimentMPRAworkshop\n",
            "\n",
            "MPRAsnakeflow_tutorial/results/experiments/experimentMPRAworkshop:\n",
            "assigned_counts  assignment  counts  statistic\n",
            "\n",
            "MPRAsnakeflow_tutorial/results/experiments/experimentMPRAworkshop/assigned_counts:\n",
            "MPRAworkshop\n",
            "\n",
            "MPRAsnakeflow_tutorial/results/experiments/experimentMPRAworkshop/assigned_counts/MPRAworkshop:\n",
            "HepG2_1.merged.config.tutorialConfig.tsv.gz\n",
            "HepG2_1_DNA_final_counts.config.tutorialConfig.tsv.gz\n",
            "HepG2_1_RNA_final_counts.config.tutorialConfig.tsv.gz\n",
            "HepG2_2.merged.config.tutorialConfig.tsv.gz\n",
            "HepG2_2_DNA_final_counts.config.tutorialConfig.tsv.gz\n",
            "HepG2_2_RNA_final_counts.config.tutorialConfig.tsv.gz\n",
            "HepG2_3.merged.config.tutorialConfig.tsv.gz\n",
            "HepG2_3_DNA_final_counts.config.tutorialConfig.tsv.gz\n",
            "HepG2_3_RNA_final_counts.config.tutorialConfig.tsv.gz\n",
            "tutorialConfig\n",
            "\n",
            "MPRAsnakeflow_tutorial/results/experiments/experimentMPRAworkshop/assigned_counts/MPRAworkshop/tutorialConfig:\n",
            "HepG2_1_barcode_assigned_counts.tsv.gz\n",
            "HepG2_1_merged_assigned_counts.tsv.gz\n",
            "HepG2_2_barcode_assigned_counts.tsv.gz\n",
            "HepG2_2_merged_assigned_counts.tsv.gz\n",
            "HepG2_3_barcode_assigned_counts.tsv.gz\n",
            "HepG2_3_merged_assigned_counts.tsv.gz\n",
            "HepG2_allreps_merged.combined.tsv.gz\n",
            "HepG2_allreps_merged.tsv.gz\n",
            "HepG2_allreps_merged_barcode_assigned_counts.tsv.gz\n",
            "HepG2_allreps_minThreshold_merged.combined.tsv.gz\n",
            "HepG2_allreps_minThreshold_merged.tsv.gz\n",
            "\n",
            "MPRAsnakeflow_tutorial/results/experiments/experimentMPRAworkshop/assignment:\n",
            "MPRAworkshop.tsv.gz\n",
            "\n",
            "MPRAsnakeflow_tutorial/results/experiments/experimentMPRAworkshop/counts:\n",
            "HepG2_1.merged.config.tutorialConfig.tsv.gz\n",
            "HepG2_1_DNA_filtered_counts.tsv.gz\n",
            "HepG2_1_DNA_final_counts.tsv.gz\n",
            "HepG2_1_RNA_filtered_counts.tsv.gz\n",
            "HepG2_1_RNA_final_counts.tsv.gz\n",
            "HepG2_2.merged.config.tutorialConfig.tsv.gz\n",
            "HepG2_2_DNA_filtered_counts.tsv.gz\n",
            "HepG2_2_DNA_final_counts.tsv.gz\n",
            "HepG2_2_RNA_filtered_counts.tsv.gz\n",
            "HepG2_2_RNA_final_counts.tsv.gz\n",
            "HepG2_3.merged.config.tutorialConfig.tsv.gz\n",
            "HepG2_3_DNA_filtered_counts.tsv.gz\n",
            "HepG2_3_DNA_final_counts.tsv.gz\n",
            "HepG2_3_RNA_filtered_counts.tsv.gz\n",
            "HepG2_3_RNA_final_counts.tsv.gz\n",
            "useUMI.HepG2_1_DNA.bam\n",
            "useUMI.HepG2_1_DNA_raw_counts.tsv.gz\n",
            "useUMI.HepG2_1_RNA.bam\n",
            "useUMI.HepG2_1_RNA_raw_counts.tsv.gz\n",
            "useUMI.HepG2_2_DNA.bam\n",
            "useUMI.HepG2_2_DNA_raw_counts.tsv.gz\n",
            "useUMI.HepG2_2_RNA.bam\n",
            "useUMI.HepG2_2_RNA_raw_counts.tsv.gz\n",
            "useUMI.HepG2_3_DNA.bam\n",
            "useUMI.HepG2_3_DNA_raw_counts.tsv.gz\n",
            "useUMI.HepG2_3_RNA.bam\n",
            "useUMI.HepG2_3_RNA_raw_counts.tsv.gz\n",
            "\n",
            "MPRAsnakeflow_tutorial/results/experiments/experimentMPRAworkshop/statistic:\n",
            "assigned_counts\n",
            "barcode\n",
            "bc_overlap.assigned_counts.tutorialConfig.MPRAworkshop.tsv\n",
            "bc_overlap.counts.tutorialConfig.tsv\n",
            "counts\n",
            "counts.filtered.tsv\n",
            "counts.freqUMIs.HepG2_1_DNA.txt\n",
            "counts.freqUMIs.HepG2_1_RNA.txt\n",
            "counts.freqUMIs.HepG2_2_DNA.txt\n",
            "counts.freqUMIs.HepG2_2_RNA.txt\n",
            "counts.freqUMIs.HepG2_3_DNA.txt\n",
            "counts.freqUMIs.HepG2_3_RNA.txt\n",
            "counts.raw.tsv\n",
            "statistic_assigned_bc_correlation_merged_MPRAworkshop_tutorialConfig.tsv\n",
            "statistic_assigned_counts_merged_MPRAworkshop_tutorialConfig.tsv\n",
            "statistic_assigned_counts_single_MPRAworkshop_tutorialConfig.tsv\n",
            "statistic_bc_correlation_merged_tutorialConfig.tsv\n",
            "statistic_oligo_correlation_merged_MPRAworkshop_tutorialConfig.tsv\n",
            "\n",
            "MPRAsnakeflow_tutorial/results/experiments/experimentMPRAworkshop/statistic/assigned_counts:\n",
            "MPRAworkshop\n",
            "\n",
            "MPRAsnakeflow_tutorial/results/experiments/experimentMPRAworkshop/statistic/assigned_counts/MPRAworkshop:\n",
            "HepG2_1_DNA_tutorialConfig.statistic.tsv.gz\n",
            "HepG2_1_RNA_tutorialConfig.statistic.tsv.gz\n",
            "HepG2_2_DNA_tutorialConfig.statistic.tsv.gz\n",
            "HepG2_2_RNA_tutorialConfig.statistic.tsv.gz\n",
            "HepG2_3_DNA_tutorialConfig.statistic.tsv.gz\n",
            "HepG2_3_RNA_tutorialConfig.statistic.tsv.gz\n",
            "tutorialConfig\n",
            "\n",
            "MPRAsnakeflow_tutorial/results/experiments/experimentMPRAworkshop/statistic/assigned_counts/MPRAworkshop/tutorialConfig:\n",
            "HepG2_1_merged_assigned_counts.statistic.tsv.gz\n",
            "HepG2_2_merged_assigned_counts.statistic.tsv.gz\n",
            "HepG2_3_merged_assigned_counts.statistic.tsv.gz\n",
            "HepG2_DNA_pairwise.png\n",
            "HepG2_DNA_pairwise_minThreshold.png\n",
            "HepG2_RNA_pairwise.png\n",
            "HepG2_RNA_pairwise_minThreshold.png\n",
            "HepG2_Ratio_pairwise.png\n",
            "HepG2_Ratio_pairwise_minThreshold.png\n",
            "HepG2_all_barcodesPerInsert_box.png\n",
            "HepG2_all_barcodesPerInsert_box_minThreshold.png\n",
            "HepG2_average_allreps_merged.tsv.gz\n",
            "HepG2_barcodesPerInsert.png\n",
            "HepG2_correlation.tsv\n",
            "HepG2_correlation_minThreshold.tsv\n",
            "HepG2_group_barcodesPerInsert_box.png\n",
            "HepG2_group_barcodesPerInsert_box_minThreshold.png\n",
            "combined\n",
            "\n",
            "MPRAsnakeflow_tutorial/results/experiments/experimentMPRAworkshop/statistic/assigned_counts/MPRAworkshop/tutorialConfig/combined:\n",
            "HepG2_merged_assigned_counts.statistic.tsv.gz\n",
            "\n",
            "MPRAsnakeflow_tutorial/results/experiments/experimentMPRAworkshop/statistic/barcode:\n",
            "assigned_counts  counts\n",
            "\n",
            "MPRAsnakeflow_tutorial/results/experiments/experimentMPRAworkshop/statistic/barcode/assigned_counts:\n",
            "MPRAworkshop\n",
            "\n",
            "MPRAsnakeflow_tutorial/results/experiments/experimentMPRAworkshop/statistic/barcode/assigned_counts/MPRAworkshop:\n",
            "HepG2_tutorialConfig_DNA_perBarcode.png\n",
            "HepG2_tutorialConfig_RNA_perBarcode.png\n",
            "HepG2_tutorialConfig_barcode_DNA_pairwise.png\n",
            "HepG2_tutorialConfig_barcode_RNA_pairwise.png\n",
            "HepG2_tutorialConfig_barcode_Ratio_pairwise.png\n",
            "HepG2_tutorialConfig_barcode_correlation.tsv\n",
            "\n",
            "MPRAsnakeflow_tutorial/results/experiments/experimentMPRAworkshop/statistic/barcode/counts:\n",
            "HepG2_tutorialConfig_DNA_perBarcode.png\n",
            "HepG2_tutorialConfig_RNA_perBarcode.png\n",
            "HepG2_tutorialConfig_barcode_DNA_pairwise.png\n",
            "HepG2_tutorialConfig_barcode_RNA_pairwise.png\n",
            "HepG2_tutorialConfig_barcode_Ratio_pairwise.png\n",
            "HepG2_tutorialConfig_barcode_correlation.tsv\n",
            "\n",
            "MPRAsnakeflow_tutorial/results/experiments/experimentMPRAworkshop/statistic/counts:\n",
            "BCNucleotideComposition.HepG2_1_DNA.tsv.gz\n",
            "BCNucleotideComposition.HepG2_1_RNA.tsv.gz\n",
            "BCNucleotideComposition.HepG2_2_DNA.tsv.gz\n",
            "BCNucleotideComposition.HepG2_2_RNA.tsv.gz\n",
            "BCNucleotideComposition.HepG2_3_DNA.tsv.gz\n",
            "BCNucleotideComposition.HepG2_3_RNA.tsv.gz\n"
          ]
        }
      ],
      "source": [
        "results_dir = \"MPRAsnakeflow_tutorial/results/experiments\"\n",
        "!ls -R \"{results_dir}\""
      ]
    },
    {
      "cell_type": "markdown",
      "metadata": {},
      "source": [
        "We can take a look at the amount of barcodes that have been removed due to UMI collision, by checking how many unique BC x UMI combinations we have in our data. (We are now checking the RNA counts in replicate 1, but we should look at both DNA and RNA counts in all three replicates.)"
      ]
    },
    {
      "cell_type": "code",
      "execution_count": 21,
      "metadata": {},
      "outputs": [
        {
          "name": "stdout",
          "output_type": "stream",
          "text": [
            "First few lines of a count file, where column 1 contains the barcode, 2 the UMI and 3 the count.\n",
            "AAAAAAAAAAAAAAA\tCGAAGTACACTTTCCG\t1\n",
            "AAAAAAAAAAAAAGG\tCGTGAGCAGGATTAAG\t1\n",
            "AAAAAAAAAACAAGT\tCTATCCGCACTGTGTC\t1\n",
            "AAAAAAAAAACCCAA\tTTCCTAGGGACAGTCC\t1\n",
            "AAAAAAAAAAGATGC\tGGAGCATGTAATGGGT\t1\n",
            "AAAAAAAAAAGCTGC\tAAGATATACGGACGAT\t1\n",
            "AAAAAAAAAAGCTGC\tAGAGGTTAGAAGGGCA\t1\n",
            "AAAAAAAAAAGCTGC\tATATGGACCGCCCTGG\t1\n",
            "AAAAAAAAAAGCTGC\tCATGCACCCTGCATAA\t1\n",
            "AAAAAAAAAAGCTGC\tCTGATTGTACCGCAGC\t1\n",
            "\n",
            "Amount of total BC x UMI combinations:\n",
            "871822\n",
            "\n",
            "Amount of duplicate BC x UMI combinations (the file is sorted):\n",
            "0\n"
          ]
        }
      ],
      "source": [
        "print(\"First few lines of a count file, where column 1 contains the barcode, 2 the UMI and 3 the count.\")\n",
        "!zcat \"{results_dir}\"/experimentMPRAworkshop/counts/HepG2_1_RNA_filtered_counts.tsv.gz | awk 'NR <= 10 {{print}}'\n",
        "\n",
        "print(\"\\nAmount of total BC x UMI combinations:\")\n",
        "!zcat \"{results_dir}\"/experimentMPRAworkshop/counts/HepG2_1_RNA_filtered_counts.tsv.gz | wc -l\n",
        "\n",
        "print(\"\\nAmount of duplicate BC x UMI combinations (the file is sorted):\")\n",
        "!zcat \"{results_dir}\"/experimentMPRAworkshop/counts/HepG2_1_RNA_filtered_counts.tsv.gz | uniq -d | wc -l"
      ]
    },
    {
      "cell_type": "markdown",
      "metadata": {},
      "source": [
        "There are no collisions, indicating that this subset of the data is of high quality. Great!"
      ]
    },
    {
      "cell_type": "markdown",
      "metadata": {},
      "source": [
        "The count files are then joined with the assignment file (the output of the assignment step) to assign counts to oligos. The barcode counts are then aggregated over the oligos. This is done within MPRAsnakeflow with additional filter steps, but to give you a feeling of what's happening we give you some simplified code below:"
      ]
    },
    {
      "cell_type": "code",
      "execution_count": 25,
      "metadata": {},
      "outputs": [
        {
          "name": "stdout",
          "output_type": "stream",
          "text": [
            "Joining the assignment and the counts of replicate 1:\n",
            "\n",
            "Barcode\toligo\tDNA\tRNA\n",
            "AAAAAAAAATCGATC\toligo_006917\t2\t3\n",
            "AAAAAAAACACATGA\toligo_005412\t11\t4\n",
            "AAAAAAAACAGTAAG\toligo_006290\t4\t3\n",
            "AAAAAAAACCAAATA\toligo_189277\t3\t2\n",
            "AAAAAAAACGAACAG\toligo_005299\t4\t1\n",
            "AAAAAAAAGAATTAC\toligo_144932\t4\t4\n",
            "AAAAAAAAGAGTAGT\toligo_006091\t7\t11\n",
            "AAAAAAACCGCACAT\toligo_005747\t1\t4\n",
            "AAAAAAAGACCTAAG\toligo_006429\t1\t4\n",
            "AAAAAAAGAGGTAAA\toligo_006350\t4\t6\n",
            "\n",
            "Aggregating the barcodes over oligos and the counts of replicate 1:\n",
            "\n",
            "oligo\tDNA\tRNA\n",
            "oligo_002500\t23\t42\n",
            "oligo_002501:oligo_002502\t13\t26\n",
            "oligo_002503\t14\t24\n",
            "oligo_002504\t1\t2\n",
            "oligo_002505\t23\t41\n",
            "oligo_002506\t7\t15\n",
            "oligo_002507\t11\t20\n",
            "oligo_002508\t11\t29\n",
            "oligo_002510\t15\t31\n",
            "oligo_002511\t23\t30\n"
          ]
        }
      ],
      "source": [
        "counts_rep1 = os.path.join(results_dir, \"experimentMPRAworkshop/assigned_counts/MPRAworkshop/HepG2_1.merged.config.tutorialConfig.tsv.gz\")\n",
        "assignment = \"MPRAsnakeflow_tutorial/example_data/assignment/assignment_barcodes.default.tsv.gz\"\n",
        "\n",
        "print(\"Joining the assignment and the counts of replicate 1:\\n\\nBarcode\\toligo\\tDNA\\tRNA\")\n",
        "!join <(zcat {assignment}) <(zcat {counts_rep1}) -t $'\\t' | cut -f 1,2,5-6 | awk 'NR <= 10 {{print}}'\n",
        "\n",
        "print(\"\\nAggregating the barcodes over oligos and the counts of replicate 1:\\n\\noligo\\tDNA\\tRNA\")\n",
        "!join <(zcat {assignment}) <(zcat {counts_rep1}) -t $'\\t' | cut -f 1,2,5-6 | sort -k2,2 | \\\n",
        " awk -v OFS=\"\\t\" '{{if ($$2 == prev) {{dna += $$3; rna += $$4}} else {{ if (NR > 1) print prev,dna,rna; prev=$$2; dna=$$3;rna=$$4}}}}' | awk 'NR <= 10 {{print}}'"
      ]
    },
    {
      "cell_type": "markdown",
      "metadata": {},
      "source": [
        "In the next steps, barcodes are already aggregated to their oligos/targets.  \n",
        "  \n",
        "We will have a look at the correlation plots between the replicates for DNA and RNA now. Typically, we will sequence RNA counts deeper than DNA -- because of the larger dynamic range of RNA. We therefore expect that the correlation of RNA counts is higher than that of the DNA. Our example data shows this trend as well.\n",
        "\n",
        "We have a correlation of DNA counts per insert between the replicates of 0.27 and 0.31. This correlation is for a subset of the complete MPRA experiment. The shown output uses the user set minThreshold for removing barcodes with too few counts. In order to see the influence of the parameter another plot is generated without this threshold."
      ]
    },
    {
      "cell_type": "markdown",
      "metadata": {},
      "source": [
        "With the threshold of 5 barcodes per oligo and at least one DNA and RNA count\n",
        "- DNA correlation: 0.28 - 0.31\n",
        "- RNA correlation: 0.68 - 0.70"
      ]
    },
    {
      "cell_type": "code",
      "execution_count": 48,
      "metadata": {},
      "outputs": [
        {
          "name": "stdout",
          "output_type": "stream",
          "text": [
            "4.10.0\n"
          ]
        },
        {
          "data": {
            "image/png": "[encoded data removed]",
            "text/plain": [
              "<Figure size 640x480 with 1 Axes>"
            ]
          },
          "metadata": {},
          "output_type": "display_data"
        }
      ],
      "source": [
        "print(cv2.__version__)\n",
        "dna_pairwise = cv2.imread(f'{results_dir}/experimentMPRAworkshop/statistic/assigned_counts/MPRAworkshop/tutorialConfig/HepG2_DNA_pairwise_minThreshold.png')\n",
        "\n",
        "dna_pairwise_resize = cv2.resize(dna_pairwise, (600, 1000))\n",
        "\n",
        "plt.imshow(dna_pairwise_resize)\n",
        "plt.show()"
      ]
    },
    {
      "cell_type": "code",
      "execution_count": 49,
      "metadata": {},
      "outputs": [
        {
          "data": {
            "image/png": "[encoded data removed]",
            "text/plain": [
              "<Figure size 640x480 with 1 Axes>"
            ]
          },
          "metadata": {},
          "output_type": "display_data"
        }
      ],
      "source": [
        "rna_pairwise_no_thresh = cv2.imread(f'{results_dir}/experimentMPRAworkshop/statistic/assigned_counts/MPRAworkshop/tutorialConfig/HepG2_RNA_pairwise.png')\n",
        "\n",
        "rna_pairwise_no_thresh_resize = cv2.resize(rna_pairwise_no_thresh, (600, 1000))\n",
        "\n",
        "plt.imshow(rna_pairwise_no_thresh_resize)\n",
        "plt.show()"
      ]
    },
    {
      "cell_type": "markdown",
      "metadata": {},
      "source": [
        "In the following two figures you can see that this trend is continues for a threshold of 10 barcodes per insert.\n",
        "- DNA correlation: 0.31 - 0.39\n",
        "- RNA correlation: 0.79 - 0.80"
      ]
    },
    {
      "cell_type": "code",
      "execution_count": 57,
      "metadata": {},
      "outputs": [
        {
          "data": {
            "image/png": "[encoded data removed]",
            "text/plain": [
              "<Figure size 640x480 with 1 Axes>"
            ]
          },
          "metadata": {},
          "output_type": "display_data"
        }
      ],
      "source": [
        "dna_pairwise_no_thresh = cv2.imread(f'{results_dir}/experimentMPRAworkshop/statistic/assigned_counts/MPRAworkshop/default/HepG2_DNA_pairwise_minThreshold.png')\n",
        "\n",
        "dna_pairwise_no_thresh_resize = cv2.resize(dna_pairwise_no_thresh, (600, 1000))\n",
        "\n",
        "plt.imshow(dna_pairwise_no_thresh_resize)\n",
        "plt.show()"
      ]
    },
    {
      "cell_type": "code",
      "execution_count": 59,
      "metadata": {},
      "outputs": [
        {
          "data": {
            "image/png": "[encoded data removed]",
            "text/plain": [
              "<Figure size 640x480 with 1 Axes>"
            ]
          },
          "metadata": {},
          "output_type": "display_data"
        }
      ],
      "source": [
        "rna_pairwise_no_thresh = cv2.imread(f'{results_dir}/experimentMPRAworkshop/statistic/assigned_counts/MPRAworkshop/default/HepG2_RNA_pairwise_minThreshold.png')\n",
        "\n",
        "rna_pairwise_no_thresh_resize = cv2.resize(rna_pairwise_no_thresh, (600, 1000))\n",
        "\n",
        "plt.imshow(rna_pairwise_no_thresh_resize)\n",
        "plt.show()"
      ]
    },
    {
      "cell_type": "markdown",
      "metadata": {},
      "source": [
        "Even though it is a small example, the minimal barcode count threshold shows a clear effect on correlation. However, we also note that we are losing a proprotion of oligos with these strict filters and thereby limit the conclusions that we can draw from the data."
      ]
    },
    {
      "cell_type": "markdown",
      "metadata": {},
      "source": [
        "Now we want go through the final output of MPRAsnakeflow: the count table of sequences and barcodes together with their aggregated log2 values. Note that there are no statistics calculated at this step yet, the table doesn't say anything about certainty/variance of the activity. The log2 value refers to the log2 ratio of RNA counts over DNA counts for each oligo, which is a measurement of the activity of the target sequence. More on this in the statistical analysis tutorial."
      ]
    },
    {
      "cell_type": "code",
      "execution_count": 1,
      "metadata": {},
      "outputs": [
        {
          "name": "stdout",
          "output_type": "stream",
          "text": [
            "gzip: {results_dir}/experimentMPRAworkshop/assigned_counts/MPRAworkshop/tutorialConfig/HepG2_allreps_merged.tsv.gz: No such file or directory\n"
          ]
        }
      ],
      "source": [
        " !zcat {results_dir}/experimentMPRAworkshop/assigned_counts/MPRAworkshop/tutorialConfig/HepG2_allreps_merged.tsv.gz | awk 'NR <= 10 {{print}}'"
      ]
    }
  ],
  "metadata": {
    "colab": {
      "collapsed_sections": [
        "32PHp-vU99x0",
        "6GilAsqZ4t9r"
      ],
      "include_colab_link": true,
      "provenance": []
    },
    "kernelspec": {
      "display_name": "Python 3",
      "name": "python3"
    },
    "language_info": {
      "codemirror_mode": {
        "name": "ipython",
        "version": 3
      },
      "file_extension": ".py",
      "mimetype": "text/x-python",
      "name": "python",
      "nbconvert_exporter": "python",
      "pygments_lexer": "ipython3",
      "version": "3.12.4"
    }
  },
  "nbformat": 4,
  "nbformat_minor": 0
}
