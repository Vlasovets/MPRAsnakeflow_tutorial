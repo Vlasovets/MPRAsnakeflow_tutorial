{
  "cells": [
    {
      "cell_type": "markdown",
      "metadata": {
        "colab_type": "text",
        "id": "view-in-github"
      },
      "source": [
        "<a href=\"https://colab.research.google.com/github/kircherlab/MPRAsnakeflow_tutorial/blob/main/tutorial_combined.ipynb\" target=\"_parent\"><img src=\"https://colab.research.google.com/assets/colab-badge.svg\" alt=\"Open In Colab\"/></a>"
      ]
    },
    {
      "cell_type": "code",
      "execution_count": 2,
      "metadata": {
        "colab": {
          "base_uri": "https://localhost:8080/"
        },
        "id": "NsBG7lOCPnnE",
        "outputId": "6da1caeb-905a-42f8-843a-54409a379c0f"
      },
      "outputs": [],
      "source": [
        "%%capture\n",
        "import matplotlib.pyplot as plt\n",
        "import os\n",
        "import cv2"
      ]
    },
    {
      "cell_type": "markdown",
      "metadata": {
        "id": "BOSJecyQPnnC"
      },
      "source": [
        "# MPRAsnakeflow Combined (Assignment and Experiment) Tutorial\n",
        "\n",
        "This notebook runs both the assignment and the experiment workflow. It does not use a pre-defined assignment file (mapping barcodes to oligos). Instead, it uses the output of the assignment step directly, as configured in the config file. The advantage is that more jobs can be parallelized because the oligo/barcode map is needed later in the experiment workflow. Therefore, earlier jobs can already be run. This is especially helpful if you run MPRAsnakeflow on a large HPC using a scheduling system like SLURM.\n",
        "\n",
        "After going through the prerequisites, we will cover the config file, run MPRAsnakeflow, and look at interesting results from the assignment and experiment workflow."
      ]
    },
    {
      "cell_type": "markdown",
      "metadata": {
        "id": "uAAYJQqv9zIk"
      },
      "source": [
        "## Prerequisites"
      ]
    },
    {
      "cell_type": "markdown",
      "metadata": {
        "id": "dOsEkOFu-MbM"
      },
      "source": [
        "### Docker/uDocker/Apptainer\n",
        "\n",
        "When running locally, you need to install `docker` or `apptainer`. For running remotely on Google Colab, `udocker` from github.com/drengskapur/docker-in-colab works nicely.\n",
        "\n",
        "We try to automatically find out what you need:"
      ]
    },
    {
      "cell_type": "code",
      "execution_count": null,
      "metadata": {},
      "outputs": [
        {
          "name": "stdout",
          "output_type": "stream",
          "text": [
            "Apptainer is installed! We will use Apptainer to run MPRAsnakeflow\n"
          ]
        }
      ],
      "source": [
        "tutorial_container = \"visze/mprasnakeflow_tutorial:0.5.3\"\n",
        "docker= False\n",
        "apptainer = False\n",
        "\n",
        "docker = !docker --help &>/dev/null; if [ $? -eq 0 ]; then echo 1; else echo 0; fi\n",
        "docker = bool(int(docker[0]))\n",
        "apptainer = !apptainer --help &>/dev/null; if [ $? -eq 0 ]; then echo 1; else echo 0; fi\n",
        "apptainer = bool(int(apptainer[0]))\n",
        "\n",
        "if docker:\n",
        "    print(\"Docker is installed! We will use Docker to run MPRAsnakeflow\")\n",
        "elif apptainer:\n",
        "    print(\"Apptainer is installed! We will use Apptainer to run MPRAsnakeflow\")\n",
        "else:\n",
        "    print(\"Neither Docker nor Apptainer is installed. We assume you run the tutorial on Colab and we will install uDocker for Colab\")"
      ]
    },
    {
      "cell_type": "markdown",
      "metadata": {},
      "source": [
        "When neither Docker nor Apptainer is installed, we will install uDocker for Colab now."
      ]
    },
    {
      "cell_type": "code",
      "execution_count": 4,
      "metadata": {
        "colab": {
          "base_uri": "https://localhost:8080/"
        },
        "id": "NSTDSHTN4JJk",
        "outputId": "5c2ad4b0-cc4b-4ced-9bfe-a75960cc36bd"
      },
      "outputs": [],
      "source": [
        "def udocker_init():\n",
        "    import os\n",
        "    if not os.path.exists(\"/home/user\"):\n",
        "        !pip install udocker > /dev/null\n",
        "        !udocker --allow-root install > /dev/null\n",
        "        !useradd -m user > /dev/null\n",
        "    print(f'Docker-in-Colab 1.1.0\\n')\n",
        "    print(f'Usage:     udocker(\"--help\")')\n",
        "    print(f'Examples:  https://github.com/indigo-dc/udocker?tab=readme-ov-file#examples')\n",
        "\n",
        "    def execute(command: str):\n",
        "        user_prompt = \"\\033[1;32muser@pc\\033[0m\"\n",
        "        print(f\"{user_prompt}$ udocker {command}\")\n",
        "        !su - user -c \"udocker $command\"\n",
        "\n",
        "    return execute\n",
        "\n",
        "if not docker and not apptainer:\n",
        "    udocker = udocker_init()"
      ]
    },
    {
      "cell_type": "markdown",
      "metadata": {},
      "source": [
        "We define a general function to run our MPRAsnakeflow tutorial container that will check if Docker, Apptainer, or uDocker has to be run. It will also bind your data directory `${PWD}/MPRAsnakeflow_tutorial` (will be downloaded later) to `/data/run` within the container and defines this as the working directory."
      ]
    },
    {
      "cell_type": "code",
      "execution_count": 5,
      "metadata": {},
      "outputs": [],
      "source": [
        "def runContainer(command):\n",
        "    user_prompt = \"\\033[1;32muser@pc\\033[0m\"\n",
        "    if docker:\n",
        "        print(f\"{user_prompt}$ docker run -v=${{PWD}}/MPRAsnakeflow_tutorial:/data/run --workdir /data/run {tutorial_container} {command}\")\n",
        "        !docker run -v=${{PWD}}/MPRAsnakeflow_tutorial:/data/run --workdir /data/run {tutorial_container} {command}\n",
        "    elif apptainer:\n",
        "        print(f\"apptainer run -B=${{PWD}}/MPRAsnakeflow_tutorial:/data/run --cwd /data/run mprasnakeflow_tutorial.sif {command}\")\n",
        "        !apptainer run -B=${{PWD}}/MPRAsnakeflow_tutorial:/data/run --cwd /data/run mprasnakeflow_tutorial.sif {command}\n",
        "    else:\n",
        "        udocker(f\"run -v=${{PWD}}/MPRAsnakeflow_tutorial:/data/run --workdir /data/run mprasnakeflow_tutorial {command}\")"
      ]
    },
    {
      "cell_type": "markdown",
      "metadata": {
        "id": "Mb0rhjfo8dbA"
      },
      "source": [
        "### Test data\n",
        "\n",
        "The data used in this tutorial is present in the GitHub repository. We will download it using git so that it is also present within a Colab environment."
      ]
    },
    {
      "cell_type": "code",
      "execution_count": 6,
      "metadata": {
        "id": "BGLsBxpyst9V"
      },
      "outputs": [
        {
          "name": "stdout",
          "output_type": "stream",
          "text": [
            "Folder 'MPRAsnakeflow_tutorial' already exists. Skipping clone.\n"
          ]
        }
      ],
      "source": [
        "%%bash\n",
        "if [ ! -d \"MPRAsnakeflow_tutorial\" ]; then\n",
        "    git clone https://github.com/kircherlab/MPRAsnakeflow_tutorial.git\n",
        "else\n",
        "    echo \"Folder 'MPRAsnakeflow_tutorial' already exists. Skipping clone.\"\n",
        "fi"
      ]
    },
    {
      "cell_type": "markdown",
      "metadata": {
        "id": "4WYuqwGr-fEp"
      },
      "source": [
        "### snakemake\n",
        "\n",
        "MPRAsnakeflow and its software dependencies are packed in the official snakemake v9.3.4 container, which you can find on DockerHub with the tag [`visze/mprasnakeflow_tutorial:0.5.3`](https://hub.docker.com/r/visze/mprasnakeflow_tutorial)."
      ]
    },
    {
      "cell_type": "code",
      "execution_count": 7,
      "metadata": {
        "colab": {
          "base_uri": "https://localhost:8080/"
        },
        "id": "ZZv9f_eu4bB9",
        "outputId": "67fa0e9c-386e-454a-c88d-11ce125ee5c3"
      },
      "outputs": [
        {
          "name": "stdout",
          "output_type": "stream",
          "text": [
            "apptainer pull mprasnakeflow_tutorial.sif docker://visze/mprasnakeflow_tutorial:0.5.1\n"
          ]
        },
        {
          "name": "stdout",
          "output_type": "stream",
          "text": [
            "\u001b[31mFATAL:  \u001b[0m Image file already exists: \"mprasnakeflow_tutorial.sif\" - will not overwrite\n"
          ]
        }
      ],
      "source": [
        "if docker:\n",
        "    print(f\"docker pull {tutorial_container}\")\n",
        "    !docker pull \"{tutorial_container}\"\n",
        "    print(f\"docker create --name=mprasnakeflow_tutorial {tutorial_container}\")\n",
        "    !docker create --name=mprasnakeflow_tutorial \"{tutorial_container}\" > /dev/null\n",
        "elif apptainer:\n",
        "    print(f\"apptainer pull mprasnakeflow_tutorial.sif docker://{tutorial_container}\")\n",
        "    !apptainer pull mprasnakeflow_tutorial.sif docker://{tutorial_container} > /dev/null\n",
        "else:\n",
        "    udocker(f\"pull {tutorial_container}\")\n",
        "    udocker(f\"create --name=mprasnakeflow_tutorial {tutorial_container}\")"
      ]
    },
    {
      "cell_type": "markdown",
      "metadata": {
        "id": "zYhKnwlV-orz"
      },
      "source": [
        "Try to run `snakemake --version` in the container:"
      ]
    },
    {
      "cell_type": "code",
      "execution_count": 8,
      "metadata": {
        "colab": {
          "base_uri": "https://localhost:8080/"
        },
        "collapsed": true,
        "id": "jQi5e3634sDP",
        "outputId": "844eb31f-20d4-463a-ef20-6c6c3b013e7a"
      },
      "outputs": [
        {
          "name": "stdout",
          "output_type": "stream",
          "text": [
            "apptainer run -B=${PWD}/MPRAsnakeflow_tutorial:/data/run --cwd /data/run mprasnakeflow_tutorial.sif snakemake --version\n"
          ]
        },
        {
          "name": "stdout",
          "output_type": "stream",
          "text": [
            "9.3.5.dev0\n"
          ]
        }
      ],
      "source": [
        "runContainer(\"snakemake --version\")"
      ]
    },
    {
      "cell_type": "markdown",
      "metadata": {},
      "source": [
        "## Combined workflow\n",
        "\n",
        "This notebook runs both the assignment and the experiment workflow. It does not use a pre-defined assignment file (mapping barcodes to oligos). Instead, it uses the output of the assignment step directly, as configured in the config file. The advantage is that more jobs can be parallelized because the oligo/barcode map is needed later in the experiment workflow. Therefore, earlier jobs can already be run. This is especially helpful if you run MPRAsnakeflow on a large HPC using a scheduling system like SLURM."
      ]
    },
    {
      "cell_type": "markdown",
      "metadata": {},
      "source": [
        "### Assignment workflow\n",
        "\n",
        "To analyze your MPRA data, you need to know which barcode goes with which tested sequence. This is called assignment and typically associates multiple barcodes (i.e. the sequences that you will later count in the MPRA experiment) to a target sequence. It is possible that you already designed your assignment in advance (e.g. have barcodes synthesized with the targeted sequences) and already have a file which holds for each of the designed sequences the assignment to the barcodes. If this is the case, you do not need to run the assignment step again and can run the experiment workflow with the file you already have.\\\n",
        "For the assignment step, we will need the files in the assignment folder (sequencing of barcodes and of the target sequences), as well as the config file and the design fasta (target sequences) in the design folder. We will take a look at these files now. The structure of a fastq file is as follows:  \n",
        "\n",
        "```\n",
        "@Sequence_ID_1  \n",
        "Sequence_1  \n",
        "+(Sequence_ID_1)  \n",
        "Quality score string of Sequence_1\n",
        "@Sequence_ID_2  \n",
        "Sequence_2  \n",
        "+(Sequence_ID_2)\n",
        "Quality score string of Sequence_2  \n",
        "...\n",
        "```"
      ]
    },
    {
      "cell_type": "code",
      "execution_count": 9,
      "metadata": {},
      "outputs": [
        {
          "name": "stdout",
          "output_type": "stream",
          "text": [
            "First two barcodes in our barcode sequencing file:\n",
            "\n"
          ]
        },
        {
          "name": "stdout",
          "output_type": "stream",
          "text": [
            "@NS500466:861:HT5LLAFX3:1:11101:4277:1067 2:N:0:ACGTAGACCA\n",
            "TTGAGACGCCGTGAC\n",
            "+\n",
            "AAAAAEAEEEEEEEE\n",
            "@NS500466:861:HT5LLAFX3:1:11101:13208:1071 2:N:0:ACGTAGACCA\n",
            "GCAGATGTAGATTGT\n",
            "+\n",
            "AAAAAEEEEEEEEEE\n",
            "\n",
            "First two sequences in our forward sequencing file:\n",
            "\n",
            "@NS500466:861:HT5LLAFX3:1:11101:4277:1067 1:N:0:ACGTAGACCA\n",
            "TCCTTTGTCTTCATTACTTGTCTCACTGGTGCAGGCCTCGCTTAGCTTTCAGCCTATCGCAGCTTTCAACCTGCCTTCCTTGCTAAGCTGAATCATTTCTGGGTTTTGATTTAAAGTGAGTCGTCGTGGCTCTTCCTTTGAGCACT\n",
            "+\n",
            "AAAAAEEEAEEEEEEEEEEEEEEEEEEEEEEEEEEEEEAEAEEEEAEEEEEE<EEEEAEEEEEEEEEEAEEEEEEAAE<EEEEEEEEEEAEEEEEEEEAEEEEEEEEAEEEEEEEEEEAE/EEEAEEAE<EEEEAAEEEAAE<A<A\n",
            "@NS500466:861:HT5LLAFX3:1:11101:13208:1071 1:N:0:ACGTAGACCA\n",
            "TATGGTTTGGCTGTGTTCCTACCCAAATCTCATCTTGAATTGTAGCTCCCACAATTCCCATGTCATGGGAGGGACCAAGTGGGAGGTAACTGAATCAGGCGGCGGGTCTTACCCCATACTGTTCTCTTGGTAGTGAATAAGTCTCA\n",
            "+\n",
            "AAAAAEEEEEEEEEEEEEEEEEEEEEEEEEEEEEEEEEEEEEEEEEEEEAEEEEEEEE<EEEEEEEEEEEEEAEEAAEEEAEEEEAEEEEEEEEEEEE<A<<<EAEEEEEEE6AAEEEEEEEEEEEEEEEE<EEEE<EAEEEAEAE\n"
          ]
        }
      ],
      "source": [
        "print(\"First two barcodes in our barcode sequencing file:\\n\")\n",
        "!zcat \"MPRAsnakeflow_tutorial/example_data/assignment/assoc_bc.fastq.gz\" | awk 'NR <=8 {print $0}'\n",
        "\n",
        "print(\"\\nFirst two sequences in our forward sequencing file:\\n\")\n",
        "!zcat \"MPRAsnakeflow_tutorial/example_data/assignment/assoc_fwd.fastq.gz\" | awk 'NR <=8 {print $0}'"
      ]
    },
    {
      "cell_type": "markdown",
      "metadata": {},
      "source": [
        "If you take a good look at these files, you can see the sequence IDs in lines starting with \"@\". By definition, the sequence ID ends at the first whitespace (the remainder is considered a comment). This sequence ID is identical between the different files, i.e. the forward, reverse, and barcode reads from the same molecule are in the same order. From the combination of these files, we can see which barcode is associated with which sequenced target (forward/reverse reads). These sequenced forward/reverse reads should therefore correspond to the sequences that we designed. The designed sequences can be found in our design fasta, which contains the following information:  \n",
        "\n",
        "```\n",
        ">oligo_ID_1  \n",
        "Designed sequence 1\n",
        ">oligo_ID_2  \n",
        "Designed sequence 2\n",
        "...\n",
        "```"
      ]
    },
    {
      "cell_type": "code",
      "execution_count": 10,
      "metadata": {},
      "outputs": [
        {
          "name": "stdout",
          "output_type": "stream",
          "text": [
            ">oligo_002500\n",
            "AGGACCGGATCAACTCTGATTGCCTGCACCTAGATGGCTTGTGTGTAGCAGGGGCTCCTGGATGAGAAGGGGGCAGAAGTTAATAGAGCTGACTCGTGCCTTGAGTGTCATGTCTTATGTATTCAGCTGCTGACTAAGCAGCAGAGTGTAATATAGCTTACTAGAAAAAGTTGACCTTTAGCTGCATTCTTAATTCTTAACTTTTCAGTTATTGACATTGCGTGAACCGA\n",
            ">oligo_002501:oligo_002502\n",
            "AGGACCGGATCAACTGGTAATTTATAGATTCAATGCCATCCCCATCAAGCTACCAATGACTTTCTTCCCAGAATTAGAAAAAACTACTTTAAAGTTCATATGGAACCAAAAAAGAGCCCGCATCGCCAAGTCAATCCTAAGCCAAAAGAACAAAGCTGGAGGCATCACGCTACCTGACTTCAAACTATACTACAAGGCTATGGAAATTATTTTTACATTGCGTGAACCGA\n",
            ">oligo_002503\n",
            "AGGACCGGATCAACTAACCTCACAATGAATCAGTGAGGTTCATATTGTTCTCCCCATTTTACAAAAAAGAGAGGTTCAGATAAATTCAGTAATTTTCTCAAGGTCACAGAACAAGTAAAGAACACAGGAGTAGTAAAAAACAGAACCAAGACTGGGACACAAGCCTCCAGCCTCCCTGGCTCAGAGCCCCTTGCTGTCTCCACTATGCCCACCATCATTGCGTGAACCGA\n",
            ">oligo_002504\n",
            "AGGACCGGATCAACTAGAGGCCCTGAAGAAAGGGGAAAAAGGCAGTGAAGGGGCAGAAACCCTGGTAGTCCAGCAAGGGAGGGTGAGAAGGAAGGGGGGAGGTATGAGTATTACTATAGACCAAGGGTTGGGGTGGCACCTGGAGACTCCTGGACTTGACTGCAACTGTATGTATTGTTATATGTATATGTATAGACATTTATTTTCAAGTATATCATTGCGTGAACCGA\n",
            ">oligo_002505\n",
            "AGGACCGGATCAACTAGGATTATGCTCACATGCACATATAATACTGTCTAATATGTGTATATGCGAGGAGTAGATAGGCCTAAACTCTGGTAGGCCTGGAGATTCCCTGGTTTTTTACTCACAATCACTGGTCCTGTCACCTGGTACTCTATTCTGAGCATGAAGGCAGCTGAGGGCAGAGGGAAAGAAACTAGAGACATAGGCCTGTTGCCTCCCATTGCGTGAACCGA\n"
          ]
        }
      ],
      "source": [
        "!head \"MPRAsnakeflow_tutorial/example_data/design/workshop_design.fa\""
      ]
    },
    {
      "cell_type": "markdown",
      "metadata": {},
      "source": [
        "\"Oligos\" are the target sequences that we designed in advance, i.e. the sequences we would like to see in our assignment sequencing files (fastq files). In the association step, our goal is to assign the sequences to the oligos, since as you can see the oligo ID and sequence ID are not matching. By matching the reads to our designed oligos, we also automatically link the sequenced barcodes to our designed oligos, which is essential for us later."
      ]
    },
    {
      "cell_type": "markdown",
      "metadata": {},
      "source": [
        "## Experiment Workflow\n",
        "\n",
        "For the experiment step, where the counts per oligo are calculated, we need all the files in the `example_data/counts` folder, as well as the config file and the barcode assignment file, which is the output of the assignment step (but also stored under `example_data/counts`).\n",
        "\n",
        "We investigated the assignment file in the association tutorial. This table is now used to count the number of observed barcodes for each target sequence.\n",
        "\n",
        "We can take a look at the input files to understand what we later have to give the MPRAsnakeflow pipeline via a config file. Each count experiment, in our case, is described using three files (the paths of which are in the `experiment.csv` file): forward reads, reverse reads, and UMIs. Note that the UMIs are optional, and serve to deduplicate barcodes with overdispersed counts due to preferential amplification related to GC content or library preparation steps. From one of the UMI read files, we can see that indeed our UMI length is 16:"
      ]
    },
    {
      "cell_type": "code",
      "execution_count": 11,
      "metadata": {},
      "outputs": [
        {
          "name": "stdout",
          "output_type": "stream",
          "text": [
            "\n",
            "Average length of a UMI:\n",
            "16\n"
          ]
        }
      ],
      "source": [
        "print(\"\\nAverage length of a UMI:\")\n",
        "!zcat \"MPRAsnakeflow_tutorial/example_data/counts/dna-1_S1_R2_001.fastq.gz\" | awk 'NR % 4 == 2 {{sum += length($$0)}} END {{print sum*4/NR}}'"
      ]
    },
    {
      "cell_type": "markdown",
      "metadata": {},
      "source": [
        "We can also check the length of the barcode, which should be 15:"
      ]
    },
    {
      "cell_type": "code",
      "execution_count": 12,
      "metadata": {},
      "outputs": [
        {
          "name": "stdout",
          "output_type": "stream",
          "text": [
            "\n",
            "Average length of a barcode:\n"
          ]
        },
        {
          "name": "stdout",
          "output_type": "stream",
          "text": [
            "15\n"
          ]
        }
      ],
      "source": [
        "print(\"\\nAverage length of a barcode:\")\n",
        "!zcat \"MPRAsnakeflow_tutorial/example_data/counts/dna-1_S1_R1_001.fastq.gz\" | awk 'NR % 4 == 2 {{sum += length($$0)}} END {{print sum*4/NR}}'"
      ]
    },
    {
      "cell_type": "markdown",
      "metadata": {
        "id": "0KqdtmOb_gHg"
      },
      "source": [
        "## Run MPRAsnakeflow"
      ]
    },
    {
      "cell_type": "markdown",
      "metadata": {},
      "source": [
        "### Snakemake\n",
        "\n",
        "Before we come to more MPRAsnakeflow pipeline specific things, we quickly want to introduce the snakemake workflow management system. A workflow management system, also like Nextflow or CWL, is a tool to create reproducible and scalable data analyses. Snakemake workflows are described via a human-readable, Python-based language. They can be seamlessly scaled to server, cluster, grid, and cloud environments, without the need to modify the workflow definition. Finally, Snakemake workflows can entail a description of required software, which will be automatically deployed to any execution environment.\n",
        "\n",
        "Each step in snakemake is defined as a `rule`, which has an `input`, `output`, and mostly a `shell` command. The `input` and `output` are files that are used as input and output for the rule. The `shell` command is the command that is executed to create the output file from the input file. There are other commands like `conda`, `params`, `log`, `threads`, `resources` that can be used to define the rule.\n",
        "\n",
        "E.g. here is an example rule `assignment_check_design` of MPRAsnakeflow, which checks if the design file is correct (no duplicated header, no `[` or `]` within headers and no duplicate sequences (sense and antisense)). The rule takes our design file defined in the config (see later) and a script as input. When it is completed, it creates the file `results/assignment/{assignment}/design_check.done` and other rules will only start running when this file is present and the check is completed. `{assignment}` is a wildcard and the name of the assignment will be used here (defined in the config file). This allows us to define multiple assignments within the config file and run them in parallel. In addition, the design file is copied here: `results/assignment/{assignment}/reference/reference.fa` so that further mapping rules can create their mapping reference files. You see the `params` command is a bit lengthy but we needed some conditions, based on the flexibility of the user input. But finally, the `shell` command looks very clean.\n",
        "\n",
        "```python\n",
        "rule assignment_check_design:\n",
        "    \"\"\"\n",
        "    Check if the design file is correct and no duplicated sequences are present (FW and reverse).\n",
        "    Also check if no duplicated headers and no illegal characters in header.\n",
        "    \"\"\"\n",
        "    conda:\n",
        "        \"../envs/python3.yaml\"\n",
        "    input:\n",
        "        design=lambda wc: config[\"assignments\"][wc.assignment][\"design_file\"],\n",
        "        script=getScript(\"assignment/check_design_file.py\"),\n",
        "    output:\n",
        "        temp(\"results/assignment/{assignment}/reference/reference.fa.fxi\"),\n",
        "        touch(\"results/assignment/{assignment}/design_check.done\"),\n",
        "        ref=\"results/assignment/{assignment}/reference/reference.fa\",\n",
        "    params:\n",
        "        start=lambda wc: (\n",
        "            config[\"assignments\"][wc.assignment][\"alignment_tool\"][\"configs\"][\n",
        "                \"alignment_start\"\n",
        "            ]\n",
        "            if config[\"assignments\"][wc.assignment][\"alignment_tool\"][\"tool\"]\n",
        "            == \"exact\"\n",
        "            else config[\"assignments\"][wc.assignment][\"alignment_tool\"][\"configs\"][\n",
        "                \"alignment_start\"\n",
        "            ][\"max\"]\n",
        "        ),\n",
        "        length=lambda wc: (\n",
        "            config[\"assignments\"][wc.assignment][\"alignment_tool\"][\"configs\"][\n",
        "                \"sequence_length\"\n",
        "            ]\n",
        "            if config[\"assignments\"][wc.assignment][\"alignment_tool\"][\"tool\"]\n",
        "            == \"exact\"\n",
        "            else config[\"assignments\"][wc.assignment][\"alignment_tool\"][\"configs\"][\n",
        "                \"sequence_length\"\n",
        "            ][\"min\"]\n",
        "        ),\n",
        "        fast_check=lambda wc: (\n",
        "            \"--fast-dict\"\n",
        "            if config[\"assignments\"][wc.assignment][\"design_check\"][\"fast\"]\n",
        "            else \"--slow-string-search\"\n",
        "        ),\n",
        "        check_sequence_collitions=lambda wc: (\n",
        "            \"--perform-sequence-check\"\n",
        "            if config[\"assignments\"][wc.assignment][\"design_check\"][\n",
        "                \"sequence_collitions\"\n",
        "            ]\n",
        "            else \"--skip-sequence-check\"\n",
        "        ),\n",
        "    log:\n",
        "        log=temp(\"results/logs/assignment/check_design.{assignment}.log\"),\n",
        "        err=\"results/assignment/{assignment}/design_check.err\",\n",
        "    shell:\n",
        "        \"\"\"\n",
        "        trap \"cat {log.err}\" ERR\n",
        "        cp {input.design} {output.ref}\n",
        "        python {input.script} --input {output.ref} \\\n",
        "        --start {params.start} --length {params.length} \\\n",
        "        {params.fast_check} {params.check_sequence_collitions} > {log.log} 2> {log.err};\n",
        "        \"\"\"\n",
        "```"
      ]
    },
    {
      "cell_type": "markdown",
      "metadata": {},
      "source": [
        "When running snakemake, you need to specify where your workflow is, basically the main `Snakefile` of it. By default, Snakemake will search for ‘Snakefile’, ‘snakefile’, ‘workflow/Snakefile’, ‘workflow/snakefile’ beneath the current working directory, in this order. Then you do not have to use this command. But practically your workflow, here MPRAsnakeflow, might live somewhere else and you want to run the workflow in a different directory where you want to produce results. Then you need to specify the `--snakefile` parameter to the MPRAsnakeflow file in `workflow/Snakefile`. Otherwise, you have to check/copy the workflow in every \"run\" directory which is not practical. Usually, you start snakemake in the directory where you want to produce results."
      ]
    },
    {
      "cell_type": "markdown",
      "metadata": {},
      "source": [
        "### The config file\n",
        "\n",
        "The heart of your workflow run is the config file. You can specify it via `--configfile`. It is in `yaml` or `json` format. It contains all the parameters and input files that are used in the workflow.\n",
        "\n",
        "The config file has many parameters, but most of them have a default value, based on best practice, and you don't have to specify them. But you can overwrite them if you want. Config files are first validated using JSON schema. If your config file is not correct, MPRAsnakeflow will tell you what is missing or wrong and stop. Naming, parameters, etc. might change from MPRAsnakeflow version and you might have to update your config file if you run a new version of MPRAsnakeflow. An extensive documentation of the config file can be found in the [MPRAsnakeflow documentation](https://mprasnakeflow.readthedocs.io/en/development/config.html).\n",
        "\n",
        "Here is the config file that we will use for running the combined tutorial.\n"
      ]
    },
    {
      "cell_type": "markdown",
      "metadata": {},
      "source": [
        "```yaml\n",
        "---\n",
        "assignments:\n",
        "  assignMPRAworkshop:\n",
        "    bc_length: 15\n",
        "    alignment_tool:\n",
        "        tool: bbmap\n",
        "        configs:\n",
        "          sequence_length: 200\n",
        "          alignment_start: 1\n",
        "    FW:\n",
        "      - example_data/assignment/assoc_fwd.fastq.gz\n",
        "    BC:\n",
        "      - example_data/assignment/assoc_bc.fastq.gz\n",
        "    REV:\n",
        "      - example_data/assignment/assoc_rev.fastq.gz\n",
        "    design_file: example_data/design/workshop_design.fa\n",
        "    configs:\n",
        "      default: {}\n",
        "experiments:\n",
        "  experimentMPRAworkshop:\n",
        "    bc_length: 15\n",
        "    umi_length: 16\n",
        "    data_folder: example_data/counts\n",
        "    experiment_file: example_data/experiment.csv\n",
        "    assignments:\n",
        "      MPRAworkshop:\n",
        "        type: config\n",
        "        assignment_name: assignMPRAworkshop\n",
        "        assignment_config: default\n",
        "    label_file: example_data/design/workshop_labels.tsv\n",
        "    configs:\n",
        "      default: {}\n",
        "      tutorialConfig:\n",
        "        filter:\n",
        "          bc_threshold: 5\n",
        "          DNA:\n",
        "            min_counts: 1\n",
        "          RNA:\n",
        "            min_counts: 1\n",
        "```"
      ]
    },
    {
      "cell_type": "markdown",
      "metadata": {},
      "source": [
        "We run both the assignment and the experiment workflow.\n",
        "\n",
        "#### Assignment config\n",
        "\n",
        "First, the assignment workflow config will start with `assignments`. Then a list with possible names of assignments will follow. Here we have just one: `assignMPRAworkshop`. The whole config file has the minimal information, which is needed by MPRAsnakeflow. This is the barcode length `bc_length`, the alignment tool `alignment_tool` for mapping reads to the design file (here we use `bbmap` but other options are possible) and the configuration of the tool. The forward reads `FW`, the barcode reads `BC`, the reverse reads `REV` and the design file `design_file`. Then we can define multiple configs `configs`, basically how we filter barcodes later. E.g. a minimal support of barcodes per oligo `min_support` and a fraction of assigned barcodes to an oligo `fraction`. In our tutorial example, we just have one config named `default` and we will set the default parameters by defining `default: {}`. This is `min_support: 3` and `fraction: 0.75`. But the option to have multiple settings allows us to create multiple BC to oligo mappings based on different strategies. The workflow will then only run the last part multiple times with different settings, avoiding the computationally expensive mapping approach."
      ]
    },
    {
      "cell_type": "markdown",
      "metadata": {},
      "source": [
        "As a sanity check and to understand where these values come from, we will take a look at whether the information matches our input files. We used 15 bp adapters for this MPRA experiment, which were added at both ends of each designed oligo. The `alignment_start` configuration refers to these adapters as our actual target sequences only start after the 15 bp of adapter sequence."
      ]
    },
    {
      "cell_type": "code",
      "execution_count": 13,
      "metadata": {},
      "outputs": [
        {
          "name": "stdout",
          "output_type": "stream",
          "text": [
            "\n",
            "Average length of a barcode:\n"
          ]
        },
        {
          "name": "stdout",
          "output_type": "stream",
          "text": [
            "15\n",
            "\n",
            "Average length of a target sequence (oligo length - 2 x adapter):\n",
            "200\n"
          ]
        }
      ],
      "source": [
        "adapter_length=15\n",
        "\n",
        "print(\"\\nAverage length of a barcode:\")\n",
        "!zcat \"MPRAsnakeflow_tutorial/example_data/assignment/assoc_bc.fastq.gz\" | awk 'NR % 4 == 2 {{sum += length($$0)}} END {{print sum*4/NR}}'\n",
        "\n",
        "print(\"\\nAverage length of a target sequence (oligo length - 2 x adapter):\")\n",
        "seq_length_with_bc = !cat \"MPRAsnakeflow_tutorial/example_data/design/workshop_design.fa\" | awk 'NR % 4 == 2 {{sum +=length($$0)}} END {{print sum*4/NR}}'\n",
        "seq_length_with_bc = int(seq_length_with_bc[0])\n",
        "seq_length = seq_length_with_bc - 2*adapter_length\n",
        "print(seq_length)"
      ]
    },
    {
      "cell_type": "markdown",
      "metadata": {},
      "source": [
        "#### Experiment config\n",
        "\n",
        "Everything that is written in the `experiments` part of the YAML file shows the part of the config file that concerns the experiment part. Since assignment and experiment parts can be run independently, the `bc_length` needs to be set again.\n",
        "\n",
        "The `experiment_file` holds the path to the file of the experiment table (i.e. condition, replicate and name of read files given)."
      ]
    },
    {
      "cell_type": "markdown",
      "metadata": {},
      "source": [
        "Because we run the experiment workflow, we start with `experiments`. Then a list with possible names of experiments will follow. Here we have just one: `experimentMPRAworkshop`. The whole config file has the minimal information, which is needed by MPRAsnakeflow (except for `configs`, see later). This is the barcode length `bc_length` and the UMI length `umi_length` which we calculated previously. Then a link to folder `data_folder` where all fastqs of the experiment are. What conditions, replicates and belonging fastq files we have is stored in the `experiment_file`."
      ]
    },
    {
      "cell_type": "markdown",
      "metadata": {},
      "source": [
        "As a sanity check and to understand where these values come from, we will take a look at whether the information matches our input files. We used 15 bp adapters for this MPRA experiment, which were added at both ends of each designed oligo. The `alignment_start` configuration refers to these adapters as our actual target sequences only start after the 15 bp of adapter sequence."
      ]
    },
    {
      "cell_type": "code",
      "execution_count": 14,
      "metadata": {},
      "outputs": [
        {
          "name": "stdout",
          "output_type": "stream",
          "text": [
            "\n",
            "Average length of a barcode:\n"
          ]
        },
        {
          "name": "stdout",
          "output_type": "stream",
          "text": [
            "15\n",
            "\n",
            "Average length of a target sequence (oligo length - 2 x adapter):\n",
            "200\n"
          ]
        }
      ],
      "source": [
        "adapter_length=15\n",
        "\n",
        "print(\"\\nAverage length of a barcode:\")\n",
        "!zcat \"MPRAsnakeflow_tutorial/example_data/assignment/assoc_bc.fastq.gz\" | awk 'NR % 4 == 2 {{sum += length($$0)}} END {{print sum*4/NR}}'\n",
        "\n",
        "print(\"\\nAverage length of a target sequence (oligo length - 2 x adapter):\")\n",
        "seq_length_with_bc = !cat \"MPRAsnakeflow_tutorial/example_data/design/workshop_design.fa\" | awk 'NR % 4 == 2 {{sum +=length($$0)}} END {{print sum*4/NR}}'\n",
        "seq_length_with_bc = int(seq_length_with_bc[0])\n",
        "seq_length = seq_length_with_bc - 2*adapter_length\n",
        "print(seq_length)"
      ]
    },
    {
      "cell_type": "markdown",
      "metadata": {},
      "source": [
        "In the `assignments` part of the YAML we link back towards the assignment workflow and specify which assignment run we should use and under which config. This part is different to the stand-alone experiment tutorial because here we use an assignment file."
      ]
    },
    {
      "cell_type": "markdown",
      "metadata": {},
      "source": [
        "### MPRAsnakeflow tutorial profile\n",
        "\n",
        "Snakemake can make use of profiles to pre-configure command-line interfaces as well as resources and number of threads as default or per rule. A profile has to be stored (on Linux) in the folder `$HOME/.config/snakemake` or `/etc/xdg/snakemake`. It can be activated by using the `--profile` option in the snakemake command. In addition, you can set an environment variable `SNAKEMAKE_PROFILE`, e.g. by specifying `export SNAKEMAKE_PROFILE=myprofile` in your `~/.bashrc` to use the profile by default. In addition, a specific workflow profile can be set using `--workflow-profile path_to_your_profile`. E.g. we pre-defined a [workflow profile for MPRAsnakeflow](https://github.com/kircherlab/MPRAsnakeflow/blob/development/profiles/default/config.yaml) adding resources to each rule with some additional commands for the [snakemake executor plugin slurm](https://snakemake.github.io/snakemake-plugin-catalog/plugins/executor/slurm.html).\n",
        "\n",
        "For more information on snakemake using profiles, please have a look at the [snakemake profile documentation](https://snakemake.readthedocs.io/en/stable/executing/cli.html#profiles).\n",
        "\n",
        "For the MPRAsnakeflow tutorial, we will use the profile `mprasnakeflow` which is stored in the folder `/etc/xdg/snakemake` within the container and the `SNAKEMAKE_PROFILE=mprasnakeflow` is already set. Have a look at the variable and the profile:"
      ]
    },
    {
      "cell_type": "code",
      "execution_count": 15,
      "metadata": {},
      "outputs": [
        {
          "name": "stdout",
          "output_type": "stream",
          "text": [
            "apptainer run -B=${PWD}/MPRAsnakeflow_tutorial:/data/run --cwd /data/run mprasnakeflow_tutorial.sif cat /etc/xdg/snakemake/mprasnakeflow/config.yaml\n"
          ]
        },
        {
          "name": "stdout",
          "output_type": "stream",
          "text": [
            "---\n",
            "snakefile: /data/MPRAsnakeflow/workflow/Snakefile\n",
            "software-deployment-method: conda\n",
            "conda-prefix: /data/conda_envs\n",
            "cores: 1\n",
            "set-threads:\n",
            "  assignment_mapping_bbmap: 10\n"
          ]
        }
      ],
      "source": [
        "runContainer(\"cat /etc/xdg/snakemake/mprasnakeflow/config.yaml\")"
      ]
    },
    {
      "cell_type": "markdown",
      "metadata": {},
      "source": [
        "You see that we already defined where the MPRAsnakeflow `Snakefile` is and `--snakefile` is not necessary. Also, all software packages are installed already in the container using conda and we enable this software deployment method and tell snakemake where the conda environments live (the default will be your execution folder under `.snakemake/conda`). Also, the `--cores/-c` option is not necessary anymore and snakemake just needs your configuration file of the workflow using the command `--configfile`"
      ]
    },
    {
      "cell_type": "markdown",
      "metadata": {},
      "source": [
        "### Run the workflow\n",
        "\n",
        "First, we run a dry-run to see what will be executed using `-n` and `--quiet rules` to see only the overview of executed rules and not each rule command individually. The most important part is setting the config file via `--configfile config_combined.yaml`"
      ]
    },
    {
      "cell_type": "code",
      "execution_count": null,
      "metadata": {
        "colab": {
          "base_uri": "https://localhost:8080/"
        },
        "id": "TXlOomWL5Am2",
        "outputId": "5c32a998-eaef-426e-ccc8-8102d2487950"
      },
      "outputs": [
        {
          "name": "stdout",
          "output_type": "stream",
          "text": [
            "apptainer run -B=${PWD}/MPRAsnakeflow_tutorial:/data/run --cwd /data/run mprasnakeflow_tutorial.sif snakemake --configfile config_combined.yaml -n --quiet rules\n",
            "Using profile mprasnakeflow for setting default command line arguments.\n",
            "\u001b[95mRunning MPRAsnakeflow version 0.5.1\u001b[0m\n",
            "\u001b[33mhost: pmn-bih-cfbi-20\u001b[0m\n",
            "\u001b[33mBuilding DAG of jobs...\u001b[0m\n",
            "\u001b[31mIncompleteFilesException:\n",
            "The files below seem to be incomplete. If you are sure that certain files are not incomplete, mark them as complete with\n",
            "\n",
            "    snakemake --cleanup-metadata <filenames>\n",
            "\n",
            "To re-generate the files rerun your command with the --rerun-incomplete flag.\n",
            "Incomplete files:\n",
            "results/assignment/assignMPRAworkshop/fastq/merge_split0.un.fastq.gz\n",
            "results/assignment/assignMPRAworkshop/fastq/merge_split0.join.fastq.gz\u001b[0m\n"
          ]
        }
      ],
      "source": [
        "# MPRAsnakeflow_tutorial must be accessible and writable for all (and docker)\n",
        "!chmod ugo+rwx MPRAsnakeflow_tutorial\n",
        "# Run MPRAsnakeflow\n",
        "runContainer(\"snakemake --configfile config_combined.yaml -n --quiet rules\")"
      ]
    },
    {
      "cell_type": "markdown",
      "metadata": {},
      "source": [
        "You see a list of rules and how often this rule is executed depending on the input file. E.g. it is possible to split your input fastq file into `n` via the rule `assignment_fastq_split` using the option `split_number` in the config file (it is commented out right now). Then rules afterwards, like `assignment_getBCs`, will be executed `n` times. This behaviour is nice for parallelisation, especially on an HPC system where you have multiple nodes available. \n",
        "\n",
        "A short summary of each rule is in the [MPRAsnakeflow documentation](https://mprasnakeflow.readthedocs.io/en/latest/assignment.html#rules).\n",
        "\n",
        "Now let's run snakemake using 10 cores (BBMap can be parallelized). When you add the `-p` flag you will see the exact code that is executed in each rule. But we omit this here because it is a lot of output."
      ]
    },
    {
      "cell_type": "code",
      "execution_count": 17,
      "metadata": {
        "id": "gNESKLR_UkLV"
      },
      "outputs": [
        {
          "name": "stdout",
          "output_type": "stream",
          "text": [
            "apptainer run -B=${PWD}/MPRAsnakeflow_tutorial:/data/run --cwd /data/run mprasnakeflow_tutorial.sif snakemake --configfile config_combined.yaml -c 10\n"
          ]
        },
        {
          "name": "stdout",
          "output_type": "stream",
          "text": [
            "Using profile mprasnakeflow for setting default command line arguments.\n",
            "\u001b[95mRunning MPRAsnakeflow version 0.5.1\u001b[0m\n",
            "\u001b[33mAssuming unrestricted shared filesystem usage.\u001b[0m\n",
            "\u001b[33mhost: pmn-bih-cfbi-20\u001b[0m\n",
            "\u001b[33mBuilding DAG of jobs...\u001b[0m\n",
            "\u001b[31mIncompleteFilesException:\n",
            "The files below seem to be incomplete. If you are sure that certain files are not incomplete, mark them as complete with\n",
            "\n",
            "    snakemake --cleanup-metadata <filenames>\n",
            "\n",
            "To re-generate the files rerun your command with the --rerun-incomplete flag.\n",
            "Incomplete files:\n",
            "results/assignment/assignMPRAworkshop/fastq/merge_split0.un.fastq.gz\n",
            "results/assignment/assignMPRAworkshop/fastq/merge_split0.join.fastq.gz\u001b[0m\n"
          ]
        }
      ],
      "source": [
        "runContainer(\"snakemake --configfile config_combined.yaml -c 10\")"
      ]
    },
    {
      "cell_type": "markdown",
      "metadata": {},
      "source": [
        "## Results\n",
        "\n",
        "First we go through the assignment and afterwards through the experiment results.\n",
        "\n",
        "### Assignment results\n",
        "\n",
        "Let's take a look at the files in the assignment results folder!"
      ]
    },
    {
      "cell_type": "code",
      "execution_count": 18,
      "metadata": {},
      "outputs": [
        {
          "name": "stdout",
          "output_type": "stream",
          "text": [
            "MPRAsnakeflow_tutorial/results/assignment:\n",
            "assignMPRAworkshop\n",
            "\n",
            "MPRAsnakeflow_tutorial/results/assignment/assignMPRAworkshop:\n",
            "design_check.done  design_check.err  fastq  reference\n",
            "\n",
            "MPRAsnakeflow_tutorial/results/assignment/assignMPRAworkshop/fastq:\n",
            "merge_split0.join.fastq.gz  merge_split0.un.fastq.gz  splits\n",
            "\n",
            "MPRAsnakeflow_tutorial/results/assignment/assignMPRAworkshop/fastq/splits:\n",
            "FW.split0.BCattached.fastq.gz  REV.split0.BCattached.fastq.gz\n",
            "\n",
            "MPRAsnakeflow_tutorial/results/assignment/assignMPRAworkshop/reference:\n",
            "reference.fa\n"
          ]
        }
      ],
      "source": [
        "results_dir = \"MPRAsnakeflow_tutorial/results/assignment\"\n",
        "!ls -R \"{results_dir}\""
      ]
    },
    {
      "cell_type": "markdown",
      "metadata": {},
      "source": [
        "The statistic folder contains run statistics for the assignment step, such as the total number of associated barcodes, the number of oligos with at least 15 barcodes, and more. We will now just take a look at the generated count histogram of barcodes per oligo."
      ]
    },
    {
      "cell_type": "code",
      "execution_count": 19,
      "metadata": {},
      "outputs": [
        {
          "ename": "FileNotFoundError",
          "evalue": "[Errno 2] No such file or directory: 'MPRAsnakeflow_tutorial/results/assignment/assignMPRAworkshop/statistic/assignment.default.png'",
          "output_type": "error",
          "traceback": [
            "\u001b[0;31m---------------------------------------------------------------------------\u001b[0m",
            "\u001b[0;31mFileNotFoundError\u001b[0m                         Traceback (most recent call last)",
            "Cell \u001b[0;32mIn[19], line 1\u001b[0m\n\u001b[0;32m----> 1\u001b[0m img \u001b[38;5;241m=\u001b[39m \u001b[43mplt\u001b[49m\u001b[38;5;241;43m.\u001b[39;49m\u001b[43mimread\u001b[49m\u001b[43m(\u001b[49m\u001b[43mos\u001b[49m\u001b[38;5;241;43m.\u001b[39;49m\u001b[43mpath\u001b[49m\u001b[38;5;241;43m.\u001b[39;49m\u001b[43mjoin\u001b[49m\u001b[43m(\u001b[49m\u001b[43mresults_dir\u001b[49m\u001b[43m,\u001b[49m\u001b[43m \u001b[49m\u001b[38;5;124;43m\"\u001b[39;49m\u001b[38;5;124;43massignMPRAworkshop/statistic/assignment.default.png\u001b[39;49m\u001b[38;5;124;43m\"\u001b[39;49m\u001b[43m)\u001b[49m\u001b[43m)\u001b[49m\n\u001b[1;32m      2\u001b[0m plt\u001b[38;5;241m.\u001b[39mimshow(img)\n\u001b[1;32m      3\u001b[0m plt\u001b[38;5;241m.\u001b[39maxis(\u001b[38;5;124m\"\u001b[39m\u001b[38;5;124moff\u001b[39m\u001b[38;5;124m\"\u001b[39m)\n",
            "File \u001b[0;32m~/miniforge3/envs/jupyter/lib/python3.12/site-packages/matplotlib/pyplot.py:2597\u001b[0m, in \u001b[0;36mimread\u001b[0;34m(fname, format)\u001b[0m\n\u001b[1;32m   2593\u001b[0m \u001b[38;5;129m@_copy_docstring_and_deprecators\u001b[39m(matplotlib\u001b[38;5;241m.\u001b[39mimage\u001b[38;5;241m.\u001b[39mimread)\n\u001b[1;32m   2594\u001b[0m \u001b[38;5;28;01mdef\u001b[39;00m \u001b[38;5;21mimread\u001b[39m(\n\u001b[1;32m   2595\u001b[0m         fname: \u001b[38;5;28mstr\u001b[39m \u001b[38;5;241m|\u001b[39m pathlib\u001b[38;5;241m.\u001b[39mPath \u001b[38;5;241m|\u001b[39m BinaryIO, \u001b[38;5;28mformat\u001b[39m: \u001b[38;5;28mstr\u001b[39m \u001b[38;5;241m|\u001b[39m \u001b[38;5;28;01mNone\u001b[39;00m \u001b[38;5;241m=\u001b[39m \u001b[38;5;28;01mNone\u001b[39;00m\n\u001b[1;32m   2596\u001b[0m ) \u001b[38;5;241m-\u001b[39m\u001b[38;5;241m>\u001b[39m np\u001b[38;5;241m.\u001b[39mndarray:\n\u001b[0;32m-> 2597\u001b[0m     \u001b[38;5;28;01mreturn\u001b[39;00m \u001b[43mmatplotlib\u001b[49m\u001b[38;5;241;43m.\u001b[39;49m\u001b[43mimage\u001b[49m\u001b[38;5;241;43m.\u001b[39;49m\u001b[43mimread\u001b[49m\u001b[43m(\u001b[49m\u001b[43mfname\u001b[49m\u001b[43m,\u001b[49m\u001b[43m \u001b[49m\u001b[38;5;28;43mformat\u001b[39;49m\u001b[43m)\u001b[49m\n",
            "File \u001b[0;32m~/miniforge3/envs/jupyter/lib/python3.12/site-packages/matplotlib/image.py:1544\u001b[0m, in \u001b[0;36mimread\u001b[0;34m(fname, format)\u001b[0m\n\u001b[1;32m   1537\u001b[0m \u001b[38;5;28;01mif\u001b[39;00m \u001b[38;5;28misinstance\u001b[39m(fname, \u001b[38;5;28mstr\u001b[39m) \u001b[38;5;129;01mand\u001b[39;00m \u001b[38;5;28mlen\u001b[39m(parse\u001b[38;5;241m.\u001b[39murlparse(fname)\u001b[38;5;241m.\u001b[39mscheme) \u001b[38;5;241m>\u001b[39m \u001b[38;5;241m1\u001b[39m:\n\u001b[1;32m   1538\u001b[0m     \u001b[38;5;66;03m# Pillow doesn't handle URLs directly.\u001b[39;00m\n\u001b[1;32m   1539\u001b[0m     \u001b[38;5;28;01mraise\u001b[39;00m \u001b[38;5;167;01mValueError\u001b[39;00m(\n\u001b[1;32m   1540\u001b[0m         \u001b[38;5;124m\"\u001b[39m\u001b[38;5;124mPlease open the URL for reading and pass the \u001b[39m\u001b[38;5;124m\"\u001b[39m\n\u001b[1;32m   1541\u001b[0m         \u001b[38;5;124m\"\u001b[39m\u001b[38;5;124mresult to Pillow, e.g. with \u001b[39m\u001b[38;5;124m\"\u001b[39m\n\u001b[1;32m   1542\u001b[0m         \u001b[38;5;124m\"\u001b[39m\u001b[38;5;124m``np.array(PIL.Image.open(urllib.request.urlopen(url)))``.\u001b[39m\u001b[38;5;124m\"\u001b[39m\n\u001b[1;32m   1543\u001b[0m         )\n\u001b[0;32m-> 1544\u001b[0m \u001b[38;5;28;01mwith\u001b[39;00m \u001b[43mimg_open\u001b[49m\u001b[43m(\u001b[49m\u001b[43mfname\u001b[49m\u001b[43m)\u001b[49m \u001b[38;5;28;01mas\u001b[39;00m image:\n\u001b[1;32m   1545\u001b[0m     \u001b[38;5;28;01mreturn\u001b[39;00m (_pil_png_to_float_array(image)\n\u001b[1;32m   1546\u001b[0m             \u001b[38;5;28;01mif\u001b[39;00m \u001b[38;5;28misinstance\u001b[39m(image, PIL\u001b[38;5;241m.\u001b[39mPngImagePlugin\u001b[38;5;241m.\u001b[39mPngImageFile) \u001b[38;5;28;01melse\u001b[39;00m\n\u001b[1;32m   1547\u001b[0m             pil_to_array(image))\n",
            "File \u001b[0;32m~/miniforge3/envs/jupyter/lib/python3.12/site-packages/PIL/ImageFile.py:126\u001b[0m, in \u001b[0;36mImageFile.__init__\u001b[0;34m(self, fp, filename)\u001b[0m\n\u001b[1;32m    122\u001b[0m \u001b[38;5;28mself\u001b[39m\u001b[38;5;241m.\u001b[39mdecodermaxblock \u001b[38;5;241m=\u001b[39m MAXBLOCK\n\u001b[1;32m    124\u001b[0m \u001b[38;5;28;01mif\u001b[39;00m is_path(fp):\n\u001b[1;32m    125\u001b[0m     \u001b[38;5;66;03m# filename\u001b[39;00m\n\u001b[0;32m--> 126\u001b[0m     \u001b[38;5;28mself\u001b[39m\u001b[38;5;241m.\u001b[39mfp \u001b[38;5;241m=\u001b[39m \u001b[38;5;28;43mopen\u001b[39;49m\u001b[43m(\u001b[49m\u001b[43mfp\u001b[49m\u001b[43m,\u001b[49m\u001b[43m \u001b[49m\u001b[38;5;124;43m\"\u001b[39;49m\u001b[38;5;124;43mrb\u001b[39;49m\u001b[38;5;124;43m\"\u001b[39;49m\u001b[43m)\u001b[49m\n\u001b[1;32m    127\u001b[0m     \u001b[38;5;28mself\u001b[39m\u001b[38;5;241m.\u001b[39mfilename \u001b[38;5;241m=\u001b[39m fp\n\u001b[1;32m    128\u001b[0m     \u001b[38;5;28mself\u001b[39m\u001b[38;5;241m.\u001b[39m_exclusive_fp \u001b[38;5;241m=\u001b[39m \u001b[38;5;28;01mTrue\u001b[39;00m\n",
            "\u001b[0;31mFileNotFoundError\u001b[0m: [Errno 2] No such file or directory: 'MPRAsnakeflow_tutorial/results/assignment/assignMPRAworkshop/statistic/assignment.default.png'"
          ]
        }
      ],
      "source": [
        "img = plt.imread(os.path.join(results_dir, \"assignMPRAworkshop/statistic/assignment.default.png\"))\n",
        "plt.imshow(img)\n",
        "plt.axis(\"off\")"
      ]
    },
    {
      "cell_type": "markdown",
      "metadata": {},
      "source": [
        "The median number of barcodes is 24. We usually require each tested sequence to have at least 10 barcodes associated.\n",
        "\n",
        "We will now take a look at the actual output file of the assignment run, which is a sorted table of `barcodes`, their assigned `sequence IDs`, information about the `quality` of the alignment (fwd/rev reads to designed oligos), and how often this barcode was assigned to this sequence compared to the total number this barcode was observed in the experiment. The information in the quality field is derived from the SAM/BAM output (https://samtools.github.io/hts-specs/SAMv1.pdf) and represents a concatenation of the SAM position, cigar, NM, AM, and mapQ."
      ]
    },
    {
      "cell_type": "code",
      "execution_count": null,
      "metadata": {},
      "outputs": [
        {
          "name": "stdout",
          "output_type": "stream",
          "text": [
            "AAAAAAAAAGAAGGG\toligo_006589\t16;200=;NM:i:0;AM:i:45;45\t5/5\n",
            "AAAAAAAAATCGATC\toligo_006917\t16;161=1X38=;NM:i:1;AM:i:44;44\t3/3\n",
            "AAAAAAAAATGATCT\toligo_211468\t16;190=1X9=;NM:i:1;AM:i:44;44\t4/4\n",
            "AAAAAAAACACATGA\toligo_005412\t16;200=;NM:i:0;AM:i:45;45\t3/3\n",
            "AAAAAAAACAGTAAG\toligo_006290\t16;200=;NM:i:0;AM:i:45;45\t3/3\n",
            "AAAAAAAACATAGTT\toligo_006471\t16;200=;NM:i:0;AM:i:45;45\t3/3\n",
            "AAAAAAAACCAAATA\toligo_189277\t16;200=;NM:i:0;AM:i:45;45\t3/3\n",
            "AAAAAAAACGAACAG\toligo_005299\t16;200=;NM:i:0;AM:i:45;45\t3/3\n",
            "AAAAAAAACTATGTT\toligo_005948\t16;200=;NM:i:0;AM:i:45;45\t3/3\n",
            "AAAAAAAAGAAAAAG\toligo_144933\t17;199=;NM:i:0;AM:i:45;45\t3/3\n"
          ]
        }
      ],
      "source": [
        "assignment = os.path.join(results_dir, \"assignMPRAworkshop/assignment_barcodes.default.tsv.gz\")\n",
        "!zcat \"{assignment}\" | awk 'NR <= 10 {{print $$0}}'"
      ]
    },
    {
      "cell_type": "markdown",
      "metadata": {},
      "source": [
        "We would like to know how many different oligos have been included in the final assignment.\\\n",
        "When we compare this number to the number of sequences in our design, we can get a feeling of how many sequences were able to get assigned with their barcodes. This has implications for the proportion of targets that we can eventually analyse and whether each target is supported with sufficiently many barcodes. This information is important for the experiment overall and analyzing the counts of each individual replicate."
      ]
    },
    {
      "cell_type": "code",
      "execution_count": null,
      "metadata": {},
      "outputs": [
        {
          "name": "stdout",
          "output_type": "stream",
          "text": [
            "Number of sequences we were able to assign: 2060\n",
            "Number of sequences in the initial design: 2104\n",
            "Conclusion: 97.9% sequences of our initial design can be used in the experimental/counting step\n"
          ]
        }
      ],
      "source": [
        "assigned_sequences = !zcat \"{assignment}\" | awk -F'\\t' '{{names[$$2]++}} END {{print length(names)}}'\n",
        "\n",
        "assigned_sequences = int(assigned_sequences[0])\n",
        "print(\"Number of sequences we were able to assign: %s\"%(assigned_sequences))\n",
        "\n",
        "designed_sequences = !cat \"MPRAsnakeflow_tutorial/example_data/design/workshop_design.fa\" | grep -v \">\" | wc -l\n",
        "designed_sequences = int(designed_sequences[0])\n",
        "print(\"Number of sequences in the initial design: %s\"%(designed_sequences))\n",
        "\n",
        "print(r\"Conclusion: %s%% sequences of our initial design can be used in the experimental/counting step\"%(round(assigned_sequences/designed_sequences * 100, 1)))"
      ]
    },
    {
      "cell_type": "markdown",
      "metadata": {},
      "source": [
        "### Experiment results\n",
        "\n",
        "Let's take a look at the files in the experiment results folder!"
      ]
    },
    {
      "cell_type": "code",
      "execution_count": null,
      "metadata": {},
      "outputs": [
        {
          "name": "stdout",
          "output_type": "stream",
          "text": [
            "MPRAsnakeflow_tutorial/results/experiments:\n",
            "experimentMPRAworkshop\n",
            "\n",
            "MPRAsnakeflow_tutorial/results/experiments/experimentMPRAworkshop:\n",
            "assigned_counts  qc_report.HepG2.MPRAworkshop.default.html\n",
            "assignment\t qc_report.HepG2.MPRAworkshop.tutorialConfig.html\n",
            "counts\t\t statistic\n",
            "\n",
            "MPRAsnakeflow_tutorial/results/experiments/experimentMPRAworkshop/assigned_counts:\n",
            "MPRAworkshop\n",
            "\n",
            "MPRAsnakeflow_tutorial/results/experiments/experimentMPRAworkshop/assigned_counts/MPRAworkshop:\n",
            "HepG2_1.merged.config.default.tsv.gz\n",
            "HepG2_1.merged.config.tutorialConfig.tsv.gz\n",
            "HepG2_1_DNA_final_counts.config.default.tsv.gz\n",
            "HepG2_1_DNA_final_counts.config.tutorialConfig.tsv.gz\n",
            "HepG2_1_RNA_final_counts.config.default.tsv.gz\n",
            "HepG2_1_RNA_final_counts.config.tutorialConfig.tsv.gz\n",
            "HepG2_2.merged.config.default.tsv.gz\n",
            "HepG2_2.merged.config.tutorialConfig.tsv.gz\n",
            "HepG2_2_DNA_final_counts.config.default.tsv.gz\n",
            "HepG2_2_DNA_final_counts.config.tutorialConfig.tsv.gz\n",
            "HepG2_2_RNA_final_counts.config.default.tsv.gz\n",
            "HepG2_2_RNA_final_counts.config.tutorialConfig.tsv.gz\n",
            "HepG2_3.merged.config.default.tsv.gz\n",
            "HepG2_3.merged.config.tutorialConfig.tsv.gz\n",
            "HepG2_3_DNA_final_counts.config.default.tsv.gz\n",
            "HepG2_3_DNA_final_counts.config.tutorialConfig.tsv.gz\n",
            "HepG2_3_RNA_final_counts.config.default.tsv.gz\n",
            "HepG2_3_RNA_final_counts.config.tutorialConfig.tsv.gz\n",
            "default\n",
            "tutorialConfig\n",
            "\n",
            "MPRAsnakeflow_tutorial/results/experiments/experimentMPRAworkshop/assigned_counts/MPRAworkshop/default:\n",
            "HepG2_1_barcode_assigned_counts.tsv.gz\n",
            "HepG2_1_merged_assigned_counts.tsv.gz\n",
            "HepG2_2_barcode_assigned_counts.tsv.gz\n",
            "HepG2_2_merged_assigned_counts.tsv.gz\n",
            "HepG2_3_barcode_assigned_counts.tsv.gz\n",
            "HepG2_3_merged_assigned_counts.tsv.gz\n",
            "HepG2_allreps_merged.combined.tsv.gz\n",
            "HepG2_allreps_merged.tsv.gz\n",
            "HepG2_allreps_merged_barcode_assigned_counts.tsv.gz\n",
            "HepG2_allreps_minThreshold_merged.combined.tsv.gz\n",
            "HepG2_allreps_minThreshold_merged.tsv.gz\n",
            "\n",
            "MPRAsnakeflow_tutorial/results/experiments/experimentMPRAworkshop/assigned_counts/MPRAworkshop/tutorialConfig:\n",
            "HepG2_1_barcode_assigned_counts.tsv.gz\n",
            "HepG2_1_merged_assigned_counts.tsv.gz\n",
            "HepG2_2_barcode_assigned_counts.tsv.gz\n",
            "HepG2_2_merged_assigned_counts.tsv.gz\n",
            "HepG2_3_barcode_assigned_counts.tsv.gz\n",
            "HepG2_3_merged_assigned_counts.tsv.gz\n",
            "HepG2_allreps_merged.combined.tsv.gz\n",
            "HepG2_allreps_merged.tsv.gz\n",
            "HepG2_allreps_merged_barcode_assigned_counts.tsv.gz\n",
            "HepG2_allreps_minThreshold_merged.combined.tsv.gz\n",
            "HepG2_allreps_minThreshold_merged.tsv.gz\n",
            "\n",
            "MPRAsnakeflow_tutorial/results/experiments/experimentMPRAworkshop/assignment:\n",
            "MPRAworkshop.tsv.gz\n",
            "\n",
            "MPRAsnakeflow_tutorial/results/experiments/experimentMPRAworkshop/counts:\n",
            "HepG2_1.merged.config.default.tsv.gz\n",
            "HepG2_1.merged.config.tutorialConfig.tsv.gz\n",
            "HepG2_1_DNA_filtered_counts.tsv.gz\n",
            "HepG2_1_DNA_final_counts.tsv.gz\n",
            "HepG2_1_RNA_filtered_counts.tsv.gz\n",
            "HepG2_1_RNA_final_counts.tsv.gz\n",
            "HepG2_2.merged.config.default.tsv.gz\n",
            "HepG2_2.merged.config.tutorialConfig.tsv.gz\n",
            "HepG2_2_DNA_filtered_counts.tsv.gz\n",
            "HepG2_2_DNA_final_counts.tsv.gz\n",
            "HepG2_2_RNA_filtered_counts.tsv.gz\n",
            "HepG2_2_RNA_final_counts.tsv.gz\n",
            "HepG2_3.merged.config.default.tsv.gz\n",
            "HepG2_3.merged.config.tutorialConfig.tsv.gz\n",
            "HepG2_3_DNA_filtered_counts.tsv.gz\n",
            "HepG2_3_DNA_final_counts.tsv.gz\n",
            "HepG2_3_RNA_filtered_counts.tsv.gz\n",
            "HepG2_3_RNA_final_counts.tsv.gz\n",
            "useUMI.HepG2_1_DNA.bam\n",
            "useUMI.HepG2_1_DNA_raw_counts.tsv.gz\n",
            "useUMI.HepG2_1_RNA.bam\n",
            "useUMI.HepG2_1_RNA_raw_counts.tsv.gz\n",
            "useUMI.HepG2_2_DNA.bam\n",
            "useUMI.HepG2_2_DNA_raw_counts.tsv.gz\n",
            "useUMI.HepG2_2_RNA.bam\n",
            "useUMI.HepG2_2_RNA_raw_counts.tsv.gz\n",
            "useUMI.HepG2_3_DNA.bam\n",
            "useUMI.HepG2_3_DNA_raw_counts.tsv.gz\n",
            "useUMI.HepG2_3_RNA.bam\n",
            "useUMI.HepG2_3_RNA_raw_counts.tsv.gz\n",
            "\n",
            "MPRAsnakeflow_tutorial/results/experiments/experimentMPRAworkshop/statistic:\n",
            "assigned_counts\n",
            "barcode\n",
            "bc_overlap.assigned_counts.default.MPRAworkshop.tsv\n",
            "bc_overlap.assigned_counts.tutorialConfig.MPRAworkshop.tsv\n",
            "bc_overlap.counts.default.tsv\n",
            "bc_overlap.counts.tutorialConfig.tsv\n",
            "counts\n",
            "counts.filtered.tsv\n",
            "counts.freqUMIs.HepG2_1_DNA.txt\n",
            "counts.freqUMIs.HepG2_1_RNA.txt\n",
            "counts.freqUMIs.HepG2_2_DNA.txt\n",
            "counts.freqUMIs.HepG2_2_RNA.txt\n",
            "counts.freqUMIs.HepG2_3_DNA.txt\n",
            "counts.freqUMIs.HepG2_3_RNA.txt\n",
            "counts.raw.tsv\n",
            "statistic_assigned_bc_correlation_merged_MPRAworkshop_default.tsv\n",
            "statistic_assigned_bc_correlation_merged_MPRAworkshop_tutorialConfig.tsv\n",
            "statistic_assigned_counts_merged_MPRAworkshop_default.tsv\n",
            "statistic_assigned_counts_merged_MPRAworkshop_tutorialConfig.tsv\n",
            "statistic_assigned_counts_single_MPRAworkshop_default.tsv\n",
            "statistic_assigned_counts_single_MPRAworkshop_tutorialConfig.tsv\n",
            "statistic_bc_correlation_merged_default.tsv\n",
            "statistic_bc_correlation_merged_tutorialConfig.tsv\n",
            "statistic_oligo_correlation_merged_MPRAworkshop_default.tsv\n",
            "statistic_oligo_correlation_merged_MPRAworkshop_tutorialConfig.tsv\n",
            "\n",
            "MPRAsnakeflow_tutorial/results/experiments/experimentMPRAworkshop/statistic/assigned_counts:\n",
            "MPRAworkshop\n",
            "\n",
            "MPRAsnakeflow_tutorial/results/experiments/experimentMPRAworkshop/statistic/assigned_counts/MPRAworkshop:\n",
            "HepG2_1_DNA_default.statistic.tsv.gz\n",
            "HepG2_1_DNA_tutorialConfig.statistic.tsv.gz\n",
            "HepG2_1_RNA_default.statistic.tsv.gz\n",
            "HepG2_1_RNA_tutorialConfig.statistic.tsv.gz\n",
            "HepG2_2_DNA_default.statistic.tsv.gz\n",
            "HepG2_2_DNA_tutorialConfig.statistic.tsv.gz\n",
            "HepG2_2_RNA_default.statistic.tsv.gz\n",
            "HepG2_2_RNA_tutorialConfig.statistic.tsv.gz\n",
            "HepG2_3_DNA_default.statistic.tsv.gz\n",
            "HepG2_3_DNA_tutorialConfig.statistic.tsv.gz\n",
            "HepG2_3_RNA_default.statistic.tsv.gz\n",
            "HepG2_3_RNA_tutorialConfig.statistic.tsv.gz\n",
            "default\n",
            "tutorialConfig\n",
            "\n",
            "MPRAsnakeflow_tutorial/results/experiments/experimentMPRAworkshop/statistic/assigned_counts/MPRAworkshop/default:\n",
            "HepG2_1_merged_assigned_counts.statistic.tsv.gz\n",
            "HepG2_2_merged_assigned_counts.statistic.tsv.gz\n",
            "HepG2_3_merged_assigned_counts.statistic.tsv.gz\n",
            "HepG2_DNA_pairwise.png\n",
            "HepG2_DNA_pairwise_minThreshold.png\n",
            "HepG2_RNA_pairwise.png\n",
            "HepG2_RNA_pairwise_minThreshold.png\n",
            "HepG2_Ratio_pairwise.png\n",
            "HepG2_Ratio_pairwise_minThreshold.png\n",
            "HepG2_average_allreps_merged.tsv.gz\n",
            "HepG2_barcodesPerInsert.png\n",
            "HepG2_correlation.tsv\n",
            "HepG2_correlation_minThreshold.tsv\n",
            "HepG2_dna_vs_rna.png\n",
            "HepG2_dna_vs_rna_minThreshold.png\n",
            "HepG2_group_barcodesPerInsert_box.png\n",
            "HepG2_group_barcodesPerInsert_box_minThreshold.png\n",
            "combined\n",
            "\n",
            "MPRAsnakeflow_tutorial/results/experiments/experimentMPRAworkshop/statistic/assigned_counts/MPRAworkshop/default/combined:\n",
            "HepG2_merged_assigned_counts.statistic.tsv.gz\n",
            "\n",
            "MPRAsnakeflow_tutorial/results/experiments/experimentMPRAworkshop/statistic/assigned_counts/MPRAworkshop/tutorialConfig:\n",
            "HepG2_1_merged_assigned_counts.statistic.tsv.gz\n",
            "HepG2_2_merged_assigned_counts.statistic.tsv.gz\n",
            "HepG2_3_merged_assigned_counts.statistic.tsv.gz\n",
            "HepG2_DNA_pairwise.png\n",
            "HepG2_DNA_pairwise_minThreshold.png\n",
            "HepG2_RNA_pairwise.png\n",
            "HepG2_RNA_pairwise_minThreshold.png\n",
            "HepG2_Ratio_pairwise.png\n",
            "HepG2_Ratio_pairwise_minThreshold.png\n",
            "HepG2_average_allreps_merged.tsv.gz\n",
            "HepG2_barcodesPerInsert.png\n",
            "HepG2_correlation.tsv\n",
            "HepG2_correlation_minThreshold.tsv\n",
            "HepG2_dna_vs_rna.png\n",
            "HepG2_dna_vs_rna_minThreshold.png\n",
            "HepG2_group_barcodesPerInsert_box.png\n",
            "HepG2_group_barcodesPerInsert_box_minThreshold.png\n",
            "combined\n",
            "\n",
            "MPRAsnakeflow_tutorial/results/experiments/experimentMPRAworkshop/statistic/assigned_counts/MPRAworkshop/tutorialConfig/combined:\n",
            "HepG2_merged_assigned_counts.statistic.tsv.gz\n",
            "\n",
            "MPRAsnakeflow_tutorial/results/experiments/experimentMPRAworkshop/statistic/barcode:\n",
            "assigned_counts  counts\n",
            "\n",
            "MPRAsnakeflow_tutorial/results/experiments/experimentMPRAworkshop/statistic/barcode/assigned_counts:\n",
            "MPRAworkshop\n",
            "\n",
            "MPRAsnakeflow_tutorial/results/experiments/experimentMPRAworkshop/statistic/barcode/assigned_counts/MPRAworkshop:\n",
            "HepG2_default_DNA_perBarcode.png\n",
            "HepG2_default_RNA_perBarcode.png\n",
            "HepG2_default_barcode_DNA_pairwise.png\n",
            "HepG2_default_barcode_RNA_pairwise.png\n",
            "HepG2_default_barcode_Ratio_pairwise.png\n",
            "HepG2_default_barcode_correlation.tsv\n",
            "HepG2_tutorialConfig_DNA_perBarcode.png\n",
            "HepG2_tutorialConfig_RNA_perBarcode.png\n",
            "HepG2_tutorialConfig_barcode_DNA_pairwise.png\n",
            "HepG2_tutorialConfig_barcode_RNA_pairwise.png\n",
            "HepG2_tutorialConfig_barcode_Ratio_pairwise.png\n",
            "HepG2_tutorialConfig_barcode_correlation.tsv\n",
            "\n",
            "MPRAsnakeflow_tutorial/results/experiments/experimentMPRAworkshop/statistic/barcode/counts:\n",
            "HepG2_default_DNA_perBarcode.png\n",
            "HepG2_default_RNA_perBarcode.png\n",
            "HepG2_default_barcode_DNA_pairwise.png\n",
            "HepG2_default_barcode_RNA_pairwise.png\n",
            "HepG2_default_barcode_Ratio_pairwise.png\n",
            "HepG2_default_barcode_correlation.tsv\n",
            "HepG2_tutorialConfig_DNA_perBarcode.png\n",
            "HepG2_tutorialConfig_RNA_perBarcode.png\n",
            "HepG2_tutorialConfig_barcode_DNA_pairwise.png\n",
            "HepG2_tutorialConfig_barcode_RNA_pairwise.png\n",
            "HepG2_tutorialConfig_barcode_Ratio_pairwise.png\n",
            "HepG2_tutorialConfig_barcode_correlation.tsv\n",
            "\n",
            "MPRAsnakeflow_tutorial/results/experiments/experimentMPRAworkshop/statistic/counts:\n",
            "BCNucleotideComposition.HepG2_1_DNA.tsv.gz\n",
            "BCNucleotideComposition.HepG2_1_RNA.tsv.gz\n",
            "BCNucleotideComposition.HepG2_2_DNA.tsv.gz\n",
            "BCNucleotideComposition.HepG2_2_RNA.tsv.gz\n",
            "BCNucleotideComposition.HepG2_3_DNA.tsv.gz\n",
            "BCNucleotideComposition.HepG2_3_RNA.tsv.gz\n"
          ]
        }
      ],
      "source": [
        "results_dir = \"MPRAsnakeflow_tutorial/results/experiments\"\n",
        "!ls -R \"{results_dir}\""
      ]
    },
    {
      "cell_type": "markdown",
      "metadata": {},
      "source": [
        "We can take a look at the amount of barcodes that have been removed due to UMI collision, by checking how many unique BC x UMI combinations we have in our data. (We are now checking the RNA counts in replicate 1, but we should look at both DNA and RNA counts in all three replicates.)"
      ]
    },
    {
      "cell_type": "code",
      "execution_count": null,
      "metadata": {},
      "outputs": [
        {
          "name": "stdout",
          "output_type": "stream",
          "text": [
            "First few lines of a count file, where column 1 contains the barcode, 2 the UMI and 3 the count.\n",
            "AAAAAAAAAAAAAAA\tCGAAGTACACTTTCCG\t1\n",
            "AAAAAAAAAAAAAGG\tCGTGAGCAGGATTAAG\t1\n",
            "AAAAAAAAAACAAGT\tCTATCCGCACTGTGTC\t1\n",
            "AAAAAAAAAACCCAA\tTTCCTAGGGACAGTCC\t1\n",
            "AAAAAAAAAAGATGC\tGGAGCATGTAATGGGT\t1\n",
            "AAAAAAAAAAGCTGC\tAAGATATACGGACGAT\t1\n",
            "AAAAAAAAAAGCTGC\tAGAGGTTAGAAGGGCA\t1\n",
            "AAAAAAAAAAGCTGC\tATATGGACCGCCCTGG\t1\n",
            "AAAAAAAAAAGCTGC\tCATGCACCCTGCATAA\t1\n",
            "AAAAAAAAAAGCTGC\tCTGATTGTACCGCAGC\t1\n",
            "\n",
            "Amount of total BC x UMI combinations:\n",
            "871822\n",
            "\n",
            "Amount of duplicate BC x UMI combinations (the file is sorted):\n",
            "0\n"
          ]
        }
      ],
      "source": [
        "print(\"First few lines of a count file, where column 1 contains the barcode, 2 the UMI and 3 the count.\")\n",
        "!zcat \"{results_dir}\"/experimentMPRAworkshop/counts/HepG2_1_RNA_filtered_counts.tsv.gz | awk 'NR <= 10 {{print}}'\n",
        "\n",
        "print(\"\\nAmount of total BC x UMI combinations:\")\n",
        "!zcat \"{results_dir}\"/experimentMPRAworkshop/counts/HepG2_1_RNA_filtered_counts.tsv.gz | wc -l\n",
        "\n",
        "print(\"\\nAmount of duplicate BC x UMI combinations (the file is sorted):\")\n",
        "!zcat \"{results_dir}\"/experimentMPRAworkshop/counts/HepG2_1_RNA_filtered_counts.tsv.gz | uniq -d | wc -l"
      ]
    },
    {
      "cell_type": "markdown",
      "metadata": {},
      "source": [
        "There are no collisions, indicating that this subset of the data is of high quality. Great!"
      ]
    },
    {
      "cell_type": "markdown",
      "metadata": {},
      "source": [
        "The count files are then joined with the assignment file (the output of the assignment step) to assign counts to oligos. The barcode counts are then aggregated over the oligos. This is done within MPRAsnakeflow with additional filter steps, but to give you a feeling of what's happening we give you some simplified code below:"
      ]
    },
    {
      "cell_type": "code",
      "execution_count": null,
      "metadata": {},
      "outputs": [
        {
          "name": "stdout",
          "output_type": "stream",
          "text": [
            "Joining the assignment and the counts of replicate 1:\n",
            "\n",
            "Barcode\toligo\tDNA\tRNA\n",
            "AAAAAAAAATCGATC\toligo_006917\t2\t3\n",
            "AAAAAAAACACATGA\toligo_005412\t10\t4\n",
            "AAAAAAAACAGTAAG\toligo_006290\t4\t3\n",
            "AAAAAAAACCAAATA\toligo_189277\t4\t2\n",
            "AAAAAAAACGAACAG\toligo_005299\t4\t1\n",
            "AAAAAAAAGAATTAC\toligo_144932\t4\t4\n",
            "AAAAAAAAGAGTAGT\toligo_006091\t7\t10\n",
            "AAAAAAACCGCACAT\toligo_005747\t1\t4\n",
            "AAAAAAAGACCTAAG\toligo_006429\t1\t4\n",
            "AAAAAAAGAGGTAAA\toligo_006350\t4\t6\n",
            "\n",
            "Aggregating the barcodes over oligos and the counts of replicate 1:\n",
            "\n",
            "oligo\tDNA\tRNA\n",
            "oligo_002500\t23\t41\n",
            "oligo_002501:oligo_002502\t11\t26\n",
            "oligo_002503\t14\t23\n",
            "oligo_002504\t1\t2\n",
            "oligo_002505\t23\t40\n",
            "oligo_002506\t7\t15\n",
            "oligo_002507\t11\t21\n",
            "oligo_002508\t11\t29\n",
            "oligo_002510\t15\t32\n",
            "oligo_002511\t24\t29\n"
          ]
        }
      ],
      "source": [
        "counts_rep1 = os.path.join(results_dir, \"experimentMPRAworkshop/assigned_counts/MPRAworkshop/HepG2_1.merged.config.tutorialConfig.tsv.gz\")\n",
        "assignment = \"MPRAsnakeflow_tutorial/example_data/assignment/assignment_barcodes.default.tsv.gz\"\n",
        "\n",
        "print(\"Joining the assignment and the counts of replicate 1:\\n\\nBarcode\\toligo\\tDNA\\tRNA\")\n",
        "!join <(zcat {assignment}) <(zcat {counts_rep1}) -t $'\\t' | cut -f 1,2,5-6 | awk 'NR <= 10 {{print}}'\n",
        "\n",
        "print(\"\\nAggregating the barcodes over oligos and the counts of replicate 1:\\n\\noligo\\tDNA\\tRNA\")\n",
        "!join <(zcat {assignment}) <(zcat {counts_rep1}) -t $'\\t' | cut -f 1,2,5-6 | sort -k2,2 | \\\n",
        " awk -v OFS=\"\\t\" '{{if ($$2 == prev) {{dna += $$3; rna += $$4}} else {{ if (NR > 1) print prev,dna,rna; prev=$$2; dna=$$3;rna=$$4}}}}' | awk 'NR <= 10 {{print}}'"
      ]
    },
    {
      "cell_type": "markdown",
      "metadata": {},
      "source": [
        "In the next steps, barcodes are already aggregated to their oligos/targets.  \n",
        "  \n",
        "We will have a look at the correlation plots between the replicates for DNA and RNA now. Typically, we will sequence RNA counts deeper than DNA -- because of the larger dynamic range of RNA. We therefore expect that the correlation of RNA counts is higher than that of the DNA. Our example data shows this trend as well.\n",
        "\n",
        "We have a correlation of DNA counts per insert between the replicates of 0.29 and 0.30. This correlation is for a subset of the complete MPRA experiment. The shown output uses the user set minThreshold for removing barcodes with too few counts. In order to see the influence of the parameter another plot is generated without this threshold."
      ]
    },
    {
      "cell_type": "markdown",
      "metadata": {},
      "source": [
        "With the threshold of 5 barcodes per oligo and at least one DNA and RNA count\n",
        "- DNA correlation: 0.29 - 0.30\n",
        "- RNA correlation: 0.68 - 0.70"
      ]
    },
    {
      "cell_type": "code",
      "execution_count": null,
      "metadata": {},
      "outputs": [
        {
          "data": {
            "image/png": "[encoded data removed]",
            "text/plain": [
              "<Figure size 640x480 with 1 Axes>"
            ]
          },
          "metadata": {},
          "output_type": "display_data"
        }
      ],
      "source": [
        "dna_pairwise = cv2.imread(f'{results_dir}/experimentMPRAworkshop/statistic/assigned_counts/MPRAworkshop/tutorialConfig/HepG2_DNA_pairwise_minThreshold.png')\n",
        "\n",
        "dna_pairwise_resize = cv2.resize(dna_pairwise, (600, 1000))\n",
        "\n",
        "plt.imshow(dna_pairwise_resize)\n",
        "plt.show()"
      ]
    },
    {
      "cell_type": "code",
      "execution_count": null,
      "metadata": {},
      "outputs": [
        {
          "data": {
            "image/png": "[encoded data removed]",
            "text/plain": [
              "<Figure size 640x480 with 1 Axes>"
            ]
          },
          "metadata": {},
          "output_type": "display_data"
        }
      ],
      "source": [
        "rna_pairwise = cv2.imread(f'{results_dir}/experimentMPRAworkshop/statistic/assigned_counts/MPRAworkshop/tutorialConfig/HepG2_RNA_pairwise_minThreshold.png')\n",
        "\n",
        "rna_pairwise_resize = cv2.resize(rna_pairwise, (600, 1000))\n",
        "\n",
        "plt.imshow(rna_pairwise_resize)\n",
        "plt.show()"
      ]
    },
    {
      "cell_type": "markdown",
      "metadata": {},
      "source": [
        "In the following two figures you can see that this trend continues for a threshold of 10 barcodes per insert.\n",
        "- DNA correlation: 0.32 - 0.39\n",
        "- RNA correlation: 0.79 - 0.80"
      ]
    },
    {
      "cell_type": "code",
      "execution_count": null,
      "metadata": {},
      "outputs": [
        {
          "data": {
            "image/png": "[encoded data removed]",
            "text/plain": [
              "<Figure size 640x480 with 1 Axes>"
            ]
          },
          "metadata": {},
          "output_type": "display_data"
        }
      ],
      "source": [
        "dna_pairwise_no_thresh = cv2.imread(f'{results_dir}/experimentMPRAworkshop/statistic/assigned_counts/MPRAworkshop/default/HepG2_DNA_pairwise_minThreshold.png')\n",
        "\n",
        "dna_pairwise_no_thresh_resize = cv2.resize(dna_pairwise_no_thresh, (600, 1000))\n",
        "\n",
        "plt.imshow(dna_pairwise_no_thresh_resize)\n",
        "plt.show()"
      ]
    },
    {
      "cell_type": "code",
      "execution_count": null,
      "metadata": {},
      "outputs": [
        {
          "data": {
            "image/png": "[encoded data removed]",
            "text/plain": [
              "<Figure size 640x480 with 1 Axes>"
            ]
          },
          "metadata": {},
          "output_type": "display_data"
        }
      ],
      "source": [
        "rna_pairwise_no_thresh = cv2.imread(f'{results_dir}/experimentMPRAworkshop/statistic/assigned_counts/MPRAworkshop/default/HepG2_RNA_pairwise_minThreshold.png')\n",
        "\n",
        "rna_pairwise_no_thresh_resize = cv2.resize(rna_pairwise_no_thresh, (600, 1000))\n",
        "\n",
        "plt.imshow(rna_pairwise_no_thresh_resize)\n",
        "plt.show()"
      ]
    },
    {
      "cell_type": "markdown",
      "metadata": {},
      "source": [
        "Even though it is a small example, the minimal barcode count threshold shows a clear effect on correlation. However, we also note that we are losing a proportion of oligos with these strict filters and thereby limit the conclusions that we can draw from the data."
      ]
    },
    {
      "cell_type": "markdown",
      "metadata": {},
      "source": [
        "Now we want to go through the final output of MPRAsnakeflow: the count table of sequences and barcodes together with their aggregated log2 values. Note that there are no statistics calculated at this step yet, the table doesn't say anything about certainty/variance of the activity. The log2 value refers to the log2 ratio of RNA counts over DNA counts for each oligo, which is a measurement of the activity of the target sequence. More on this in the statistical analysis tutorial."
      ]
    },
    {
      "cell_type": "code",
      "execution_count": null,
      "metadata": {},
      "outputs": [
        {
          "name": "stdout",
          "output_type": "stream",
          "text": [
            "condition\treplicate\tname\tdna_counts\trna_counts\tdna_normalized\trna_normalized\tratio\tlog2\tn_obs_bc\n",
            "HepG2\t1\tno_BC\t150588\t394586\t9.92016075598502\t9.72613704702904\t1.26892422325652\t0.34360592\t71597\n",
            "HepG2\t1\toligo_002500\t23\t41\t13.5600415055183\t9.04455923436262\t0.863257582487873\t-0.21213699\t8\n",
            "HepG2\t1\toligo_002501:oligo_002502\t15\t28\t8.84350532968588\t6.17677216005252\t0.903964037597058\t-0.14566272\t8\n",
            "HepG2\t1\toligo_002503\t19\t31\t8.96141873408169\t5.4708553417608\t0.790118942636526\t-0.33985825\t10\n",
            "HepG2\t1\toligo_002504\t1\t2\t4.71653617583247\t3.52958409145858\t0.968532897425419\t-0.04612704\t1\n",
            "HepG2\t1\toligo_002505\t23\t40\t13.5600415055183\t8.82396022864646\t0.842202519500364\t-0.2477609\t8\n",
            "HepG2\t1\toligo_002506\t22\t64\t14.8233994097592\t16.1352415609535\t1.40877512352788\t0.49444134\t7\n",
            "HepG2\t1\toligo_002507\t39\t36\t26.2778444082095\t9.07607337803636\t0.447015183427116\t-1.16160426\t7\n",
            "HepG2\t1\toligo_002508\t12\t30\t9.43307235166494\t8.82396022864646\t1.21066612178177\t0.27580105\t6\n"
          ]
        }
      ],
      "source": [
        "!zcat {results_dir}/experimentMPRAworkshop/assigned_counts/MPRAworkshop/tutorialConfig/HepG2_allreps_merged.tsv.gz | awk 'NR <= 10 {{print}}'"
      ]
    },
    {
      "cell_type": "markdown",
      "metadata": {},
      "source": [
        "### QC report\n",
        "\n",
        "We have a QC report for the assignment as well as for the experiment workflow. The QC report gives a nice overview of the assignment run and might be the first thing you will look at. \n",
        "\n",
        "For our assignment run you can find it here:\n",
        "\n",
        "[MPRAsnakeflow_tutorial/results/assignment/assignMPRAworkshop/qc_report.default.html](MPRAsnakeflow_tutorial/results/assignment/assignMPRAworkshop/qc_report.default.html)\n",
        "\n",
        "For our experiment run you can find it here:\n",
        "\n",
        "- [MPRAsnakeflow_tutorial/results/experiments/experimentMPRAworkshop/qc_report.HepG2.MPRAworkshop.default.html](MPRAsnakeflow_tutorial/results/experiments/experimentMPRAworkshop/qc_report.HepG2.MPRAworkshop.default.html) - 10 BC threshold\n",
        "\n",
        "- [MPRAsnakeflow_tutorial/results/experiments/experimentMPRAworkshop/qc_report.HepG2.MPRAworkshop.tutorialConfig.html](MPRAsnakeflow_tutorial/results/experiments/experimentMPRAworkshop/qc_report.HepG2.MPRAworkshop.tutorialConfig.html) - 5 BC threshold"
      ]
    },
    {
      "cell_type": "code",
      "execution_count": null,
      "metadata": {},
      "outputs": [
        {
          "data": {
            "text/html": [
              "\n",
              "        <iframe\n",
              "            width=\"700\"\n",
              "            height=\"600\"\n",
              "            src=\"./MPRAsnakeflow_tutorial/results/experiments/experimentMPRAworkshop/qc_report.HepG2.MPRAworkshop.tutorialConfig.html\"\n",
              "            frameborder=\"0\"\n",
              "            allowfullscreen\n",
              "            \n",
              "        ></iframe>\n",
              "        "
            ],
            "text/plain": [
              "<IPython.lib.display.IFrame at 0x7f453de33aa0>"
            ]
          },
          "execution_count": 50,
          "metadata": {},
          "output_type": "execute_result"
        }
      ],
      "source": [
        "from IPython.display import IFrame\n",
        "\n",
        "IFrame(src='./MPRAsnakeflow_tutorial/results/assignment/assignMPRAworkshop/qc_report.default.html', width=700, height=600)\n",
        "\n",
        "IFrame(src='./MPRAsnakeflow_tutorial/results/experiments/experimentMPRAworkshop/qc_report.HepG2.MPRAworkshop.default.html', width=700, height=600)\n",
        "\n",
        "IFrame(src='./MPRAsnakeflow_tutorial/results/experiments/experimentMPRAworkshop/qc_report.HepG2.MPRAworkshop.tutorialConfig.html', width=700, height=600)"
      ]
    }
  ],
  "metadata": {
    "colab": {
      "collapsed_sections": [
        "32PHp-vU99x0",
        "6GilAsqZ4t9r"
      ],
      "include_colab_link": true,
      "provenance": []
    },
    "kernelspec": {
      "display_name": "jupyter",
      "language": "python",
      "name": "python3"
    },
    "language_info": {
      "codemirror_mode": {
        "name": "ipython",
        "version": 3
      },
      "file_extension": ".py",
      "mimetype": "text/x-python",
      "name": "python",
      "nbconvert_exporter": "python",
      "pygments_lexer": "ipython3",
      "version": "3.12.4"
    }
  },
  "nbformat": 4,
  "nbformat_minor": 0
}
