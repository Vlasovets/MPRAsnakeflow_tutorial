{
  "cells": [
    {
      "cell_type": "markdown",
      "metadata": {
        "colab_type": "text",
        "id": "view-in-github"
      },
      "source": [
        "<a href=\"https://colab.research.google.com/github/kircherlab/MPRAsnakeflow_tutorial/blob/development/tutorial_association.ipynb\" target=\"_parent\"><img src=\"https://colab.research.google.com/assets/colab-badge.svg\" alt=\"Open In Colab\"/></a>"
      ]
    },
    {
      "cell_type": "code",
      "execution_count": 11,
      "metadata": {
        "colab": {
          "base_uri": "https://localhost:8080/"
        },
        "id": "NsBG7lOCPnnE",
        "outputId": "6da1caeb-905a-42f8-843a-54409a379c0f"
      },
      "outputs": [],
      "source": [
        "%%capture\n",
        "import matplotlib.pyplot as plt\n",
        "import os"
      ]
    },
    {
      "cell_type": "markdown",
      "metadata": {
        "id": "BOSJecyQPnnC"
      },
      "source": [
        "# MPRAsnakeflow association tutorial"
      ]
    },
    {
      "cell_type": "markdown",
      "metadata": {
        "id": "uAAYJQqv9zIk"
      },
      "source": [
        "## Pre-requirements"
      ]
    },
    {
      "cell_type": "markdown",
      "metadata": {
        "id": "dOsEkOFu-MbM"
      },
      "source": [
        "### Docker/uDocker/apptainer\n",
        "\n",
        "When running locally you need to install `docker` or `apptainer`. For running it remotly on google colab `udocker` in colab from github.com/drengskapur/docker-in-colab works nicely.\n",
        "\n",
        "We try to atomatically find out what you need:"
      ]
    },
    {
      "cell_type": "code",
      "execution_count": 12,
      "metadata": {},
      "outputs": [
        {
          "name": "stdout",
          "output_type": "stream",
          "text": [
            "Docker is installed! We will use Docker to run MPRAsnakeflow\n"
          ]
        }
      ],
      "source": [
        "tutorial_container = \"visze/mprasnakeflow_tutorial:0.1.0\"\n",
        "docker= False\n",
        "apptainer = False\n",
        "\n",
        "docker = !docker --help &>/dev/null; if [ $? -eq 0 ]; then echo 1; else echo 0; fi\n",
        "docker = bool(int(docker[0]))\n",
        "apptainer = !apptainer --help &>/dev/null; if [ $? -eq 0 ]; then echo 1; else echo 0; fi\n",
        "apptainer = bool(int(apptainer[0]))\n",
        "\n",
        "if docker:\n",
        "    print(\"Docker is installed! We will use Docker to run MPRAsnakeflow\")\n",
        "elif apptainer:\n",
        "    print(\"Apptainer is installed! We will use Apptainer to run MPRAsnakeflow\")\n",
        "else:\n",
        "    print(\"Neither Docker nor Apptainer is installed. We assume you run the tutorial on colab and we will install uDocker for colab\")"
      ]
    },
    {
      "cell_type": "markdown",
      "metadata": {},
      "source": [
        "When neither Docker nor Apptainer is installed we will install udocjer for colab now."
      ]
    },
    {
      "cell_type": "code",
      "execution_count": 13,
      "metadata": {
        "colab": {
          "base_uri": "https://localhost:8080/"
        },
        "id": "NSTDSHTN4JJk",
        "outputId": "5c2ad4b0-cc4b-4ced-9bfe-a75960cc36bd"
      },
      "outputs": [],
      "source": [
        "def udocker_init():\n",
        "    import os\n",
        "    if not os.path.exists(\"/home/user\"):\n",
        "        !pip install udocker > /dev/null\n",
        "        !udocker --allow-root install > /dev/null\n",
        "        !useradd -m user > /dev/null\n",
        "    print(f'Docker-in-Colab 1.1.0\\n')\n",
        "    print(f'Usage:     udocker(\"--help\")')\n",
        "    print(f'Examples:  https://github.com/indigo-dc/udocker?tab=readme-ov-file#examples')\n",
        "\n",
        "    def execute(command: str):\n",
        "        user_prompt = \"\\033[1;32muser@pc\\033[0m\"\n",
        "        print(f\"{user_prompt}$ udocker {command}\")\n",
        "        !su - user -c \"udocker $command\"\n",
        "\n",
        "    return execute\n",
        "\n",
        "if not docker and not apptainer:\n",
        "    udocker = udocker_init()"
      ]
    },
    {
      "cell_type": "markdown",
      "metadata": {},
      "source": [
        "We define a general function to run our MPRAsnakeflow tutorial container that will check if docker, apptainer or uDocker has to be run. It will also bind your data directory `${{PWD}}/MPRAsnakeflow_tutorial` (will be dowloaded later) to `/data/run` within the container and defines this as working directory."
      ]
    },
    {
      "cell_type": "code",
      "execution_count": 14,
      "metadata": {},
      "outputs": [],
      "source": [
        "def runContainer(command):\n",
        "    user_prompt = \"\\033[1;32muser@pc\\033[0m\"\n",
        "    if docker:\n",
        "        print(f\"{user_prompt}$ docker run -v=${{PWD}}/MPRAsnakeflow_tutorial:/data/run --workdir /data/run {tutorial_container} {command}\")\n",
        "        !docker run -v=${{PWD}}/MPRAsnakeflow_tutorial:/data/run --workdir /data/run {tutorial_container} {command}\n",
        "    elif apptainer:\n",
        "        print(f\"apptainer run -B=${{PWD}}/MPRAsnakeflow_tutorial:/data/run --cwd /data/run mprasnakeflow_tutorial.sif {command}\")\n",
        "        !apptainer run -B=${{PWD}}/MPRAsnakeflow_tutorial:/data/run --cwd /data/run mprasnakeflow_tutorial.sif {command}\n",
        "    else:\n",
        "        udocker(f\"run -v=${{PWD}}/MPRAsnakeflow_tutorial:/data/run --workdir /data/run mprasnakeflow_tutorial {command}\")"
      ]
    },
    {
      "cell_type": "markdown",
      "metadata": {
        "id": "Mb0rhjfo8dbA"
      },
      "source": [
        "### Test data\n",
        "\n",
        "The data used in this tutorial is present in the github repository. We will dowload it using git so that it is also present within a colab environment."
      ]
    },
    {
      "cell_type": "code",
      "execution_count": 15,
      "metadata": {
        "id": "BGLsBxpyst9V"
      },
      "outputs": [
        {
          "name": "stderr",
          "output_type": "stream",
          "text": [
            "Cloning into 'MPRAsnakeflow_tutorial'...\n",
            "Updating files: 100% (28/28), done.\n",
            "Switched to a new branch 'development'\n"
          ]
        },
        {
          "name": "stdout",
          "output_type": "stream",
          "text": [
            "Branch 'development' set up to track remote branch 'development' from 'origin'.\n"
          ]
        }
      ],
      "source": [
        "%%bash\n",
        "git clone https://github.com/kircherlab/MPRAsnakeflow_tutorial.git\n",
        "cd MPRAsnakeflow_tutorial\n",
        "git checkout development"
      ]
    },
    {
      "cell_type": "markdown",
      "metadata": {
        "id": "4WYuqwGr-fEp"
      },
      "source": [
        "### snakemake\n",
        "\n",
        "MPRAsnakeflow and its software dependencies is packed in the official snakemake v8.16.0 container and you can find it on dockerhub wih the tag [`visze/mprasnakeflow_tutorial:0.1.0`](https://hub.docker.com/layers/visze/mprasnakeflow_tutorial/0.1.0/images/sha256-f4f75aae0ceba517d363307f176a83b1414c74086d99cbd5e90196b7e2ace179?context=explore)."
      ]
    },
    {
      "cell_type": "code",
      "execution_count": 16,
      "metadata": {
        "colab": {
          "base_uri": "https://localhost:8080/"
        },
        "id": "ZZv9f_eu4bB9",
        "outputId": "67fa0e9c-386e-454a-c88d-11ce125ee5c3"
      },
      "outputs": [
        {
          "name": "stdout",
          "output_type": "stream",
          "text": [
            "docker pull visze/mprasnakeflow_tutorial:0.1.0\n",
            "0.1.0: Pulling from visze/mprasnakeflow_tutorial\n",
            "Digest: sha256:431eb2e3d47e6aa1543f2ca13a517d2946be1df29fd469f50f13c253d4b6f8ea\n",
            "Status: Image is up to date for visze/mprasnakeflow_tutorial:0.1.0\n",
            "docker.io/visze/mprasnakeflow_tutorial:0.1.0\n",
            "docker create --name=mprasnakeflow_tutorial visze/mprasnakeflow_tutorial:0.1.0\n",
            "Error response from daemon: Conflict. The container name \"/mprasnakeflow_tutorial\" is already in use by container \"b877cf88740dce02088c0fb4ce7e5b1156d6311e5a1f77bc8cdf2e9e6993ac34\". You have to remove (or rename) that container to be able to reuse that name.\n"
          ]
        }
      ],
      "source": [
        "if docker:\n",
        "    print(f\"docker pull {tutorial_container}\")\n",
        "    !docker pull \"{tutorial_container}\"\n",
        "    print(f\"docker create --name=mprasnakeflow_tutorial {tutorial_container}\")\n",
        "    !docker create --name=mprasnakeflow_tutorial \"{tutorial_container}\" > /dev/null\n",
        "elif apptainer:\n",
        "    print(f\"apptainer pull mprasnakeflow_tutorial.sif docker://{tutorial_container}\")\n",
        "    !apptainer pull mprasnakeflow_tutorial.sif docker://{tutorial_container} > /dev/null\n",
        "else:\n",
        "    udocker(f\"pull {tutorial_container}\")\n",
        "    udocker(f\"create --name=mprasnakeflow_tutorial {tutorial_container}\")"
      ]
    },
    {
      "cell_type": "markdown",
      "metadata": {
        "id": "zYhKnwlV-orz"
      },
      "source": [
        "Try to run `snakemake --version` in docker:"
      ]
    },
    {
      "cell_type": "code",
      "execution_count": 17,
      "metadata": {
        "colab": {
          "base_uri": "https://localhost:8080/"
        },
        "collapsed": true,
        "id": "jQi5e3634sDP",
        "outputId": "844eb31f-20d4-463a-ef20-6c6c3b013e7a"
      },
      "outputs": [
        {
          "name": "stdout",
          "output_type": "stream",
          "text": [
            "\u001b[1;32muser@pc\u001b[0m$ docker run -v=${PWD}/MPRAsnakeflow_tutorial:/data/run --workdir /data/run visze/mprasnakeflow_tutorial:0.1.0 snakemake --version\n",
            "8.16.0+0.g838b2fce.dirty\n"
          ]
        }
      ],
      "source": [
        "runContainer(\"snakemake --version\")"
      ]
    },
    {
      "cell_type": "markdown",
      "metadata": {},
      "source": [
        "## Association workflow\n",
        "\n",
        "To analyze your MPRA data, you need to know which barcode goes with which tested sequence. This is called assignment and typically associated multiple barcodes (i.e. the sequences that you will later count in the MPRA experiment) to a target sequence. It is possible that you already designed your assignment in advance (e.g. have barcodes synthezied with the targeted sequences) and already have a file which holds for each of the designed sequences the assignment to the barcodes. If this is the case you do not need to run the assignment step again and can run the experiment workflow with the file you already have.\\\n",
        "For the assignment step, we will need the files in the assignment folder (sequencing of barcodes and of the target sequences), as well as the config file and the design fasta (target sequences) in the design folder. We will take a look at these files now. The structure of a fastq file is as follows:  \n",
        "\n",
        "\n",
        "```\n",
        "@Sequence_ID_1  \n",
        "Sequence_1  \n",
        "+(Sequence_ID_1)  \n",
        "Quality score string of Sequence_1\n",
        "@Sequence_ID_2  \n",
        "Sequence_2  \n",
        "+(Sequence_ID_2)\n",
        "Quality score string of Sequence_2  \n",
        "...\n",
        "```\n"
      ]
    },
    {
      "cell_type": "code",
      "execution_count": 18,
      "metadata": {},
      "outputs": [
        {
          "name": "stdout",
          "output_type": "stream",
          "text": [
            "First two barcodes in our barcode sequencing file:\n",
            "\n",
            "@NS500466:861:HT5LLAFX3:1:11101:4277:1067 2:N:0:ACGTAGACCA\n",
            "TTGAGACGCCGTGAC\n",
            "+\n",
            "AAAAAEAEEEEEEEE\n",
            "@NS500466:861:HT5LLAFX3:1:11101:13208:1071 2:N:0:ACGTAGACCA\n",
            "GCAGATGTAGATTGT\n",
            "+\n",
            "AAAAAEEEEEEEEEE\n",
            "\n",
            "First two sequences in our forward sequencing file:\n",
            "\n",
            "@NS500466:861:HT5LLAFX3:1:11101:4277:1067 1:N:0:ACGTAGACCA\n",
            "TCCTTTGTCTTCATTACTTGTCTCACTGGTGCAGGCCTCGCTTAGCTTTCAGCCTATCGCAGCTTTCAACCTGCCTTCCTTGCTAAGCTGAATCATTTCTGGGTTTTGATTTAAAGTGAGTCGTCGTGGCTCTTCCTTTGAGCACT\n",
            "+\n",
            "AAAAAEEEAEEEEEEEEEEEEEEEEEEEEEEEEEEEEEAEAEEEEAEEEEEE<EEEEAEEEEEEEEEEAEEEEEEAAE<EEEEEEEEEEAEEEEEEEEAEEEEEEEEAEEEEEEEEEEAE/EEEAEEAE<EEEEAAEEEAAE<A<A\n",
            "@NS500466:861:HT5LLAFX3:1:11101:13208:1071 1:N:0:ACGTAGACCA\n",
            "TATGGTTTGGCTGTGTTCCTACCCAAATCTCATCTTGAATTGTAGCTCCCACAATTCCCATGTCATGGGAGGGACCAAGTGGGAGGTAACTGAATCAGGCGGCGGGTCTTACCCCATACTGTTCTCTTGGTAGTGAATAAGTCTCA\n",
            "+\n",
            "AAAAAEEEEEEEEEEEEEEEEEEEEEEEEEEEEEEEEEEEEEEEEEEEEAEEEEEEEE<EEEEEEEEEEEEEAEEAAEEEAEEEEAEEEEEEEEEEEE<A<<<EAEEEEEEE6AAEEEEEEEEEEEEEEEE<EEEE<EAEEEAEAE\n"
          ]
        }
      ],
      "source": [
        "print(\"First two barcodes in our barcode sequencing file:\\n\")\n",
        "!zcat \"MPRAsnakeflow_tutorial/example_data/assignment/assoc_bc.fastq.gz\" | awk 'NR <=8 {print $0}'\n",
        "\n",
        "print(\"\\nFirst two sequences in our forward sequencing file:\\n\")\n",
        "!zcat \"MPRAsnakeflow_tutorial/example_data/assignment/assoc_fwd.fastq.gz\" | awk 'NR <=8 {print $0}'"
      ]
    },
    {
      "cell_type": "markdown",
      "metadata": {},
      "source": [
        "If you take a good look at these files, you can see the sequence IDs in lines starting with the \"@\". By definition the sequence ID ends at the first white space (remainder is considered a comment). This sequence ID is identical between the different files, i.e. the forward, reverse and barcode reads from the same molecule are in the same order. From the combination of these files, we can see which barcode is associated with which sequenced target (forward/reverse reads). These sequenced forward/reverse reads should therefore correspond to the sequences that we designed. The designed sequences can be found in our design fasta, which contains the following information:  \n",
        "\n",
        "```\n",
        ">oligo_ID_1  \n",
        "Designed sequence 1\n",
        ">oligo_ID_2  \n",
        "Designed sequence 2\n",
        "...\n",
        "```\n",
        "\n",
        "\n"
      ]
    },
    {
      "cell_type": "code",
      "execution_count": 19,
      "metadata": {},
      "outputs": [
        {
          "name": "stdout",
          "output_type": "stream",
          "text": [
            ">oligo_002500\n",
            "AGGACCGGATCAACTCTGATTGCCTGCACCTAGATGGCTTGTGTGTAGCAGGGGCTCCTGGATGAGAAGGGGGCAGAAGTTAATAGAGCTGACTCGTGCCTTGAGTGTCATGTCTTATGTATTCAGCTGCTGACTAAGCAGCAGAGTGTAATATAGCTTACTAGAAAAAGTTGACCTTTAGCTGCATTCTTAATTCTTAACTTTTCAGTTATTGACATTGCGTGAACCGA\n",
            ">oligo_002501:oligo_002502\n",
            "AGGACCGGATCAACTGGTAATTTATAGATTCAATGCCATCCCCATCAAGCTACCAATGACTTTCTTCCCAGAATTAGAAAAAACTACTTTAAAGTTCATATGGAACCAAAAAAGAGCCCGCATCGCCAAGTCAATCCTAAGCCAAAAGAACAAAGCTGGAGGCATCACGCTACCTGACTTCAAACTATACTACAAGGCTATGGAAATTATTTTTACATTGCGTGAACCGA\n",
            ">oligo_002503\n",
            "AGGACCGGATCAACTAACCTCACAATGAATCAGTGAGGTTCATATTGTTCTCCCCATTTTACAAAAAAGAGAGGTTCAGATAAATTCAGTAATTTTCTCAAGGTCACAGAACAAGTAAAGAACACAGGAGTAGTAAAAAACAGAACCAAGACTGGGACACAAGCCTCCAGCCTCCCTGGCTCAGAGCCCCTTGCTGTCTCCACTATGCCCACCATCATTGCGTGAACCGA\n",
            ">oligo_002504\n",
            "AGGACCGGATCAACTAGAGGCCCTGAAGAAAGGGGAAAAAGGCAGTGAAGGGGCAGAAACCCTGGTAGTCCAGCAAGGGAGGGTGAGAAGGAAGGGGGGAGGTATGAGTATTACTATAGACCAAGGGTTGGGGTGGCACCTGGAGACTCCTGGACTTGACTGCAACTGTATGTATTGTTATATGTATATGTATAGACATTTATTTTCAAGTATATCATTGCGTGAACCGA\n",
            ">oligo_002505\n",
            "AGGACCGGATCAACTAGGATTATGCTCACATGCACATATAATACTGTCTAATATGTGTATATGCGAGGAGTAGATAGGCCTAAACTCTGGTAGGCCTGGAGATTCCCTGGTTTTTTACTCACAATCACTGGTCCTGTCACCTGGTACTCTATTCTGAGCATGAAGGCAGCTGAGGGCAGAGGGAAAGAAACTAGAGACATAGGCCTGTTGCCTCCCATTGCGTGAACCGA\n"
          ]
        }
      ],
      "source": [
        "!head \"MPRAsnakeflow_tutorial/example_data/design/workshop_design.fa\""
      ]
    },
    {
      "cell_type": "markdown",
      "metadata": {},
      "source": [
        "\"Oligos\" are the target sequences that we designed in advance, i.e. the sequences we would like to see in our assignment sequencing files (fastq files). In the association step, our goal is to assign the sequences to the oligos, since as you can see the oligo ID and sequence ID are not matching. By matching the reads to our designed oligos, we also automatically link the sequenced barcodes to our designed oligos, which is essential for us later."
      ]
    },
    {
      "cell_type": "markdown",
      "metadata": {
        "id": "0KqdtmOb_gHg"
      },
      "source": [
        "## Run MPRAsnakeflow\n",
        "\n",
        "\n"
      ]
    },
    {
      "cell_type": "markdown",
      "metadata": {},
      "source": [
        "### Snakemake\n",
        "\n",
        "Before we come to more MPRAsnakeflow pipeline specific things we quickly want to introduce the snakemake workflow management system. A workflow management system, also like nextflow or cwl, is a tool to create reproducible and scalable data analyses. Snakemake workflows are described via a human readable, Python based language. They can be seamlessly scaled to server, cluster, grid and cloud environments, without the need to modify the workflow definition. Finally, Snakemake workflows can entail a description of required software, which will be automatically deployed to any execution environment.\n",
        "\n",
        "Each step in snakemake is defined as a `rule`. Which has a `input`, `output` and a mostly `shell` command. The `input` and `output` are files that are used as input and output for the rule. The `shell` command is the command that is executed to create the output file from the input file. There are other commands like `conda`, `params`, `log`, `threads`, `resources` that can be used to define the rule.\n",
        "\n",
        "E.g. here is an example rule `assignment_check_design` of MPRAsnakeflow, which checks if the design file is correct (no duplicated header, no `[` or `]` within headers and no duplicates sequences (sense and antisense). The rule takes our design file defined in the config (see later) and a script as input. When it is completed it creates the file `results/assignment/{assignment}/design_check.done` and other rules will only start running when this file is present and the check is completed. `{assignment}` is a wildcard and the name of the assignment will be used here (defined in the config file). This allows us to define multiple assignments within the config file an run them in parallel. In addition the design file is copied here: `results/assignment/{assignment}/reference/reference.fa` so that further mapping rules can create their mapping reference files. You see the `params` command is a bit lengthy but we needed some conditions, based on the flexibility of the user input. But finally the `shell` command looks very clean.\n",
        "\n",
        "```python\n",
        "rule assignment_check_design:\n",
        "    \"\"\"\n",
        "    Check if the design file is correct and no duplicated sequences are present (FW and reverse).\n",
        "    Also check if no duplicated headers and no illegal characters in header.\n",
        "    \"\"\"\n",
        "    conda:\n",
        "        \"../envs/python3.yaml\"\n",
        "    input:\n",
        "        design=lambda wc: config[\"assignments\"][wc.assignment][\"design_file\"],\n",
        "        script=getScript(\"assignment/check_design_file.py\"),\n",
        "    output:\n",
        "        temp(\"results/assignment/{assignment}/reference/reference.fa.fxi\"),\n",
        "        touch(\"results/assignment/{assignment}/design_check.done\"),\n",
        "        ref=\"results/assignment/{assignment}/reference/reference.fa\",\n",
        "    params:\n",
        "        start=lambda wc: (\n",
        "            config[\"assignments\"][wc.assignment][\"alignment_tool\"][\"configs\"][\n",
        "                \"alignment_start\"\n",
        "            ]\n",
        "            if config[\"assignments\"][wc.assignment][\"alignment_tool\"][\"tool\"]\n",
        "            == \"exact\"\n",
        "            else config[\"assignments\"][wc.assignment][\"alignment_tool\"][\"configs\"][\n",
        "                \"alignment_start\"\n",
        "            ][\"max\"]\n",
        "        ),\n",
        "        length=lambda wc: (\n",
        "            config[\"assignments\"][wc.assignment][\"alignment_tool\"][\"configs\"][\n",
        "                \"sequence_length\"\n",
        "            ]\n",
        "            if config[\"assignments\"][wc.assignment][\"alignment_tool\"][\"tool\"]\n",
        "            == \"exact\"\n",
        "            else config[\"assignments\"][wc.assignment][\"alignment_tool\"][\"configs\"][\n",
        "                \"sequence_length\"\n",
        "            ][\"min\"]\n",
        "        ),\n",
        "        fast_check=lambda wc: (\n",
        "            \"--fast-dict\"\n",
        "            if config[\"assignments\"][wc.assignment][\"design_check\"][\"fast\"]\n",
        "            else \"--slow-string-search\"\n",
        "        ),\n",
        "        check_sequence_collitions=lambda wc: (\n",
        "            \"--perform-sequence-check\"\n",
        "            if config[\"assignments\"][wc.assignment][\"design_check\"][\n",
        "                \"sequence_collitions\"\n",
        "            ]\n",
        "            else \"--skip-sequence-check\"\n",
        "        ),\n",
        "    log:\n",
        "        log=temp(\"results/logs/assignment/check_design.{assignment}.log\"),\n",
        "        err=\"results/assignment/{assignment}/design_check.err\",\n",
        "    shell:\n",
        "        \"\"\"\n",
        "        trap \"cat {log.err}\" ERR\n",
        "        cp {input.design} {output.ref}\n",
        "        python {input.script} --input {output.ref} \\\n",
        "        --start {params.start} --length {params.length} \\\n",
        "        {params.fast_check} {params.check_sequence_collitions} > {log.log} 2> {log.err};\n",
        "        \"\"\"\n",
        "```\n"
      ]
    },
    {
      "cell_type": "markdown",
      "metadata": {},
      "source": [
        "When running snakemake you need to specify where your worflow is, basically the main `Snakefile` of it. By default, Snakemake will search for ‘Snakefile’, ‘snakefile’, ‘workflow/Snakefile’, ‘workflow/snakefile’ beneath the current working directory, in this order. Then you do not have to use this command. But practically your workflow, here MPRAsnakeflow, might live somewhere else and you want to run the workflow in a different directory where you want to produce results. Then you need to specify the `--snakefile` parameter to the MPRAsnakeflow file in `workflow/Snakefile`. Otherwise you ahve to check/copy the workflow in every \"run\" rirectory which is not practically. Usually you start snakemake in the directory where you want to produce results."
      ]
    },
    {
      "cell_type": "markdown",
      "metadata": {},
      "source": [
        "### The config file\n",
        "\n",
        "The heart of your workflow run is the config file. You can specify it via `--configfile`. It is in `yaml` or `json` format. It contains all the parameters and input files that are used in the workflow.\n",
        "\n",
        "The config file has many parameters. But most of them have a default well, based on best practice and you don't have to specify them. But you can overwrite them if you want. Config files are first validated using json schema. If your config file is not correct MPRAsnakeflow will tell you what is missing or wrong and stop. Naming, parameters etc. might change from MPRAsnakeflow version and you might have to update your config file if you run a new version of MPRAsnakeflow. An extensive documentation of the config file can be found in the [MPRAsnakeflow documentation](https://mprasnakeflow.readthedocs.io/en/development/config.html).\n",
        "\n",
        "Here is the config file that we will use for running the association tutorial.\n",
        "\n"
      ]
    },
    {
      "cell_type": "markdown",
      "metadata": {},
      "source": [
        "```yaml\n",
        "---\n",
        "# global:\n",
        "#   assignments:\n",
        "#     split_number: 30\n",
        "assignments:\n",
        "  assignMPRAworkshop:\n",
        "    bc_length: 15\n",
        "    alignment_tool:\n",
        "        tool: bwa\n",
        "        configs:\n",
        "          sequence_length:\n",
        "            min: 195\n",
        "            max: 205\n",
        "          alignment_start:\n",
        "            min: 14\n",
        "            max: 16\n",
        "    FW:\n",
        "      - example_data/assignment/assoc_fwd.fastq.gz\n",
        "    BC:\n",
        "      - example_data/assignment/assoc_bc.fastq.gz\n",
        "    REV:\n",
        "      - example_data/assignment/assoc_rev.fastq.gz\n",
        "    design_file: example_data/design/workshop_design.fa\n",
        "    configs:\n",
        "      default: {}\n",
        "```"
      ]
    },
    {
      "cell_type": "markdown",
      "metadata": {},
      "source": [
        "Because we run the assignment workflow we start with `assignment`. The a list with possible names of assignments will follow. Here we have just one: `assignMPRAworkshop`. The whole config file has the minimal information, which is needed by MPRAsnakeflow. This is the barcode length `bc_length`, the alignment tool `alignment_tool` for mapping reads to the design file (here we use `bwa` but other options are possible) and the configuration of the tool. The forward reads `FW`, the barcode reads `BC`, the reverse reads `REV` and the design file `design_file`. Then we can define multiple configs `configs`, basically how we filter barcodes later. E.g. a minimal support of barcodes per oligo `min_support` and a fraction of assigned barcodes to an oligo `fraction`. In our tutorial example we just have one config named `default` and we will set the default parameters by defining `degault: {}`. This is `min_support: 3` and `fraction: 0.75`. But the option to have multiple settings allows us to create multiple BC to oligo mappings based on different strategies. The worflow will then only run the last part multiple times with different settings avoiding the computational extensive mapping approach."
      ]
    },
    {
      "cell_type": "markdown",
      "metadata": {},
      "source": [
        "As a sanity check and to understand where these values come from, we will take a look at if the information matches our input files. We used 15 bp adapters for this MPRA experiment, which were added at both ends of each designed oligo. The ``alignment_start`` configuration refers to these adapters as our actual target sequences only starts after the 15 bp of adapter sequence."
      ]
    },
    {
      "cell_type": "code",
      "execution_count": 20,
      "metadata": {},
      "outputs": [
        {
          "name": "stdout",
          "output_type": "stream",
          "text": [
            "\n",
            "Average length of a barcode:\n",
            "15\n",
            "\n",
            "Average length of a target sequence (oligo length - 2 x adapter):\n",
            "200\n"
          ]
        }
      ],
      "source": [
        "adapter_length=15\n",
        "\n",
        "print(\"\\nAverage length of a barcode:\")\n",
        "!zcat \"MPRAsnakeflow_tutorial/example_data/assignment/assoc_bc.fastq.gz\" | awk 'NR % 4 == 2 {{sum += length($$0)}} END {{print sum*4/NR}}'\n",
        "\n",
        "print(\"\\nAverage length of a target sequence (oligo length - 2 x adapter):\")\n",
        "seq_length_with_bc = !cat \"MPRAsnakeflow_tutorial/example_data/design/workshop_design.fa\" | awk 'NR % 4 == 2 {{sum +=length($$0)}} END {{print sum*4/NR}}'\n",
        "seq_length_with_bc = int(seq_length_with_bc[0])\n",
        "seq_length = seq_length_with_bc - 2*adapter_length\n",
        "print(seq_length)"
      ]
    },
    {
      "cell_type": "markdown",
      "metadata": {},
      "source": [
        "### MPRAsnakeflow tutorial profile\n",
        "\n",
        "Snakemake can make use of profiles to pre-configure command-line-interfaces as well as ressources and number of threads as default or per rule. A profile has to be stored (on Linux) in the folder `$HOME/.config/snakemake` or `/etc/xdg/snakemake`. It can be activated by using the `--profile` option in the snakemake command. In addition you can set an environment variable `SNAKEMAKE_PROFILE`, e.g. by specifying export `SNAKEMAKE_PROFILE=myprofile` in your `~/.bashrc` to use the profile by default. In addition a specific workflow profile can be set using `--workflow-profile path_to_your_profile`. E.g. we pre-defined a [workflow profile for MPRAsnakeflow](https://github.com/kircherlab/MPRAsnakeflow/blob/development/profiles/default/config.yaml) adding ressources to each rule with some additional commands for the [snakemake excecutor plugin slum](https://snakemake.github.io/snakemake-plugin-catalog/plugins/executor/slurm.html).\n",
        "\n",
        "For more information on snakemake using profiles please have a look [snakemke profile documentation](https://snakemake.readthedocs.io/en/stable/executing/cli.html#profiles)\n",
        "\n",
        "For the MPRAsnakeflow tutorial we will use the profile `mprasnakeflow` which is stored in the folder `/etc/xdg/snakemake` within the container and the `SNAKEMAKE_PROFILE=mprasnakeflow` is already set. Have a look at the variable and the profile:"
      ]
    },
    {
      "cell_type": "code",
      "execution_count": 21,
      "metadata": {},
      "outputs": [
        {
          "name": "stdout",
          "output_type": "stream",
          "text": [
            "\u001b[1;32muser@pc\u001b[0m$ docker run -v=${PWD}/MPRAsnakeflow_tutorial:/data/run --workdir /data/run visze/mprasnakeflow_tutorial:0.1.0 cat /etc/xdg/snakemake/mprasnakeflow/config.yaml\n",
            "---\n",
            "snakefile: /data/MPRAsnakeflow/workflow/Snakefile\n",
            "software-deployment-method: conda\n",
            "conda-prefix: /data/conda_envs\n",
            "cores: 1\n",
            "set-threads:\n",
            "  assignment_mapping_bwa: 10\n"
          ]
        }
      ],
      "source": [
        "runContainer(\"cat /etc/xdg/snakemake/mprasnakeflow/config.yaml\")"
      ]
    },
    {
      "cell_type": "markdown",
      "metadata": {},
      "source": [
        "You see that we already defined where the MPRASsnkeflow `Snakefile` is and `--snakefile` is not necessary. Also all software packages are installed alrady in the container using conda and we enable this software deployment method and tell snakemake where the conda environments live (the default will be your exceuction folder under `.snamemake/conda`). Also the `--cores/-c` option is not necessary anymore and snakemake just needs your configuration file of the workflow using the command `--configfile`"
      ]
    },
    {
      "cell_type": "markdown",
      "metadata": {},
      "source": [
        "### Run the workflow\n",
        "\n",
        "First we run a dry-run to see what will be executed using `-n` and `--quiet rules` to see only the overview of excecuted rules and not each rule command individually. The most important part is setting the config file via `-configfile assignment_config.yaml`"
      ]
    },
    {
      "cell_type": "code",
      "execution_count": 22,
      "metadata": {
        "colab": {
          "base_uri": "https://localhost:8080/"
        },
        "id": "TXlOomWL5Am2",
        "outputId": "5c32a998-eaef-426e-ccc8-8102d2487950"
      },
      "outputs": [
        {
          "name": "stdout",
          "output_type": "stream",
          "text": [
            "\u001b[1;32muser@pc\u001b[0m$ docker run -v=${PWD}/MPRAsnakeflow_tutorial:/data/run --workdir /data/run visze/mprasnakeflow_tutorial:0.1.0 snakemake --configfile config_assignment.yaml -n --quiet rules\n",
            "Using profile mprasnakeflow for setting default command line arguments.\n",
            "Building DAG of jobs...\n",
            "Job stats:\n",
            "job                                    count\n",
            "-----------------------------------  -------\n",
            "all                                        1\n",
            "assignment_attach_idx                      2\n",
            "assignment_bwa_ref                         1\n",
            "assignment_check_design                    1\n",
            "assignment_collect                         1\n",
            "assignment_collectBCs                      1\n",
            "assignment_fastq_split                     3\n",
            "assignment_filter                          1\n",
            "assignment_flagstat                        1\n",
            "assignment_getBCs                          1\n",
            "assignment_idx_bam                         1\n",
            "assignment_mapping_bwa                     1\n",
            "assignment_merge                           1\n",
            "assignment_statistic_assignedCounts        1\n",
            "assignment_statistic_assignment            1\n",
            "assignment_statistic_totalCounts           1\n",
            "qc_report_assoc                            1\n",
            "total                                     20\n",
            "\n"
          ]
        }
      ],
      "source": [
        "# MPRAsnakeflow_tutorial must be accessable and writable for all (and docker)\n",
        "!chmod ugo+rwx MPRAsnakeflow_tutorial\n",
        "# Run MPRAsnakeflow\n",
        "runContainer(\"snakemake --configfile config_assignment.yaml -n --quiet rules\")"
      ]
    },
    {
      "cell_type": "markdown",
      "metadata": {},
      "source": [
        "You see a list of rules and how often this rule is executed debending on the input file. E.g. it is possible to you input fastq file into `n` via the rule `assignment_fastq_split` using the option `split_number` in the config file (it is commented out right now). Then rules afterwards, like `assignment_getBCs` will be executed `n` times. Tis behaviour is nice for parallelisation especially on a HPC system where you have multiple nodes available. \n",
        "\n",
        "A short summary of each rule is in the [MPRAsnakeflow documentation](https://mprasnakeflow.readthedocs.io/en/latest/assignment.html#rules).\n",
        "\n",
        "Now let's run snakemake using 10 cores (BWA can be parallized). When you add the `-p` flag you will see the exact code that is executed in each rule. But we ommit this here beacuse it is a lot of output."
      ]
    },
    {
      "cell_type": "code",
      "execution_count": 23,
      "metadata": {
        "id": "gNESKLR_UkLV"
      },
      "outputs": [
        {
          "name": "stdout",
          "output_type": "stream",
          "text": [
            "\u001b[1;32muser@pc\u001b[0m$ docker run -v=${PWD}/MPRAsnakeflow_tutorial:/data/run --workdir /data/run visze/mprasnakeflow_tutorial:0.1.0 snakemake --configfile config_assignment.yaml -c 10\n",
            "Using profile mprasnakeflow for setting default command line arguments.\n",
            "Assuming unrestricted shared filesystem usage.\n",
            "Building DAG of jobs...\n",
            "Using shell: /usr/bin/bash\n",
            "Provided cores: 10\n",
            "Rules claiming more threads will be scaled down.\n",
            "Singularity containers: ignored\n",
            "Job stats:\n",
            "job                                    count\n",
            "-----------------------------------  -------\n",
            "all                                        1\n",
            "assignment_attach_idx                      2\n",
            "assignment_bwa_ref                         1\n",
            "assignment_check_design                    1\n",
            "assignment_collect                         1\n",
            "assignment_collectBCs                      1\n",
            "assignment_fastq_split                     3\n",
            "assignment_filter                          1\n",
            "assignment_flagstat                        1\n",
            "assignment_getBCs                          1\n",
            "assignment_idx_bam                         1\n",
            "assignment_mapping_bwa                     1\n",
            "assignment_merge                           1\n",
            "assignment_statistic_assignedCounts        1\n",
            "assignment_statistic_assignment            1\n",
            "assignment_statistic_totalCounts           1\n",
            "qc_report_assoc                            1\n",
            "total                                     20\n",
            "\n",
            "Select jobs to execute...\n",
            "Execute 1 jobs...\n",
            "\n",
            "[Wed Aug  7 10:54:26 2024]\n",
            "localrule assignment_check_design:\n",
            "    input: example_data/design/workshop_design.fa, /data/MPRAsnakeflow/workflow/rules/../scripts/assignment/check_design_file.py (cached)\n",
            "    output: results/assignment/assignMPRAworkshop/reference/reference.fa.fxi, results/assignment/assignMPRAworkshop/design_check.done, results/assignment/assignMPRAworkshop/reference/reference.fa\n",
            "    log: results/logs/assignment/check_design.assignMPRAworkshop.log, results/assignment/assignMPRAworkshop/design_check.err\n",
            "    jobid: 10\n",
            "    reason: Missing output files: results/assignment/assignMPRAworkshop/reference/reference.fa, results/assignment/assignMPRAworkshop/design_check.done\n",
            "    wildcards: assignment=assignMPRAworkshop\n",
            "    resources: tmpdir=/tmp\n",
            "\n",
            "Activating conda environment: ../conda_envs/653b2f2da62f9e29538eeaf42dc2a489_\n",
            "Touching output file results/assignment/assignMPRAworkshop/design_check.done.\n",
            "[Wed Aug  7 10:54:27 2024]\n",
            "Finished job 10.\n",
            "1 of 20 steps (5%) done\n",
            "Removing temporary output results/assignment/assignMPRAworkshop/reference/reference.fa.fxi.\n",
            "Select jobs to execute...\n",
            "Execute 4 jobs...\n",
            "\n",
            "[Wed Aug  7 10:54:27 2024]\n",
            "localrule assignment_fastq_split:\n",
            "    input: example_data/assignment/assoc_bc.fastq.gz, results/assignment/assignMPRAworkshop/design_check.done\n",
            "    output: results/assignment/assignMPRAworkshop/fastq/splits/BC.split0.fastq.gz\n",
            "    log: results/logs/assignment/fastq_split.assignMPRAworkshop.BC.log\n",
            "    jobid: 11\n",
            "    reason: Missing output files: results/assignment/assignMPRAworkshop/fastq/splits/BC.split0.fastq.gz; Input files updated by another job: results/assignment/assignMPRAworkshop/design_check.done\n",
            "    wildcards: assignment=assignMPRAworkshop, read=BC\n",
            "    resources: tmpdir=/tmp\n",
            "\n",
            "Activating conda environment: ../conda_envs/65318a22b1fa4bfcea38ef4cbe5cac2b_\n",
            "\n",
            "[Wed Aug  7 10:54:27 2024]\n",
            "localrule assignment_bwa_ref:\n",
            "    input: results/assignment/assignMPRAworkshop/reference/reference.fa, results/assignment/assignMPRAworkshop/design_check.done\n",
            "    output: results/assignment/assignMPRAworkshop/reference/reference.fa.fai, results/assignment/assignMPRAworkshop/reference/reference.fa.bwt, results/assignment/assignMPRAworkshop/reference/reference.fa.sa, results/assignment/assignMPRAworkshop/reference/reference.fa.pac, results/assignment/assignMPRAworkshop/reference/reference.fa.ann, results/assignment/assignMPRAworkshop/reference/reference.fa.amb, results/assignment/assignMPRAworkshop/reference/reference.fa.dict\n",
            "    log: results/logs/assignment/bwa_ref.assignMPRAworkshop.log\n",
            "    jobid: 14\n",
            "    reason: Missing output files: results/assignment/assignMPRAworkshop/reference/reference.fa.pac, results/assignment/assignMPRAworkshop/reference/reference.fa.fai, results/assignment/assignMPRAworkshop/reference/reference.fa.dict, results/assignment/assignMPRAworkshop/reference/reference.fa.ann, results/assignment/assignMPRAworkshop/reference/reference.fa.amb, results/assignment/assignMPRAworkshop/reference/reference.fa.bwt, results/assignment/assignMPRAworkshop/reference/reference.fa.sa; Input files updated by another job: results/assignment/assignMPRAworkshop/reference/reference.fa, results/assignment/assignMPRAworkshop/design_check.done\n",
            "    wildcards: assignment=assignMPRAworkshop\n",
            "    resources: tmpdir=/tmp\n",
            "\n",
            "Activating conda environment: ../conda_envs/50b61aef61c0c65fd933378d537fa1ad_\n",
            "\n",
            "[Wed Aug  7 10:54:27 2024]\n",
            "localrule assignment_fastq_split:\n",
            "    input: example_data/assignment/assoc_rev.fastq.gz, results/assignment/assignMPRAworkshop/design_check.done\n",
            "    output: results/assignment/assignMPRAworkshop/fastq/splits/REV.split0.fastq.gz\n",
            "    log: results/logs/assignment/fastq_split.assignMPRAworkshop.REV.log\n",
            "    jobid: 13\n",
            "    reason: Missing output files: results/assignment/assignMPRAworkshop/fastq/splits/REV.split0.fastq.gz; Input files updated by another job: results/assignment/assignMPRAworkshop/design_check.done\n",
            "    wildcards: assignment=assignMPRAworkshop, read=REV\n",
            "    resources: tmpdir=/tmp\n",
            "\n",
            "Activating conda environment: ../conda_envs/65318a22b1fa4bfcea38ef4cbe5cac2b_\n",
            "\n",
            "[Wed Aug  7 10:54:27 2024]\n",
            "localrule assignment_fastq_split:\n",
            "    input: example_data/assignment/assoc_fwd.fastq.gz, results/assignment/assignMPRAworkshop/design_check.done\n",
            "    output: results/assignment/assignMPRAworkshop/fastq/splits/FW.split0.fastq.gz\n",
            "    log: results/logs/assignment/fastq_split.assignMPRAworkshop.FW.log\n",
            "    jobid: 9\n",
            "    reason: Missing output files: results/assignment/assignMPRAworkshop/fastq/splits/FW.split0.fastq.gz; Input files updated by another job: results/assignment/assignMPRAworkshop/design_check.done\n",
            "    wildcards: assignment=assignMPRAworkshop, read=FW\n",
            "    resources: tmpdir=/tmp\n",
            "\n",
            "Activating conda environment: ../conda_envs/65318a22b1fa4bfcea38ef4cbe5cac2b_\n",
            "[Wed Aug  7 10:54:31 2024]\n",
            "Finished job 11.\n",
            "2 of 20 steps (10%) done\n",
            "[Wed Aug  7 10:54:40 2024]\n",
            "Finished job 9.\n",
            "3 of 20 steps (15%) done\n",
            "Select jobs to execute...\n",
            "Execute 1 jobs...\n",
            "\n",
            "[Wed Aug  7 10:54:40 2024]\n",
            "localrule assignment_attach_idx:\n",
            "    input: results/assignment/assignMPRAworkshop/fastq/splits/FW.split0.fastq.gz, results/assignment/assignMPRAworkshop/fastq/splits/BC.split0.fastq.gz, /data/MPRAsnakeflow/workflow/rules/../scripts/attachBCToFastQ.py (cached), /data/MPRAsnakeflow/workflow/rules/../scripts/common.py (cached)\n",
            "    output: results/assignment/assignMPRAworkshop/fastq/splits/FW.split0.BCattached.fastq.gz\n",
            "    log: results/logs/assignment/attach_idx.assignMPRAworkshop.0.FW.log\n",
            "    jobid: 8\n",
            "    reason: Missing output files: results/assignment/assignMPRAworkshop/fastq/splits/FW.split0.BCattached.fastq.gz; Input files updated by another job: results/assignment/assignMPRAworkshop/fastq/splits/FW.split0.fastq.gz, results/assignment/assignMPRAworkshop/fastq/splits/BC.split0.fastq.gz\n",
            "    wildcards: assignment=assignMPRAworkshop, read=FW, split=0\n",
            "    resources: tmpdir=/tmp\n",
            "\n",
            "Activating conda environment: ../conda_envs/bb8949380f7226ba92e4a563406e4b7d_\n",
            "[Wed Aug  7 10:54:40 2024]\n",
            "Finished job 13.\n",
            "4 of 20 steps (20%) done\n",
            "Select jobs to execute...\n",
            "Execute 1 jobs...\n",
            "\n",
            "[Wed Aug  7 10:54:40 2024]\n",
            "localrule assignment_attach_idx:\n",
            "    input: results/assignment/assignMPRAworkshop/fastq/splits/REV.split0.fastq.gz, results/assignment/assignMPRAworkshop/fastq/splits/BC.split0.fastq.gz, /data/MPRAsnakeflow/workflow/rules/../scripts/attachBCToFastQ.py (cached), /data/MPRAsnakeflow/workflow/rules/../scripts/common.py (cached)\n",
            "    output: results/assignment/assignMPRAworkshop/fastq/splits/REV.split0.BCattached.fastq.gz\n",
            "    log: results/logs/assignment/attach_idx.assignMPRAworkshop.0.REV.log\n",
            "    jobid: 12\n",
            "    reason: Missing output files: results/assignment/assignMPRAworkshop/fastq/splits/REV.split0.BCattached.fastq.gz; Input files updated by another job: results/assignment/assignMPRAworkshop/fastq/splits/REV.split0.fastq.gz, results/assignment/assignMPRAworkshop/fastq/splits/BC.split0.fastq.gz\n",
            "    wildcards: assignment=assignMPRAworkshop, read=REV, split=0\n",
            "    resources: tmpdir=/tmp\n",
            "\n",
            "Activating conda environment: ../conda_envs/bb8949380f7226ba92e4a563406e4b7d_\n",
            "[Wed Aug  7 10:54:43 2024]\n",
            "Finished job 14.\n",
            "5 of 20 steps (25%) done\n",
            "[Wed Aug  7 10:55:23 2024]\n",
            "Finished job 8.\n",
            "6 of 20 steps (30%) done\n",
            "Removing temporary output results/assignment/assignMPRAworkshop/fastq/splits/FW.split0.fastq.gz.\n",
            "[Wed Aug  7 10:55:23 2024]\n",
            "Finished job 12.\n",
            "7 of 20 steps (35%) done\n",
            "Removing temporary output results/assignment/assignMPRAworkshop/fastq/splits/REV.split0.fastq.gz.\n",
            "Removing temporary output results/assignment/assignMPRAworkshop/fastq/splits/BC.split0.fastq.gz.\n",
            "Select jobs to execute...\n",
            "Execute 1 jobs...\n",
            "\n",
            "[Wed Aug  7 10:55:23 2024]\n",
            "localrule assignment_merge:\n",
            "    input: results/assignment/assignMPRAworkshop/fastq/splits/FW.split0.BCattached.fastq.gz, results/assignment/assignMPRAworkshop/fastq/splits/REV.split0.BCattached.fastq.gz\n",
            "    output: results/assignment/assignMPRAworkshop/fastq/merge_split0.un.fastq.gz, results/assignment/assignMPRAworkshop/fastq/merge_split0.join.fastq.gz\n",
            "    log: results/logs/assignment/merge.assignMPRAworkshop.0.log.gz\n",
            "    jobid: 7\n",
            "    reason: Missing output files: results/assignment/assignMPRAworkshop/fastq/merge_split0.join.fastq.gz; Input files updated by another job: results/assignment/assignMPRAworkshop/fastq/splits/REV.split0.BCattached.fastq.gz, results/assignment/assignMPRAworkshop/fastq/splits/FW.split0.BCattached.fastq.gz\n",
            "    wildcards: assignment=assignMPRAworkshop, split=0\n",
            "    resources: tmpdir=/tmp\n",
            "\n",
            "Activating conda environment: ../conda_envs/bb8949380f7226ba92e4a563406e4b7d_\n",
            "[Wed Aug  7 10:57:01 2024]\n",
            "Finished job 7.\n",
            "8 of 20 steps (40%) done\n",
            "Removing temporary output results/assignment/assignMPRAworkshop/fastq/splits/FW.split0.BCattached.fastq.gz.\n",
            "Removing temporary output results/assignment/assignMPRAworkshop/fastq/splits/REV.split0.BCattached.fastq.gz.\n",
            "Removing temporary output results/assignment/assignMPRAworkshop/fastq/merge_split0.un.fastq.gz.\n",
            "Select jobs to execute...\n",
            "Execute 1 jobs...\n",
            "\n",
            "[Wed Aug  7 10:57:01 2024]\n",
            "localrule assignment_mapping_bwa:\n",
            "    input: results/assignment/assignMPRAworkshop/fastq/merge_split0.join.fastq.gz, results/assignment/assignMPRAworkshop/reference/reference.fa, results/assignment/assignMPRAworkshop/reference/reference.fa.fai, results/assignment/assignMPRAworkshop/reference/reference.fa.dict, results/assignment/assignMPRAworkshop/reference/reference.fa.bwt, results/assignment/assignMPRAworkshop/reference/reference.fa.sa, results/assignment/assignMPRAworkshop/reference/reference.fa.pac, results/assignment/assignMPRAworkshop/reference/reference.fa.ann, results/assignment/assignMPRAworkshop/reference/reference.fa.amb\n",
            "    output: results/assignment/assignMPRAworkshop/bam/merge_split0.mapped.bam\n",
            "    log: results/logs/assignment/mapping.assignMPRAworkshop.0.log\n",
            "    jobid: 6\n",
            "    reason: Missing output files: results/assignment/assignMPRAworkshop/bam/merge_split0.mapped.bam; Input files updated by another job: results/assignment/assignMPRAworkshop/fastq/merge_split0.join.fastq.gz, results/assignment/assignMPRAworkshop/reference/reference.fa, results/assignment/assignMPRAworkshop/reference/reference.fa.pac, results/assignment/assignMPRAworkshop/reference/reference.fa.fai, results/assignment/assignMPRAworkshop/reference/reference.fa.dict, results/assignment/assignMPRAworkshop/reference/reference.fa.ann, results/assignment/assignMPRAworkshop/reference/reference.fa.amb, results/assignment/assignMPRAworkshop/reference/reference.fa.bwt, results/assignment/assignMPRAworkshop/reference/reference.fa.sa\n",
            "    wildcards: assignment=assignMPRAworkshop, split=0\n",
            "    threads: 10\n",
            "    resources: tmpdir=/tmp\n",
            "\n",
            "Activating conda environment: ../conda_envs/50b61aef61c0c65fd933378d537fa1ad_\n",
            "[M::bwa_idx_load_from_disk] read 0 ALT contigs\n",
            "[M::process] read 505006 sequences (100000064 bp)...\n",
            "[M::process] read 63317 sequences (12534094 bp)...\n",
            "[M::mem_process_seqs] Processed 505006 reads in 386.979 CPU sec, 51.310 real sec\n",
            "[M::mem_process_seqs] Processed 63317 reads in 44.905 CPU sec, 4.773 real sec\n",
            "[main] Version: 0.7.18-r1243-dirty\n",
            "[main] CMD: bwa mem -t 10 -L 80 -M -C results/assignment/assignMPRAworkshop/reference/reference.fa /dev/fd/63\n",
            "[main] Real time: 69.605 sec; CPU: 443.157 sec\n",
            "[Wed Aug  7 10:58:25 2024]\n",
            "Finished job 6.\n",
            "9 of 20 steps (45%) done\n",
            "Removing temporary output results/assignment/assignMPRAworkshop/fastq/merge_split0.join.fastq.gz.\n",
            "Select jobs to execute...\n",
            "Execute 2 jobs...\n",
            "\n",
            "[Wed Aug  7 10:58:26 2024]\n",
            "localrule assignment_collect:\n",
            "    input: results/assignment/assignMPRAworkshop/bam/merge_split0.mapped.bam\n",
            "    output: results/assignment/assignMPRAworkshop/aligned_merged_reads.bam\n",
            "    log: results/logs/assignment/collect.assignMPRAworkshop.log\n",
            "    jobid: 18\n",
            "    reason: Missing output files: results/assignment/assignMPRAworkshop/aligned_merged_reads.bam; Input files updated by another job: results/assignment/assignMPRAworkshop/bam/merge_split0.mapped.bam\n",
            "    wildcards: assignment=assignMPRAworkshop\n",
            "    resources: tmpdir=/tmp\n",
            "\n",
            "\n",
            "[Wed Aug  7 10:58:26 2024]\n",
            "localrule assignment_getBCs:\n",
            "    input: results/assignment/assignMPRAworkshop/bam/merge_split0.mapped.bam\n",
            "    output: results/assignment/assignMPRAworkshop/BCs/barcodes_incl_other.0.tsv\n",
            "    log: results/logs/assignment/getBCs.assignMPRAworkshop.0.log\n",
            "    jobid: 5\n",
            "    reason: Missing output files: results/assignment/assignMPRAworkshop/BCs/barcodes_incl_other.0.tsv; Input files updated by another job: results/assignment/assignMPRAworkshop/bam/merge_split0.mapped.bam\n",
            "    wildcards: assignment=assignMPRAworkshop, split=0\n",
            "    resources: tmpdir=/tmp\n",
            "\n",
            "Activating conda environment: ../conda_envs/50b61aef61c0c65fd933378d537fa1ad_\n",
            "Activating conda environment: ../conda_envs/50b61aef61c0c65fd933378d537fa1ad_\n",
            "[Wed Aug  7 10:58:39 2024]\n",
            "Finished job 5.\n",
            "10 of 20 steps (50%) done\n",
            "Select jobs to execute...\n",
            "Execute 1 jobs...\n",
            "\n",
            "[Wed Aug  7 10:58:39 2024]\n",
            "localrule assignment_collectBCs:\n",
            "    input: results/assignment/assignMPRAworkshop/BCs/barcodes_incl_other.0.tsv\n",
            "    output: results/assignment/assignMPRAworkshop/barcodes_incl_other.tsv.gz\n",
            "    log: results/logs/assignment/collectBCs.assignMPRAworkshop.log\n",
            "    jobid: 4\n",
            "    reason: Missing output files: results/assignment/assignMPRAworkshop/barcodes_incl_other.tsv.gz; Input files updated by another job: results/assignment/assignMPRAworkshop/BCs/barcodes_incl_other.0.tsv\n",
            "    wildcards: assignment=assignMPRAworkshop\n",
            "    resources: tmpdir=/tmp\n",
            "\n",
            "Activating conda environment: ../conda_envs/ec92106e14f6232977fd0918d24cb216_\n",
            "[Wed Aug  7 10:58:42 2024]\n",
            "Finished job 4.\n",
            "11 of 20 steps (55%) done\n",
            "Removing temporary output results/assignment/assignMPRAworkshop/BCs/barcodes_incl_other.0.tsv.\n",
            "Select jobs to execute...\n",
            "Execute 2 jobs...\n",
            "\n",
            "[Wed Aug  7 10:58:43 2024]\n",
            "localrule assignment_statistic_totalCounts:\n",
            "    input: results/assignment/assignMPRAworkshop/barcodes_incl_other.tsv.gz, /data/MPRAsnakeflow/workflow/rules/../scripts/assignment/statistic_total_counts.py (cached)\n",
            "    output: results/assignment/assignMPRAworkshop/statistic/total_counts.tsv\n",
            "    log: results/logs/assignment/statistic_totalCounts.assignMPRAworkshop.log\n",
            "    jobid: 15\n",
            "    reason: Missing output files: results/assignment/assignMPRAworkshop/statistic/total_counts.tsv; Input files updated by another job: results/assignment/assignMPRAworkshop/barcodes_incl_other.tsv.gz\n",
            "    wildcards: assignment=assignMPRAworkshop\n",
            "    resources: tmpdir=/tmp\n",
            "\n",
            "Activating conda environment: ../conda_envs/653b2f2da62f9e29538eeaf42dc2a489_\n",
            "\n",
            "[Wed Aug  7 10:58:43 2024]\n",
            "localrule assignment_filter:\n",
            "    input: results/assignment/assignMPRAworkshop/barcodes_incl_other.tsv.gz, /data/MPRAsnakeflow/workflow/rules/../scripts/assignment/filterAssignmentTsv.py (cached)\n",
            "    output: results/assignment/assignMPRAworkshop/assignment_barcodes.default.tsv.gz, results/assignment/assignMPRAworkshop/assignment_barcodes_with_ambigous.default.tsv.gz\n",
            "    log: results/logs/assignment/filter.assignMPRAworkshop.default.log\n",
            "    jobid: 3\n",
            "    reason: Missing output files: results/assignment/assignMPRAworkshop/assignment_barcodes.default.tsv.gz, results/assignment/assignMPRAworkshop/assignment_barcodes_with_ambigous.default.tsv.gz; Input files updated by another job: results/assignment/assignMPRAworkshop/barcodes_incl_other.tsv.gz\n",
            "    wildcards: assignment=assignMPRAworkshop, assignment_config=default\n",
            "    resources: tmpdir=/tmp\n",
            "\n",
            "Activating conda environment: ../conda_envs/653b2f2da62f9e29538eeaf42dc2a489_\n",
            "[Wed Aug  7 10:58:45 2024]\n",
            "Finished job 18.\n",
            "12 of 20 steps (60%) done\n",
            "Removing temporary output results/assignment/assignMPRAworkshop/bam/merge_split0.mapped.bam.\n",
            "Select jobs to execute...\n",
            "Execute 1 jobs...\n",
            "\n",
            "[Wed Aug  7 10:58:45 2024]\n",
            "localrule assignment_idx_bam:\n",
            "    input: results/assignment/assignMPRAworkshop/aligned_merged_reads.bam\n",
            "    output: results/assignment/assignMPRAworkshop/aligned_merged_reads.bam.bai\n",
            "    log: results/logs/assignment/assignMPRAworkshop/assignment_idx_bam.log\n",
            "    jobid: 19\n",
            "    reason: Missing output files: results/assignment/assignMPRAworkshop/aligned_merged_reads.bam.bai; Input files updated by another job: results/assignment/assignMPRAworkshop/aligned_merged_reads.bam\n",
            "    wildcards: assignment=assignMPRAworkshop\n",
            "    resources: tmpdir=/tmp\n",
            "\n",
            "Activating conda environment: ../conda_envs/50b61aef61c0c65fd933378d537fa1ad_\n",
            "[Wed Aug  7 10:58:50 2024]\n",
            "Finished job 3.\n",
            "13 of 20 steps (65%) done\n",
            "Select jobs to execute...\n",
            "Execute 2 jobs...\n",
            "\n",
            "[Wed Aug  7 10:58:50 2024]\n",
            "localrule assignment_statistic_assignedCounts:\n",
            "    input: results/assignment/assignMPRAworkshop/assignment_barcodes_with_ambigous.default.tsv.gz, /data/MPRAsnakeflow/workflow/rules/../scripts/assignment/statistic_total_counts.py (cached)\n",
            "    output: results/assignment/assignMPRAworkshop/statistic/assigned_counts.default.tsv\n",
            "    log: results/logs/assignment/statistic_assignedCounts.assignMPRAworkshop.default.log\n",
            "    jobid: 2\n",
            "    reason: Missing output files: results/assignment/assignMPRAworkshop/statistic/assigned_counts.default.tsv; Input files updated by another job: results/assignment/assignMPRAworkshop/assignment_barcodes_with_ambigous.default.tsv.gz\n",
            "    wildcards: assignment=assignMPRAworkshop, assignment_config=default\n",
            "    resources: tmpdir=/tmp\n",
            "\n",
            "Activating conda environment: ../conda_envs/653b2f2da62f9e29538eeaf42dc2a489_\n",
            "\n",
            "[Wed Aug  7 10:58:50 2024]\n",
            "localrule assignment_statistic_assignment:\n",
            "    input: results/assignment/assignMPRAworkshop/assignment_barcodes.default.tsv.gz, /data/MPRAsnakeflow/workflow/rules/../scripts/assignment/statistic_assignment.R (cached)\n",
            "    output: results/assignment/assignMPRAworkshop/statistic/assignment.default.tsv.gz, results/assignment/assignMPRAworkshop/statistic/assignment.default.png\n",
            "    log: results/logs/assignment/statistic_assignment.assignMPRAworkshop.default.log\n",
            "    jobid: 16\n",
            "    reason: Missing output files: results/assignment/assignMPRAworkshop/statistic/assignment.default.png; Input files updated by another job: results/assignment/assignMPRAworkshop/assignment_barcodes.default.tsv.gz\n",
            "    wildcards: assignment=assignMPRAworkshop, assignment_config=default\n",
            "    resources: tmpdir=/tmp\n",
            "\n",
            "Activating conda environment: ../conda_envs/a97672b6846360f00f0e85ee53a46950_\n",
            "[Wed Aug  7 10:58:54 2024]\n",
            "Finished job 2.\n",
            "14 of 20 steps (70%) done\n",
            "[Wed Aug  7 10:58:55 2024]\n",
            "Finished job 15.\n",
            "15 of 20 steps (75%) done\n",
            "[Wed Aug  7 10:58:56 2024]\n",
            "Finished job 19.\n",
            "16 of 20 steps (80%) done\n",
            "Select jobs to execute...\n",
            "Execute 1 jobs...\n",
            "\n",
            "[Wed Aug  7 10:58:56 2024]\n",
            "localrule assignment_flagstat:\n",
            "    input: results/assignment/assignMPRAworkshop/aligned_merged_reads.bam, results/assignment/assignMPRAworkshop/aligned_merged_reads.bam.bai\n",
            "    output: results/assignment/assignMPRAworkshop/statistic/assignment/bam_stats.txt\n",
            "    log: results/logs/assignment/flagstat.assignMPRAworkshop.log\n",
            "    jobid: 17\n",
            "    reason: Missing output files: results/assignment/assignMPRAworkshop/statistic/assignment/bam_stats.txt; Input files updated by another job: results/assignment/assignMPRAworkshop/aligned_merged_reads.bam, results/assignment/assignMPRAworkshop/aligned_merged_reads.bam.bai\n",
            "    wildcards: assignment=assignMPRAworkshop\n",
            "    resources: tmpdir=/tmp\n",
            "\n",
            "Activating conda environment: ../conda_envs/50b61aef61c0c65fd933378d537fa1ad_\n",
            "[Wed Aug  7 10:59:02 2024]\n",
            "Finished job 17.\n",
            "17 of 20 steps (85%) done\n",
            "[Wed Aug  7 10:59:03 2024]\n",
            "Finished job 16.\n",
            "18 of 20 steps (90%) done\n",
            "Select jobs to execute...\n",
            "Execute 1 jobs...\n",
            "\n",
            "[Wed Aug  7 10:59:03 2024]\n",
            "localrule qc_report_assoc:\n",
            "    input: /data/MPRAsnakeflow/workflow/rules/../scripts/report/qc_report_assoc.qmd (cached), example_data/design/workshop_design.fa, results/assignment/assignMPRAworkshop/statistic/assigned_counts.default.tsv, results/assignment/assignMPRAworkshop/statistic/total_counts.tsv, results/assignment/assignMPRAworkshop/statistic/assignment.default.png\n",
            "    output: results/assignment/assignMPRAworkshop/qc_report.default.html, results/assignment/assignMPRAworkshop/qc_report.default.qmd\n",
            "    log: results/logs/qc_report/assoc.assignMPRAworkshop.default.log\n",
            "    jobid: 1\n",
            "    reason: Missing output files: results/assignment/assignMPRAworkshop/qc_report.default.html; Input files updated by another job: results/assignment/assignMPRAworkshop/statistic/assigned_counts.default.tsv, results/assignment/assignMPRAworkshop/statistic/assignment.default.png, results/assignment/assignMPRAworkshop/statistic/total_counts.tsv\n",
            "    wildcards: assignment=assignMPRAworkshop, assignment_config=default\n",
            "    resources: tmpdir=/tmp\n",
            "\n",
            "Activating conda environment: ../conda_envs/5e2aae8e57563b133d3b468a46fc84fb_\n",
            "[Wed Aug  7 10:59:31 2024]\n",
            "Finished job 1.\n",
            "19 of 20 steps (95%) done\n",
            "Removing temporary output results/assignment/assignMPRAworkshop/qc_report.default.qmd.\n",
            "Select jobs to execute...\n",
            "Execute 1 jobs...\n",
            "\n",
            "[Wed Aug  7 10:59:31 2024]\n",
            "localrule all:\n",
            "    input: results/assignment/assignMPRAworkshop/qc_report.default.html, results/assignment/assignMPRAworkshop/assignment_barcodes.default.tsv.gz, results/assignment/assignMPRAworkshop/statistic/assigned_counts.default.tsv, results/assignment/assignMPRAworkshop/statistic/assignment.default.png, results/assignment/assignMPRAworkshop/statistic/total_counts.tsv, results/assignment/assignMPRAworkshop/statistic/assignment/bam_stats.txt\n",
            "    jobid: 0\n",
            "    reason: Input files updated by another job: results/assignment/assignMPRAworkshop/qc_report.default.html, results/assignment/assignMPRAworkshop/assignment_barcodes.default.tsv.gz, results/assignment/assignMPRAworkshop/statistic/assignment/bam_stats.txt, results/assignment/assignMPRAworkshop/statistic/total_counts.tsv, results/assignment/assignMPRAworkshop/statistic/assigned_counts.default.tsv, results/assignment/assignMPRAworkshop/statistic/assignment.default.png\n",
            "    resources: tmpdir=/tmp\n",
            "\n",
            "[Wed Aug  7 10:59:31 2024]\n",
            "Finished job 0.\n",
            "20 of 20 steps (100%) done\n",
            "Complete log: .snakemake/log/2024-08-07T105421.815191.snakemake.log\n"
          ]
        }
      ],
      "source": [
        "runContainer(\"snakemake --configfile config_assignment.yaml -c 10\")"
      ]
    },
    {
      "cell_type": "markdown",
      "metadata": {},
      "source": [
        "## Assignment results\n",
        "\n",
        "Let's take a look at the files in the experiment results folder!"
      ]
    },
    {
      "cell_type": "code",
      "execution_count": 24,
      "metadata": {},
      "outputs": [
        {
          "name": "stdout",
          "output_type": "stream",
          "text": [
            "MPRAsnakeflow_tutorial/results/assignment:\n",
            "assignMPRAworkshop\n",
            "\n",
            "MPRAsnakeflow_tutorial/results/assignment/assignMPRAworkshop:\n",
            "aligned_merged_reads.bam\t\t\t  design_check.done\n",
            "aligned_merged_reads.bam.bai\t\t\t  design_check.err\n",
            "assignment_barcodes.default.tsv.gz\t\t  qc_report.default.html\n",
            "assignment_barcodes_with_ambigous.default.tsv.gz  reference\n",
            "barcodes_incl_other.tsv.gz\t\t\t  statistic\n",
            "\n",
            "MPRAsnakeflow_tutorial/results/assignment/assignMPRAworkshop/reference:\n",
            "reference.fa\t  reference.fa.ann  reference.fa.dict  reference.fa.pac\n",
            "reference.fa.amb  reference.fa.bwt  reference.fa.fai   reference.fa.sa\n",
            "\n",
            "MPRAsnakeflow_tutorial/results/assignment/assignMPRAworkshop/statistic:\n",
            "assigned_counts.default.tsv  assignment.default.png\ttotal_counts.tsv\n",
            "assignment\t\t     assignment.default.tsv.gz\n",
            "\n",
            "MPRAsnakeflow_tutorial/results/assignment/assignMPRAworkshop/statistic/assignment:\n",
            "bam_stats.txt\n"
          ]
        }
      ],
      "source": [
        "results_dir = \"MPRAsnakeflow_tutorial/results/assignment\"\n",
        "!ls -R \"{results_dir}\""
      ]
    },
    {
      "cell_type": "markdown",
      "metadata": {},
      "source": [
        "The statistic folder contains run statistics for the assignment step, such as the total number of associated barcounts, the number of oligos with at least 15 barcodes, and more. We will now just take a look at the generated count histogram of barcodes per oligo."
      ]
    },
    {
      "cell_type": "code",
      "execution_count": 25,
      "metadata": {},
      "outputs": [
        {
          "data": {
            "text/plain": [
              "(np.float64(-0.5), np.float64(2099.5), np.float64(2099.5), np.float64(-0.5))"
            ]
          },
          "execution_count": 25,
          "metadata": {},
          "output_type": "execute_result"
        },
        {
          "data": {
            "image/png": "[encoded data removed]",
            "text/plain": [
              "<Figure size 640x480 with 1 Axes>"
            ]
          },
          "metadata": {},
          "output_type": "display_data"
        }
      ],
      "source": [
        "img = plt.imread(os.path.join(results_dir, \"assignMPRAworkshop/statistic/assignment.default.png\"))\n",
        "plt.imshow(img)\n",
        "plt.axis(\"off\")"
      ]
    },
    {
      "cell_type": "markdown",
      "metadata": {},
      "source": [
        "The median number of barcodes is 24. We usually require each tested sequence to have at least 10 barcodes associated.\n",
        "\n",
        "We will now take a look at the actual output file of the assignment run. Which is a sorted table of `barcodes`, their assigned `sequence IDs`, information about the `quality` of the alignment (fwd/rev reads to designed oligos) and how often this barcode was assigned to this sequence compared to the total number this barcode was observed in the experiment. The information in the quality field is derived from the SAM/BAM output (https://samtools.github.io/hts-specs/SAMv1.pdf) and represents a concatenation of the SAM position, cigar, NM, MD and mapQ."
      ]
    },
    {
      "cell_type": "code",
      "execution_count": 26,
      "metadata": {},
      "outputs": [
        {
          "name": "stdout",
          "output_type": "stream",
          "text": [
            "AAAAAAAAAGAAGGG\toligo_006589\t16;200M;NM:i:0;MD:Z:200;7\t5/5\n",
            "AAAAAAAAATCGATC\toligo_006917\t16;200M;NM:i:0;MD:Z:200;7\t3/3\n",
            "AAAAAAAAATGATCT\toligo_211468\t16;200M;NM:i:1;MD:Z:190A9;6\t4/4\n",
            "AAAAAAAACACATGA\toligo_005412\t16;200M;NM:i:0;MD:Z:200;7\t3/3\n",
            "AAAAAAAACAGTAAG\toligo_006290\t16;200M;NM:i:0;MD:Z:200;7\t3/3\n",
            "AAAAAAAACATAGTT\toligo_006471\t16;200M;NM:i:0;MD:Z:200;7\t3/3\n",
            "AAAAAAAACCAAATA\toligo_189277\t16;200M;NM:i:0;MD:Z:200;7\t3/3\n",
            "AAAAAAAACGAACAG\toligo_005299\t16;200M;NM:i:0;MD:Z:200;7\t3/3\n",
            "AAAAAAAACTATGTT\toligo_005948\t16;200M;NM:i:0;MD:Z:200;7\t3/3\n",
            "AAAAAAAAGAAGGAC\toligo_006561\t16;200M;NM:i:0;MD:Z:200;7\t3/3\n"
          ]
        }
      ],
      "source": [
        "assignment = os.path.join(results_dir, \"assignMPRAworkshop/assignment_barcodes.default.tsv.gz\")\n",
        "!zcat \"{assignment}\" | awk 'NR <= 10 {{print $$0}}'"
      ]
    },
    {
      "cell_type": "markdown",
      "metadata": {},
      "source": [
        "We would like to know how many different oligos have been included in the final assignment.\\\n",
        "When we compare this number to the number of sequences in our design, we can get a feeling of how many sequences were able to get assigned with their barcodes. This has implications for the proportion of targets that we can eventually analyse and whether each target is supported with sufficiently many barcodes. This information is important for the experiment overall and analyzing the counts of each individual replicate."
      ]
    },
    {
      "cell_type": "code",
      "execution_count": 27,
      "metadata": {},
      "outputs": [
        {
          "name": "stdout",
          "output_type": "stream",
          "text": [
            "Number of sequences we were able to assign: 2050\n",
            "Number of sequences in the initial design: 2104\n",
            "Conclusion: 97.4% sequences of our initial design can be used in the experimental/counting step\n"
          ]
        }
      ],
      "source": [
        "assigned_sequences = !zcat \"{assignment}\" | awk -F'\\t' '{{names[$$2]++}} END {{print length(names)}}'\n",
        "\n",
        "assigned_sequences = int(assigned_sequences[0])\n",
        "print(\"Number of sequences we were able to assign: %s\"%(assigned_sequences))\n",
        "\n",
        "designed_sequences = !cat \"MPRAsnakeflow_tutorial/example_data/design/workshop_design.fa\" | grep -v \">\" | wc -l\n",
        "designed_sequences = int(designed_sequences[0])\n",
        "print(\"Number of sequences in the initial design: %s\"%(designed_sequences))\n",
        "\n",
        "print(r\"Conclusion: %s%% sequences of our initial design can be used in the experimental/counting step\"%(round(assigned_sequences/designed_sequences * 100, 1)))"
      ]
    },
    {
      "cell_type": "markdown",
      "metadata": {},
      "source": [
        "### QC report\n",
        "\n",
        "We have a QC report for the assigment as well for the experiment workflow . For our run you can find it here:\n",
        "\n",
        "[MPRAsnakeflow_tutorial/results/assignment/assignMPRAworkshop/qc_report.default.html](MPRAsnakeflow_tutorial/results/assignment/assignMPRAworkshop/qc_report.default.html)\n",
        "\n",
        "The QC report gives a nice overview of the assignment run and might be the first thing you will look on."
      ]
    },
    {
      "cell_type": "code",
      "execution_count": 32,
      "metadata": {},
      "outputs": [
        {
          "data": {
            "text/html": [
              "\n",
              "        <iframe\n",
              "            width=\"700\"\n",
              "            height=\"600\"\n",
              "            src=\"./MPRAsnakeflow_tutorial/results/assignment/assignMPRAworkshop/qc_report.default.html\"\n",
              "            frameborder=\"0\"\n",
              "            allowfullscreen\n",
              "            \n",
              "        ></iframe>\n",
              "        "
            ],
            "text/plain": [
              "<IPython.lib.display.IFrame at 0x7fb7551b32f0>"
            ]
          },
          "execution_count": 32,
          "metadata": {},
          "output_type": "execute_result"
        }
      ],
      "source": [
        "from IPython.display import IFrame\n",
        "\n",
        "IFrame(src='./MPRAsnakeflow_tutorial/results/assignment/assignMPRAworkshop/qc_report.default.html', width=700, height=600)"
      ]
    }
  ],
  "metadata": {
    "colab": {
      "collapsed_sections": [
        "32PHp-vU99x0",
        "6GilAsqZ4t9r"
      ],
      "include_colab_link": true,
      "provenance": []
    },
    "kernelspec": {
      "display_name": "Python 3",
      "name": "python3"
    },
    "language_info": {
      "codemirror_mode": {
        "name": "ipython",
        "version": 3
      },
      "file_extension": ".py",
      "mimetype": "text/x-python",
      "name": "python",
      "nbconvert_exporter": "python",
      "pygments_lexer": "ipython3",
      "version": "3.12.4"
    }
  },
  "nbformat": 4,
  "nbformat_minor": 0
}
