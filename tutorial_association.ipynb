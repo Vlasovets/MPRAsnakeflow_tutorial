{
  "cells": [
    {
      "cell_type": "markdown",
      "metadata": {
        "colab_type": "text",
        "id": "view-in-github"
      },
      "source": [
        "<a href=\"https://colab.research.google.com/github/kircherlab/MPRAsnakeflow_tutorial/blob/development/tutorial_association.ipynb\" target=\"_parent\"><img src=\"https://colab.research.google.com/assets/colab-badge.svg\" alt=\"Open In Colab\"/></a>"
      ]
    },
    {
      "cell_type": "markdown",
      "metadata": {
        "id": "BOSJecyQPnnC"
      },
      "source": [
        "# MPRAsnakeflow association tutorial"
      ]
    },
    {
      "cell_type": "code",
      "execution_count": 1,
      "metadata": {
        "colab": {
          "base_uri": "https://localhost:8080/"
        },
        "id": "NsBG7lOCPnnE",
        "outputId": "6da1caeb-905a-42f8-843a-54409a379c0f"
      },
      "outputs": [],
      "source": [
        "# import matplotlib.pyplot as plt\n",
        "# import os\n",
        "# import cv2\n",
        "# from google.colab.patches import cv2_imshow"
      ]
    },
    {
      "cell_type": "markdown",
      "metadata": {
        "id": "uAAYJQqv9zIk"
      },
      "source": [
        "## Pre-requirements"
      ]
    },
    {
      "cell_type": "markdown",
      "metadata": {
        "id": "dOsEkOFu-MbM"
      },
      "source": [
        "### Docker\n",
        "Docker using udocker in colab from github.com/drengskapur/docker-in-colab."
      ]
    },
    {
      "cell_type": "code",
      "execution_count": 2,
      "metadata": {
        "colab": {
          "base_uri": "https://localhost:8080/"
        },
        "id": "NSTDSHTN4JJk",
        "outputId": "5c2ad4b0-cc4b-4ced-9bfe-a75960cc36bd"
      },
      "outputs": [
        {
          "name": "stdout",
          "output_type": "stream",
          "text": [
            "Running docker locally\n",
            "\n"
          ]
        }
      ],
      "source": [
        "# Copyright 2024 Drengskapur\n",
        "#\n",
        "# Licensed under the Apache License, Version 2.0 (the \"License\");\n",
        "# you may not use this file except in compliance with the License.\n",
        "# You may obtain a copy of the License at\n",
        "#\n",
        "#     http://www.apache.org/licenses/LICENSE-2.0\n",
        "#\n",
        "# Unless required by applicable law or agreed to in writing, software\n",
        "# distributed under the License is distributed on an \"AS IS\" BASIS,\n",
        "# WITHOUT WARRANTIES OR CONDITIONS OF ANY KIND, either express or implied.\n",
        "# See the License for the specific language governing permissions and\n",
        "# limitations under the License.\n",
        "#\n",
        "# @title {display-mode:\"form\"}\n",
        "# @markdown <br/><br/><center><img src=\"https://cdn.jsdelivr.net/gh/drengskapur/docker-in-colab/assets/docker.svg\" height=\"150\"><img src=\"https://cdn.jsdelivr.net/gh/drengskapur/docker-in-colab/assets/colab.svg\" height=\"150\"></center><br/>\n",
        "# @markdown <center><h1>Docker in Colab</h1></center><center>github.com/drengskapur/docker-in-colab<br/><br/><br/><b>udocker(\"run hello-world\")</b></center><br/>\n",
        "def udocker_init():\n",
        "    import os\n",
        "    if not os.path.exists(\"/home/user\"):\n",
        "        !pip install udocker > /dev/null\n",
        "        !udocker --allow-root install > /dev/null\n",
        "        !useradd -m user > /dev/null\n",
        "    print(f'Docker-in-Colab 1.1.0\\n')\n",
        "    print(f'Usage:     udocker(\"--help\")')\n",
        "    print(f'Examples:  https://github.com/indigo-dc/udocker?tab=readme-ov-file#examples')\n",
        "\n",
        "    def execute(command: str):\n",
        "        user_prompt = \"\\033[1;32muser@pc\\033[0m\"\n",
        "        print(f\"{user_prompt}$ udocker {command}\")\n",
        "        !su - user -c \"udocker $command\"\n",
        "\n",
        "    return execute\n",
        "\n",
        "udocker = udocker_init()"
      ]
    },
    {
      "cell_type": "markdown",
      "metadata": {
        "id": "4WYuqwGr-fEp"
      },
      "source": [
        "### snakemake\n",
        "\n",
        "snakemake v8.16.0 using the official docker image."
      ]
    },
    {
      "cell_type": "code",
      "execution_count": 3,
      "metadata": {
        "colab": {
          "base_uri": "https://localhost:8080/"
        },
        "id": "ZZv9f_eu4bB9",
        "outputId": "67fa0e9c-386e-454a-c88d-11ce125ee5c3"
      },
      "outputs": [
        {
          "name": "stdout",
          "output_type": "stream",
          "text": [
            "\u001b[1;32muser@pc\u001b[0m$ docker pull visze/mprasnakeflow_tutorial:0.1.0\n",
            "docker: 'pull visze/mprasnakeflow_tutorial:0.1.0' is not a docker command.\n",
            "See 'docker --help'\n",
            "\u001b[1;32muser@pc\u001b[0m$ docker create --name=mprasnakeflow_tutorial visze/mprasnakeflow_tutorial:0.1.0\n",
            "docker: 'create --name=mprasnakeflow_tutorial visze/mprasnakeflow_tutorial:0.1.0' is not a docker command.\n",
            "See 'docker --help'\n"
          ]
        }
      ],
      "source": [
        "udocker(\"pull visze/mprasnakeflow_tutorial:0.1.0\")\n",
        "udocker(\"create --name=mprasnakeflow_tutorial visze/mprasnakeflow_tutorial:0.1.0\")"
      ]
    },
    {
      "cell_type": "markdown",
      "metadata": {
        "id": "zYhKnwlV-orz"
      },
      "source": [
        "Try to run `snakemake --version` in docker:"
      ]
    },
    {
      "cell_type": "code",
      "execution_count": 4,
      "metadata": {
        "colab": {
          "base_uri": "https://localhost:8080/"
        },
        "collapsed": true,
        "id": "jQi5e3634sDP",
        "outputId": "844eb31f-20d4-463a-ef20-6c6c3b013e7a"
      },
      "outputs": [
        {
          "name": "stdout",
          "output_type": "stream",
          "text": [
            "\u001b[1;32muser@pc\u001b[0m$ udocker run mprasnakeflow_tutorial snakemake --version\n",
            "su: user user does not exist or the user entry does not contain all the required fields\n"
          ]
        }
      ],
      "source": [
        "udocker(\"run mprasnakeflow_tutorial snakemake --version\")"
      ]
    },
    {
      "cell_type": "markdown",
      "metadata": {
        "id": "Mb0rhjfo8dbA"
      },
      "source": [
        "### Test data\n",
        "\n",
        "The data used in this tutorial is present in the github repository. We will dowload it using git so that it is also present within a colab environment."
      ]
    },
    {
      "cell_type": "code",
      "execution_count": 5,
      "metadata": {
        "id": "BGLsBxpyst9V"
      },
      "outputs": [
        {
          "name": "stderr",
          "output_type": "stream",
          "text": [
            "fatal: destination path 'MPRAsnakeflow_tutorial' already exists and is not an empty directory.\n"
          ]
        },
        {
          "name": "stderr",
          "output_type": "stream",
          "text": [
            "Already on 'development'\n"
          ]
        },
        {
          "name": "stdout",
          "output_type": "stream",
          "text": [
            "Your branch is behind 'origin/development' by 1 commit, and can be fast-forwarded.\n",
            "  (use \"git pull\" to update your local branch)\n"
          ]
        }
      ],
      "source": [
        "%%bash\n",
        "git clone https://github.com/kircherlab/MPRAsnakeflow_tutorial.git\n",
        "cd MPRAsnakeflow_tutorial\n",
        "git checkout development"
      ]
    },
    {
      "cell_type": "markdown",
      "metadata": {
        "id": "0KqdtmOb_gHg"
      },
      "source": [
        "## Run MPRAsnakeflow\n",
        "\n",
        "\n"
      ]
    },
    {
      "cell_type": "markdown",
      "metadata": {},
      "source": [
        "### Snakemake\n",
        "\n",
        "Before we come to more MPRAsnakeflow pipeline specific things we quickly want to introduce the snakemake workflow management system. A workflow management system, also like nextflow or cwl, is a tool to create reproducible and scalable data analyses. Snakemake workflows are described via a human readable, Python based language. They can be seamlessly scaled to server, cluster, grid and cloud environments, without the need to modify the workflow definition. Finally, Snakemake workflows can entail a description of required software, which will be automatically deployed to any execution environment.\n",
        "\n",
        "Each step in snakemake is defined as a `rule`. Which has a `input`, `output` and a mostly `shell` command. The `input` and `output` are files that are used as input and output for the rule. The `shell` command is the command that is executed to create the output file from the input file. There are other commands like `conda`, `params`, `log`, `threads`, `resources` that can be used to define the rule.\n",
        "\n",
        "E.g. here is an example rule `assignment_check_design` of MPRAsnakeflow, which checks if the design file is correct (no duplicated header, no `[` or `]` within headers and no duplicates sequences (sense and antisense). The rule takes our design file defined in the config (see later) and a script as input. When it is completed it creates the file `results/assignment/{assignment}/design_check.done` and other rules will only start running when this file is present and the check is completed. `{assignment}` is a wildcard and the name of the assignment will be used here (defined in the config file). This allows us to define multiple assignments within the config file an run them in parallel. In addition the design file is copied here: `results/assignment/{assignment}/reference/reference.fa` so that further mapping rules can create their mapping reference files. You see the `params` command is a bit lengthy but we needed some conditions, based on the flexibility of the user input. But finally the `shell` command looks very clean.\n",
        "\n",
        "```python\n",
        "rule assignment_check_design:\n",
        "    \"\"\"\n",
        "    Check if the design file is correct and no duplicated sequences are present (FW and reverse).\n",
        "    Also check if no duplicated headers and no illegal characters in header.\n",
        "    \"\"\"\n",
        "    conda:\n",
        "        \"../envs/python3.yaml\"\n",
        "    input:\n",
        "        design=lambda wc: config[\"assignments\"][wc.assignment][\"design_file\"],\n",
        "        script=getScript(\"assignment/check_design_file.py\"),\n",
        "    output:\n",
        "        temp(\"results/assignment/{assignment}/reference/reference.fa.fxi\"),\n",
        "        touch(\"results/assignment/{assignment}/design_check.done\"),\n",
        "        ref=\"results/assignment/{assignment}/reference/reference.fa\",\n",
        "    params:\n",
        "        start=lambda wc: (\n",
        "            config[\"assignments\"][wc.assignment][\"alignment_tool\"][\"configs\"][\n",
        "                \"alignment_start\"\n",
        "            ]\n",
        "            if config[\"assignments\"][wc.assignment][\"alignment_tool\"][\"tool\"]\n",
        "            == \"exact\"\n",
        "            else config[\"assignments\"][wc.assignment][\"alignment_tool\"][\"configs\"][\n",
        "                \"alignment_start\"\n",
        "            ][\"max\"]\n",
        "        ),\n",
        "        length=lambda wc: (\n",
        "            config[\"assignments\"][wc.assignment][\"alignment_tool\"][\"configs\"][\n",
        "                \"sequence_length\"\n",
        "            ]\n",
        "            if config[\"assignments\"][wc.assignment][\"alignment_tool\"][\"tool\"]\n",
        "            == \"exact\"\n",
        "            else config[\"assignments\"][wc.assignment][\"alignment_tool\"][\"configs\"][\n",
        "                \"sequence_length\"\n",
        "            ][\"min\"]\n",
        "        ),\n",
        "        fast_check=lambda wc: (\n",
        "            \"--fast-dict\"\n",
        "            if config[\"assignments\"][wc.assignment][\"design_check\"][\"fast\"]\n",
        "            else \"--slow-string-search\"\n",
        "        ),\n",
        "        check_sequence_collitions=lambda wc: (\n",
        "            \"--perform-sequence-check\"\n",
        "            if config[\"assignments\"][wc.assignment][\"design_check\"][\n",
        "                \"sequence_collitions\"\n",
        "            ]\n",
        "            else \"--skip-sequence-check\"\n",
        "        ),\n",
        "    log:\n",
        "        log=temp(\"results/logs/assignment/check_design.{assignment}.log\"),\n",
        "        err=\"results/assignment/{assignment}/design_check.err\",\n",
        "    shell:\n",
        "        \"\"\"\n",
        "        trap \"cat {log.err}\" ERR\n",
        "        cp {input.design} {output.ref}\n",
        "        python {input.script} --input {output.ref} \\\n",
        "        --start {params.start} --length {params.length} \\\n",
        "        {params.fast_check} {params.check_sequence_collitions} > {log.log} 2> {log.err};\n",
        "        \"\"\"\n",
        "```\n"
      ]
    },
    {
      "cell_type": "markdown",
      "metadata": {},
      "source": [
        "When running snakemake you need to specify where your worflow is, basically the main `Snakefile` of it. By default, Snakemake will search for ‘Snakefile’, ‘snakefile’, ‘workflow/Snakefile’, ‘workflow/snakefile’ beneath the current working directory, in this order. Then you do not have to use this command. But practically your workflow, here MPRAsnakeflow, might live somewhere else and you want to run the workflow in a different directory where you want to produce results. Then you need to specify the `--snakefile` parameter to the MPRAsnakeflow file in `workflow/Snakefile`. Otherwise you ahve to check/copy the workflow in every \"run\" rirectory which is not practically. Usually you start snakemake in the directory where you want to produce results."
      ]
    },
    {
      "cell_type": "markdown",
      "metadata": {},
      "source": [
        "### The config file\n",
        "\n",
        "The heart of your workflow run is the config file. You can specify it via `--configfile`. It is in `yaml` or `json` format. It contains all the parameters and input files that are used in the workflow.\n",
        "\n",
        "The config file has many parameters. But most of them have a default well, based on best practice and you don't have to specify them. But you can overwrite them if you want. Config files are first validated using json schema. If your config file is not correct MPRAsnakeflow will tell you what is missing or wrong and stop. Naming, parameters etc. might change from MPRAsnakeflow version and you might have to update your config file if you run a new version of MPRAsnakeflow. An extensive documentation of the config file can be found in the [MPRAsnakeflow documentation](https://mprasnakeflow.readthedocs.io/en/development/config.html).\n",
        "\n",
        "Here is the config file that we will use for running the association tutorial.\n",
        "\n"
      ]
    },
    {
      "cell_type": "markdown",
      "metadata": {},
      "source": [
        "```yaml\n",
        "---\n",
        "# global:\n",
        "#   assignments:\n",
        "#     split_number: 30\n",
        "assignments:\n",
        "  assignMPRAworkshop:\n",
        "    bc_length: 15\n",
        "    alignment_tool:\n",
        "        tool: bwa\n",
        "        configs:\n",
        "          sequence_length:\n",
        "            min: 195\n",
        "            max: 205\n",
        "          alignment_start:\n",
        "            min: 14\n",
        "            max: 16\n",
        "    FW:\n",
        "      - example_data/assignment/assoc_fwd.fastq.gz\n",
        "    BC:\n",
        "      - example_data/assignment/assoc_bc.fastq.gz\n",
        "    REV:\n",
        "      - example_data/assignment/assoc_rev.fastq.gz\n",
        "    design_file: example_data/design/workshop_design.fa\n",
        "    configs:\n",
        "      default: {}\n",
        "```"
      ]
    },
    {
      "cell_type": "markdown",
      "metadata": {},
      "source": [
        "Because we run the assignment workflow we start with `assignment`. The a list with possible names of assignments will follow. Here we have just one: `assignMPRAworkshop`. The whole config file has the minimal information, which is needed by MPRAsnakeflow. This is the barcode length `bc_length`, the alignment tool `alignment_tool` for mapping reads to the design file (here we use `bwa` but other options are possible) and the configuration of the tool. The forward reads `FW`, the barcode reads `BC`, the reverse reads `REV` and the design file `design_file`. Then we can define multiple configs `configs`, basically how we filter barcodes later. E.g. a minimal support of barcodes per oligo `min_support` and a fraction of assigned barcodes to an oligo `fraction`. In our tutorial example we just have one config named `default` and we will set the default parameters by defining `degault: {}`. This is `min_support: 3` and `fraction: 0.75`. But the option to have multiple settings allows us to create multiple BC to oligo mappings based on different strategies. The worflow will then only run the last part multiple times with different settings avoiding the computational extensive mapping approach."
      ]
    },
    {
      "cell_type": "markdown",
      "metadata": {},
      "source": [
        "### MPRAsnakeflow tutorial profile\n",
        "\n",
        "Snakemake can make use of profiles to pre-configure command-line-interfaces as well as ressources and number of threads as default or per rule. A profile has to be stored (on Linux) in the folder `$HOME/.config/snakemake` or `/etc/xdg/snakemake`. It can be activated by using the `--profile` option in the snakemake command. In addition you can set an environment variable `SNAKEMAKE_PROFILE`, e.g. by specifying export `SNAKEMAKE_PROFILE=myprofile` in your `~/.bashrc` to use the profile by default. In addition a specific workflow profile can be set using `--workflow-profile path_to_your_profile`. E.g. we pre-defined a [workflow profile for MPRAsnakeflow](https://github.com/kircherlab/MPRAsnakeflow/blob/development/profiles/default/config.yaml) adding ressources to each rule with some additional commands for the [snakemake excecutor plugin slum](https://snakemake.github.io/snakemake-plugin-catalog/plugins/executor/slurm.html).\n",
        "\n",
        "For more information on snakemake using profiles please have a look [snakemke profile documentation](https://snakemake.readthedocs.io/en/stable/executing/cli.html#profiles)\n",
        "\n",
        "For the MPRAsnakeflow tutorial we will use the profile `mprasnakeflow` which is stored in the folder `/etc/xdg/snakemake` within the container and the `SNAKEMAKE_PROFILE=mprasnakeflow` is already set. Have a look at the variable and the profile:"
      ]
    },
    {
      "cell_type": "code",
      "execution_count": 6,
      "metadata": {},
      "outputs": [
        {
          "name": "stdout",
          "output_type": "stream",
          "text": [
            "\u001b[1;32muser@pc\u001b[0m$ udocker run         mprasnakeflow_tutorial         echo $SNAKEMAKE_PROFILE &&         cat /etc/xdg/snakemake/mprasnakeflow/config.yaml\n",
            "su: user user does not exist or the user entry does not contain all the required fields\n"
          ]
        }
      ],
      "source": [
        "udocker(\"run \\\n",
        "        mprasnakeflow_tutorial \\\n",
        "        cat /etc/xdg/snakemake/mprasnakeflow/config.yaml\")"
      ]
    },
    {
      "cell_type": "markdown",
      "metadata": {},
      "source": [
        "You see that we already defined where the MPRASsnkeflow `Snakefile` is and `--snakefile` is not necessary. Also all software packages are installed alrady in the container using conda and we enable this software deployment method and tell snakemake where the conda environments live (the default will be your exceuction folder under `.snamemake/conda`). Also the `--cores/-c` option is not necessary anymore and snakemake just needs your configuration file of the workflow using the command `--configfile`"
      ]
    },
    {
      "cell_type": "markdown",
      "metadata": {},
      "source": [
        "### Run the workflow\n",
        "\n",
        "First we run a dry-run to see what will be executed using `-n` and `--quiet rules` to see only the overview of excecuted rules and not each rule command individually. The most important part is setting the config file via `-configfile assignment_config.yaml`"
      ]
    },
    {
      "cell_type": "code",
      "execution_count": 7,
      "metadata": {
        "colab": {
          "base_uri": "https://localhost:8080/"
        },
        "id": "TXlOomWL5Am2",
        "outputId": "5c32a998-eaef-426e-ccc8-8102d2487950"
      },
      "outputs": [
        {
          "name": "stdout",
          "output_type": "stream",
          "text": [
            "\u001b[1;32muser@pc\u001b[0m$ udocker run         -v=${PWD}/MPRAsnakeflow_tutorial:/data/run         --workdir /data/run         mprasnakeflow_tutorial       snakemake --configfile config_assignment.yaml       -n --quiet rules\n",
            "su: user user does not exist or the user entry does not contain all the required fields\n"
          ]
        }
      ],
      "source": [
        "# MPRAsnakeflow_tutorial must be accessable and writable for all (and docker)\n",
        "!chmod ugo+rwx MPRAsnakeflow_tutorial\n",
        "# Run MPRAsnakefile\n",
        "udocker(\"run \\\n",
        "        -v=${PWD}/MPRAsnakeflow_tutorial:/data/run \\\n",
        "        --workdir /data/run \\\n",
        "        mprasnakeflow_tutorial \\\n",
        "        snakemake --configfile config_assignment.yaml \\\n",
        "        -n --quiet rules\")"
      ]
    },
    {
      "cell_type": "markdown",
      "metadata": {},
      "source": [
        "You see a list of rules and how often this rule is executed debending on the input file. E.g. it is possible to you input fastq file into `n` via the rule `assignment_fastq_split` using the option `split_number` in the config file (it is commented out right now). Then rules afterwards, like `assignment_getBCs` will be executed `n` times. Tis behaviour is nice for parallelisation especially on a HPC system where you have multiple nodes available. \n",
        "\n",
        "A short summary of each rule is in the [MPRAsnakeflow documentation](https://mprasnakeflow.readthedocs.io/en/latest/assignment.html#rules).\n",
        "\n",
        "Now let's run snakemake using 10 cores (BWA can be parallized). When you add the `-p` flag you will see the exact code that is executed in each rule. But we ommit this here beacuse it is a lot of output."
      ]
    },
    {
      "cell_type": "code",
      "execution_count": 8,
      "metadata": {
        "id": "gNESKLR_UkLV"
      },
      "outputs": [
        {
          "name": "stdout",
          "output_type": "stream",
          "text": [
            "\u001b[1;32muser@pc\u001b[0m$ udocker run   -v=${PWD}/work:/data/run   --workdir /data/run   mprasnakeflow   snakemake --configfile assignment_config.yaml   -c 10 --quiet rules\n",
            "su: user user does not exist or the user entry does not contain all the required fields\n"
          ]
        }
      ],
      "source": [
        "udocker(\"run \\\n",
        "        -v=${PWD}/MPRAsnakeflow_tutorial:/data/run \\\n",
        "        --workdir /data/run \\\n",
        "        mprasnakeflow_tutorial \\\n",
        "        snakemake --configfile config_assignment.yaml \\\n",
        "        -c 10\")"
      ]
    }
  ],
  "metadata": {
    "colab": {
      "collapsed_sections": [
        "32PHp-vU99x0",
        "6GilAsqZ4t9r"
      ],
      "include_colab_link": true,
      "provenance": []
    },
    "kernelspec": {
      "display_name": "Python 3",
      "name": "python3"
    },
    "language_info": {
      "codemirror_mode": {
        "name": "ipython",
        "version": 3
      },
      "file_extension": ".py",
      "mimetype": "text/x-python",
      "name": "python",
      "nbconvert_exporter": "python",
      "pygments_lexer": "ipython3",
      "version": "3.12.4"
    }
  },
  "nbformat": 4,
  "nbformat_minor": 0
}
