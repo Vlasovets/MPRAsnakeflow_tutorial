{
 "cells": [
  {
   "cell_type": "markdown",
   "metadata": {
    "colab_type": "text",
    "id": "view-in-github"
   },
   "source": [
    "<a href=\"https://colab.research.google.com/github/kircherlab/MPRAsnakeflow_tutorial/blob/main/tutorial_assignment.ipynb\" target=\"_parent\"><img src=\"https://colab.research.google.com/assets/colab-badge.svg\" alt=\"Open In Colab\"/></a>"
   ]
  },
  {
   "cell_type": "code",
   "execution_count": 14,
   "metadata": {},
   "outputs": [
    {
     "name": "stdout",
     "output_type": "stream",
     "text": [
      "~/miniconda3/envs/jupyter_env/bin/python\n",
      "Available kernels:\n",
      "  python3    /home/itg/oleg.vlasovets/miniconda3/envs/jupyter_env/share/jupyter/kernels/python3\n"
     ]
    }
   ],
   "source": [
    "!which python\n",
    "!jupyter kernelspec list"
   ]
  },
  {
   "cell_type": "code",
   "execution_count": 15,
   "metadata": {},
   "outputs": [
    {
     "name": "stdout",
     "output_type": "stream",
     "text": [
      "/usr/bin/apptainer\n",
      "apptainer version 1.3.4-1.el9\n"
     ]
    }
   ],
   "source": [
    "!which apptainer\n",
    "!apptainer --version"
   ]
  },
  {
   "cell_type": "code",
   "execution_count": 8,
   "metadata": {
    "collapsed": true,
    "jupyter": {
     "outputs_hidden": true
    }
   },
   "outputs": [
    {
     "name": "stdout",
     "output_type": "stream",
     "text": [
      "Requirement already satisfied: matplotlib in /ictstr01/home/itg/oleg.vlasovets/miniconda3/envs/jupyter_env/lib/python3.10/site-packages (3.10.3)\n",
      "Collecting pandas\n",
      "  Using cached pandas-2.2.3-cp310-cp310-manylinux_2_17_x86_64.manylinux2014_x86_64.whl.metadata (89 kB)\n",
      "Collecting snakemake\n",
      "  Using cached snakemake-7.32.4.tar.gz (371 kB)\n",
      "  Installing build dependencies ... \u001b[?25ldone\n",
      "\u001b[?25h  Getting requirements to build wheel ... \u001b[?25ldone\n",
      "\u001b[?25h  Preparing metadata (pyproject.toml) ... \u001b[?25ldone\n",
      "\u001b[?25hRequirement already satisfied: contourpy>=1.0.1 in /ictstr01/home/itg/oleg.vlasovets/miniconda3/envs/jupyter_env/lib/python3.10/site-packages (from matplotlib) (1.3.2)\n",
      "Requirement already satisfied: cycler>=0.10 in /ictstr01/home/itg/oleg.vlasovets/miniconda3/envs/jupyter_env/lib/python3.10/site-packages (from matplotlib) (0.12.1)\n",
      "Requirement already satisfied: fonttools>=4.22.0 in /ictstr01/home/itg/oleg.vlasovets/miniconda3/envs/jupyter_env/lib/python3.10/site-packages (from matplotlib) (4.58.0)\n",
      "Requirement already satisfied: kiwisolver>=1.3.1 in /ictstr01/home/itg/oleg.vlasovets/miniconda3/envs/jupyter_env/lib/python3.10/site-packages (from matplotlib) (1.4.8)\n",
      "Requirement already satisfied: numpy>=1.23 in /ictstr01/home/itg/oleg.vlasovets/miniconda3/envs/jupyter_env/lib/python3.10/site-packages (from matplotlib) (2.2.6)\n",
      "Requirement already satisfied: packaging>=20.0 in /ictstr01/home/itg/oleg.vlasovets/miniconda3/envs/jupyter_env/lib/python3.10/site-packages (from matplotlib) (25.0)\n",
      "Requirement already satisfied: pillow>=8 in /ictstr01/home/itg/oleg.vlasovets/miniconda3/envs/jupyter_env/lib/python3.10/site-packages (from matplotlib) (11.2.1)\n",
      "Requirement already satisfied: pyparsing>=2.3.1 in /ictstr01/home/itg/oleg.vlasovets/miniconda3/envs/jupyter_env/lib/python3.10/site-packages (from matplotlib) (3.2.3)\n",
      "Requirement already satisfied: python-dateutil>=2.7 in /ictstr01/home/itg/oleg.vlasovets/miniconda3/envs/jupyter_env/lib/python3.10/site-packages (from matplotlib) (2.9.0.post0)\n",
      "Requirement already satisfied: pytz>=2020.1 in /ictstr01/home/itg/oleg.vlasovets/miniconda3/envs/jupyter_env/lib/python3.10/site-packages (from pandas) (2025.2)\n",
      "Collecting tzdata>=2022.7 (from pandas)\n",
      "  Downloading tzdata-2025.2-py2.py3-none-any.whl.metadata (1.4 kB)\n",
      "Collecting appdirs (from snakemake)\n",
      "  Downloading appdirs-1.4.4-py2.py3-none-any.whl.metadata (9.0 kB)\n",
      "Collecting configargparse (from snakemake)\n",
      "  Downloading ConfigArgParse-1.7-py3-none-any.whl.metadata (23 kB)\n",
      "Collecting connection_pool>=0.0.3 (from snakemake)\n",
      "  Downloading connection_pool-0.0.3.tar.gz (3.8 kB)\n",
      "  Preparing metadata (setup.py) ... \u001b[?25ldone\n",
      "\u001b[?25hCollecting datrie (from snakemake)\n",
      "  Downloading datrie-0.8.2.tar.gz (63 kB)\n",
      "  Installing build dependencies ... \u001b[?25ldone\n",
      "\u001b[?25h  Getting requirements to build wheel ... \u001b[?25ldone\n",
      "\u001b[?25h  Installing backend dependencies ... \u001b[?25ldone\n",
      "\u001b[?25h  Preparing metadata (pyproject.toml) ... \u001b[?25ldone\n",
      "\u001b[?25hCollecting docutils (from snakemake)\n",
      "  Downloading docutils-0.21.2-py3-none-any.whl.metadata (2.8 kB)\n",
      "Collecting gitpython (from snakemake)\n",
      "  Downloading GitPython-3.1.44-py3-none-any.whl.metadata (13 kB)\n",
      "Collecting humanfriendly (from snakemake)\n",
      "  Downloading humanfriendly-10.0-py2.py3-none-any.whl.metadata (9.2 kB)\n",
      "Requirement already satisfied: jinja2<4.0,>=3.0 in /ictstr01/home/itg/oleg.vlasovets/miniconda3/envs/jupyter_env/lib/python3.10/site-packages (from snakemake) (3.1.6)\n",
      "Requirement already satisfied: jsonschema in /ictstr01/home/itg/oleg.vlasovets/miniconda3/envs/jupyter_env/lib/python3.10/site-packages (from snakemake) (4.23.0)\n",
      "Requirement already satisfied: nbformat in /ictstr01/home/itg/oleg.vlasovets/miniconda3/envs/jupyter_env/lib/python3.10/site-packages (from snakemake) (5.10.4)\n",
      "Requirement already satisfied: psutil in /ictstr01/home/itg/oleg.vlasovets/miniconda3/envs/jupyter_env/lib/python3.10/site-packages (from snakemake) (5.9.1)\n",
      "Collecting pulp>=2.0 (from snakemake)\n",
      "  Downloading pulp-3.1.1-py3-none-any.whl.metadata (1.3 kB)\n",
      "Requirement already satisfied: pyyaml in /ictstr01/home/itg/oleg.vlasovets/miniconda3/envs/jupyter_env/lib/python3.10/site-packages (from snakemake) (6.0)\n",
      "Requirement already satisfied: requests in /ictstr01/home/itg/oleg.vlasovets/miniconda3/envs/jupyter_env/lib/python3.10/site-packages (from snakemake) (2.32.3)\n",
      "Collecting reretry (from snakemake)\n",
      "  Downloading reretry-0.11.8-py2.py3-none-any.whl.metadata (5.5 kB)\n",
      "Collecting smart_open>=3.0 (from snakemake)\n",
      "  Downloading smart_open-7.1.0-py3-none-any.whl.metadata (24 kB)\n",
      "Collecting stopit (from snakemake)\n",
      "  Downloading stopit-1.1.2.tar.gz (18 kB)\n",
      "  Preparing metadata (setup.py) ... \u001b[?25ldone\n",
      "\u001b[?25hCollecting tabulate (from snakemake)\n",
      "  Downloading tabulate-0.9.0-py3-none-any.whl.metadata (34 kB)\n",
      "Collecting throttler (from snakemake)\n",
      "  Downloading throttler-1.2.2-py3-none-any.whl.metadata (7.4 kB)\n",
      "Collecting toposort>=1.10 (from snakemake)\n",
      "  Downloading toposort-1.10-py3-none-any.whl.metadata (4.1 kB)\n",
      "Collecting wrapt (from snakemake)\n",
      "  Downloading wrapt-1.17.2-cp310-cp310-manylinux_2_5_x86_64.manylinux1_x86_64.manylinux_2_17_x86_64.manylinux2014_x86_64.whl.metadata (6.4 kB)\n",
      "Collecting yte<2.0,>=1.5.1 (from snakemake)\n",
      "  Downloading yte-1.7.0-py3-none-any.whl.metadata (3.5 kB)\n",
      "Requirement already satisfied: MarkupSafe>=2.0 in /ictstr01/home/itg/oleg.vlasovets/miniconda3/envs/jupyter_env/lib/python3.10/site-packages (from jinja2<4.0,>=3.0->snakemake) (2.1.1)\n",
      "Collecting dpath<3.0,>=2.1 (from yte<2.0,>=1.5.1->snakemake)\n",
      "  Downloading dpath-2.2.0-py3-none-any.whl.metadata (15 kB)\n",
      "Collecting plac<2.0.0,>=1.3.4 (from yte<2.0,>=1.5.1->snakemake)\n",
      "  Downloading plac-1.4.5-py2.py3-none-any.whl.metadata (5.9 kB)\n",
      "Requirement already satisfied: six>=1.5 in /ictstr01/home/itg/oleg.vlasovets/miniconda3/envs/jupyter_env/lib/python3.10/site-packages (from python-dateutil>=2.7->matplotlib) (1.17.0)\n",
      "Collecting gitdb<5,>=4.0.1 (from gitpython->snakemake)\n",
      "  Downloading gitdb-4.0.12-py3-none-any.whl.metadata (1.2 kB)\n",
      "Collecting smmap<6,>=3.0.1 (from gitdb<5,>=4.0.1->gitpython->snakemake)\n",
      "  Downloading smmap-5.0.2-py3-none-any.whl.metadata (4.3 kB)\n",
      "Requirement already satisfied: attrs>=22.2.0 in /ictstr01/home/itg/oleg.vlasovets/miniconda3/envs/jupyter_env/lib/python3.10/site-packages (from jsonschema->snakemake) (25.3.0)\n",
      "Requirement already satisfied: jsonschema-specifications>=2023.03.6 in /ictstr01/home/itg/oleg.vlasovets/miniconda3/envs/jupyter_env/lib/python3.10/site-packages (from jsonschema->snakemake) (2025.4.1)\n",
      "Requirement already satisfied: referencing>=0.28.4 in /ictstr01/home/itg/oleg.vlasovets/miniconda3/envs/jupyter_env/lib/python3.10/site-packages (from jsonschema->snakemake) (0.36.2)\n",
      "Requirement already satisfied: rpds-py>=0.7.1 in /ictstr01/home/itg/oleg.vlasovets/miniconda3/envs/jupyter_env/lib/python3.10/site-packages (from jsonschema->snakemake) (0.22.3)\n",
      "Requirement already satisfied: typing-extensions>=4.4.0 in /ictstr01/home/itg/oleg.vlasovets/miniconda3/envs/jupyter_env/lib/python3.10/site-packages (from referencing>=0.28.4->jsonschema->snakemake) (4.13.2)\n",
      "Requirement already satisfied: fastjsonschema>=2.15 in /ictstr01/home/itg/oleg.vlasovets/miniconda3/envs/jupyter_env/lib/python3.10/site-packages (from nbformat->snakemake) (2.21.1)\n",
      "Requirement already satisfied: jupyter-core!=5.0.*,>=4.12 in /ictstr01/home/itg/oleg.vlasovets/miniconda3/envs/jupyter_env/lib/python3.10/site-packages (from nbformat->snakemake) (5.7.2)\n",
      "Requirement already satisfied: traitlets>=5.1 in /ictstr01/home/itg/oleg.vlasovets/miniconda3/envs/jupyter_env/lib/python3.10/site-packages (from nbformat->snakemake) (5.14.3)\n",
      "Requirement already satisfied: platformdirs>=2.5 in /ictstr01/home/itg/oleg.vlasovets/miniconda3/envs/jupyter_env/lib/python3.10/site-packages (from jupyter-core!=5.0.*,>=4.12->nbformat->snakemake) (4.3.8)\n",
      "Requirement already satisfied: charset_normalizer<4,>=2 in /ictstr01/home/itg/oleg.vlasovets/miniconda3/envs/jupyter_env/lib/python3.10/site-packages (from requests->snakemake) (3.4.2)\n",
      "Requirement already satisfied: idna<4,>=2.5 in /ictstr01/home/itg/oleg.vlasovets/miniconda3/envs/jupyter_env/lib/python3.10/site-packages (from requests->snakemake) (3.10)\n",
      "Requirement already satisfied: urllib3<3,>=1.21.1 in /ictstr01/home/itg/oleg.vlasovets/miniconda3/envs/jupyter_env/lib/python3.10/site-packages (from requests->snakemake) (2.4.0)\n",
      "Requirement already satisfied: certifi>=2017.4.17 in /ictstr01/home/itg/oleg.vlasovets/miniconda3/envs/jupyter_env/lib/python3.10/site-packages (from requests->snakemake) (2025.4.26)\n",
      "Downloading pandas-2.2.3-cp310-cp310-manylinux_2_17_x86_64.manylinux2014_x86_64.whl (13.1 MB)\n",
      "\u001b[2K   \u001b[90m━━━━━━━━━━━━━━━━━━━━━━━━━━━━━━━━━━━━━━━━\u001b[0m \u001b[32m13.1/13.1 MB\u001b[0m \u001b[31m35.6 MB/s\u001b[0m eta \u001b[36m0:00:00\u001b[0m:00:01\u001b[0m\n",
      "\u001b[?25hDownloading yte-1.7.0-py3-none-any.whl (8.8 kB)\n",
      "Downloading dpath-2.2.0-py3-none-any.whl (17 kB)\n",
      "Downloading plac-1.4.5-py2.py3-none-any.whl (22 kB)\n",
      "Downloading pulp-3.1.1-py3-none-any.whl (16.4 MB)\n",
      "\u001b[2K   \u001b[90m━━━━━━━━━━━━━━━━━━━━━━━━━━━━━━━━━━━━━━━━\u001b[0m \u001b[32m16.4/16.4 MB\u001b[0m \u001b[31m56.0 MB/s\u001b[0m eta \u001b[36m0:00:00\u001b[0m:00:01\u001b[0m\n",
      "\u001b[?25hDownloading smart_open-7.1.0-py3-none-any.whl (61 kB)\n",
      "Downloading toposort-1.10-py3-none-any.whl (8.5 kB)\n",
      "Downloading tzdata-2025.2-py2.py3-none-any.whl (347 kB)\n",
      "Downloading appdirs-1.4.4-py2.py3-none-any.whl (9.6 kB)\n",
      "Downloading ConfigArgParse-1.7-py3-none-any.whl (25 kB)\n",
      "Downloading docutils-0.21.2-py3-none-any.whl (587 kB)\n",
      "\u001b[2K   \u001b[90m━━━━━━━━━━━━━━━━━━━━━━━━━━━━━━━━━━━━━━━━\u001b[0m \u001b[32m587.4/587.4 kB\u001b[0m \u001b[31m1.3 MB/s\u001b[0m eta \u001b[36m0:00:00\u001b[0mta \u001b[36m0:00:01\u001b[0m\n",
      "\u001b[?25hDownloading GitPython-3.1.44-py3-none-any.whl (207 kB)\n",
      "Downloading gitdb-4.0.12-py3-none-any.whl (62 kB)\n",
      "Downloading smmap-5.0.2-py3-none-any.whl (24 kB)\n",
      "Downloading humanfriendly-10.0-py2.py3-none-any.whl (86 kB)\n",
      "Downloading reretry-0.11.8-py2.py3-none-any.whl (5.6 kB)\n",
      "Downloading tabulate-0.9.0-py3-none-any.whl (35 kB)\n",
      "Downloading throttler-1.2.2-py3-none-any.whl (7.6 kB)\n",
      "Downloading wrapt-1.17.2-cp310-cp310-manylinux_2_5_x86_64.manylinux1_x86_64.manylinux_2_17_x86_64.manylinux2014_x86_64.whl (82 kB)\n",
      "Building wheels for collected packages: snakemake, connection_pool, datrie, stopit\n",
      "  Building wheel for snakemake (pyproject.toml) ... \u001b[?25ldone\n",
      "\u001b[?25h  Created wheel for snakemake: filename=snakemake-7.32.4-py3-none-any.whl size=382392 sha256=4b247cf4443896094cbcedad8f834fb63699cbdc8be82661791a19e7018ca7cc\n",
      "  Stored in directory: /ictstr01/home/itg/oleg.vlasovets/.cache/pip/wheels/ae/48/df/1325e88b89e3254e9bd4aaa449a1c360ea704b454bc6639e8a\n",
      "\u001b[33m  DEPRECATION: Building 'connection_pool' using the legacy setup.py bdist_wheel mechanism, which will be removed in a future version. pip 25.3 will enforce this behaviour change. A possible replacement is to use the standardized build interface by setting the `--use-pep517` option, (possibly combined with `--no-build-isolation`), or adding a `pyproject.toml` file to the source tree of 'connection_pool'. Discussion can be found at https://github.com/pypa/pip/issues/6334\u001b[0m\u001b[33m\n",
      "\u001b[0m  Building wheel for connection_pool (setup.py) ... \u001b[?25ldone\n",
      "\u001b[?25h  Created wheel for connection_pool: filename=connection_pool-0.0.3-py3-none-any.whl size=4105 sha256=7538be5e4c8f37e5632c50498074910cfce4e19aa638c91fdcc520b7c6fb36ee\n",
      "  Stored in directory: /ictstr01/home/itg/oleg.vlasovets/.cache/pip/wheels/59/3a/9f/54ade2cd2bf01e213489ea1e1eb7f55c8848b9db63738cf0cb\n",
      "  Building wheel for datrie (pyproject.toml) ... \u001b[?25ldone\n",
      "\u001b[?25h  Created wheel for datrie: filename=datrie-0.8.2-cp310-cp310-linux_x86_64.whl size=166142 sha256=9f8009868713c3d096c71436613716107d2bb9d95c00b7ce43f6996cfbff52e5\n",
      "  Stored in directory: /ictstr01/home/itg/oleg.vlasovets/.cache/pip/wheels/f4/a9/ac/b8e50d96214c3576ab73ac30d0a9b276014f06036f36230e7e\n",
      "\u001b[33m  DEPRECATION: Building 'stopit' using the legacy setup.py bdist_wheel mechanism, which will be removed in a future version. pip 25.3 will enforce this behaviour change. A possible replacement is to use the standardized build interface by setting the `--use-pep517` option, (possibly combined with `--no-build-isolation`), or adding a `pyproject.toml` file to the source tree of 'stopit'. Discussion can be found at https://github.com/pypa/pip/issues/6334\u001b[0m\u001b[33m\n",
      "\u001b[0m  Building wheel for stopit (setup.py) ... \u001b[?25ldone\n",
      "\u001b[?25h  Created wheel for stopit: filename=stopit-1.1.2-py3-none-any.whl size=11985 sha256=88d2ef8c26661c7e857d73412362faeabe87d4b1f06e99622f08f371c3c65637\n",
      "  Stored in directory: /ictstr01/home/itg/oleg.vlasovets/.cache/pip/wheels/af/f9/87/bf5b3d565c2a007b4dae9d8142dccc85a9f164e517062dd519\n",
      "Successfully built snakemake connection_pool datrie stopit\n",
      "Installing collected packages: toposort, throttler, stopit, plac, connection_pool, appdirs, wrapt, tzdata, tabulate, smmap, reretry, pulp, humanfriendly, dpath, docutils, datrie, configargparse, yte, smart_open, pandas, gitdb, gitpython, snakemake\n",
      "\u001b[2K   \u001b[90m━━━━━━━━━━━━━━━━━━━━━━━━━━━━━━━━━━━━━━━━\u001b[0m \u001b[32m23/23\u001b[0m [snakemake]23\u001b[0m [snakemake]]rse]]\n",
      "\u001b[1A\u001b[2KSuccessfully installed appdirs-1.4.4 configargparse-1.7 connection_pool-0.0.3 datrie-0.8.2 docutils-0.21.2 dpath-2.2.0 gitdb-4.0.12 gitpython-3.1.44 humanfriendly-10.0 pandas-2.2.3 plac-1.4.5 pulp-3.1.1 reretry-0.11.8 smart_open-7.1.0 smmap-5.0.2 snakemake-7.32.4 stopit-1.1.2 tabulate-0.9.0 throttler-1.2.2 toposort-1.10 tzdata-2025.2 wrapt-1.17.2 yte-1.7.0\n"
     ]
    }
   ],
   "source": [
    "#!pip install matplotlib pandas snakemake"
   ]
  },
  {
   "cell_type": "code",
   "execution_count": 17,
   "metadata": {
    "colab": {
     "base_uri": "https://localhost:8080/"
    },
    "id": "NsBG7lOCPnnE",
    "outputId": "6da1caeb-905a-42f8-843a-54409a379c0f"
   },
   "outputs": [],
   "source": [
    "%%capture\n",
    "import matplotlib.pyplot as plt\n",
    "import os\n",
    "import snakemake\n",
    "import pandas"
   ]
  },
  {
   "cell_type": "markdown",
   "metadata": {
    "id": "BOSJecyQPnnC"
   },
   "source": [
    "# MPRAsnakeflow Assignment Tutorial\n",
    "\n",
    "This notebook demonstrates how to assign barcodes to sequences and generate a final file that maps barcodes to designed oligos, such as `example_data/assignment/assignment_barcodes.default.tsv.gz`.\n",
    "\n",
    "After reviewing the prerequisites, we will cover the configuration file, run MPRAsnakeflow, and explore key results, including the average number of barcodes per oligo."
   ]
  },
  {
   "cell_type": "markdown",
   "metadata": {
    "id": "uAAYJQqv9zIk"
   },
   "source": [
    "## Prerequisites"
   ]
  },
  {
   "cell_type": "markdown",
   "metadata": {
    "id": "dOsEkOFu-MbM"
   },
   "source": [
    "### Docker/uDocker/Apptainer\n",
    "\n",
    "When running locally, you need to install `docker` or `apptainer`. For running remotely on Google Colab, `udocker` from github.com/drengskapur/docker-in-colab works nicely.\n",
    "\n",
    "We try to automatically find out what you need:"
   ]
  },
  {
   "cell_type": "code",
   "execution_count": 6,
   "metadata": {},
   "outputs": [
    {
     "name": "stdout",
     "output_type": "stream",
     "text": [
      "Docker is installed! We will use Docker to run MPRAsnakeflow\n"
     ]
    }
   ],
   "source": [
    "# tutorial_container = \"visze/mprasnakeflow_tutorial:0.5.3\"\n",
    "# docker= False\n",
    "# apptainer = False\n",
    "\n",
    "# docker = !docker --help &>/dev/null; if [ $? -eq 0 ]; then echo 1; else echo 0; fi\n",
    "# docker = bool(int(docker[0]))\n",
    "# apptainer = !apptainer --help &>/dev/null; if [ $? -eq 0 ]; then echo 1; else echo 0; fi\n",
    "# apptainer = bool(int(apptainer[0]))\n",
    "\n",
    "# if docker:\n",
    "#     print(\"Docker is installed! We will use Docker to run MPRAsnakeflow\")\n",
    "# elif apptainer:\n",
    "#     print(\"Apptainer is installed! We will use Apptainer to run MPRAsnakeflow\")\n",
    "# else:\n",
    "#     print(\"Neither Docker nor Apptainer is installed. We assume you run the tutorial on Colab and we will install uDocker for Colab\")"
   ]
  },
  {
   "cell_type": "markdown",
   "metadata": {},
   "source": [
    "When neither Docker nor Apptainer is installed, we will install uDocker for Colab now."
   ]
  },
  {
   "cell_type": "code",
   "execution_count": 3,
   "metadata": {
    "colab": {
     "base_uri": "https://localhost:8080/"
    },
    "id": "NSTDSHTN4JJk",
    "outputId": "5c2ad4b0-cc4b-4ced-9bfe-a75960cc36bd"
   },
   "outputs": [],
   "source": [
    "# def udocker_init():\n",
    "#     import os\n",
    "#     if not os.path.exists(\"/home/user\"):\n",
    "#         !pip install udocker > /dev/null\n",
    "#         !udocker --allow-root install > /dev/null\n",
    "#         !useradd -m user > /dev/null\n",
    "#     print(f'Docker-in-Colab 1.1.0\\n')\n",
    "#     print(f'Usage:     udocker(\"--help\")')\n",
    "#     print(f'Examples:  https://github.com/indigo-dc/udocker?tab=readme-ov-file#examples')\n",
    "\n",
    "#     def execute(command: str):\n",
    "#         user_prompt = \"\\033[1;32muser@pc\\033[0m\"\n",
    "#         print(f\"{user_prompt}$ udocker {command}\")\n",
    "#         !su - user -c \"udocker $command\"\n",
    "\n",
    "#     return execute\n",
    "\n",
    "# if not docker and not apptainer:\n",
    "#     udocker = udocker_init()"
   ]
  },
  {
   "cell_type": "markdown",
   "metadata": {},
   "source": [
    "We define a general function to run our MPRAsnakeflow tutorial container that will check if Docker, Apptainer, or uDocker has to be run. It will also bind your data directory `${PWD}/MPRAsnakeflow_tutorial` (will be downloaded later) to `/data/run` within the container and defines this as the working directory."
   ]
  },
  {
   "cell_type": "code",
   "execution_count": 32,
   "metadata": {},
   "outputs": [],
   "source": [
    "# def runContainer(command):\n",
    "#     user_prompt = \"\\033[1;32muser@pc\\033[0m\"\n",
    "#     if docker:\n",
    "#         print(f\"{user_prompt}$ docker run -v=${{PWD}}/MPRAsnakeflow_tutorial:/data/run --workdir /data/run {tutorial_container} {command}\")\n",
    "#         !docker run -v=${{PWD}}/MPRAsnakeflow_tutorial:/data/run --workdir /data/run {tutorial_container} {command}\n",
    "#     elif apptainer:\n",
    "#         print(f\"apptainer run -B=${{PWD}}/MPRAsnakeflow_tutorial:/data/run --cwd /data/run mprasnakeflow_tutorial.sif {command}\")\n",
    "#         !apptainer run -B=${{PWD}}/MPRAsnakeflow_tutorial:/data/run --cwd /data/run mprasnakeflow_tutorial.sif {command}\n",
    "#     else:\n",
    "#         udocker(f\"run -v=${{PWD}}/MPRAsnakeflow_tutorial:/data/run --workdir /data/run mprasnakeflow_tutorial {command}\")\n",
    "\n",
    "\n",
    "def runContainer(command):\n",
    "    user_prompt = \"\\033[1;32muser@pc\\033[0m\"\n",
    "    project_dir = os.getcwd()\n",
    "    sif_path = os.path.expanduser(\"~/mprasnakeflow_tutorial.sif\")\n",
    "\n",
    "    # Bind current directory to /data/MPRAsnakeflow so Snakefile path inside the container matches\n",
    "    print(f\"{user_prompt}$ apptainer exec --bind {project_dir}:/data/MPRAsnakeflow {sif_path} {command}\")\n",
    "    !apptainer exec --bind {project_dir}:/data/MPRAsnakeflow {sif_path} {command}"
   ]
  },
  {
   "cell_type": "markdown",
   "metadata": {
    "id": "Mb0rhjfo8dbA"
   },
   "source": [
    "### Test data\n",
    "\n",
    "The data used in this tutorial is available in the GitHub repository. We will download it using `git` so that it is also accessible within a Colab environment.\n",
    "\n",
    "The repository will only be cloned if the `MPRAsnakeflow_tutorial` folder does not already exist."
   ]
  },
  {
   "cell_type": "code",
   "execution_count": 6,
   "metadata": {
    "id": "BGLsBxpyst9V"
   },
   "outputs": [],
   "source": [
    "# %%bash\n",
    "# if [ ! -d \"MPRAsnakeflow_tutorial\" ]; then\n",
    "#     git clone https://github.com/kircherlab/MPRAsnakeflow_tutorial.git\n",
    "# else\n",
    "#     echo \"Folder 'MPRAsnakeflow_tutorial' already exists. Skipping clone.\"\n",
    "# fi"
   ]
  },
  {
   "cell_type": "markdown",
   "metadata": {
    "id": "4WYuqwGr-fEp"
   },
   "source": [
    "### snakemake\n",
    "\n",
    "MPRAsnakeflow and its software dependencies are packed in the official snakemake v9.3.4 container, which you can find on DockerHub with the tag [`visze/mprasnakeflow_tutorial:0.5.3`](https://hub.docker.com/r/visze/mprasnakeflow_tutorial)."
   ]
  },
  {
   "cell_type": "code",
   "execution_count": null,
   "metadata": {
    "colab": {
     "base_uri": "https://localhost:8080/"
    },
    "id": "ZZv9f_eu4bB9",
    "outputId": "67fa0e9c-386e-454a-c88d-11ce125ee5c3",
    "scrolled": true
   },
   "outputs": [],
   "source": [
    "# if docker:\n",
    "#     print(f\"docker pull {tutorial_container}\")\n",
    "#     !docker pull \"{tutorial_container}\"\n",
    "#     print(f\"docker create --name=mprasnakeflow_tutorial {tutorial_container}\")\n",
    "#     !docker create --name=mprasnakeflow_tutorial \"{tutorial_container}\" > /dev/null\n",
    "# elif apptainer:\n",
    "#     print(f\"apptainer pull mprasnakeflow_tutorial.sif docker://{tutorial_container}\")\n",
    "#     !apptainer pull mprasnakeflow_tutorial.sif docker://{tutorial_container} > /dev/null\n",
    "# else:\n",
    "#     udocker(f\"pull {tutorial_container}\")\n",
    "#     udocker(f\"create --name=mprasnakeflow_tutorial {tutorial_container}\")"
   ]
  },
  {
   "cell_type": "markdown",
   "metadata": {
    "id": "zYhKnwlV-orz"
   },
   "source": [
    "Try to run `snakemake --version` in the container:"
   ]
  },
  {
   "cell_type": "code",
   "execution_count": 19,
   "metadata": {
    "colab": {
     "base_uri": "https://localhost:8080/"
    },
    "id": "jQi5e3634sDP",
    "outputId": "844eb31f-20d4-463a-ef20-6c6c3b013e7a"
   },
   "outputs": [
    {
     "name": "stdout",
     "output_type": "stream",
     "text": [
      "\u001b[1;32muser@pc\u001b[0m$ apptainer exec --bind /ictstr01/groups/itg/teams/zeggini/projects/GO2/MPRA/MPRAsnakeflow_tutorial:/data /home/itg/oleg.vlasovets/mprasnakeflow_tutorial.sif snakemake --version\n",
      "9.3.5.dev0\n"
     ]
    }
   ],
   "source": [
    "docker = False\n",
    "apptainer = True\n",
    "\n",
    "runContainer(\"snakemake --version\")"
   ]
  },
  {
   "cell_type": "markdown",
   "metadata": {},
   "source": [
    "## Assignment workflow\n",
    "\n",
    "To analyze your MPRA data, you need to know which barcode goes with which tested sequence. This is called assignment and typically associates multiple barcodes (i.e. the sequences that you will later count in the MPRA experiment) to a target sequence. It is possible that you already designed your assignment in advance (e.g. have barcodes synthesized with the targeted sequences) and already have a file which holds for each of the designed sequences the assignment to the barcodes. If this is the case, you do not need to run the assignment step again and can run the experiment workflow with the file you already have.\\\n",
    "For the assignment step, we will need the files in the assignment folder (sequencing of barcodes and of the target sequences), as well as the config file and the design fasta (target sequences) in the design folder. We will take a look at these files now. The structure of a fastq file is as follows:  \n",
    "\n",
    "```\n",
    "@Sequence_ID_1  \n",
    "Sequence_1  \n",
    "+(Sequence_ID_1)  \n",
    "Quality score string of Sequence_1\n",
    "@Sequence_ID_2  \n",
    "Sequence_2  \n",
    "+(Sequence_ID_2)\n",
    "Quality score string of Sequence_2  \n",
    "...\n",
    "```"
   ]
  },
  {
   "cell_type": "code",
   "execution_count": 21,
   "metadata": {},
   "outputs": [
    {
     "name": "stdout",
     "output_type": "stream",
     "text": [
      "First two barcodes in our barcode sequencing file:\n",
      "\n",
      "@NS500466:861:HT5LLAFX3:1:11101:4277:1067 2:N:0:ACGTAGACCA\n",
      "TTGAGACGCCGTGAC\n",
      "+\n",
      "AAAAAEAEEEEEEEE\n",
      "@NS500466:861:HT5LLAFX3:1:11101:13208:1071 2:N:0:ACGTAGACCA\n",
      "GCAGATGTAGATTGT\n",
      "+\n",
      "AAAAAEEEEEEEEEE\n",
      "\n",
      "First two sequences in our forward sequencing file:\n",
      "\n",
      "@NS500466:861:HT5LLAFX3:1:11101:4277:1067 1:N:0:ACGTAGACCA\n",
      "TCCTTTGTCTTCATTACTTGTCTCACTGGTGCAGGCCTCGCTTAGCTTTCAGCCTATCGCAGCTTTCAACCTGCCTTCCTTGCTAAGCTGAATCATTTCTGGGTTTTGATTTAAAGTGAGTCGTCGTGGCTCTTCCTTTGAGCACT\n",
      "+\n",
      "AAAAAEEEAEEEEEEEEEEEEEEEEEEEEEEEEEEEEEAEAEEEEAEEEEEE<EEEEAEEEEEEEEEEAEEEEEEAAE<EEEEEEEEEEAEEEEEEEEAEEEEEEEEAEEEEEEEEEEAE/EEEAEEAE<EEEEAAEEEAAE<A<A\n",
      "@NS500466:861:HT5LLAFX3:1:11101:13208:1071 1:N:0:ACGTAGACCA\n",
      "TATGGTTTGGCTGTGTTCCTACCCAAATCTCATCTTGAATTGTAGCTCCCACAATTCCCATGTCATGGGAGGGACCAAGTGGGAGGTAACTGAATCAGGCGGCGGGTCTTACCCCATACTGTTCTCTTGGTAGTGAATAAGTCTCA\n",
      "+\n",
      "AAAAAEEEEEEEEEEEEEEEEEEEEEEEEEEEEEEEEEEEEEEEEEEEEAEEEEEEEE<EEEEEEEEEEEEEAEEAAEEEAEEEEAEEEEEEEEEEEE<A<<<EAEEEEEEE6AAEEEEEEEEEEEEEEEE<EEEE<EAEEEAEAE\n"
     ]
    }
   ],
   "source": [
    "print(\"First two barcodes in our barcode sequencing file:\\n\")\n",
    "!zcat \"example_data/assignment/assoc_bc.fastq.gz\" | awk 'NR <=8 {print $0}'\n",
    "\n",
    "print(\"\\nFirst two sequences in our forward sequencing file:\\n\")\n",
    "!zcat \"example_data/assignment/assoc_fwd.fastq.gz\" | awk 'NR <=8 {print $0}'"
   ]
  },
  {
   "cell_type": "markdown",
   "metadata": {},
   "source": [
    "If you take a good look at these files, you can see the sequence IDs in lines starting with \"@\". By definition, the sequence ID ends at the first whitespace (the remainder is considered a comment). This sequence ID is identical between the different files, i.e. the forward, reverse, and barcode reads from the same molecule are in the same order. From the combination of these files, we can see which barcode is associated with which sequenced target (forward/reverse reads). These sequenced forward/reverse reads should therefore correspond to the sequences that we designed. The designed sequences can be found in our design fasta, which contains the following information:  \n",
    "\n",
    "```\n",
    ">oligo_ID_1  \n",
    "Designed sequence 1\n",
    ">oligo_ID_2  \n",
    "Designed sequence 2\n",
    "...\n",
    "```"
   ]
  },
  {
   "cell_type": "code",
   "execution_count": 23,
   "metadata": {},
   "outputs": [
    {
     "name": "stdout",
     "output_type": "stream",
     "text": [
      ">oligo_002500\n",
      "AGGACCGGATCAACTCTGATTGCCTGCACCTAGATGGCTTGTGTGTAGCAGGGGCTCCTGGATGAGAAGGGGGCAGAAGTTAATAGAGCTGACTCGTGCCTTGAGTGTCATGTCTTATGTATTCAGCTGCTGACTAAGCAGCAGAGTGTAATATAGCTTACTAGAAAAAGTTGACCTTTAGCTGCATTCTTAATTCTTAACTTTTCAGTTATTGACATTGCGTGAACCGA\n",
      ">oligo_002501:oligo_002502\n",
      "AGGACCGGATCAACTGGTAATTTATAGATTCAATGCCATCCCCATCAAGCTACCAATGACTTTCTTCCCAGAATTAGAAAAAACTACTTTAAAGTTCATATGGAACCAAAAAAGAGCCCGCATCGCCAAGTCAATCCTAAGCCAAAAGAACAAAGCTGGAGGCATCACGCTACCTGACTTCAAACTATACTACAAGGCTATGGAAATTATTTTTACATTGCGTGAACCGA\n",
      ">oligo_002503\n",
      "AGGACCGGATCAACTAACCTCACAATGAATCAGTGAGGTTCATATTGTTCTCCCCATTTTACAAAAAAGAGAGGTTCAGATAAATTCAGTAATTTTCTCAAGGTCACAGAACAAGTAAAGAACACAGGAGTAGTAAAAAACAGAACCAAGACTGGGACACAAGCCTCCAGCCTCCCTGGCTCAGAGCCCCTTGCTGTCTCCACTATGCCCACCATCATTGCGTGAACCGA\n",
      ">oligo_002504\n",
      "AGGACCGGATCAACTAGAGGCCCTGAAGAAAGGGGAAAAAGGCAGTGAAGGGGCAGAAACCCTGGTAGTCCAGCAAGGGAGGGTGAGAAGGAAGGGGGGAGGTATGAGTATTACTATAGACCAAGGGTTGGGGTGGCACCTGGAGACTCCTGGACTTGACTGCAACTGTATGTATTGTTATATGTATATGTATAGACATTTATTTTCAAGTATATCATTGCGTGAACCGA\n",
      ">oligo_002505\n",
      "AGGACCGGATCAACTAGGATTATGCTCACATGCACATATAATACTGTCTAATATGTGTATATGCGAGGAGTAGATAGGCCTAAACTCTGGTAGGCCTGGAGATTCCCTGGTTTTTTACTCACAATCACTGGTCCTGTCACCTGGTACTCTATTCTGAGCATGAAGGCAGCTGAGGGCAGAGGGAAAGAAACTAGAGACATAGGCCTGTTGCCTCCCATTGCGTGAACCGA\n"
     ]
    }
   ],
   "source": [
    "!head \"example_data/design/workshop_design.fa\""
   ]
  },
  {
   "cell_type": "markdown",
   "metadata": {},
   "source": [
    "\"Oligos\" are the target sequences that we designed in advance, i.e. the sequences we would like to see in our assignment sequencing files (fastq files). In the association step, our goal is to assign the sequences to the oligos, since as you can see the oligo ID and sequence ID are not matching. By matching the reads to our designed oligos, we also automatically link the sequenced barcodes to our designed oligos, which is essential for us later."
   ]
  },
  {
   "cell_type": "markdown",
   "metadata": {
    "id": "0KqdtmOb_gHg"
   },
   "source": [
    "## Run MPRAsnakeflow"
   ]
  },
  {
   "cell_type": "markdown",
   "metadata": {},
   "source": [
    "### Snakemake\n",
    "\n",
    "Before we come to more MPRAsnakeflow pipeline specific things, we quickly want to introduce the snakemake workflow management system. A workflow management system, also like Nextflow or CWL, is a tool to create reproducible and scalable data analyses. Snakemake workflows are described via a human-readable, Python-based language. They can be seamlessly scaled to server, cluster, grid, and cloud environments, without the need to modify the workflow definition. Finally, Snakemake workflows can entail a description of required software, which will be automatically deployed to any execution environment.\n",
    "\n",
    "Each step in snakemake is defined as a `rule`, which has an `input`, `output`, and mostly a `shell` command. The `input` and `output` are files that are used as input and output for the rule. The `shell` command is the command that is executed to create the output file from the input file. There are other commands like `conda`, `params`, `log`, `threads`, `resources` that can be used to define the rule.\n",
    "\n",
    "E.g. here is an example rule `assignment_check_design` of MPRAsnakeflow, which checks if the design file is correct (no duplicated header, no `[` or `]` within headers and no duplicate sequences (sense and antisense)). The rule takes our design file defined in the config (see later) and a script as input. When it is completed, it creates the file `results/assignment/{assignment}/design_check.done` and other rules will only start running when this file is present and the check is completed. `{assignment}` is a wildcard and the name of the assignment will be used here (defined in the config file). This allows us to define multiple assignments within the config file and run them in parallel. In addition, the design file is copied here: `results/assignment/{assignment}/reference/reference.fa` so that further mapping rules can create their mapping reference files. You see the `params` command is a bit lengthy but we needed some conditions, based on the flexibility of the user input. But finally, the `shell` command looks very clean.\n",
    "\n",
    "```python\n",
    "rule assignment_check_design:\n",
    "    \"\"\"\n",
    "    Check if the design file is correct and no duplicated sequences are present (FW and reverse).\n",
    "    Also check if no duplicated headers and no illegal characters in header.\n",
    "    \"\"\"\n",
    "    conda:\n",
    "        \"../envs/python3.yaml\"\n",
    "    input:\n",
    "        design=lambda wc: config[\"assignments\"][wc.assignment][\"design_file\"],\n",
    "        script=getScript(\"assignment/check_design_file.py\"),\n",
    "    output:\n",
    "        temp(\"results/assignment/{assignment}/reference/reference.fa.fxi\"),\n",
    "        touch(\"results/assignment/{assignment}/design_check.done\"),\n",
    "        ref=\"results/assignment/{assignment}/reference/reference.fa\",\n",
    "    params:\n",
    "        start=lambda wc: (\n",
    "            config[\"assignments\"][wc.assignment][\"alignment_tool\"][\"configs\"][\n",
    "                \"alignment_start\"\n",
    "            ]\n",
    "            if config[\"assignments\"][wc.assignment][\"alignment_tool\"][\"tool\"]\n",
    "            == \"exact\"\n",
    "            else config[\"assignments\"][wc.assignment][\"alignment_tool\"][\"configs\"][\n",
    "                \"alignment_start\"\n",
    "            ][\"max\"]\n",
    "        ),\n",
    "        length=lambda wc: (\n",
    "            config[\"assignments\"][wc.assignment][\"alignment_tool\"][\"configs\"][\n",
    "                \"sequence_length\"\n",
    "            ]\n",
    "            if config[\"assignments\"][wc.assignment][\"alignment_tool\"][\"tool\"]\n",
    "            == \"exact\"\n",
    "            else config[\"assignments\"][wc.assignment][\"alignment_tool\"][\"configs\"][\n",
    "                \"sequence_length\"\n",
    "            ][\"min\"]\n",
    "        ),\n",
    "        fast_check=lambda wc: (\n",
    "            \"--fast-dict\"\n",
    "            if config[\"assignments\"][wc.assignment][\"design_check\"][\"fast\"]\n",
    "            else \"--slow-string-search\"\n",
    "        ),\n",
    "        check_sequence_collitions=lambda wc: (\n",
    "            \"--perform-sequence-check\"\n",
    "            if config[\"assignments\"][wc.assignment][\"design_check\"][\n",
    "                \"sequence_collitions\"\n",
    "            ]\n",
    "            else \"--skip-sequence-check\"\n",
    "        ),\n",
    "    log:\n",
    "        log=temp(\"results/logs/assignment/check_design.{assignment}.log\"),\n",
    "        err=\"results/assignment/{assignment}/design_check.err\",\n",
    "    shell:\n",
    "        \"\"\"\n",
    "        trap \"cat {log.err}\" ERR\n",
    "        cp {input.design} {output.ref}\n",
    "        python {input.script} --input {output.ref} \\\n",
    "        --start {params.start} --length {params.length} \\\n",
    "        {params.fast_check} {params.check_sequence_collitions} > {log.log} 2> {log.err};\n",
    "        \"\"\"\n",
    "```"
   ]
  },
  {
   "cell_type": "markdown",
   "metadata": {},
   "source": [
    "When running snakemake, you need to specify where your workflow is, basically the main `Snakefile` of it. By default, Snakemake will search for ‘Snakefile’, ‘snakefile’, ‘workflow/Snakefile’, ‘workflow/snakefile’ beneath the current working directory, in this order. Then you do not have to use this command. But practically your workflow, here MPRAsnakeflow, might live somewhere else and you want to run the workflow in a different directory where you want to produce results. Then you need to specify the `--snakefile` parameter to the MPRAsnakeflow file in `workflow/Snakefile`. Otherwise, you have to check/copy the workflow in every \"run\" directory which is not practical. Usually, you start snakemake in the directory where you want to produce results."
   ]
  },
  {
   "cell_type": "markdown",
   "metadata": {},
   "source": [
    "### The config file\n",
    "\n",
    "The heart of your workflow run is the config file. You can specify it via `--configfile`. It is in `yaml` or `json` format. It contains all the parameters and input files that are used in the workflow.\n",
    "\n",
    "The config file has many parameters, but most of them have a default value, based on best practice, and you don't have to specify them. But you can overwrite them if you want. Config files are first validated using JSON schema. If your config file is not correct, MPRAsnakeflow will tell you what is missing or wrong and stop. Naming, parameters, etc. might change from MPRAsnakeflow version and you might have to update your config file if you run a new version of MPRAsnakeflow. An extensive documentation of the config file can be found in the [MPRAsnakeflow documentation](https://mprasnakeflow.readthedocs.io/en/development/config.html).\n",
    "\n",
    "Here is the config file that we will use for running the association tutorial.\n"
   ]
  },
  {
   "cell_type": "markdown",
   "metadata": {},
   "source": [
    "```yaml\n",
    "---\n",
    "assignments:\n",
    "  assignMPRAworkshop:\n",
    "    bc_length: 15\n",
    "    alignment_tool:\n",
    "        # split_number: 30 # number of files fastq should be split for parallelization\n",
    "        tool: bbmap\n",
    "        configs:\n",
    "          sequence_length: 200\n",
    "          alignment_start: 1\n",
    "    FW:\n",
    "      - example_data/assignment/assoc_fwd.fastq.gz\n",
    "    BC:\n",
    "      - example_data/assignment/assoc_bc.fastq.gz\n",
    "    REV:\n",
    "      - example_data/assignment/assoc_rev.fastq.gz\n",
    "    design_file: example_data/design/workshop_design.fa\n",
    "    configs:\n",
    "      default: {}\n",
    "```"
   ]
  },
  {
   "cell_type": "markdown",
   "metadata": {},
   "source": [
    "Because we run the assignment workflow, we start with `assignment`. Then a list with possible names of assignments will follow. Here we have just one: `assignMPRAworkshop`. The whole config file has the minimal information, which is needed by MPRAsnakeflow. This is the barcode length `bc_length`, the alignment tool `alignment_tool` for mapping reads to the design file (here we use `bbmap` but other options are possible) and the configuration of the tool. The forward reads `FW`, the barcode reads `BC`, the reverse reads `REV` and the design file `design_file`. Then we can define multiple configs `configs`, basically how we filter barcodes later. E.g. a minimal support of barcodes per oligo `min_support` and a fraction of assigned barcodes to an oligo `fraction`. In our tutorial example, we just have one config named `default` and we will set the default parameters by defining `default: {}`. This is `min_support: 3` and `fraction: 0.75`. But the option to have multiple settings allows us to create multiple BC to oligo mappings based on different strategies. The workflow will then only run the last part multiple times with different settings, avoiding the computationally expensive mapping approach."
   ]
  },
  {
   "cell_type": "markdown",
   "metadata": {},
   "source": [
    "As a sanity check and to understand where these values come from, we will take a look at whether the information matches our input files. We used 15 bp adapters for this MPRA experiment, which were added at both ends of each designed oligo. The `alignment_start` configuration refers to these adapters as our actual target sequences only start after the 15 bp of adapter sequence."
   ]
  },
  {
   "cell_type": "code",
   "execution_count": 24,
   "metadata": {},
   "outputs": [
    {
     "name": "stdout",
     "output_type": "stream",
     "text": [
      "\n",
      "Average length of a barcode:\n",
      "15\n",
      "\n",
      "Average length of a target sequence (oligo length - 2 x adapter):\n",
      "200\n"
     ]
    }
   ],
   "source": [
    "adapter_length=15\n",
    "\n",
    "print(\"\\nAverage length of a barcode:\")\n",
    "!zcat \"example_data/assignment/assoc_bc.fastq.gz\" | awk 'NR % 4 == 2 {{sum += length($$0)}} END {{print sum*4/NR}}'\n",
    "\n",
    "print(\"\\nAverage length of a target sequence (oligo length - 2 x adapter):\")\n",
    "seq_length_with_bc = !cat \"example_data/design/workshop_design.fa\" | awk 'NR % 4 == 2 {{sum +=length($$0)}} END {{print sum*4/NR}}'\n",
    "seq_length_with_bc = int(seq_length_with_bc[0])\n",
    "seq_length = seq_length_with_bc - 2*adapter_length\n",
    "print(seq_length)"
   ]
  },
  {
   "cell_type": "markdown",
   "metadata": {},
   "source": [
    "### MPRAsnakeflow tutorial profile\n",
    "\n",
    "Snakemake can make use of profiles to pre-configure command-line interfaces as well as resources and number of threads as default or per rule. A profile has to be stored (on Linux) in the folder `$HOME/.config/snakemake` or `/etc/xdg/snakemake`. It can be activated by using the `--profile` option in the snakemake command. In addition, you can set an environment variable `SNAKEMAKE_PROFILE`, e.g. by specifying `export SNAKEMAKE_PROFILE=myprofile` in your `~/.bashrc` to use the profile by default. In addition, a specific workflow profile can be set using `--workflow-profile path_to_your_profile`. E.g. we pre-defined a [workflow profile for MPRAsnakeflow](https://github.com/kircherlab/MPRAsnakeflow/blob/development/profiles/default/config.yaml) adding resources to each rule with some additional commands for the [snakemake executor plugin slurm](https://snakemake.github.io/snakemake-plugin-catalog/plugins/executor/slurm.html).\n",
    "\n",
    "For more information on snakemake using profiles, please have a look at the [snakemake profile documentation](https://snakemake.readthedocs.io/en/stable/executing/cli.html#profiles).\n",
    "\n",
    "For the MPRAsnakeflow tutorial, we will use the profile `mprasnakeflow` which is stored in the folder `/etc/xdg/snakemake` within the container and the `SNAKEMAKE_PROFILE=mprasnakeflow` is already set. Have a look at the variable and the profile:"
   ]
  },
  {
   "cell_type": "code",
   "execution_count": 28,
   "metadata": {},
   "outputs": [
    {
     "name": "stdout",
     "output_type": "stream",
     "text": [
      "\u001b[1;32muser@pc\u001b[0m$ apptainer exec --bind /ictstr01/groups/itg/teams/zeggini/projects/GO2/MPRA/MPRAsnakeflow_tutorial:/data /home/itg/oleg.vlasovets/mprasnakeflow_tutorial.sif cat /etc/xdg/snakemake/mprasnakeflow/config.yaml\n",
      "---\n",
      "snakefile: /data/MPRAsnakeflow/workflow/Snakefile\n",
      "software-deployment-method: conda\n",
      "conda-prefix: /data/conda_envs\n",
      "cores: 1\n",
      "set-threads:\n",
      "  assignment_mapping_bbmap: 10\n"
     ]
    }
   ],
   "source": [
    "runContainer(\"cat /etc/xdg/snakemake/mprasnakeflow/config.yaml\")"
   ]
  },
  {
   "cell_type": "markdown",
   "metadata": {},
   "source": [
    "You see that we already defined where the MPRAsnakeflow `Snakefile` is and `--snakefile` is not necessary. Also, all software packages are installed already in the container using conda and we enable this software deployment method and tell snakemake where the conda environments live (the default will be your execution folder under `.snakemake/conda`). Also, the `--cores/-c` option is not necessary anymore and snakemake just needs your configuration file of the workflow using the command `--configfile`"
   ]
  },
  {
   "cell_type": "markdown",
   "metadata": {},
   "source": [
    "### Run the workflow\n",
    "\n",
    "First, we run a dry-run to see what will be executed using `-n` and `--quiet rules` to see only the overview of executed rules and not each rule command individually. The most important part is setting the config file via `--configfile config_assignment.yaml`"
   ]
  },
  {
   "cell_type": "code",
   "execution_count": 36,
   "metadata": {},
   "outputs": [],
   "source": [
    "def runContainer(command):\n",
    "    import os\n",
    "    user_prompt = \"\\033[1;32muser@pc\\033[0m\"\n",
    "    project_dir = os.getcwd()\n",
    "    sif_path = os.path.expanduser(\"~/mprasnakeflow_tutorial.sif\")\n",
    "\n",
    "    # Mount the host project directory at /MPRAsnakeflow instead of /data/MPRAsnakeflow\n",
    "    print(f\"{user_prompt}$ apptainer exec --bind {project_dir}:/MPRAsnakeflow {sif_path} {command}\")\n",
    "    !apptainer exec --bind {project_dir}:/MPRAsnakeflow {sif_path} {command}"
   ]
  },
  {
   "cell_type": "code",
   "execution_count": 38,
   "metadata": {
    "colab": {
     "base_uri": "https://localhost:8080/"
    },
    "collapsed": true,
    "id": "TXlOomWL5Am2",
    "jupyter": {
     "outputs_hidden": true
    },
    "outputId": "5c32a998-eaef-426e-ccc8-8102d2487950"
   },
   "outputs": [
    {
     "name": "stdout",
     "output_type": "stream",
     "text": [
      "\u001b[1;32muser@pc\u001b[0m$ apptainer exec --bind /ictstr01/groups/itg/teams/zeggini/projects/GO2/MPRA/MPRAsnakeflow_tutorial:/MPRAsnakeflow /home/itg/oleg.vlasovets/mprasnakeflow_tutorial.sif snakemake --configfile config_assignment.yaml -n --quiet rules\n",
      "Using profile mprasnakeflow for setting default command line arguments.\n",
      "\u001b[95mRunning MPRAsnakeflow version 0.5.3\u001b[0m\n",
      "\u001b[33mhost: cpusrv117.scidom.de\u001b[0m\n",
      "\u001b[33mBuilding DAG of jobs...\u001b[0m\n",
      "\u001b[33mYour conda installation is not configured to use strict channel priorities. This is however important for having robust and correct environments (for details, see https://conda-forge.org/docs/user/tipsandtricks.html). Please consider to configure strict priorities by executing 'conda config --set channel_priority strict'.\u001b[0m\n",
      "\u001b[33mJob stats:\n",
      "job                                    count\n",
      "-----------------------------------  -------\n",
      "all                                        1\n",
      "assignment_attach_idx                      2\n",
      "assignment_check_design                    1\n",
      "assignment_collect                         1\n",
      "assignment_collectBCs                      1\n",
      "assignment_fastq_split                     3\n",
      "assignment_filter                          1\n",
      "assignment_flagstat                        1\n",
      "assignment_idx_bam                         1\n",
      "assignment_mapping_bbmap                   1\n",
      "assignment_mapping_bbmap_getBCs            1\n",
      "assignment_merge                           1\n",
      "assignment_statistic_assignedCounts        1\n",
      "assignment_statistic_assignment            1\n",
      "assignment_statistic_quality_metric        1\n",
      "assignment_statistic_totalCounts           1\n",
      "qc_report_assoc                            1\n",
      "total                                     20\n",
      "\u001b[0m\n",
      "\u001b[33m\u001b[0m\n",
      "\u001b[33mWould remove temporary output results/assignment/assignMPRAworkshop/reference/reference.fa.fxi\u001b[0m\n",
      "\u001b[33mWould remove temporary output results/assignment/assignMPRAworkshop/reference/reference.tmp.fa\u001b[0m\n",
      "\u001b[33m\u001b[0m\n",
      "\u001b[33m\u001b[0m\n",
      "\u001b[33m\u001b[0m\n",
      "\u001b[33m\u001b[0m\n",
      "\u001b[33m\u001b[0m\n",
      "\u001b[33mWould remove temporary output results/assignment/assignMPRAworkshop/fastq/splits/REV.split0.fastq.gz\u001b[0m\n",
      "\u001b[33mWould remove temporary output results/assignment/assignMPRAworkshop/fastq/splits/FW.split0.fastq.gz\u001b[0m\n",
      "\u001b[33mWould remove temporary output results/assignment/assignMPRAworkshop/fastq/splits/BC.split0.fastq.gz\u001b[0m\n",
      "\u001b[33m\u001b[0m\n",
      "\u001b[33mWould remove temporary output results/assignment/assignMPRAworkshop/fastq/splits/FW.split0.BCattached.fastq.gz\u001b[0m\n",
      "\u001b[33mWould remove temporary output results/assignment/assignMPRAworkshop/fastq/splits/REV.split0.BCattached.fastq.gz\u001b[0m\n",
      "\u001b[33mWould remove temporary output results/assignment/assignMPRAworkshop/fastq/merge_split0.un.fastq.gz\u001b[0m\n",
      "\u001b[33m\u001b[0m\n",
      "\u001b[33mWould remove temporary output results/assignment/assignMPRAworkshop/fastq/merge_split0.join.fastq.gz\u001b[0m\n",
      "\u001b[33mWould remove temporary output results/assignment/assignMPRAworkshop/bbmap/merge_split0.unsorted.bam\u001b[0m\n",
      "\u001b[33m\u001b[0m\n",
      "\u001b[33m\u001b[0m\n",
      "\u001b[33mWould remove temporary output results/assignment/assignMPRAworkshop/bbmap/merge_split0.mapped.bam\u001b[0m\n",
      "\u001b[33m\u001b[0m\n",
      "\u001b[33m\u001b[0m\n",
      "\u001b[33mWould remove temporary output results/assignment/assignMPRAworkshop/BCs/barcodes_bbmap.0.tsv\u001b[0m\n",
      "\u001b[33m\u001b[0m\n",
      "\u001b[33m\u001b[0m\n",
      "\u001b[33m\u001b[0m\n",
      "\u001b[33m\u001b[0m\n",
      "\u001b[33m\u001b[0m\n",
      "\u001b[33m\u001b[0m\n",
      "\u001b[33m\u001b[0m\n",
      "\u001b[33mWould remove temporary output results/assignment/assignMPRAworkshop/qc_report.default.qmd\u001b[0m\n",
      "\u001b[33m\u001b[0m\n",
      "\u001b[33mJob stats:\n",
      "job                                    count\n",
      "-----------------------------------  -------\n",
      "all                                        1\n",
      "assignment_attach_idx                      2\n",
      "assignment_check_design                    1\n",
      "assignment_collect                         1\n",
      "assignment_collectBCs                      1\n",
      "assignment_fastq_split                     3\n",
      "assignment_filter                          1\n",
      "assignment_flagstat                        1\n",
      "assignment_idx_bam                         1\n",
      "assignment_mapping_bbmap                   1\n",
      "assignment_mapping_bbmap_getBCs            1\n",
      "assignment_merge                           1\n",
      "assignment_statistic_assignedCounts        1\n",
      "assignment_statistic_assignment            1\n",
      "assignment_statistic_quality_metric        1\n",
      "assignment_statistic_totalCounts           1\n",
      "qc_report_assoc                            1\n",
      "total                                     20\n",
      "\u001b[0m\n",
      "\u001b[33mReasons:\n",
      "    (check individual jobs above for details)\n",
      "    input files updated by another job:\n",
      "        all, assignment_attach_idx, assignment_collect, assignment_collectBCs, assignment_fastq_split, assignment_filter, assignment_flagstat, assignment_idx_bam, assignment_mapping_bbmap, assignment_mapping_bbmap_getBCs, assignment_merge, assignment_statistic_assignedCounts, assignment_statistic_assignment, assignment_statistic_quality_metric, assignment_statistic_totalCounts, qc_report_assoc\n",
      "    output files have to be generated:\n",
      "        assignment_attach_idx, assignment_check_design, assignment_collect, assignment_collectBCs, assignment_fastq_split, assignment_filter, assignment_flagstat, assignment_idx_bam, assignment_mapping_bbmap, assignment_mapping_bbmap_getBCs, assignment_merge, assignment_statistic_assignedCounts, assignment_statistic_assignment, assignment_statistic_quality_metric, assignment_statistic_totalCounts, qc_report_assoc\u001b[0m\n",
      "\u001b[33mThis was a dry-run (flag -n). The order of jobs does not reflect the order of execution.\u001b[0m\n"
     ]
    }
   ],
   "source": [
    "# MPRAsnakeflow_tutorial must be accessible and writable for all (and docker)\n",
    "# !chmod ugo+rwx MPRAsnakeflow_tutorial\n",
    "!chmod ugo+rwx .\n",
    "# Run MPRAsnakeflow\n",
    "# runContainer(\"snakemake --configfile config_assignment.yaml --profile /MPRAsnakeflow/profiles/assignment -n --quiet rules\") ### run this first if the command gives an error\n",
    "runContainer(\"snakemake --configfile config_assignment.yaml -n --quiet rules\")"
   ]
  },
  {
   "cell_type": "markdown",
   "metadata": {},
   "source": [
    "You see a list of rules and how often this rule is executed depending on the input file. E.g. it is possible to split your input fastq file into `n` via the rule `assignment_fastq_split` using the option `split_number` in the config file (it is commented out right now). Then rules afterwards, like `assignment_getBCs`, will be executed `n` times. This behaviour is nice for parallelisation, especially on an HPC system where you have multiple nodes available. \n",
    "\n",
    "A short summary of each rule is in the [MPRAsnakeflow documentation](https://mprasnakeflow.readthedocs.io/en/latest/assignment.html#rules).\n",
    "\n",
    "Now let's run snakemake using 10 cores (BBMap can be parallelized). When you add the `-p` flag you will see the exact code that is executed in each rule. But we omit this here because it is a lot of output."
   ]
  },
  {
   "cell_type": "code",
   "execution_count": 39,
   "metadata": {
    "id": "gNESKLR_UkLV"
   },
   "outputs": [
    {
     "name": "stdout",
     "output_type": "stream",
     "text": [
      "\u001b[1;32muser@pc\u001b[0m$ apptainer exec --bind /ictstr01/groups/itg/teams/zeggini/projects/GO2/MPRA/MPRAsnakeflow_tutorial:/MPRAsnakeflow /home/itg/oleg.vlasovets/mprasnakeflow_tutorial.sif snakemake --configfile config_assignment.yaml -c 10\n",
      "Using profile mprasnakeflow for setting default command line arguments.\n",
      "\u001b[95mRunning MPRAsnakeflow version 0.5.3\u001b[0m\n",
      "\u001b[33mAssuming unrestricted shared filesystem usage.\u001b[0m\n",
      "\u001b[33mhost: cpusrv117.scidom.de\u001b[0m\n",
      "\u001b[33mBuilding DAG of jobs...\u001b[0m\n",
      "\u001b[33mYour conda installation is not configured to use strict channel priorities. This is however important for having robust and correct environments (for details, see https://conda-forge.org/docs/user/tipsandtricks.html). Please consider to configure strict priorities by executing 'conda config --set channel_priority strict'.\u001b[0m\n",
      "\u001b[33mUsing shell: /usr/bin/bash\u001b[0m\n",
      "\u001b[32mProvided cores: 10\u001b[0m\n",
      "\u001b[32mRules claiming more threads will be scaled down.\u001b[0m\n",
      "\u001b[33mSingularity containers: ignored\u001b[0m\n",
      "\u001b[33mJob stats:\n",
      "job                                    count\n",
      "-----------------------------------  -------\n",
      "all                                        1\n",
      "assignment_attach_idx                      2\n",
      "assignment_check_design                    1\n",
      "assignment_collect                         1\n",
      "assignment_collectBCs                      1\n",
      "assignment_fastq_split                     3\n",
      "assignment_filter                          1\n",
      "assignment_flagstat                        1\n",
      "assignment_idx_bam                         1\n",
      "assignment_mapping_bbmap                   1\n",
      "assignment_mapping_bbmap_getBCs            1\n",
      "assignment_merge                           1\n",
      "assignment_statistic_assignedCounts        1\n",
      "assignment_statistic_assignment            1\n",
      "assignment_statistic_quality_metric        1\n",
      "assignment_statistic_totalCounts           1\n",
      "qc_report_assoc                            1\n",
      "total                                     20\n",
      "\u001b[0m\n",
      "\u001b[33mSelect jobs to execute...\u001b[0m\n",
      "\u001b[33mExecute 1 jobs...\u001b[0m\n",
      "\n",
      "\u001b[32m[Wed May 21 15:01:27 2025]\n",
      "localrule assignment_check_design:\n",
      "    input: example_data/design/workshop_design.fa, /data/MPRAsnakeflow/workflow/rules/../scripts/assignment/check_design_file.py (cached)\n",
      "    output: results/assignment/assignMPRAworkshop/reference/reference.fa.fxi, results/assignment/assignMPRAworkshop/design_check.done, results/assignment/assignMPRAworkshop/reference/reference.fa, results/assignment/assignMPRAworkshop/reference/reference.tmp.fa\n",
      "    log: results/logs/assignment/check_design.assignMPRAworkshop.log, results/assignment/assignMPRAworkshop/design_check.err\n",
      "    jobid: 2\n",
      "    reason: Missing output files: results/assignment/assignMPRAworkshop/design_check.done, results/assignment/assignMPRAworkshop/reference/reference.fa\n",
      "    wildcards: assignment=assignMPRAworkshop\n",
      "    resources: tmpdir=/tmp\u001b[0m\n",
      "\u001b[33m\u001b[0m\n",
      "\u001b[33mActivating conda environment: ../../../../../../../../../data/conda_envs/184c66443732f7e76af6696323c485e3_\u001b[0m\n",
      "\u001b[33mTouching output file results/assignment/assignMPRAworkshop/design_check.done.\u001b[0m\n",
      "\u001b[32m[Wed May 21 15:01:35 2025]\n",
      "Finished jobid: 2 (Rule: assignment_check_design)\u001b[0m\n",
      "\u001b[32m1 of 20 steps (5%) done\u001b[0m\n",
      "\u001b[33mRemoving temporary output results/assignment/assignMPRAworkshop/reference/reference.fa.fxi.\u001b[0m\n",
      "\u001b[33mRemoving temporary output results/assignment/assignMPRAworkshop/reference/reference.tmp.fa.\u001b[0m\n",
      "\u001b[33mSelect jobs to execute...\u001b[0m\n",
      "\u001b[33mExecute 3 jobs...\u001b[0m\n",
      "\n",
      "\u001b[32m[Wed May 21 15:01:35 2025]\n",
      "localrule assignment_fastq_split:\n",
      "    input: example_data/assignment/assoc_bc.fastq.gz, results/assignment/assignMPRAworkshop/design_check.done\n",
      "    output: results/assignment/assignMPRAworkshop/fastq/splits/BC.split0.fastq.gz\n",
      "    log: results/logs/assignment/fastq_split.assignMPRAworkshop.BC.log\n",
      "    jobid: 11\n",
      "    reason: Missing output files: results/assignment/assignMPRAworkshop/fastq/splits/BC.split0.fastq.gz; Input files updated by another job: results/assignment/assignMPRAworkshop/design_check.done\n",
      "    wildcards: assignment=assignMPRAworkshop, read=BC\n",
      "    resources: tmpdir=/tmp\u001b[0m\n",
      "\u001b[33m\u001b[0m\n",
      "\u001b[33mActivating conda environment: ../../../../../../../../../data/conda_envs/7506de3ab43f63fd9025b66750776fd1_\u001b[0m\n",
      "\n",
      "\u001b[32m[Wed May 21 15:01:35 2025]\n",
      "localrule assignment_fastq_split:\n",
      "    input: example_data/assignment/assoc_fwd.fastq.gz, results/assignment/assignMPRAworkshop/design_check.done\n",
      "    output: results/assignment/assignMPRAworkshop/fastq/splits/FW.split0.fastq.gz\n",
      "    log: results/logs/assignment/fastq_split.assignMPRAworkshop.FW.log\n",
      "    jobid: 10\n",
      "    reason: Missing output files: results/assignment/assignMPRAworkshop/fastq/splits/FW.split0.fastq.gz; Input files updated by another job: results/assignment/assignMPRAworkshop/design_check.done\n",
      "    wildcards: assignment=assignMPRAworkshop, read=FW\n",
      "    resources: tmpdir=/tmp\u001b[0m\n",
      "\u001b[33m\u001b[0m\n",
      "\u001b[33mActivating conda environment: ../../../../../../../../../data/conda_envs/7506de3ab43f63fd9025b66750776fd1_\u001b[0m\n",
      "\n",
      "\u001b[32m[Wed May 21 15:01:35 2025]\n",
      "localrule assignment_fastq_split:\n",
      "    input: example_data/assignment/assoc_rev.fastq.gz, results/assignment/assignMPRAworkshop/design_check.done\n",
      "    output: results/assignment/assignMPRAworkshop/fastq/splits/REV.split0.fastq.gz\n",
      "    log: results/logs/assignment/fastq_split.assignMPRAworkshop.REV.log\n",
      "    jobid: 13\n",
      "    reason: Missing output files: results/assignment/assignMPRAworkshop/fastq/splits/REV.split0.fastq.gz; Input files updated by another job: results/assignment/assignMPRAworkshop/design_check.done\n",
      "    wildcards: assignment=assignMPRAworkshop, read=REV\n",
      "    resources: tmpdir=/tmp\u001b[0m\n",
      "\u001b[33m\u001b[0m\n",
      "\u001b[33mActivating conda environment: ../../../../../../../../../data/conda_envs/7506de3ab43f63fd9025b66750776fd1_\u001b[0m\n",
      "\u001b[32m[Wed May 21 15:01:37 2025]\n",
      "Finished jobid: 11 (Rule: assignment_fastq_split)\u001b[0m\n",
      "\u001b[32m2 of 20 steps (10%) done\u001b[0m\n",
      "\u001b[32m[Wed May 21 15:01:38 2025]\n",
      "Finished jobid: 10 (Rule: assignment_fastq_split)\u001b[0m\n",
      "\u001b[32m3 of 20 steps (15%) done\u001b[0m\n",
      "\u001b[33mSelect jobs to execute...\u001b[0m\n",
      "\u001b[33mExecute 1 jobs...\u001b[0m\n",
      "\n",
      "\u001b[32m[Wed May 21 15:01:38 2025]\n",
      "localrule assignment_attach_idx:\n",
      "    input: results/assignment/assignMPRAworkshop/fastq/splits/FW.split0.fastq.gz, results/assignment/assignMPRAworkshop/fastq/splits/BC.split0.fastq.gz, /data/MPRAsnakeflow/workflow/rules/../scripts/attachBCToFastQ.py (cached), /data/MPRAsnakeflow/workflow/rules/../scripts/common.py (cached)\n",
      "    output: results/assignment/assignMPRAworkshop/fastq/splits/FW.split0.BCattached.fastq.gz\n",
      "    log: results/logs/assignment/attach_idx.assignMPRAworkshop.0.FW.log\n",
      "    jobid: 9\n",
      "    reason: Missing output files: results/assignment/assignMPRAworkshop/fastq/splits/FW.split0.BCattached.fastq.gz; Input files updated by another job: results/assignment/assignMPRAworkshop/fastq/splits/FW.split0.fastq.gz, results/assignment/assignMPRAworkshop/fastq/splits/BC.split0.fastq.gz\n",
      "    wildcards: assignment=assignMPRAworkshop, read=FW, split=0\n",
      "    resources: tmpdir=/tmp\u001b[0m\n",
      "\u001b[33m\u001b[0m\n",
      "\u001b[33mActivating conda environment: ../../../../../../../../../data/conda_envs/46b6df9867c43620c1864094a501d5f8_\u001b[0m\n",
      "\u001b[32m[Wed May 21 15:01:38 2025]\n",
      "Finished jobid: 13 (Rule: assignment_fastq_split)\u001b[0m\n",
      "\u001b[32m4 of 20 steps (20%) done\u001b[0m\n",
      "\u001b[33mSelect jobs to execute...\u001b[0m\n",
      "\u001b[33mExecute 1 jobs...\u001b[0m\n",
      "\n",
      "\u001b[32m[Wed May 21 15:01:38 2025]\n",
      "localrule assignment_attach_idx:\n",
      "    input: results/assignment/assignMPRAworkshop/fastq/splits/REV.split0.fastq.gz, results/assignment/assignMPRAworkshop/fastq/splits/BC.split0.fastq.gz, /data/MPRAsnakeflow/workflow/rules/../scripts/attachBCToFastQ.py (cached), /data/MPRAsnakeflow/workflow/rules/../scripts/common.py (cached)\n",
      "    output: results/assignment/assignMPRAworkshop/fastq/splits/REV.split0.BCattached.fastq.gz\n",
      "    log: results/logs/assignment/attach_idx.assignMPRAworkshop.0.REV.log\n",
      "    jobid: 12\n",
      "    reason: Missing output files: results/assignment/assignMPRAworkshop/fastq/splits/REV.split0.BCattached.fastq.gz; Input files updated by another job: results/assignment/assignMPRAworkshop/fastq/splits/BC.split0.fastq.gz, results/assignment/assignMPRAworkshop/fastq/splits/REV.split0.fastq.gz\n",
      "    wildcards: assignment=assignMPRAworkshop, read=REV, split=0\n",
      "    resources: tmpdir=/tmp\u001b[0m\n",
      "\u001b[33m\u001b[0m\n",
      "\u001b[33mActivating conda environment: ../../../../../../../../../data/conda_envs/46b6df9867c43620c1864094a501d5f8_\u001b[0m\n",
      "\u001b[32m[Wed May 21 15:01:52 2025]\n",
      "Finished jobid: 9 (Rule: assignment_attach_idx)\u001b[0m\n",
      "\u001b[32m5 of 20 steps (25%) done\u001b[0m\n",
      "\u001b[33mRemoving temporary output results/assignment/assignMPRAworkshop/fastq/splits/FW.split0.fastq.gz.\u001b[0m\n",
      "\u001b[32m[Wed May 21 15:01:53 2025]\n",
      "Finished jobid: 12 (Rule: assignment_attach_idx)\u001b[0m\n",
      "\u001b[32m6 of 20 steps (30%) done\u001b[0m\n",
      "\u001b[33mRemoving temporary output results/assignment/assignMPRAworkshop/fastq/splits/REV.split0.fastq.gz.\u001b[0m\n",
      "\u001b[33mRemoving temporary output results/assignment/assignMPRAworkshop/fastq/splits/BC.split0.fastq.gz.\u001b[0m\n",
      "\u001b[33mSelect jobs to execute...\u001b[0m\n",
      "\u001b[33mExecute 1 jobs...\u001b[0m\n",
      "\n",
      "\u001b[32m[Wed May 21 15:01:53 2025]\n",
      "localrule assignment_merge:\n",
      "    input: results/assignment/assignMPRAworkshop/fastq/splits/FW.split0.BCattached.fastq.gz, results/assignment/assignMPRAworkshop/fastq/splits/REV.split0.BCattached.fastq.gz\n",
      "    output: results/assignment/assignMPRAworkshop/fastq/merge_split0.un.fastq.gz, results/assignment/assignMPRAworkshop/fastq/merge_split0.join.fastq.gz\n",
      "    log: results/logs/assignment/merge.assignMPRAworkshop.0.log.gz\n",
      "    jobid: 8\n",
      "    reason: Missing output files: results/assignment/assignMPRAworkshop/fastq/merge_split0.join.fastq.gz; Input files updated by another job: results/assignment/assignMPRAworkshop/fastq/splits/REV.split0.BCattached.fastq.gz, results/assignment/assignMPRAworkshop/fastq/splits/FW.split0.BCattached.fastq.gz\n",
      "    wildcards: assignment=assignMPRAworkshop, split=0\n",
      "    resources: tmpdir=/tmp\u001b[0m\n",
      "\u001b[33m\u001b[0m\n",
      "\u001b[33mActivating conda environment: ../../../../../../../../../data/conda_envs/46b6df9867c43620c1864094a501d5f8_\u001b[0m\n",
      "\u001b[32m[Wed May 21 15:02:37 2025]\n",
      "Finished jobid: 8 (Rule: assignment_merge)\u001b[0m\n",
      "\u001b[32m7 of 20 steps (35%) done\u001b[0m\n",
      "\u001b[33mRemoving temporary output results/assignment/assignMPRAworkshop/fastq/splits/FW.split0.BCattached.fastq.gz.\u001b[0m\n",
      "\u001b[33mRemoving temporary output results/assignment/assignMPRAworkshop/fastq/splits/REV.split0.BCattached.fastq.gz.\u001b[0m\n",
      "\u001b[33mRemoving temporary output results/assignment/assignMPRAworkshop/fastq/merge_split0.un.fastq.gz.\u001b[0m\n",
      "\u001b[33mSelect jobs to execute...\u001b[0m\n",
      "\u001b[33mExecute 1 jobs...\u001b[0m\n",
      "\n",
      "\u001b[32m[Wed May 21 15:02:37 2025]\n",
      "localrule assignment_mapping_bbmap:\n",
      "    input: results/assignment/assignMPRAworkshop/fastq/merge_split0.join.fastq.gz, results/assignment/assignMPRAworkshop/design_check.done, results/assignment/assignMPRAworkshop/reference/reference.fa\n",
      "    output: results/assignment/assignMPRAworkshop/bbmap/merge_split0.unsorted.bam, results/assignment/assignMPRAworkshop/bbmap/merge_split0.mapped.bam\n",
      "    log: results/logs/assignment/mapping.bbmap.assignMPRAworkshop.0.log\n",
      "    jobid: 7\n",
      "    reason: Missing output files: results/assignment/assignMPRAworkshop/bbmap/merge_split0.mapped.bam; Input files updated by another job: results/assignment/assignMPRAworkshop/fastq/merge_split0.join.fastq.gz, results/assignment/assignMPRAworkshop/design_check.done, results/assignment/assignMPRAworkshop/reference/reference.fa\n",
      "    wildcards: assignment=assignMPRAworkshop, split=0\n",
      "    threads: 10\n",
      "    resources: tmpdir=/tmp, mem=4G, mem_mb=4000\u001b[0m\n",
      "\u001b[33m\u001b[0m\n",
      "\u001b[33mActivating conda environment: ../../../../../../../../../data/conda_envs/028485759f60b507597eb31404c12fbd_\u001b[0m\n",
      "\u001b[32m[Wed May 21 15:04:35 2025]\n",
      "Finished jobid: 7 (Rule: assignment_mapping_bbmap)\u001b[0m\n",
      "\u001b[32m8 of 20 steps (40%) done\u001b[0m\n",
      "\u001b[33mRemoving temporary output results/assignment/assignMPRAworkshop/fastq/merge_split0.join.fastq.gz.\u001b[0m\n",
      "\u001b[33mRemoving temporary output results/assignment/assignMPRAworkshop/bbmap/merge_split0.unsorted.bam.\u001b[0m\n",
      "\u001b[33mSelect jobs to execute...\u001b[0m\n",
      "\u001b[33mExecute 2 jobs...\u001b[0m\n",
      "\n",
      "\u001b[32m[Wed May 21 15:04:35 2025]\n",
      "localrule assignment_mapping_bbmap_getBCs:\n",
      "    input: results/assignment/assignMPRAworkshop/bbmap/merge_split0.mapped.bam\n",
      "    output: results/assignment/assignMPRAworkshop/BCs/barcodes_bbmap.0.tsv\n",
      "    log: results/logs/assignment/mapping.bbmap.getBCs.assignMPRAworkshop.0.log\n",
      "    jobid: 6\n",
      "    reason: Missing output files: results/assignment/assignMPRAworkshop/BCs/barcodes_bbmap.0.tsv; Input files updated by another job: results/assignment/assignMPRAworkshop/bbmap/merge_split0.mapped.bam\n",
      "    wildcards: assignment=assignMPRAworkshop, split=0\n",
      "    resources: tmpdir=/tmp\u001b[0m\n",
      "\u001b[33m\u001b[0m\n",
      "\u001b[33mActivating conda environment: ../../../../../../../../../data/conda_envs/028485759f60b507597eb31404c12fbd_\u001b[0m\n",
      "\n",
      "\u001b[32m[Wed May 21 15:04:35 2025]\n",
      "localrule assignment_collect:\n",
      "    input: results/assignment/assignMPRAworkshop/bbmap/merge_split0.mapped.bam\n",
      "    output: results/assignment/assignMPRAworkshop/aligned_merged_reads.bam\n",
      "    log: results/logs/assignment/collect.assignMPRAworkshop.log\n",
      "    jobid: 18\n",
      "    reason: Missing output files: results/assignment/assignMPRAworkshop/aligned_merged_reads.bam; Input files updated by another job: results/assignment/assignMPRAworkshop/bbmap/merge_split0.mapped.bam\n",
      "    wildcards: assignment=assignMPRAworkshop\n",
      "    resources: tmpdir=/tmp\u001b[0m\n",
      "\u001b[33m\u001b[0m\n",
      "\u001b[33mActivating conda environment: ../../../../../../../../../data/conda_envs/22750e19c251ab6076f7519e48544945_\u001b[0m\n",
      "\u001b[32m[Wed May 21 15:04:37 2025]\n",
      "Finished jobid: 6 (Rule: assignment_mapping_bbmap_getBCs)\u001b[0m\n",
      "\u001b[32m9 of 20 steps (45%) done\u001b[0m\n",
      "\u001b[33mSelect jobs to execute...\u001b[0m\n",
      "\u001b[33mExecute 1 jobs...\u001b[0m\n",
      "\n",
      "\u001b[32m[Wed May 21 15:04:37 2025]\n",
      "localrule assignment_collectBCs:\n",
      "    input: results/assignment/assignMPRAworkshop/BCs/barcodes_bbmap.0.tsv\n",
      "    output: results/assignment/assignMPRAworkshop/barcodes_incl_other.tsv.gz\n",
      "    log: results/logs/assignment/collectBCs.assignMPRAworkshop.log\n",
      "    jobid: 5\n",
      "    reason: Missing output files: results/assignment/assignMPRAworkshop/barcodes_incl_other.tsv.gz; Input files updated by another job: results/assignment/assignMPRAworkshop/BCs/barcodes_bbmap.0.tsv\n",
      "    wildcards: assignment=assignMPRAworkshop\n",
      "    resources: tmpdir=/tmp\u001b[0m\n",
      "\u001b[33m\u001b[0m\n",
      "\u001b[33mActivating conda environment: ../../../../../../../../../data/conda_envs/32041765d78c16e5382d1a3cd6df4b7b_\u001b[0m\n",
      "\u001b[32m[Wed May 21 15:04:39 2025]\n",
      "Finished jobid: 5 (Rule: assignment_collectBCs)\u001b[0m\n",
      "\u001b[32m10 of 20 steps (50%) done\u001b[0m\n",
      "\u001b[33mRemoving temporary output results/assignment/assignMPRAworkshop/BCs/barcodes_bbmap.0.tsv.\u001b[0m\n",
      "\u001b[33mSelect jobs to execute...\u001b[0m\n",
      "\u001b[33mExecute 2 jobs...\u001b[0m\n",
      "\n",
      "\u001b[32m[Wed May 21 15:04:39 2025]\n",
      "localrule assignment_filter:\n",
      "    input: results/assignment/assignMPRAworkshop/barcodes_incl_other.tsv.gz, /data/MPRAsnakeflow/workflow/rules/../scripts/assignment/filterAssignmentTsv.py (cached)\n",
      "    output: results/assignment/assignMPRAworkshop/assignment_barcodes.default.tsv.gz, results/assignment/assignMPRAworkshop/assignment_barcodes_with_ambiguous.default.tsv.gz\n",
      "    log: results/logs/assignment/filter.assignMPRAworkshop.default.log, results/logs/assignment/filter.assignMPRAworkshop.default.err\n",
      "    jobid: 4\n",
      "    reason: Missing output files: results/assignment/assignMPRAworkshop/assignment_barcodes_with_ambiguous.default.tsv.gz, results/assignment/assignMPRAworkshop/assignment_barcodes.default.tsv.gz; Input files updated by another job: results/assignment/assignMPRAworkshop/barcodes_incl_other.tsv.gz\n",
      "    wildcards: assignment=assignMPRAworkshop, assignment_config=default\n",
      "    resources: tmpdir=/tmp\u001b[0m\n",
      "\u001b[33m\u001b[0m\n",
      "\u001b[33mActivating conda environment: ../../../../../../../../../data/conda_envs/184c66443732f7e76af6696323c485e3_\u001b[0m\n",
      "\n",
      "\u001b[32m[Wed May 21 15:04:39 2025]\n",
      "localrule assignment_statistic_totalCounts:\n",
      "    input: results/assignment/assignMPRAworkshop/barcodes_incl_other.tsv.gz, /data/MPRAsnakeflow/workflow/rules/../scripts/assignment/statistic_total_counts.py (cached)\n",
      "    output: results/assignment/assignMPRAworkshop/statistic/total_counts.tsv\n",
      "    log: results/logs/assignment/statistic_totalCounts.assignMPRAworkshop.log\n",
      "    jobid: 14\n",
      "    reason: Missing output files: results/assignment/assignMPRAworkshop/statistic/total_counts.tsv; Input files updated by another job: results/assignment/assignMPRAworkshop/barcodes_incl_other.tsv.gz\n",
      "    wildcards: assignment=assignMPRAworkshop\n",
      "    resources: tmpdir=/tmp\u001b[0m\n",
      "\u001b[33m\u001b[0m\n",
      "\u001b[33mActivating conda environment: ../../../../../../../../../data/conda_envs/184c66443732f7e76af6696323c485e3_\u001b[0m\n",
      "\u001b[32m[Wed May 21 15:04:42 2025]\n",
      "Finished jobid: 4 (Rule: assignment_filter)\u001b[0m\n",
      "\u001b[32m11 of 20 steps (55%) done\u001b[0m\n",
      "\u001b[33mSelect jobs to execute...\u001b[0m\n",
      "\u001b[33mExecute 3 jobs...\u001b[0m\n",
      "\n",
      "\u001b[32m[Wed May 21 15:04:42 2025]\n",
      "localrule assignment_statistic_assignment:\n",
      "    input: results/assignment/assignMPRAworkshop/assignment_barcodes_with_ambiguous.default.tsv.gz, /data/MPRAsnakeflow/workflow/rules/../scripts/assignment/statistic_assignment.R (cached)\n",
      "    output: results/assignment/assignMPRAworkshop/statistic/assignment.default.tsv.gz, results/assignment/assignMPRAworkshop/statistic/assignment.default.png\n",
      "    log: results/logs/assignment/statistic_assignment.assignMPRAworkshop.default.log\n",
      "    jobid: 15\n",
      "    reason: Missing output files: results/assignment/assignMPRAworkshop/statistic/assignment.default.png; Input files updated by another job: results/assignment/assignMPRAworkshop/assignment_barcodes_with_ambiguous.default.tsv.gz\n",
      "    wildcards: assignment=assignMPRAworkshop, assignment_config=default\n",
      "    resources: tmpdir=/tmp\u001b[0m\n",
      "\u001b[33m\u001b[0m\n",
      "\u001b[33mActivating conda environment: ../../../../../../../../../data/conda_envs/da1f95a3d9f5dc8bae0b5a92efc25676_\u001b[0m\n",
      "\n",
      "\u001b[32m[Wed May 21 15:04:42 2025]\n",
      "localrule assignment_statistic_quality_metric:\n",
      "    input: results/assignment/assignMPRAworkshop/assignment_barcodes.default.tsv.gz, results/assignment/assignMPRAworkshop/reference/reference.fa, /data/MPRAsnakeflow/workflow/rules/../scripts/quality_metrics.py (cached)\n",
      "    output: results/assignment/assignMPRAworkshop/qc_metrics.default.json\n",
      "    log: results/logs/assignment/statistic_quality_metric.assignMPRAworkshop.default.log\n",
      "    jobid: 16\n",
      "    reason: Missing output files: results/assignment/assignMPRAworkshop/qc_metrics.default.json; Input files updated by another job: results/assignment/assignMPRAworkshop/assignment_barcodes.default.tsv.gz, results/assignment/assignMPRAworkshop/reference/reference.fa\n",
      "    wildcards: assignment=assignMPRAworkshop, assignment_config=default\n",
      "    resources: tmpdir=/tmp\u001b[0m\n",
      "\u001b[33m\u001b[0m\n",
      "\u001b[33mActivating conda environment: ../../../../../../../../../data/conda_envs/edbb616bb1f2f0b411141153b7cbcd9a_\u001b[0m\n",
      "\n",
      "\u001b[32m[Wed May 21 15:04:42 2025]\n",
      "localrule assignment_statistic_assignedCounts:\n",
      "    input: results/assignment/assignMPRAworkshop/assignment_barcodes_with_ambiguous.default.tsv.gz, /data/MPRAsnakeflow/workflow/rules/../scripts/assignment/statistic_total_counts.py (cached)\n",
      "    output: results/assignment/assignMPRAworkshop/statistic/assigned_counts.default.tsv\n",
      "    log: results/logs/assignment/statistic_assignedCounts.assignMPRAworkshop.default.log\n",
      "    jobid: 3\n",
      "    reason: Missing output files: results/assignment/assignMPRAworkshop/statistic/assigned_counts.default.tsv; Input files updated by another job: results/assignment/assignMPRAworkshop/assignment_barcodes_with_ambiguous.default.tsv.gz\n",
      "    wildcards: assignment=assignMPRAworkshop, assignment_config=default\n",
      "    resources: tmpdir=/tmp\u001b[0m\n",
      "\u001b[33m\u001b[0m\n",
      "\u001b[33mActivating conda environment: ../../../../../../../../../data/conda_envs/184c66443732f7e76af6696323c485e3_\u001b[0m\n",
      "\u001b[32m[Wed May 21 15:04:45 2025]\n",
      "Finished jobid: 3 (Rule: assignment_statistic_assignedCounts)\u001b[0m\n",
      "\u001b[32m12 of 20 steps (60%) done\u001b[0m\n",
      "\u001b[32m[Wed May 21 15:04:45 2025]\n",
      "Finished jobid: 14 (Rule: assignment_statistic_totalCounts)\u001b[0m\n",
      "\u001b[32m13 of 20 steps (65%) done\u001b[0m\n",
      "\u001b[32m[Wed May 21 15:04:46 2025]\n",
      "Finished jobid: 18 (Rule: assignment_collect)\u001b[0m\n",
      "\u001b[32m14 of 20 steps (70%) done\u001b[0m\n",
      "\u001b[33mRemoving temporary output results/assignment/assignMPRAworkshop/bbmap/merge_split0.mapped.bam.\u001b[0m\n",
      "\u001b[33mSelect jobs to execute...\u001b[0m\n",
      "\u001b[33mExecute 1 jobs...\u001b[0m\n",
      "\n",
      "\u001b[32m[Wed May 21 15:04:46 2025]\n",
      "localrule assignment_idx_bam:\n",
      "    input: results/assignment/assignMPRAworkshop/aligned_merged_reads.bam\n",
      "    output: results/assignment/assignMPRAworkshop/aligned_merged_reads.bam.bai\n",
      "    log: results/logs/assignment/assignMPRAworkshop/assignment_idx_bam.log\n",
      "    jobid: 19\n",
      "    reason: Missing output files: results/assignment/assignMPRAworkshop/aligned_merged_reads.bam.bai; Input files updated by another job: results/assignment/assignMPRAworkshop/aligned_merged_reads.bam\n",
      "    wildcards: assignment=assignMPRAworkshop\n",
      "    resources: tmpdir=/tmp\u001b[0m\n",
      "\u001b[33m\u001b[0m\n",
      "\u001b[33mActivating conda environment: ../../../../../../../../../data/conda_envs/22750e19c251ab6076f7519e48544945_\u001b[0m\n",
      "\u001b[32m[Wed May 21 15:04:47 2025]\n",
      "Finished jobid: 16 (Rule: assignment_statistic_quality_metric)\u001b[0m\n",
      "\u001b[32m15 of 20 steps (75%) done\u001b[0m\n",
      "\u001b[32m[Wed May 21 15:04:48 2025]\n",
      "Finished jobid: 19 (Rule: assignment_idx_bam)\u001b[0m\n",
      "\u001b[32m16 of 20 steps (80%) done\u001b[0m\n",
      "\u001b[33mSelect jobs to execute...\u001b[0m\n",
      "\u001b[33mExecute 1 jobs...\u001b[0m\n",
      "\n",
      "\u001b[32m[Wed May 21 15:04:48 2025]\n",
      "localrule assignment_flagstat:\n",
      "    input: results/assignment/assignMPRAworkshop/aligned_merged_reads.bam, results/assignment/assignMPRAworkshop/aligned_merged_reads.bam.bai\n",
      "    output: results/assignment/assignMPRAworkshop/statistic/assignment/bam_stats.txt\n",
      "    log: results/logs/assignment/flagstat.assignMPRAworkshop.log\n",
      "    jobid: 17\n",
      "    reason: Missing output files: results/assignment/assignMPRAworkshop/statistic/assignment/bam_stats.txt; Input files updated by another job: results/assignment/assignMPRAworkshop/aligned_merged_reads.bam, results/assignment/assignMPRAworkshop/aligned_merged_reads.bam.bai\n",
      "    wildcards: assignment=assignMPRAworkshop\n",
      "    resources: tmpdir=/tmp\u001b[0m\n",
      "\u001b[33m\u001b[0m\n",
      "\u001b[33mActivating conda environment: ../../../../../../../../../data/conda_envs/22750e19c251ab6076f7519e48544945_\u001b[0m\n",
      "\u001b[32m[Wed May 21 15:04:50 2025]\n",
      "Finished jobid: 17 (Rule: assignment_flagstat)\u001b[0m\n",
      "\u001b[32m17 of 20 steps (85%) done\u001b[0m\n",
      "\u001b[32m[Wed May 21 15:04:51 2025]\n",
      "Finished jobid: 15 (Rule: assignment_statistic_assignment)\u001b[0m\n",
      "\u001b[32m18 of 20 steps (90%) done\u001b[0m\n",
      "\u001b[33mSelect jobs to execute...\u001b[0m\n",
      "\u001b[33mExecute 1 jobs...\u001b[0m\n",
      "\n",
      "\u001b[32m[Wed May 21 15:04:51 2025]\n",
      "localrule qc_report_assoc:\n",
      "    input: /data/MPRAsnakeflow/workflow/rules/../scripts/report/qc_report_assoc.qmd (cached), example_data/design/workshop_design.fa, results/assignment/assignMPRAworkshop/reference/reference.fa, results/assignment/assignMPRAworkshop/statistic/assigned_counts.default.tsv, results/assignment/assignMPRAworkshop/statistic/total_counts.tsv, results/assignment/assignMPRAworkshop/statistic/assignment.default.png, results/assignment/assignMPRAworkshop/qc_metrics.default.json\n",
      "    output: results/assignment/assignMPRAworkshop/qc_report.default.html, results/assignment/assignMPRAworkshop/qc_report.default.qmd\n",
      "    log: results/logs/qc_report/assoc.assignMPRAworkshop.default.log\n",
      "    jobid: 1\n",
      "    reason: Missing output files: results/assignment/assignMPRAworkshop/qc_report.default.html; Input files updated by another job: results/assignment/assignMPRAworkshop/statistic/assigned_counts.default.tsv, results/assignment/assignMPRAworkshop/statistic/total_counts.tsv, results/assignment/assignMPRAworkshop/reference/reference.fa, results/assignment/assignMPRAworkshop/statistic/assignment.default.png, results/assignment/assignMPRAworkshop/qc_metrics.default.json\n",
      "    wildcards: assignment=assignMPRAworkshop, assignment_config=default\n",
      "    resources: tmpdir=/tmp\u001b[0m\n",
      "\u001b[33m\u001b[0m\n",
      "\u001b[33mActivating conda environment: ../../../../../../../../../data/conda_envs/47964f8f064a674e28931fac7dfc1fb3_\u001b[0m\n",
      "\u001b[32m[Wed May 21 15:05:04 2025]\n",
      "Finished jobid: 1 (Rule: qc_report_assoc)\u001b[0m\n",
      "\u001b[32m19 of 20 steps (95%) done\u001b[0m\n",
      "\u001b[33mRemoving temporary output results/assignment/assignMPRAworkshop/qc_report.default.qmd.\u001b[0m\n",
      "\u001b[33mSelect jobs to execute...\u001b[0m\n",
      "\u001b[33mExecute 1 jobs...\u001b[0m\n",
      "\n",
      "\u001b[32m[Wed May 21 15:05:04 2025]\n",
      "localrule all:\n",
      "    input: results/assignment/assignMPRAworkshop/qc_report.default.html, results/assignment/assignMPRAworkshop/qc_metrics.default.json, results/assignment/assignMPRAworkshop/assignment_barcodes.default.tsv.gz, results/assignment/assignMPRAworkshop/statistic/assigned_counts.default.tsv, results/assignment/assignMPRAworkshop/statistic/assignment.default.png, results/assignment/assignMPRAworkshop/statistic/total_counts.tsv, results/assignment/assignMPRAworkshop/statistic/assignment/bam_stats.txt\n",
      "    jobid: 0\n",
      "    reason: Input files updated by another job: results/assignment/assignMPRAworkshop/statistic/assigned_counts.default.tsv, results/assignment/assignMPRAworkshop/qc_report.default.html, results/assignment/assignMPRAworkshop/statistic/total_counts.tsv, results/assignment/assignMPRAworkshop/statistic/assignment.default.png, results/assignment/assignMPRAworkshop/qc_metrics.default.json, results/assignment/assignMPRAworkshop/statistic/assignment/bam_stats.txt, results/assignment/assignMPRAworkshop/assignment_barcodes.default.tsv.gz\n",
      "    resources: tmpdir=/tmp\u001b[0m\n",
      "\u001b[33m\u001b[0m\n",
      "\u001b[32m[Wed May 21 15:05:04 2025]\n",
      "Finished jobid: 0 (Rule: all)\u001b[0m\n",
      "\u001b[32m20 of 20 steps (100%) done\u001b[0m\n",
      "\u001b[33mComplete log(s): /ictstr01/groups/itg/teams/zeggini/projects/GO2/MPRA/MPRAsnakeflow_tutorial/.snakemake/log/2025-05-21T150125.294040.snakemake.log\u001b[0m\n"
     ]
    }
   ],
   "source": [
    "runContainer(\"snakemake --configfile config_assignment.yaml -c 10\")"
   ]
  },
  {
   "cell_type": "markdown",
   "metadata": {},
   "source": [
    "## Assignment results\n",
    "\n",
    "Let's take a look at the files in the assignment results folder!"
   ]
  },
  {
   "cell_type": "code",
   "execution_count": 41,
   "metadata": {},
   "outputs": [
    {
     "name": "stdout",
     "output_type": "stream",
     "text": [
      "results/assignment:\n",
      "assignMPRAworkshop\n",
      "\n",
      "results/assignment/assignMPRAworkshop:\n",
      "aligned_merged_reads.bam\t\t\t   design_check.err\n",
      "aligned_merged_reads.bam.bai\t\t\t   qc_metrics.default.json\n",
      "assignment_barcodes.default.tsv.gz\t\t   qc_report.default.html\n",
      "assignment_barcodes_with_ambiguous.default.tsv.gz  reference\n",
      "barcodes_incl_other.tsv.gz\t\t\t   statistic\n",
      "design_check.done\n",
      "\n",
      "results/assignment/assignMPRAworkshop/reference:\n",
      "reference.fa\n",
      "\n",
      "results/assignment/assignMPRAworkshop/statistic:\n",
      "assigned_counts.default.tsv  assignment.default.png\ttotal_counts.tsv\n",
      "assignment\t\t     assignment.default.tsv.gz\n",
      "\n",
      "results/assignment/assignMPRAworkshop/statistic/assignment:\n",
      "bam_stats.txt\n"
     ]
    }
   ],
   "source": [
    "results_dir = \"results/assignment\"\n",
    "!ls -R \"{results_dir}\""
   ]
  },
  {
   "cell_type": "markdown",
   "metadata": {},
   "source": [
    "The statistic folder contains run statistics for the assignment step, such as the total number of associated barcodes, the number of oligos with at least 15 barcodes, and more. We will now just take a look at the generated count histogram of barcodes per oligo."
   ]
  },
  {
   "cell_type": "code",
   "execution_count": 42,
   "metadata": {},
   "outputs": [
    {
     "data": {
      "text/plain": [
       "(np.float64(-0.5), np.float64(2099.5), np.float64(2099.5), np.float64(-0.5))"
      ]
     },
     "execution_count": 42,
     "metadata": {},
     "output_type": "execute_result"
    },
    {
     "data": {
      "image/png": "[encoded data removed]",
      "text/plain": [
       "<Figure size 640x480 with 1 Axes>"
      ]
     },
     "metadata": {},
     "output_type": "display_data"
    }
   ],
   "source": [
    "img = plt.imread(os.path.join(results_dir, \"assignMPRAworkshop/statistic/assignment.default.png\"))\n",
    "plt.imshow(img)\n",
    "plt.axis(\"off\")"
   ]
  },
  {
   "cell_type": "markdown",
   "metadata": {},
   "source": [
    "The median number of barcodes is 24. We usually require each tested sequence to have at least 10 barcodes associated.\n",
    "\n",
    "We will now take a look at the actual output file of the assignment run, which is a sorted table of `barcodes`, their assigned `sequence IDs`, information about the `quality` of the alignment (fwd/rev reads to designed oligos), and how often this barcode was assigned to this sequence compared to the total number this barcode was observed in the experiment. The information in the quality field is derived from the SAM/BAM output (https://samtools.github.io/hts-specs/SAMv1.pdf) and represents a concatenation of the SAM position, cigar, NM, AM, and mapQ."
   ]
  },
  {
   "cell_type": "code",
   "execution_count": 43,
   "metadata": {},
   "outputs": [
    {
     "name": "stdout",
     "output_type": "stream",
     "text": [
      "AAAAAAAAAGAAGGG\toligo_006589\n",
      "AAAAAAAAATCGATC\toligo_006917\n",
      "AAAAAAAAATGATCT\toligo_211468\n",
      "AAAAAAAACACATGA\toligo_005412\n",
      "AAAAAAAACAGTAAG\toligo_006290\n",
      "AAAAAAAACATAGTT\toligo_006471\n",
      "AAAAAAAACCAAATA\toligo_189277\n",
      "AAAAAAAACGAACAG\toligo_005299\n",
      "AAAAAAAACTATGTT\toligo_005948\n",
      "AAAAAAAAGAAAAAG\toligo_144933\n"
     ]
    }
   ],
   "source": [
    "assignment = os.path.join(results_dir, \"assignMPRAworkshop/assignment_barcodes.default.tsv.gz\")\n",
    "!zcat \"{assignment}\" | awk 'NR <= 10 {{print $$0}}'"
   ]
  },
  {
   "cell_type": "markdown",
   "metadata": {},
   "source": [
    "We would like to know how many different oligos have been included in the final assignment.\\\n",
    "When we compare this number to the number of sequences in our design, we can get a feeling of how many sequences were able to get assigned with their barcodes. This has implications for the proportion of targets that we can eventually analyse and whether each target is supported with sufficiently many barcodes. This information is important for the experiment overall and analyzing the counts of each individual replicate."
   ]
  },
  {
   "cell_type": "code",
   "execution_count": 44,
   "metadata": {},
   "outputs": [
    {
     "name": "stdout",
     "output_type": "stream",
     "text": [
      "Number of sequences we were able to assign: 2062\n",
      "Number of sequences in the initial design: 2104\n",
      "Conclusion: 98.0% sequences of our initial design can be used in the experimental/counting step\n"
     ]
    }
   ],
   "source": [
    "assigned_sequences = !zcat \"{assignment}\" | awk -F'\\t' '{{names[$$2]++}} END {{print length(names)}}'\n",
    "\n",
    "assigned_sequences = int(assigned_sequences[0])\n",
    "print(\"Number of sequences we were able to assign: %s\"%(assigned_sequences))\n",
    "\n",
    "designed_sequences = !cat \"example_data/design/workshop_design.fa\" | grep -v \">\" | wc -l\n",
    "designed_sequences = int(designed_sequences[0])\n",
    "print(\"Number of sequences in the initial design: %s\"%(designed_sequences))\n",
    "\n",
    "print(r\"Conclusion: %s%% sequences of our initial design can be used in the experimental/counting step\"%(round(assigned_sequences/designed_sequences * 100, 1)))"
   ]
  },
  {
   "cell_type": "markdown",
   "metadata": {},
   "source": [
    "### QC report\n",
    "\n",
    "We have a QC report for the assignment as well as for the experiment workflow. For our run you can find it here:\n",
    "\n",
    "[MPRAsnakeflow_tutorial/results/assignment/assignMPRAworkshop/qc_report.default.html](MPRAsnakeflow_tutorial/results/assignment/assignMPRAworkshop/qc_report.default.html)\n",
    "\n",
    "The QC report gives a nice overview of the assignment run and might be the first thing you will look at."
   ]
  },
  {
   "cell_type": "code",
   "execution_count": null,
   "metadata": {
    "scrolled": true
   },
   "outputs": [],
   "source": [
    "from IPython.display import IFrame\n",
    "\n",
    "IFrame(src='./MPRAsnakeflow_tutorial/results/assignment/assignMPRAworkshop/qc_report.default.html', width=700, height=600)"
   ]
  }
 ],
 "metadata": {
  "colab": {
   "collapsed_sections": [
    "32PHp-vU99x0",
    "6GilAsqZ4t9r"
   ],
   "include_colab_link": true,
   "provenance": []
  },
  "kernelspec": {
   "display_name": "Python 3 (ipykernel)",
   "language": "python",
   "name": "python3"
  },
  "language_info": {
   "codemirror_mode": {
    "name": "ipython",
    "version": 3
   },
   "file_extension": ".py",
   "mimetype": "text/x-python",
   "name": "python",
   "nbconvert_exporter": "python",
   "pygments_lexer": "ipython3",
   "version": "3.10.16"
  }
 },
 "nbformat": 4,
 "nbformat_minor": 4
}
